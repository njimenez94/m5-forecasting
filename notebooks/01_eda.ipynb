{
 "cells": [
  {
   "cell_type": "code",
   "execution_count": 4,
   "id": "e7921bf4",
   "metadata": {},
   "outputs": [
    {
     "name": "stdout",
     "output_type": "stream",
     "text": [
      "Now you can import modules from the project root: /home/njimenez/kaggle/forecast/m5-forecasting\n"
     ]
    }
   ],
   "source": [
    "%run notebook_setup.py"
   ]
  },
  {
   "cell_type": "code",
   "execution_count": 5,
   "id": "486060fe",
   "metadata": {},
   "outputs": [],
   "source": [
    "from src.etl.load_data import load_raw_data\n",
    "\n",
    "sales, calendar, prices = load_raw_data()"
   ]
  }
 ],
 "metadata": {
  "language_info": {
   "name": "python"
  }
 },
 "nbformat": 4,
 "nbformat_minor": 5
}
