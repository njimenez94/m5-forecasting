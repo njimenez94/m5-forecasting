{
 "cells": [
  {
   "cell_type": "markdown",
   "id": "8efe3561",
   "metadata": {},
   "source": [
    "# Setup"
   ]
  },
  {
   "cell_type": "code",
   "execution_count": null,
   "id": "e7921bf4",
   "metadata": {},
   "outputs": [],
   "source": [
    "%run notebook_setup.py"
   ]
  },
  {
   "cell_type": "code",
   "execution_count": null,
   "id": "c439780d",
   "metadata": {},
   "outputs": [],
   "source": [
    "import polars as pl"
   ]
  },
  {
   "cell_type": "code",
   "execution_count": null,
   "id": "5351e2b4",
   "metadata": {},
   "outputs": [],
   "source": [
    "import plotly.express as px"
   ]
  },
  {
   "cell_type": "code",
   "execution_count": null,
   "id": "1d5f24c6",
   "metadata": {},
   "outputs": [],
   "source": [
    "import gc"
   ]
  },
  {
   "cell_type": "markdown",
   "id": "65c7efba",
   "metadata": {},
   "source": [
    "# Import data"
   ]
  },
  {
   "cell_type": "code",
   "execution_count": null,
   "id": "486060fe",
   "metadata": {},
   "outputs": [],
   "source": [
    "sales_data = pl.read_parquet(\"../data/processed/sales_train_validation.parquet\")"
   ]
  },
  {
   "cell_type": "markdown",
   "id": "01bd402e",
   "metadata": {},
   "source": [
    "# EDA"
   ]
  },
  {
   "cell_type": "code",
   "execution_count": null,
   "id": "a2b87d70",
   "metadata": {},
   "outputs": [],
   "source": [
    "annual = (\n",
    "    sales_data\n",
    "    .group_by([\"date\"])\n",
    "    .agg(pl.col(\"sales\").sum().alias(\"sales\"))\n",
    "    .sort(\"date\")\n",
    ")"
   ]
  },
  {
   "cell_type": "code",
   "execution_count": null,
   "id": "caa1056b",
   "metadata": {},
   "outputs": [],
   "source": [
    "fig = px.line(annual.to_pandas(),\n",
    "              x=\"date\",\n",
    "              y=\"sales\",\n",
    "              markers=False,\n",
    "              title=\"Sales\",\n",
    "              labels={\n",
    "                  \"date\": \"Date\",\n",
    "                  \"sales\": \"Sales\"},\n",
    ")\n",
    "fig.show()"
   ]
  }
 ],
 "metadata": {
  "kernelspec": {
   "display_name": "m5-forecasting",
   "language": "python",
   "name": "python3"
  },
  "language_info": {
   "codemirror_mode": {
    "name": "ipython",
    "version": 3
   },
   "file_extension": ".py",
   "mimetype": "text/x-python",
   "name": "python",
   "nbconvert_exporter": "python",
   "pygments_lexer": "ipython3",
   "version": "3.12.3"
  }
 },
 "nbformat": 4,
 "nbformat_minor": 5
}
