{
 "cells": [
  {
   "cell_type": "markdown",
   "id": "cc785403",
   "metadata": {},
   "source": [
    "# Setup"
   ]
  },
  {
   "cell_type": "code",
   "execution_count": 1,
   "id": "d5e613bc",
   "metadata": {},
   "outputs": [
    {
     "name": "stdout",
     "output_type": "stream",
     "text": [
      "Now you can import modules from the project root: /home/opscenter/kaggle/m5-forecasting\n"
     ]
    }
   ],
   "source": [
    "%run notebook_setup.py"
   ]
  },
  {
   "cell_type": "code",
   "execution_count": 2,
   "id": "14fcf4ea",
   "metadata": {},
   "outputs": [],
   "source": [
    "import numpy as np\n",
    "import pandas as pd\n",
    "import duckdb as ddb\n",
    "\n",
    "import matplotlib.pyplot as plt\n",
    "import matplotlib.ticker as mticker\n",
    "import matplotlib.dates as mdates\n",
    "import seaborn as sns\n",
    "import plotly.express as px\n",
    "\n",
    "con = ddb.connect()"
   ]
  },
  {
   "cell_type": "markdown",
   "id": "21437e21",
   "metadata": {},
   "source": [
    "# Load data"
   ]
  },
  {
   "cell_type": "code",
   "execution_count": 3,
   "id": "587b989e",
   "metadata": {},
   "outputs": [],
   "source": [
    "SALES_DATA_PATH = '../data/processed/sales_train_validation.parquet'"
   ]
  },
  {
   "cell_type": "code",
   "execution_count": 66,
   "id": "fed00f85",
   "metadata": {},
   "outputs": [
    {
     "data": {
      "application/vnd.microsoft.datawrangler.viewer.v0+json": {
       "columns": [
        {
         "name": "index",
         "rawType": "int64",
         "type": "integer"
        },
        {
         "name": "id",
         "rawType": "object",
         "type": "string"
        },
        {
         "name": "state_id",
         "rawType": "object",
         "type": "string"
        },
        {
         "name": "store_id",
         "rawType": "object",
         "type": "string"
        },
        {
         "name": "cat_id",
         "rawType": "object",
         "type": "string"
        },
        {
         "name": "dept_id",
         "rawType": "object",
         "type": "string"
        },
        {
         "name": "item_id",
         "rawType": "object",
         "type": "string"
        },
        {
         "name": "date",
         "rawType": "datetime64[us]",
         "type": "unknown"
        },
        {
         "name": "year",
         "rawType": "uint16",
         "type": "integer"
        },
        {
         "name": "quarter",
         "rawType": "uint8",
         "type": "integer"
        },
        {
         "name": "month",
         "rawType": "uint8",
         "type": "integer"
        },
        {
         "name": "week",
         "rawType": "uint8",
         "type": "integer"
        },
        {
         "name": "wday",
         "rawType": "uint8",
         "type": "integer"
        },
        {
         "name": "mday",
         "rawType": "uint8",
         "type": "integer"
        },
        {
         "name": "sell_price",
         "rawType": "float32",
         "type": "float"
        },
        {
         "name": "sales",
         "rawType": "int16",
         "type": "integer"
        }
       ],
       "ref": "b930d56c-55e7-4eda-9d70-56cf26c0fc42",
       "rows": [
        [
         "0",
         "FOODS_1_001_CA_1_validation",
         "CA",
         "CA_1",
         "FOODS",
         "FOODS_1",
         "FOODS_1_001",
         "2015-04-01 00:00:00",
         "2015",
         "2",
         "4",
         "14",
         "3",
         "1",
         "2.24",
         "0"
        ],
        [
         "1",
         "FOODS_1_001_CA_1_validation",
         "CA",
         "CA_1",
         "FOODS",
         "FOODS_1",
         "FOODS_1_001",
         "2015-04-02 00:00:00",
         "2015",
         "2",
         "4",
         "14",
         "4",
         "2",
         "2.24",
         "1"
        ],
        [
         "2",
         "FOODS_1_001_CA_1_validation",
         "CA",
         "CA_1",
         "FOODS",
         "FOODS_1",
         "FOODS_1_001",
         "2015-04-03 00:00:00",
         "2015",
         "2",
         "4",
         "14",
         "5",
         "3",
         "2.24",
         "0"
        ],
        [
         "3",
         "FOODS_1_001_CA_1_validation",
         "CA",
         "CA_1",
         "FOODS",
         "FOODS_1",
         "FOODS_1_001",
         "2015-04-04 00:00:00",
         "2015",
         "2",
         "4",
         "14",
         "6",
         "4",
         "2.24",
         "2"
        ],
        [
         "4",
         "FOODS_1_001_CA_1_validation",
         "CA",
         "CA_1",
         "FOODS",
         "FOODS_1",
         "FOODS_1_001",
         "2015-04-05 00:00:00",
         "2015",
         "2",
         "4",
         "14",
         "7",
         "5",
         "2.24",
         "2"
        ],
        [
         "5",
         "FOODS_1_001_CA_1_validation",
         "CA",
         "CA_1",
         "FOODS",
         "FOODS_1",
         "FOODS_1_001",
         "2015-04-06 00:00:00",
         "2015",
         "2",
         "4",
         "15",
         "1",
         "6",
         "2.24",
         "0"
        ],
        [
         "6",
         "FOODS_1_001_CA_1_validation",
         "CA",
         "CA_1",
         "FOODS",
         "FOODS_1",
         "FOODS_1_001",
         "2015-04-07 00:00:00",
         "2015",
         "2",
         "4",
         "15",
         "2",
         "7",
         "2.24",
         "0"
        ],
        [
         "7",
         "FOODS_1_001_CA_1_validation",
         "CA",
         "CA_1",
         "FOODS",
         "FOODS_1",
         "FOODS_1_001",
         "2015-04-08 00:00:00",
         "2015",
         "2",
         "4",
         "15",
         "3",
         "8",
         "2.24",
         "1"
        ],
        [
         "8",
         "FOODS_1_001_CA_1_validation",
         "CA",
         "CA_1",
         "FOODS",
         "FOODS_1",
         "FOODS_1_001",
         "2015-04-09 00:00:00",
         "2015",
         "2",
         "4",
         "15",
         "4",
         "9",
         "2.24",
         "0"
        ],
        [
         "9",
         "FOODS_1_001_CA_1_validation",
         "CA",
         "CA_1",
         "FOODS",
         "FOODS_1",
         "FOODS_1_001",
         "2015-04-10 00:00:00",
         "2015",
         "2",
         "4",
         "15",
         "5",
         "10",
         "2.24",
         "0"
        ]
       ],
       "shape": {
        "columns": 15,
        "rows": 10
       }
      },
      "text/html": [
       "<div>\n",
       "<style scoped>\n",
       "    .dataframe tbody tr th:only-of-type {\n",
       "        vertical-align: middle;\n",
       "    }\n",
       "\n",
       "    .dataframe tbody tr th {\n",
       "        vertical-align: top;\n",
       "    }\n",
       "\n",
       "    .dataframe thead th {\n",
       "        text-align: right;\n",
       "    }\n",
       "</style>\n",
       "<table border=\"1\" class=\"dataframe\">\n",
       "  <thead>\n",
       "    <tr style=\"text-align: right;\">\n",
       "      <th></th>\n",
       "      <th>id</th>\n",
       "      <th>state_id</th>\n",
       "      <th>store_id</th>\n",
       "      <th>cat_id</th>\n",
       "      <th>dept_id</th>\n",
       "      <th>item_id</th>\n",
       "      <th>date</th>\n",
       "      <th>year</th>\n",
       "      <th>quarter</th>\n",
       "      <th>month</th>\n",
       "      <th>week</th>\n",
       "      <th>wday</th>\n",
       "      <th>mday</th>\n",
       "      <th>sell_price</th>\n",
       "      <th>sales</th>\n",
       "    </tr>\n",
       "  </thead>\n",
       "  <tbody>\n",
       "    <tr>\n",
       "      <th>0</th>\n",
       "      <td>FOODS_1_001_CA_1_validation</td>\n",
       "      <td>CA</td>\n",
       "      <td>CA_1</td>\n",
       "      <td>FOODS</td>\n",
       "      <td>FOODS_1</td>\n",
       "      <td>FOODS_1_001</td>\n",
       "      <td>2015-04-01</td>\n",
       "      <td>2015</td>\n",
       "      <td>2</td>\n",
       "      <td>4</td>\n",
       "      <td>14</td>\n",
       "      <td>3</td>\n",
       "      <td>1</td>\n",
       "      <td>2.24</td>\n",
       "      <td>0</td>\n",
       "    </tr>\n",
       "    <tr>\n",
       "      <th>1</th>\n",
       "      <td>FOODS_1_001_CA_1_validation</td>\n",
       "      <td>CA</td>\n",
       "      <td>CA_1</td>\n",
       "      <td>FOODS</td>\n",
       "      <td>FOODS_1</td>\n",
       "      <td>FOODS_1_001</td>\n",
       "      <td>2015-04-02</td>\n",
       "      <td>2015</td>\n",
       "      <td>2</td>\n",
       "      <td>4</td>\n",
       "      <td>14</td>\n",
       "      <td>4</td>\n",
       "      <td>2</td>\n",
       "      <td>2.24</td>\n",
       "      <td>1</td>\n",
       "    </tr>\n",
       "    <tr>\n",
       "      <th>2</th>\n",
       "      <td>FOODS_1_001_CA_1_validation</td>\n",
       "      <td>CA</td>\n",
       "      <td>CA_1</td>\n",
       "      <td>FOODS</td>\n",
       "      <td>FOODS_1</td>\n",
       "      <td>FOODS_1_001</td>\n",
       "      <td>2015-04-03</td>\n",
       "      <td>2015</td>\n",
       "      <td>2</td>\n",
       "      <td>4</td>\n",
       "      <td>14</td>\n",
       "      <td>5</td>\n",
       "      <td>3</td>\n",
       "      <td>2.24</td>\n",
       "      <td>0</td>\n",
       "    </tr>\n",
       "    <tr>\n",
       "      <th>3</th>\n",
       "      <td>FOODS_1_001_CA_1_validation</td>\n",
       "      <td>CA</td>\n",
       "      <td>CA_1</td>\n",
       "      <td>FOODS</td>\n",
       "      <td>FOODS_1</td>\n",
       "      <td>FOODS_1_001</td>\n",
       "      <td>2015-04-04</td>\n",
       "      <td>2015</td>\n",
       "      <td>2</td>\n",
       "      <td>4</td>\n",
       "      <td>14</td>\n",
       "      <td>6</td>\n",
       "      <td>4</td>\n",
       "      <td>2.24</td>\n",
       "      <td>2</td>\n",
       "    </tr>\n",
       "    <tr>\n",
       "      <th>4</th>\n",
       "      <td>FOODS_1_001_CA_1_validation</td>\n",
       "      <td>CA</td>\n",
       "      <td>CA_1</td>\n",
       "      <td>FOODS</td>\n",
       "      <td>FOODS_1</td>\n",
       "      <td>FOODS_1_001</td>\n",
       "      <td>2015-04-05</td>\n",
       "      <td>2015</td>\n",
       "      <td>2</td>\n",
       "      <td>4</td>\n",
       "      <td>14</td>\n",
       "      <td>7</td>\n",
       "      <td>5</td>\n",
       "      <td>2.24</td>\n",
       "      <td>2</td>\n",
       "    </tr>\n",
       "    <tr>\n",
       "      <th>5</th>\n",
       "      <td>FOODS_1_001_CA_1_validation</td>\n",
       "      <td>CA</td>\n",
       "      <td>CA_1</td>\n",
       "      <td>FOODS</td>\n",
       "      <td>FOODS_1</td>\n",
       "      <td>FOODS_1_001</td>\n",
       "      <td>2015-04-06</td>\n",
       "      <td>2015</td>\n",
       "      <td>2</td>\n",
       "      <td>4</td>\n",
       "      <td>15</td>\n",
       "      <td>1</td>\n",
       "      <td>6</td>\n",
       "      <td>2.24</td>\n",
       "      <td>0</td>\n",
       "    </tr>\n",
       "    <tr>\n",
       "      <th>6</th>\n",
       "      <td>FOODS_1_001_CA_1_validation</td>\n",
       "      <td>CA</td>\n",
       "      <td>CA_1</td>\n",
       "      <td>FOODS</td>\n",
       "      <td>FOODS_1</td>\n",
       "      <td>FOODS_1_001</td>\n",
       "      <td>2015-04-07</td>\n",
       "      <td>2015</td>\n",
       "      <td>2</td>\n",
       "      <td>4</td>\n",
       "      <td>15</td>\n",
       "      <td>2</td>\n",
       "      <td>7</td>\n",
       "      <td>2.24</td>\n",
       "      <td>0</td>\n",
       "    </tr>\n",
       "    <tr>\n",
       "      <th>7</th>\n",
       "      <td>FOODS_1_001_CA_1_validation</td>\n",
       "      <td>CA</td>\n",
       "      <td>CA_1</td>\n",
       "      <td>FOODS</td>\n",
       "      <td>FOODS_1</td>\n",
       "      <td>FOODS_1_001</td>\n",
       "      <td>2015-04-08</td>\n",
       "      <td>2015</td>\n",
       "      <td>2</td>\n",
       "      <td>4</td>\n",
       "      <td>15</td>\n",
       "      <td>3</td>\n",
       "      <td>8</td>\n",
       "      <td>2.24</td>\n",
       "      <td>1</td>\n",
       "    </tr>\n",
       "    <tr>\n",
       "      <th>8</th>\n",
       "      <td>FOODS_1_001_CA_1_validation</td>\n",
       "      <td>CA</td>\n",
       "      <td>CA_1</td>\n",
       "      <td>FOODS</td>\n",
       "      <td>FOODS_1</td>\n",
       "      <td>FOODS_1_001</td>\n",
       "      <td>2015-04-09</td>\n",
       "      <td>2015</td>\n",
       "      <td>2</td>\n",
       "      <td>4</td>\n",
       "      <td>15</td>\n",
       "      <td>4</td>\n",
       "      <td>9</td>\n",
       "      <td>2.24</td>\n",
       "      <td>0</td>\n",
       "    </tr>\n",
       "    <tr>\n",
       "      <th>9</th>\n",
       "      <td>FOODS_1_001_CA_1_validation</td>\n",
       "      <td>CA</td>\n",
       "      <td>CA_1</td>\n",
       "      <td>FOODS</td>\n",
       "      <td>FOODS_1</td>\n",
       "      <td>FOODS_1_001</td>\n",
       "      <td>2015-04-10</td>\n",
       "      <td>2015</td>\n",
       "      <td>2</td>\n",
       "      <td>4</td>\n",
       "      <td>15</td>\n",
       "      <td>5</td>\n",
       "      <td>10</td>\n",
       "      <td>2.24</td>\n",
       "      <td>0</td>\n",
       "    </tr>\n",
       "  </tbody>\n",
       "</table>\n",
       "</div>"
      ],
      "text/plain": [
       "                            id state_id store_id cat_id  dept_id      item_id  \\\n",
       "0  FOODS_1_001_CA_1_validation       CA     CA_1  FOODS  FOODS_1  FOODS_1_001   \n",
       "1  FOODS_1_001_CA_1_validation       CA     CA_1  FOODS  FOODS_1  FOODS_1_001   \n",
       "2  FOODS_1_001_CA_1_validation       CA     CA_1  FOODS  FOODS_1  FOODS_1_001   \n",
       "3  FOODS_1_001_CA_1_validation       CA     CA_1  FOODS  FOODS_1  FOODS_1_001   \n",
       "4  FOODS_1_001_CA_1_validation       CA     CA_1  FOODS  FOODS_1  FOODS_1_001   \n",
       "5  FOODS_1_001_CA_1_validation       CA     CA_1  FOODS  FOODS_1  FOODS_1_001   \n",
       "6  FOODS_1_001_CA_1_validation       CA     CA_1  FOODS  FOODS_1  FOODS_1_001   \n",
       "7  FOODS_1_001_CA_1_validation       CA     CA_1  FOODS  FOODS_1  FOODS_1_001   \n",
       "8  FOODS_1_001_CA_1_validation       CA     CA_1  FOODS  FOODS_1  FOODS_1_001   \n",
       "9  FOODS_1_001_CA_1_validation       CA     CA_1  FOODS  FOODS_1  FOODS_1_001   \n",
       "\n",
       "        date  year  quarter  month  week  wday  mday  sell_price  sales  \n",
       "0 2015-04-01  2015        2      4    14     3     1        2.24      0  \n",
       "1 2015-04-02  2015        2      4    14     4     2        2.24      1  \n",
       "2 2015-04-03  2015        2      4    14     5     3        2.24      0  \n",
       "3 2015-04-04  2015        2      4    14     6     4        2.24      2  \n",
       "4 2015-04-05  2015        2      4    14     7     5        2.24      2  \n",
       "5 2015-04-06  2015        2      4    15     1     6        2.24      0  \n",
       "6 2015-04-07  2015        2      4    15     2     7        2.24      0  \n",
       "7 2015-04-08  2015        2      4    15     3     8        2.24      1  \n",
       "8 2015-04-09  2015        2      4    15     4     9        2.24      0  \n",
       "9 2015-04-10  2015        2      4    15     5    10        2.24      0  "
      ]
     },
     "execution_count": 66,
     "metadata": {},
     "output_type": "execute_result"
    }
   ],
   "source": [
    "query = f\"\"\"\n",
    "SELECT *\n",
    "FROM read_parquet('{SALES_DATA_PATH}')\n",
    "WHERE year = 2015 AND quarter = 2\n",
    "LIMIT 10\n",
    "\"\"\"\n",
    "\n",
    "con.query(query).to_df()"
   ]
  },
  {
   "cell_type": "code",
   "execution_count": 396,
   "id": "463d4502",
   "metadata": {},
   "outputs": [],
   "source": [
    "query = f\"\"\"\n",
    "SELECT\n",
    "id,\n",
    "item_id,\n",
    "store_id,\n",
    "dept_id,\n",
    "date,\n",
    "sales\n",
    "FROM read_parquet('{SALES_DATA_PATH}')\n",
    "WHERE year = 2015 AND quarter = 2\n",
    "\"\"\"\n",
    "\n",
    "sales_data = con.query(query).to_df()"
   ]
  },
  {
   "cell_type": "code",
   "execution_count": 397,
   "id": "116be50d",
   "metadata": {},
   "outputs": [
    {
     "data": {
      "application/vnd.microsoft.datawrangler.viewer.v0+json": {
       "columns": [
        {
         "name": "index",
         "rawType": "int64",
         "type": "integer"
        },
        {
         "name": "id",
         "rawType": "object",
         "type": "string"
        },
        {
         "name": "item_id",
         "rawType": "object",
         "type": "string"
        },
        {
         "name": "store_id",
         "rawType": "object",
         "type": "string"
        },
        {
         "name": "dept_id",
         "rawType": "object",
         "type": "string"
        },
        {
         "name": "date",
         "rawType": "datetime64[us]",
         "type": "unknown"
        },
        {
         "name": "sales",
         "rawType": "int16",
         "type": "integer"
        }
       ],
       "ref": "212221c1-5f89-466b-89ab-2d97190779ea",
       "rows": [
        [
         "0",
         "FOODS_1_001_CA_1_validation",
         "FOODS_1_001",
         "CA_1",
         "FOODS_1",
         "2015-04-01 00:00:00",
         "0"
        ],
        [
         "1",
         "FOODS_1_001_CA_1_validation",
         "FOODS_1_001",
         "CA_1",
         "FOODS_1",
         "2015-04-02 00:00:00",
         "1"
        ],
        [
         "2",
         "FOODS_1_001_CA_1_validation",
         "FOODS_1_001",
         "CA_1",
         "FOODS_1",
         "2015-04-03 00:00:00",
         "0"
        ],
        [
         "3",
         "FOODS_1_001_CA_1_validation",
         "FOODS_1_001",
         "CA_1",
         "FOODS_1",
         "2015-04-04 00:00:00",
         "2"
        ],
        [
         "4",
         "FOODS_1_001_CA_1_validation",
         "FOODS_1_001",
         "CA_1",
         "FOODS_1",
         "2015-04-05 00:00:00",
         "2"
        ]
       ],
       "shape": {
        "columns": 6,
        "rows": 5
       }
      },
      "text/html": [
       "<div>\n",
       "<style scoped>\n",
       "    .dataframe tbody tr th:only-of-type {\n",
       "        vertical-align: middle;\n",
       "    }\n",
       "\n",
       "    .dataframe tbody tr th {\n",
       "        vertical-align: top;\n",
       "    }\n",
       "\n",
       "    .dataframe thead th {\n",
       "        text-align: right;\n",
       "    }\n",
       "</style>\n",
       "<table border=\"1\" class=\"dataframe\">\n",
       "  <thead>\n",
       "    <tr style=\"text-align: right;\">\n",
       "      <th></th>\n",
       "      <th>id</th>\n",
       "      <th>item_id</th>\n",
       "      <th>store_id</th>\n",
       "      <th>dept_id</th>\n",
       "      <th>date</th>\n",
       "      <th>sales</th>\n",
       "    </tr>\n",
       "  </thead>\n",
       "  <tbody>\n",
       "    <tr>\n",
       "      <th>0</th>\n",
       "      <td>FOODS_1_001_CA_1_validation</td>\n",
       "      <td>FOODS_1_001</td>\n",
       "      <td>CA_1</td>\n",
       "      <td>FOODS_1</td>\n",
       "      <td>2015-04-01</td>\n",
       "      <td>0</td>\n",
       "    </tr>\n",
       "    <tr>\n",
       "      <th>1</th>\n",
       "      <td>FOODS_1_001_CA_1_validation</td>\n",
       "      <td>FOODS_1_001</td>\n",
       "      <td>CA_1</td>\n",
       "      <td>FOODS_1</td>\n",
       "      <td>2015-04-02</td>\n",
       "      <td>1</td>\n",
       "    </tr>\n",
       "    <tr>\n",
       "      <th>2</th>\n",
       "      <td>FOODS_1_001_CA_1_validation</td>\n",
       "      <td>FOODS_1_001</td>\n",
       "      <td>CA_1</td>\n",
       "      <td>FOODS_1</td>\n",
       "      <td>2015-04-03</td>\n",
       "      <td>0</td>\n",
       "    </tr>\n",
       "    <tr>\n",
       "      <th>3</th>\n",
       "      <td>FOODS_1_001_CA_1_validation</td>\n",
       "      <td>FOODS_1_001</td>\n",
       "      <td>CA_1</td>\n",
       "      <td>FOODS_1</td>\n",
       "      <td>2015-04-04</td>\n",
       "      <td>2</td>\n",
       "    </tr>\n",
       "    <tr>\n",
       "      <th>4</th>\n",
       "      <td>FOODS_1_001_CA_1_validation</td>\n",
       "      <td>FOODS_1_001</td>\n",
       "      <td>CA_1</td>\n",
       "      <td>FOODS_1</td>\n",
       "      <td>2015-04-05</td>\n",
       "      <td>2</td>\n",
       "    </tr>\n",
       "  </tbody>\n",
       "</table>\n",
       "</div>"
      ],
      "text/plain": [
       "                            id      item_id store_id  dept_id       date  \\\n",
       "0  FOODS_1_001_CA_1_validation  FOODS_1_001     CA_1  FOODS_1 2015-04-01   \n",
       "1  FOODS_1_001_CA_1_validation  FOODS_1_001     CA_1  FOODS_1 2015-04-02   \n",
       "2  FOODS_1_001_CA_1_validation  FOODS_1_001     CA_1  FOODS_1 2015-04-03   \n",
       "3  FOODS_1_001_CA_1_validation  FOODS_1_001     CA_1  FOODS_1 2015-04-04   \n",
       "4  FOODS_1_001_CA_1_validation  FOODS_1_001     CA_1  FOODS_1 2015-04-05   \n",
       "\n",
       "   sales  \n",
       "0      0  \n",
       "1      1  \n",
       "2      0  \n",
       "3      2  \n",
       "4      2  "
      ]
     },
     "execution_count": 397,
     "metadata": {},
     "output_type": "execute_result"
    }
   ],
   "source": [
    "sales_data.head()"
   ]
  },
  {
   "cell_type": "code",
   "execution_count": 398,
   "id": "69259f0f",
   "metadata": {},
   "outputs": [],
   "source": [
    "query = f\"\"\"\n",
    "SELECT\n",
    "  id, item_id, store_id,\n",
    "  MIN(CASE WHEN sales > 0 THEN date END) AS first_sale_date,\n",
    "  MAX(CASE WHEN sales > 0 THEN date END) AS last_sale_date,\n",
    "  DATE_DIFF('day',\n",
    "    MIN(CASE WHEN sales > 0 THEN date END),\n",
    "    MAX(CASE WHEN sales > 0 THEN date END)\n",
    "  ) AS sales_window_days,\n",
    "  SUM(CASE WHEN sales > 0 THEN 1 ELSE 0 END) AS selling_days,\n",
    "  AVG(NULLIF(sales,0)) AS avg_sales,\n",
    "  STDDEV_POP(NULLIF(sales,0)) AS std_sales\n",
    "FROM sales_data\n",
    "GROUP BY store_id, item_id, id\n",
    "HAVING SUM(CASE WHEN sales > 0 THEN 1 ELSE 0 END) > 0\n",
    "ORDER BY item_id, store_id\n",
    "\"\"\"\n",
    "\n",
    "demand_summary = con.query(query).to_df().round(3)"
   ]
  },
  {
   "cell_type": "code",
   "execution_count": 399,
   "id": "33d9698d",
   "metadata": {},
   "outputs": [
    {
     "data": {
      "text/plain": [
       "(30490, 29011, 2774590)"
      ]
     },
     "execution_count": 399,
     "metadata": {},
     "output_type": "execute_result"
    }
   ],
   "source": [
    "len(sales_data['id'].unique()), len(demand_summary), len(sales_data)"
   ]
  },
  {
   "cell_type": "code",
   "execution_count": 400,
   "id": "a3c5520b",
   "metadata": {},
   "outputs": [
    {
     "data": {
      "text/plain": [
       "3023"
      ]
     },
     "execution_count": 400,
     "metadata": {},
     "output_type": "execute_result"
    }
   ],
   "source": [
    "len(demand_summary['item_id'].unique())"
   ]
  },
  {
   "cell_type": "code",
   "execution_count": 401,
   "id": "55c38d48",
   "metadata": {},
   "outputs": [
    {
     "data": {
      "application/vnd.microsoft.datawrangler.viewer.v0+json": {
       "columns": [
        {
         "name": "index",
         "rawType": "int64",
         "type": "integer"
        },
        {
         "name": "id",
         "rawType": "object",
         "type": "string"
        },
        {
         "name": "item_id",
         "rawType": "object",
         "type": "string"
        },
        {
         "name": "store_id",
         "rawType": "object",
         "type": "string"
        },
        {
         "name": "first_sale_date",
         "rawType": "datetime64[us]",
         "type": "unknown"
        },
        {
         "name": "last_sale_date",
         "rawType": "datetime64[us]",
         "type": "unknown"
        },
        {
         "name": "sales_window_days",
         "rawType": "int64",
         "type": "integer"
        },
        {
         "name": "selling_days",
         "rawType": "float64",
         "type": "float"
        },
        {
         "name": "avg_sales",
         "rawType": "float64",
         "type": "float"
        },
        {
         "name": "std_sales",
         "rawType": "float64",
         "type": "float"
        }
       ],
       "ref": "6d465e2a-581b-48e9-9339-9d6f655932e8",
       "rows": [
        [
         "0",
         "FOODS_1_001_CA_1_validation",
         "FOODS_1_001",
         "CA_1",
         "2015-04-02 00:00:00",
         "2015-06-27 00:00:00",
         "86",
         "35.0",
         "1.6",
         "0.868"
        ],
        [
         "1",
         "FOODS_1_001_CA_2_validation",
         "FOODS_1_001",
         "CA_2",
         "2015-04-02 00:00:00",
         "2015-06-29 00:00:00",
         "88",
         "31.0",
         "2.194",
         "1.874"
        ],
        [
         "2",
         "FOODS_1_001_CA_3_validation",
         "FOODS_1_001",
         "CA_3",
         "2015-04-04 00:00:00",
         "2015-06-30 00:00:00",
         "87",
         "28.0",
         "2.464",
         "3.3"
        ],
        [
         "3",
         "FOODS_1_001_CA_4_validation",
         "FOODS_1_001",
         "CA_4",
         "2015-04-08 00:00:00",
         "2015-06-26 00:00:00",
         "79",
         "21.0",
         "1.238",
         "0.426"
        ],
        [
         "4",
         "FOODS_1_001_TX_1_validation",
         "FOODS_1_001",
         "TX_1",
         "2015-04-04 00:00:00",
         "2015-06-30 00:00:00",
         "87",
         "28.0",
         "1.321",
         "0.71"
        ]
       ],
       "shape": {
        "columns": 9,
        "rows": 5
       }
      },
      "text/html": [
       "<div>\n",
       "<style scoped>\n",
       "    .dataframe tbody tr th:only-of-type {\n",
       "        vertical-align: middle;\n",
       "    }\n",
       "\n",
       "    .dataframe tbody tr th {\n",
       "        vertical-align: top;\n",
       "    }\n",
       "\n",
       "    .dataframe thead th {\n",
       "        text-align: right;\n",
       "    }\n",
       "</style>\n",
       "<table border=\"1\" class=\"dataframe\">\n",
       "  <thead>\n",
       "    <tr style=\"text-align: right;\">\n",
       "      <th></th>\n",
       "      <th>id</th>\n",
       "      <th>item_id</th>\n",
       "      <th>store_id</th>\n",
       "      <th>first_sale_date</th>\n",
       "      <th>last_sale_date</th>\n",
       "      <th>sales_window_days</th>\n",
       "      <th>selling_days</th>\n",
       "      <th>avg_sales</th>\n",
       "      <th>std_sales</th>\n",
       "    </tr>\n",
       "  </thead>\n",
       "  <tbody>\n",
       "    <tr>\n",
       "      <th>0</th>\n",
       "      <td>FOODS_1_001_CA_1_validation</td>\n",
       "      <td>FOODS_1_001</td>\n",
       "      <td>CA_1</td>\n",
       "      <td>2015-04-02</td>\n",
       "      <td>2015-06-27</td>\n",
       "      <td>86</td>\n",
       "      <td>35.0</td>\n",
       "      <td>1.600</td>\n",
       "      <td>0.868</td>\n",
       "    </tr>\n",
       "    <tr>\n",
       "      <th>1</th>\n",
       "      <td>FOODS_1_001_CA_2_validation</td>\n",
       "      <td>FOODS_1_001</td>\n",
       "      <td>CA_2</td>\n",
       "      <td>2015-04-02</td>\n",
       "      <td>2015-06-29</td>\n",
       "      <td>88</td>\n",
       "      <td>31.0</td>\n",
       "      <td>2.194</td>\n",
       "      <td>1.874</td>\n",
       "    </tr>\n",
       "    <tr>\n",
       "      <th>2</th>\n",
       "      <td>FOODS_1_001_CA_3_validation</td>\n",
       "      <td>FOODS_1_001</td>\n",
       "      <td>CA_3</td>\n",
       "      <td>2015-04-04</td>\n",
       "      <td>2015-06-30</td>\n",
       "      <td>87</td>\n",
       "      <td>28.0</td>\n",
       "      <td>2.464</td>\n",
       "      <td>3.300</td>\n",
       "    </tr>\n",
       "    <tr>\n",
       "      <th>3</th>\n",
       "      <td>FOODS_1_001_CA_4_validation</td>\n",
       "      <td>FOODS_1_001</td>\n",
       "      <td>CA_4</td>\n",
       "      <td>2015-04-08</td>\n",
       "      <td>2015-06-26</td>\n",
       "      <td>79</td>\n",
       "      <td>21.0</td>\n",
       "      <td>1.238</td>\n",
       "      <td>0.426</td>\n",
       "    </tr>\n",
       "    <tr>\n",
       "      <th>4</th>\n",
       "      <td>FOODS_1_001_TX_1_validation</td>\n",
       "      <td>FOODS_1_001</td>\n",
       "      <td>TX_1</td>\n",
       "      <td>2015-04-04</td>\n",
       "      <td>2015-06-30</td>\n",
       "      <td>87</td>\n",
       "      <td>28.0</td>\n",
       "      <td>1.321</td>\n",
       "      <td>0.710</td>\n",
       "    </tr>\n",
       "  </tbody>\n",
       "</table>\n",
       "</div>"
      ],
      "text/plain": [
       "                            id      item_id store_id first_sale_date  \\\n",
       "0  FOODS_1_001_CA_1_validation  FOODS_1_001     CA_1      2015-04-02   \n",
       "1  FOODS_1_001_CA_2_validation  FOODS_1_001     CA_2      2015-04-02   \n",
       "2  FOODS_1_001_CA_3_validation  FOODS_1_001     CA_3      2015-04-04   \n",
       "3  FOODS_1_001_CA_4_validation  FOODS_1_001     CA_4      2015-04-08   \n",
       "4  FOODS_1_001_TX_1_validation  FOODS_1_001     TX_1      2015-04-04   \n",
       "\n",
       "  last_sale_date  sales_window_days  selling_days  avg_sales  std_sales  \n",
       "0     2015-06-27                 86          35.0      1.600      0.868  \n",
       "1     2015-06-29                 88          31.0      2.194      1.874  \n",
       "2     2015-06-30                 87          28.0      2.464      3.300  \n",
       "3     2015-06-26                 79          21.0      1.238      0.426  \n",
       "4     2015-06-30                 87          28.0      1.321      0.710  "
      ]
     },
     "execution_count": 401,
     "metadata": {},
     "output_type": "execute_result"
    }
   ],
   "source": [
    "demand_summary.head()"
   ]
  },
  {
   "cell_type": "markdown",
   "id": "ee3980d9",
   "metadata": {},
   "source": [
    "# Processing data"
   ]
  },
  {
   "cell_type": "code",
   "execution_count": 402,
   "id": "548bdb03",
   "metadata": {},
   "outputs": [],
   "source": [
    "def classify_demand(df,\n",
    "                    horizon_days=91):\n",
    "    \"\"\"\n",
    "    Classify each item into a demand type following Syntetos & Boylan (2005).\n",
    "\n",
    "    Categories:\n",
    "        - Smooth       : ADI < 1.32  and CV² < 0.49\n",
    "        - Intermittent : ADI ≥ 1.32 and CV² < 0.49\n",
    "        - Erratic      : ADI < 1.32  and CV² ≥ 0.49\n",
    "        - Lumpy        : ADI ≥ 1.32 and CV² ≥ 0.49\n",
    "    \"\"\"\n",
    "\n",
    "    # Thresholds defined in the literature\n",
    "    ADI_THR = 1.32\n",
    "    CV2_THR = 0.49\n",
    "\n",
    "    # Compute demand metrics\n",
    "    df[\"ADI\"] = (horizon_days / df[\"selling_days\"]).round(3)\n",
    "    df[\"CV2\"] = ((df[\"std_sales\"] / df[\"avg_sales\"]) ** 2).round(3)\n",
    "\n",
    "    # Classification rules\n",
    "    conditions = [\n",
    "        (df[\"ADI\"] < ADI_THR) & (df[\"CV2\"] < CV2_THR),   # Smooth\n",
    "        (df[\"ADI\"] >= ADI_THR) & (df[\"CV2\"] < CV2_THR),  # Intermittent\n",
    "        (df[\"ADI\"] < ADI_THR) & (df[\"CV2\"] >= CV2_THR),  # Erratic\n",
    "        (df[\"ADI\"] >= ADI_THR) & (df[\"CV2\"] >= CV2_THR)  # Lumpy\n",
    "    ]\n",
    "    labels = [\"Smooth\", \"Intermittent\", \"Erratic\", \"Lumpy\"]\n",
    "\n",
    "    # Assign demand category\n",
    "    df[\"demand_type\"] = np.select(conditions, labels, default=\"Unknown\")\n",
    "\n",
    "    return df"
   ]
  },
  {
   "cell_type": "code",
   "execution_count": 424,
   "id": "df0dee0d",
   "metadata": {},
   "outputs": [],
   "source": [
    "def tag_insufficient_data(df,\n",
    "                          ratio=0.2,\n",
    "                          horizon_days=91):\n",
    "    \"\"\"\n",
    "    Tag items as 'Insufficient data' when their sales history \n",
    "    is too short to provide reliable classification.\n",
    "    \"\"\"\n",
    "\n",
    "    # Threshold: % of the maximum observed sales window\n",
    "    sales_threshold = horizon_days * ratio\n",
    "    \n",
    "    # Relabel demand_type for items below threshold\n",
    "    df['demand_type'] = np.where(\n",
    "        df['sales_window_days'] < sales_threshold,\n",
    "        'Insufficient data',\n",
    "        df['demand_type']\n",
    "    )\n",
    "\n",
    "    return df"
   ]
  },
  {
   "cell_type": "code",
   "execution_count": 425,
   "id": "c5feb994",
   "metadata": {},
   "outputs": [],
   "source": [
    "def format_demand_summary(df,\n",
    "                          demand_categories=['Smooth', 'Intermittent', 'Erratic', 'Lumpy', 'Insufficient data']):\n",
    "    \"\"\"\n",
    "    Format the demand summary DataFrame:\n",
    "      - Casts columns to consistent dtypes.\n",
    "      - Orders demand categories.\n",
    "      - Rounds numeric values for readability.\n",
    "\n",
    "    Parameters\n",
    "    ----------\n",
    "    df : DataFrame\n",
    "        Input DataFrame with demand summary metrics.\n",
    "    demand_categories : list\n",
    "        Ordered list of demand categories (e.g., \n",
    "        [\"Smooth\", \"Intermittent\", \"Erratic\", \"Lumpy\", \"Insufficient data\"]).\n",
    "\n",
    "    Returns\n",
    "    -------\n",
    "    DataFrame\n",
    "        Formatted DataFrame with standardized types and categories.\n",
    "    \"\"\"\n",
    "\n",
    "    # Target dtypes for each column\n",
    "    dtypes_dict = {\n",
    "        \"id\": \"category\",\n",
    "        \"first_sale_date\": \"datetime64[ns]\",\n",
    "        \"last_sale_date\": \"datetime64[ns]\",\n",
    "        \"sales_window_days\": \"Int16\",\n",
    "        \"selling_days\": \"Int16\",\n",
    "        \"avg_sales\": \"Float32\",\n",
    "        \"std_sales\": \"Float32\",\n",
    "        \"ADI\": \"Float32\",\n",
    "        \"CV2\": \"Float32\",\n",
    "    }\n",
    "\n",
    "    # Ensure demand_type follows a fixed, ordered categorization\n",
    "    df[\"demand_type\"] = pd.Categorical(\n",
    "        df[\"demand_type\"],\n",
    "        categories=demand_categories,\n",
    "        ordered=True\n",
    "    )\n",
    "\n",
    "    # Apply data types and round numeric columns\n",
    "    df = df.astype(dtypes_dict).round(3)\n",
    "\n",
    "    return df"
   ]
  },
  {
   "cell_type": "code",
   "execution_count": 426,
   "id": "38d940e1",
   "metadata": {},
   "outputs": [],
   "source": [
    "demand_summary = (\n",
    "    demand_summary\n",
    "    .pipe(classify_demand)\n",
    "    .pipe(tag_insufficient_data)\n",
    "    .pipe(format_demand_summary)\n",
    ")"
   ]
  },
  {
   "cell_type": "code",
   "execution_count": 427,
   "id": "99eea287",
   "metadata": {},
   "outputs": [],
   "source": [
    "demand_summary.to_parquet(\"../data/processed/demand_analysis_q2_2015.parquet\")"
   ]
  },
  {
   "cell_type": "markdown",
   "id": "6b9b8133",
   "metadata": {},
   "source": [
    "# EDA"
   ]
  },
  {
   "cell_type": "code",
   "execution_count": 428,
   "id": "9842d081",
   "metadata": {},
   "outputs": [],
   "source": [
    "query = f\"\"\"\n",
    "SELECT\n",
    "date,\n",
    "SUM(sales) AS sales\n",
    "FROM sales_data\n",
    "GROUP BY date\n",
    "ORDER BY date\n",
    "\"\"\"\n",
    "\n",
    "sales_data_agg = con.query(query).to_df()"
   ]
  },
  {
   "cell_type": "code",
   "execution_count": 429,
   "id": "b48fbaef",
   "metadata": {},
   "outputs": [
    {
     "data": {
      "image/png": "[encoded data removed]",
      "text/plain": [
       "<Figure size 1200x400 with 1 Axes>"
      ]
     },
     "metadata": {},
     "output_type": "display_data"
    }
   ],
   "source": [
    "import matplotlib.pyplot as plt\n",
    "import seaborn as sns\n",
    "\n",
    "sns.set_theme(style=\"whitegrid\")\n",
    "\n",
    "plt.figure(figsize=(12,4))\n",
    "\n",
    "sns.lineplot(\n",
    "    data=sales_data_agg,\n",
    "    x=\"date\",\n",
    "    y=\"sales\",\n",
    "    linewidth=2,\n",
    "    color=\"steelblue\"\n",
    ")\n",
    "\n",
    "sns.lineplot(\n",
    "    data=sales_data_agg.rolling(7, on=\"date\").mean(),\n",
    "    x=\"date\",\n",
    "    y=\"sales\",\n",
    "    label=\"7d moving average\",\n",
    "    linewidth=2.5,\n",
    "    linestyle=\"--\",\n",
    "    color=\"orange\"\n",
    ")\n",
    "\n",
    "plt.ylim(0, sales_data_agg[\"sales\"].max() * 1.2)\n",
    "\n",
    "ax = plt.gca()\n",
    "ax.yaxis.set_major_formatter(mticker.FuncFormatter(lambda x, _: f\"{int(x/1000)}K\"))\n",
    "\n",
    "locator = mdates.DayLocator(bymonthday=[1, 15])\n",
    "ax.xaxis.set_major_locator(locator)\n",
    "ax.xaxis.set_major_formatter(mdates.DateFormatter('%d %b'))\n",
    "plt.xticks(rotation=0)\n",
    "\n",
    "plt.title(\"Total sales by day, Q2-2015\", fontsize=16, weight=\"bold\", loc=\"left\", pad=20)\n",
    "plt.xlabel(\"\")\n",
    "plt.ylabel(\"Total sales\")\n",
    "\n",
    "ax.yaxis.grid(True, linestyle=\"--\", linewidth=1, alpha=0.6)\n",
    "ax.xaxis.grid(True, linestyle=\"-\", linewidth=1, alpha=0.8)\n",
    "\n",
    "plt.legend(loc=\"upper left\", frameon=False)\n",
    "\n",
    "plt.tight_layout()\n",
    "plt.show()"
   ]
  },
  {
   "cell_type": "code",
   "execution_count": 430,
   "id": "2b5e67d6",
   "metadata": {},
   "outputs": [
    {
     "data": {
      "image/png": "[encoded data removed]",
      "text/plain": [
       "<Figure size 1200x400 with 1 Axes>"
      ]
     },
     "metadata": {},
     "output_type": "display_data"
    }
   ],
   "source": [
    "query = f\"\"\"\n",
    "SELECT\n",
    "date,\n",
    "dept_id,\n",
    "SUM(sales) AS sales\n",
    "FROM sales_data\n",
    "GROUP BY dept_id,date\n",
    "ORDER BY dept_id,date\n",
    "\"\"\"\n",
    "\n",
    "sales_data_agg_2 = con.query(query).to_df()\n",
    "\n",
    "\n",
    "import matplotlib.pyplot as plt\n",
    "import seaborn as sns\n",
    "import matplotlib.ticker as mticker\n",
    "import matplotlib.dates as mdates\n",
    "\n",
    "# Calcular la suma total de ventas por tienda para identificar min, max y mediana\n",
    "dept_totals = sales_data_agg_2.groupby(\"dept_id\")[\"sales\"].sum().sort_values()\n",
    "\n",
    "dept_min = dept_totals.index[0]\n",
    "dept_max = dept_totals.index[-1]\n",
    "dept_median = dept_totals.index[len(dept_totals) // 2]\n",
    "\n",
    "highlight_depts = [dept_max,dept_median, dept_min, ]\n",
    "\n",
    "# Configuración del gráfico\n",
    "sns.set_theme(style=\"whitegrid\")\n",
    "plt.figure(figsize=(12, 4))\n",
    "\n",
    "# Dibujar primero TODAS las tiendas en gris\n",
    "sns.lineplot(\n",
    "    data=sales_data_agg_2,\n",
    "    x=\"date\",\n",
    "    y=\"sales\",\n",
    "    hue=\"dept_id\",\n",
    "    palette=[\"lightgray\"] * sales_data_agg_2[\"dept_id\"].nunique(),\n",
    "    linewidth=2,\n",
    "    legend=False\n",
    ")\n",
    "\n",
    "# Ahora dibujar encima las tres tiendas destacadas\n",
    "colors = {\"max\": \"green\", \"median\": \"steelblue\", \"min\": \"red\"}\n",
    "labels = {\n",
    "    dept_max:       f\"{dept_max}\",\n",
    "    dept_median:    f\"{dept_median}\",\n",
    "    dept_min:       f\"{dept_min}\"\n",
    "}\n",
    "\n",
    "for sid, label, color in zip(highlight_depts, labels.values(), colors.values()):\n",
    "    subset = sales_data_agg_2[sales_data_agg_2[\"dept_id\"] == sid]\n",
    "    sns.lineplot(\n",
    "        data=subset,\n",
    "        x=\"date\",\n",
    "        y=\"sales\",\n",
    "        linewidth=2.5,\n",
    "        color=color,\n",
    "        label=label\n",
    "    )\n",
    "\n",
    "ax = plt.gca()\n",
    "ax.set_yscale(\"log\")\n",
    "ticks = [500,1000, 5000, 10000, 15000, 25000]\n",
    "ax.set_yticks(ticks)\n",
    "ax.yaxis.set_major_formatter(\n",
    "    mticker.FuncFormatter(lambda x, _: f\"{x/1000:.1f}K\")\n",
    ")\n",
    "\n",
    "locator = mdates.DayLocator(bymonthday=[1, 15])\n",
    "ax.xaxis.set_major_locator(locator)\n",
    "ax.xaxis.set_major_formatter(mdates.DateFormatter('%d %b'))\n",
    "plt.xticks(rotation=0)\n",
    "\n",
    "# Título principal\n",
    "plt.title(\"Total sales per department by day, Q2-2015\",\n",
    "          fontsize=16, weight=\"bold\", loc=\"left\", pad=30)\n",
    "\n",
    "# Subtítulo justo debajo del título\n",
    "plt.text(0.001, 1.1, \n",
    "         \"Comparing highest, median, and lowest performing departments\",\n",
    "         fontsize=10, style=\"italic\", color=\"dimgray\",\n",
    "         ha=\"left\", va=\"top\", transform=plt.gca().transAxes)\n",
    "\n",
    "plt.xlabel(\"\")\n",
    "plt.ylabel(\"Total sales (log scale)\")\n",
    "\n",
    "ax.yaxis.grid(True, linestyle=\"--\", linewidth=1, alpha=0.6)\n",
    "ax.xaxis.grid(True, linestyle=\"-\", linewidth=1, alpha=0.8)\n",
    "\n",
    "plt.legend(\n",
    "    loc=\"upper left\",\n",
    "    bbox_to_anchor=(1.01, 0.7),\n",
    "    frameon=False\n",
    ")\n",
    "\n",
    "plt.tight_layout()\n",
    "plt.show()"
   ]
  },
  {
   "cell_type": "code",
   "execution_count": 431,
   "metadata": {},
   "outputs": [
    {
     "data": {
      "image/png": "[encoded data removed]",
      "text/plain": [
       "<Figure size 1200x400 with 1 Axes>"
      ]
     },
     "metadata": {},
     "output_type": "display_data"
    }
   ],
   "source": [
    "query = f\"\"\"\n",
    "SELECT\n",
    "date,\n",
    "store_id,\n",
    "SUM(sales) AS sales\n",
    "FROM sales_data\n",
    "GROUP BY store_id,date\n",
    "ORDER BY store_id,date\n",
    "\"\"\"\n",
    "\n",
    "sales_data_agg_2 = con.query(query).to_df()\n",
    "\n",
    "\n",
    "import matplotlib.pyplot as plt\n",
    "import seaborn as sns\n",
    "import matplotlib.ticker as mticker\n",
    "import matplotlib.dates as mdates\n",
    "\n",
    "# Calcular la suma total de ventas por tienda para identificar min, max y mediana\n",
    "store_totals = sales_data_agg_2.groupby(\"store_id\")[\"sales\"].sum().sort_values()\n",
    "\n",
    "store_min = store_totals.index[0]\n",
    "store_max = store_totals.index[-1]\n",
    "store_median = store_totals.index[len(store_totals) // 2]\n",
    "\n",
    "highlight_stores = [store_max,store_median, store_min, ]\n",
    "\n",
    "# Configuración del gráfico\n",
    "sns.set_theme(style=\"whitegrid\")\n",
    "plt.figure(figsize=(12, 4))\n",
    "\n",
    "# Dibujar primero TODAS las tiendas en gris\n",
    "sns.lineplot(\n",
    "    data=sales_data_agg_2,\n",
    "    x=\"date\",\n",
    "    y=\"sales\",\n",
    "    hue=\"store_id\",\n",
    "    palette=[\"lightgray\"] * sales_data_agg_2[\"store_id\"].nunique(),\n",
    "    linewidth=2,\n",
    "    legend=False\n",
    ")\n",
    "\n",
    "# Ahora dibujar encima las tres tiendas destacadas\n",
    "colors = {\"max\": \"green\", \"median\": \"steelblue\", \"min\": \"red\"}\n",
    "labels = {\n",
    "    store_max: f\"{store_max}\",\n",
    "    store_median: f\"{store_median}\",\n",
    "    store_min: f\"{store_min}\"\n",
    "}\n",
    "\n",
    "for sid, label, color in zip(highlight_stores, labels.values(), colors.values()):\n",
    "    subset = sales_data_agg_2[sales_data_agg_2[\"store_id\"] == sid]\n",
    "    sns.lineplot(\n",
    "        data=subset,\n",
    "        x=\"date\",\n",
    "        y=\"sales\",\n",
    "        linewidth=2.5,\n",
    "        color=color,\n",
    "        label=label\n",
    "    )\n",
    "\n",
    "# Ajustes de ejes\n",
    "plt.ylim(0, sales_data_agg_2[\"sales\"].max() * 1.2)\n",
    "ax = plt.gca()\n",
    "ax.yaxis.set_major_formatter(mticker.FuncFormatter(lambda x, _: f\"{int(x/1000)}K\"))\n",
    "\n",
    "locator = mdates.DayLocator(bymonthday=[1, 15])\n",
    "ax.xaxis.set_major_locator(locator)\n",
    "ax.xaxis.set_major_formatter(mdates.DateFormatter('%d %b'))\n",
    "plt.xticks(rotation=0)\n",
    "\n",
    "# Título principal\n",
    "plt.title(\"Total sales per store by day, Q2-2015\",\n",
    "          fontsize=16, weight=\"bold\", loc=\"left\", pad=30)\n",
    "\n",
    "# Subtítulo justo debajo del título\n",
    "plt.text(0.001, 1.1, \n",
    "         \"Comparing highest, median, and lowest performing stores\",\n",
    "         fontsize=10, style=\"italic\", color=\"dimgray\",\n",
    "         ha=\"left\", va=\"top\", transform=plt.gca().transAxes)\n",
    "\n",
    "plt.xlabel(\"\")\n",
    "plt.ylabel(\"Total sales\")\n",
    "\n",
    "ax.yaxis.grid(True, linestyle=\"--\", linewidth=1, alpha=0.6)\n",
    "ax.xaxis.grid(True, linestyle=\"-\", linewidth=1, alpha=0.8)\n",
    "\n",
    "plt.legend(\n",
    "    loc=\"upper left\",\n",
    "    bbox_to_anchor=(1.01, 0.7),\n",
    "    frameon=False\n",
    ")\n",
    "\n",
    "plt.tight_layout()\n",
    "plt.show()"
   ]
  },
  {
   "cell_type": "code",
   "execution_count": 432,
   "id": "02deb998",
   "metadata": {},
   "outputs": [],
   "source": [
    "unique_items = sales_data['item_id'].nunique()\n",
    "unique_stores = sales_data['store_id'].nunique()\n",
    "unique_days = sales_data['date'].nunique()"
   ]
  },
  {
   "cell_type": "code",
   "execution_count": 433,
   "id": "7f5bb983",
   "metadata": {},
   "outputs": [
    {
     "name": "stdout",
     "output_type": "stream",
     "text": [
      "3049 10 91\n"
     ]
    }
   ],
   "source": [
    "print(unique_items, unique_stores, unique_days)"
   ]
  },
  {
   "cell_type": "code",
   "execution_count": 434,
   "id": "6db78367",
   "metadata": {},
   "outputs": [
    {
     "data": {
      "application/vnd.microsoft.datawrangler.viewer.v0+json": {
       "columns": [
        {
         "name": "index",
         "rawType": "object",
         "type": "string"
        },
        {
         "name": "sales",
         "rawType": "float64",
         "type": "float"
        }
       ],
       "ref": "d5801efa-6395-4343-acdc-bdf288ec5713",
       "rows": [
        [
         "count",
         "0.091"
        ],
        [
         "mean",
         "37.385"
        ],
        [
         "std",
         "5.529"
        ],
        [
         "min",
         "28.667"
        ],
        [
         "25%",
         "33.22"
        ],
        [
         "50%",
         "35.945"
        ],
        [
         "75%",
         "41.524"
        ],
        [
         "max",
         "49.102"
        ]
       ],
       "shape": {
        "columns": 1,
        "rows": 8
       }
      },
      "text/plain": [
       "count     0.091\n",
       "mean     37.385\n",
       "std       5.529\n",
       "min      28.667\n",
       "25%      33.220\n",
       "50%      35.945\n",
       "75%      41.524\n",
       "max      49.102\n",
       "Name: sales, dtype: float64"
      ]
     },
     "execution_count": 434,
     "metadata": {},
     "output_type": "execute_result"
    }
   ],
   "source": [
    "sales_data_agg['sales'].describe().round(0).astype('int') / 1000"
   ]
  },
  {
   "cell_type": "markdown",
   "id": "177e0eca",
   "metadata": {},
   "source": [
    "# First exameple"
   ]
  },
  {
   "cell_type": "code",
   "execution_count": 435,
   "id": "adeab5ee",
   "metadata": {},
   "outputs": [],
   "source": [
    "query = \"\"\"\n",
    "SELECT * \n",
    "FROM sales_data\n",
    "WHERE id = 'HOBBIES_1_366_CA_1_validation'\n",
    "\"\"\"\n",
    "\n",
    "example_item = con.query(query).to_df()"
   ]
  },
  {
   "cell_type": "code",
   "execution_count": 436,
   "id": "19c63fd1",
   "metadata": {},
   "outputs": [
    {
     "data": {
      "image/png": "[encoded data removed]",
      "text/plain": [
       "<Figure size 1200x400 with 1 Axes>"
      ]
     },
     "metadata": {},
     "output_type": "display_data"
    }
   ],
   "source": [
    "import matplotlib.pyplot as plt\n",
    "import seaborn as sns\n",
    "\n",
    "sns.set_theme(style=\"whitegrid\")\n",
    "\n",
    "plt.figure(figsize=(12,4))\n",
    "store = example_item['store_id'].iloc[0]\n",
    "dept = example_item['dept_id'].iloc[0]\n",
    "item = example_item['item_id'].iloc[0]\n",
    "\n",
    "sns.lineplot(\n",
    "    data=example_item,\n",
    "    x=\"date\",\n",
    "    y=\"sales\",\n",
    "    linewidth=2,\n",
    "    color=\"steelblue\",\n",
    "    label = f\"Item: {item}\\nDept.: {dept}\\nStore: {store}\"\n",
    ")\n",
    "\n",
    "plt.ylim(0, example_item[\"sales\"].max() * 1.2)\n",
    "\n",
    "ax = plt.gca()\n",
    "ax.yaxis.set_major_locator(mticker.MultipleLocator(1))\n",
    "\n",
    "locator = mdates.DayLocator(bymonthday=[1, 15])\n",
    "ax.xaxis.set_major_locator(locator)\n",
    "ax.xaxis.set_major_formatter(mdates.DateFormatter('%d %b'))\n",
    "plt.xticks(rotation=0)\n",
    "\n",
    "plt.title(\"Item sales by day, Q2-2015\", fontsize=16, weight=\"bold\", loc=\"left\", pad=20)\n",
    "plt.xlabel(\"\")\n",
    "plt.ylabel(\"Sales\")\n",
    "\n",
    "ax.yaxis.grid(True, linestyle=\"--\", linewidth=1, alpha=0.6)\n",
    "ax.xaxis.grid(True, linestyle=\"-\", linewidth=1, alpha=0.8)\n",
    "\n",
    "plt.legend(\n",
    "    loc=\"upper left\",\n",
    "    bbox_to_anchor=(1.01, 0.7),\n",
    "    frameon=False\n",
    ")\n",
    "\n",
    "plt.tight_layout()\n",
    "plt.show()"
   ]
  },
  {
   "cell_type": "markdown",
   "id": "aff8287f",
   "metadata": {},
   "source": [
    "## a) Demand Summary"
   ]
  },
  {
   "cell_type": "code",
   "execution_count": 437,
   "id": "2fb2f822",
   "metadata": {},
   "outputs": [
    {
     "data": {
      "application/vnd.microsoft.datawrangler.viewer.v0+json": {
       "columns": [
        {
         "name": "index",
         "rawType": "int64",
         "type": "integer"
        },
        {
         "name": "demand_type",
         "rawType": "category",
         "type": "unknown"
        },
        {
         "name": "total",
         "rawType": "int64",
         "type": "integer"
        },
        {
         "name": "mean_sales_window_days",
         "rawType": "Float64",
         "type": "float"
        },
        {
         "name": "mean_selling_days",
         "rawType": "Float64",
         "type": "float"
        },
        {
         "name": "mean_adi",
         "rawType": "Float32",
         "type": "float"
        },
        {
         "name": "mean_avg_sales",
         "rawType": "Float32",
         "type": "float"
        },
        {
         "name": "mean_std_sales",
         "rawType": "Float32",
         "type": "float"
        },
        {
         "name": "mean_cv2",
         "rawType": "Float32",
         "type": "float"
        },
        {
         "name": "total_proportion",
         "rawType": "float64",
         "type": "float"
        }
       ],
       "ref": "1f5ef734-938a-4443-bf9c-15a7eae54b3a",
       "rows": [
        [
         "0",
         "Smooth",
         "3397",
         "89.18",
         "80.51",
         "1.14",
         "5.32",
         "2.8",
         "0.33",
         "0.1171"
        ],
        [
         "1",
         "Intermittent",
         "21182",
         "77.84",
         "30.15",
         "5.22",
         "1.65",
         "0.78",
         "0.22",
         "0.7301"
        ],
        [
         "2",
         "Erratic",
         "742",
         "89.24",
         "77.64",
         "1.18",
         "5.56",
         "4.82",
         "0.72",
         "0.0256"
        ],
        [
         "3",
         "Lumpy",
         "2787",
         "80.36",
         "39.39",
         "3.24",
         "2.91",
         "2.6",
         "0.78",
         "0.0961"
        ],
        [
         "4",
         "Insufficient data",
         "903",
         "6.6",
         "3.82",
         "45.25",
         "1.63",
         "0.46",
         "0.11",
         "0.0311"
        ]
       ],
       "shape": {
        "columns": 9,
        "rows": 5
       }
      },
      "text/html": [
       "<div>\n",
       "<style scoped>\n",
       "    .dataframe tbody tr th:only-of-type {\n",
       "        vertical-align: middle;\n",
       "    }\n",
       "\n",
       "    .dataframe tbody tr th {\n",
       "        vertical-align: top;\n",
       "    }\n",
       "\n",
       "    .dataframe thead th {\n",
       "        text-align: right;\n",
       "    }\n",
       "</style>\n",
       "<table border=\"1\" class=\"dataframe\">\n",
       "  <thead>\n",
       "    <tr style=\"text-align: right;\">\n",
       "      <th></th>\n",
       "      <th>demand_type</th>\n",
       "      <th>total</th>\n",
       "      <th>mean_sales_window_days</th>\n",
       "      <th>mean_selling_days</th>\n",
       "      <th>mean_adi</th>\n",
       "      <th>mean_avg_sales</th>\n",
       "      <th>mean_std_sales</th>\n",
       "      <th>mean_cv2</th>\n",
       "      <th>total_proportion</th>\n",
       "    </tr>\n",
       "  </thead>\n",
       "  <tbody>\n",
       "    <tr>\n",
       "      <th>0</th>\n",
       "      <td>Smooth</td>\n",
       "      <td>3397</td>\n",
       "      <td>89.18</td>\n",
       "      <td>80.51</td>\n",
       "      <td>1.14</td>\n",
       "      <td>5.32</td>\n",
       "      <td>2.8</td>\n",
       "      <td>0.33</td>\n",
       "      <td>0.1171</td>\n",
       "    </tr>\n",
       "    <tr>\n",
       "      <th>1</th>\n",
       "      <td>Intermittent</td>\n",
       "      <td>21182</td>\n",
       "      <td>77.84</td>\n",
       "      <td>30.15</td>\n",
       "      <td>5.22</td>\n",
       "      <td>1.65</td>\n",
       "      <td>0.78</td>\n",
       "      <td>0.22</td>\n",
       "      <td>0.7301</td>\n",
       "    </tr>\n",
       "    <tr>\n",
       "      <th>2</th>\n",
       "      <td>Erratic</td>\n",
       "      <td>742</td>\n",
       "      <td>89.24</td>\n",
       "      <td>77.64</td>\n",
       "      <td>1.18</td>\n",
       "      <td>5.56</td>\n",
       "      <td>4.82</td>\n",
       "      <td>0.72</td>\n",
       "      <td>0.0256</td>\n",
       "    </tr>\n",
       "    <tr>\n",
       "      <th>3</th>\n",
       "      <td>Lumpy</td>\n",
       "      <td>2787</td>\n",
       "      <td>80.36</td>\n",
       "      <td>39.39</td>\n",
       "      <td>3.24</td>\n",
       "      <td>2.91</td>\n",
       "      <td>2.6</td>\n",
       "      <td>0.78</td>\n",
       "      <td>0.0961</td>\n",
       "    </tr>\n",
       "    <tr>\n",
       "      <th>4</th>\n",
       "      <td>Insufficient data</td>\n",
       "      <td>903</td>\n",
       "      <td>6.6</td>\n",
       "      <td>3.82</td>\n",
       "      <td>45.25</td>\n",
       "      <td>1.63</td>\n",
       "      <td>0.46</td>\n",
       "      <td>0.11</td>\n",
       "      <td>0.0311</td>\n",
       "    </tr>\n",
       "  </tbody>\n",
       "</table>\n",
       "</div>"
      ],
      "text/plain": [
       "         demand_type  total  mean_sales_window_days  mean_selling_days  \\\n",
       "0             Smooth   3397                   89.18              80.51   \n",
       "1       Intermittent  21182                   77.84              30.15   \n",
       "2            Erratic    742                   89.24              77.64   \n",
       "3              Lumpy   2787                   80.36              39.39   \n",
       "4  Insufficient data    903                     6.6               3.82   \n",
       "\n",
       "   mean_adi  mean_avg_sales  mean_std_sales  mean_cv2  total_proportion  \n",
       "0      1.14            5.32             2.8      0.33            0.1171  \n",
       "1      5.22            1.65            0.78      0.22            0.7301  \n",
       "2      1.18            5.56            4.82      0.72            0.0256  \n",
       "3      3.24            2.91             2.6      0.78            0.0961  \n",
       "4     45.25            1.63            0.46      0.11            0.0311  "
      ]
     },
     "execution_count": 437,
     "metadata": {},
     "output_type": "execute_result"
    }
   ],
   "source": [
    "demand_summary_gb = demand_summary.groupby('demand_type', observed = True, as_index=False).agg(\n",
    "    total = ('id', 'count'),\n",
    "    mean_sales_window_days = ('sales_window_days', 'mean'),\n",
    "    mean_selling_days = ('selling_days', 'mean'),\n",
    "    mean_adi = ('ADI', 'mean'),\n",
    "    mean_avg_sales = ('avg_sales', 'mean'),\n",
    "    mean_std_sales = ('std_sales', 'mean'),\n",
    "    mean_cv2 = ('CV2', 'mean')\n",
    ").round(2)\n",
    "\n",
    "demand_summary_gb['total_proportion'] = (demand_summary_gb['total'] / demand_summary_gb['total'].sum()).round(4)\n",
    "\n",
    "demand_summary_gb['demand_type'] = pd.Categorical(\n",
    "        demand_summary_gb['demand_type'],\n",
    "        categories=['Smooth', 'Intermittent', 'Erratic', 'Lumpy', 'Insufficient data'],\n",
    "        ordered=True\n",
    "    )\n",
    "\n",
    "demand_summary_gb"
   ]
  },
  {
   "cell_type": "code",
   "execution_count": 438,
   "id": "6075c393",
   "metadata": {},
   "outputs": [
    {
     "data": {
      "application/vnd.microsoft.datawrangler.viewer.v0+json": {
       "columns": [
        {
         "name": "index",
         "rawType": "int64",
         "type": "integer"
        },
        {
         "name": "demand_type",
         "rawType": "category",
         "type": "unknown"
        },
        {
         "name": "total_proportion",
         "rawType": "float64",
         "type": "float"
        },
        {
         "name": "mean_sales_window_days",
         "rawType": "float64",
         "type": "float"
        },
        {
         "name": "mean_selling_days",
         "rawType": "float64",
         "type": "float"
        },
        {
         "name": "mean_adi",
         "rawType": "float32",
         "type": "float"
        },
        {
         "name": "mean_avg_sales",
         "rawType": "float32",
         "type": "float"
        },
        {
         "name": "mean_cv2",
         "rawType": "float32",
         "type": "float"
        }
       ],
       "ref": "1fc52447-1469-4259-b8cf-aa2e694cbd0d",
       "rows": [
        [
         "0",
         "Smooth",
         "0.12",
         "89.18",
         "80.51",
         "1.14",
         "5.32",
         "0.33"
        ],
        [
         "1",
         "Intermittent",
         "0.73",
         "77.84",
         "30.15",
         "5.22",
         "1.65",
         "0.22"
        ],
        [
         "2",
         "Erratic",
         "0.03",
         "89.24",
         "77.64",
         "1.18",
         "5.56",
         "0.72"
        ],
        [
         "3",
         "Lumpy",
         "0.1",
         "80.36",
         "39.39",
         "3.24",
         "2.91",
         "0.78"
        ],
        [
         "4",
         "Insufficient data",
         "0.03",
         "6.6",
         "3.82",
         "45.25",
         "1.63",
         "0.11"
        ]
       ],
       "shape": {
        "columns": 7,
        "rows": 5
       }
      },
      "text/html": [
       "<div>\n",
       "<style scoped>\n",
       "    .dataframe tbody tr th:only-of-type {\n",
       "        vertical-align: middle;\n",
       "    }\n",
       "\n",
       "    .dataframe tbody tr th {\n",
       "        vertical-align: top;\n",
       "    }\n",
       "\n",
       "    .dataframe thead th {\n",
       "        text-align: right;\n",
       "    }\n",
       "</style>\n",
       "<table border=\"1\" class=\"dataframe\">\n",
       "  <thead>\n",
       "    <tr style=\"text-align: right;\">\n",
       "      <th></th>\n",
       "      <th>demand_type</th>\n",
       "      <th>total_proportion</th>\n",
       "      <th>mean_sales_window_days</th>\n",
       "      <th>mean_selling_days</th>\n",
       "      <th>mean_adi</th>\n",
       "      <th>mean_avg_sales</th>\n",
       "      <th>mean_cv2</th>\n",
       "    </tr>\n",
       "  </thead>\n",
       "  <tbody>\n",
       "    <tr>\n",
       "      <th>0</th>\n",
       "      <td>Smooth</td>\n",
       "      <td>0.12</td>\n",
       "      <td>89.18</td>\n",
       "      <td>80.51</td>\n",
       "      <td>1.14</td>\n",
       "      <td>5.32</td>\n",
       "      <td>0.33</td>\n",
       "    </tr>\n",
       "    <tr>\n",
       "      <th>1</th>\n",
       "      <td>Intermittent</td>\n",
       "      <td>0.73</td>\n",
       "      <td>77.84</td>\n",
       "      <td>30.15</td>\n",
       "      <td>5.22</td>\n",
       "      <td>1.65</td>\n",
       "      <td>0.22</td>\n",
       "    </tr>\n",
       "    <tr>\n",
       "      <th>2</th>\n",
       "      <td>Erratic</td>\n",
       "      <td>0.03</td>\n",
       "      <td>89.24</td>\n",
       "      <td>77.64</td>\n",
       "      <td>1.18</td>\n",
       "      <td>5.56</td>\n",
       "      <td>0.72</td>\n",
       "    </tr>\n",
       "    <tr>\n",
       "      <th>3</th>\n",
       "      <td>Lumpy</td>\n",
       "      <td>0.10</td>\n",
       "      <td>80.36</td>\n",
       "      <td>39.39</td>\n",
       "      <td>3.24</td>\n",
       "      <td>2.91</td>\n",
       "      <td>0.78</td>\n",
       "    </tr>\n",
       "    <tr>\n",
       "      <th>4</th>\n",
       "      <td>Insufficient data</td>\n",
       "      <td>0.03</td>\n",
       "      <td>6.60</td>\n",
       "      <td>3.82</td>\n",
       "      <td>45.25</td>\n",
       "      <td>1.63</td>\n",
       "      <td>0.11</td>\n",
       "    </tr>\n",
       "  </tbody>\n",
       "</table>\n",
       "</div>"
      ],
      "text/plain": [
       "         demand_type  total_proportion  mean_sales_window_days  \\\n",
       "0             Smooth              0.12                   89.18   \n",
       "1       Intermittent              0.73                   77.84   \n",
       "2            Erratic              0.03                   89.24   \n",
       "3              Lumpy              0.10                   80.36   \n",
       "4  Insufficient data              0.03                    6.60   \n",
       "\n",
       "   mean_selling_days  mean_adi  mean_avg_sales  mean_cv2  \n",
       "0              80.51      1.14            5.32      0.33  \n",
       "1              30.15      5.22            1.65      0.22  \n",
       "2              77.64      1.18            5.56      0.72  \n",
       "3              39.39      3.24            2.91      0.78  \n",
       "4               3.82     45.25            1.63      0.11  "
      ]
     },
     "execution_count": 438,
     "metadata": {},
     "output_type": "execute_result"
    }
   ],
   "source": [
    "query=\"\"\"\n",
    "SELECT\n",
    "demand_type,\n",
    "total_proportion,\n",
    "mean_sales_window_days,\n",
    "mean_selling_days,\n",
    "mean_adi,\n",
    "mean_avg_sales,\n",
    "mean_cv2\n",
    "FROM demand_summary_gb\n",
    "\"\"\"\n",
    "\n",
    "con.query(query).to_df().round(2)"
   ]
  },
  {
   "cell_type": "code",
   "execution_count": 439,
   "id": "38005c2e",
   "metadata": {},
   "outputs": [
    {
     "data": {
      "application/vnd.microsoft.datawrangler.viewer.v0+json": {
       "columns": [
        {
         "name": "index",
         "rawType": "int64",
         "type": "integer"
        },
        {
         "name": "id",
         "rawType": "category",
         "type": "unknown"
        },
        {
         "name": "item_id",
         "rawType": "object",
         "type": "string"
        },
        {
         "name": "store_id",
         "rawType": "object",
         "type": "string"
        },
        {
         "name": "first_sale_date",
         "rawType": "datetime64[ns]",
         "type": "datetime"
        },
        {
         "name": "last_sale_date",
         "rawType": "datetime64[ns]",
         "type": "datetime"
        },
        {
         "name": "sales_window_days",
         "rawType": "int16",
         "type": "integer"
        },
        {
         "name": "selling_days",
         "rawType": "int16",
         "type": "integer"
        },
        {
         "name": "avg_sales",
         "rawType": "float32",
         "type": "float"
        },
        {
         "name": "std_sales",
         "rawType": "float32",
         "type": "float"
        },
        {
         "name": "ADI",
         "rawType": "float32",
         "type": "float"
        },
        {
         "name": "CV2",
         "rawType": "float32",
         "type": "float"
        },
        {
         "name": "demand_type",
         "rawType": "category",
         "type": "unknown"
        }
       ],
       "ref": "be47cd7a-a9df-429c-8776-2667dc5947d8",
       "rows": [
        [
         "0",
         "HOBBIES_1_366_CA_1_validation",
         "HOBBIES_1_366",
         "CA_1",
         "2015-04-06 00:00:00",
         "2015-06-30 00:00:00",
         "85",
         "23",
         "1.217",
         "0.412",
         "3.957",
         "0.115",
         "Intermittent"
        ]
       ],
       "shape": {
        "columns": 12,
        "rows": 1
       }
      },
      "text/html": [
       "<div>\n",
       "<style scoped>\n",
       "    .dataframe tbody tr th:only-of-type {\n",
       "        vertical-align: middle;\n",
       "    }\n",
       "\n",
       "    .dataframe tbody tr th {\n",
       "        vertical-align: top;\n",
       "    }\n",
       "\n",
       "    .dataframe thead th {\n",
       "        text-align: right;\n",
       "    }\n",
       "</style>\n",
       "<table border=\"1\" class=\"dataframe\">\n",
       "  <thead>\n",
       "    <tr style=\"text-align: right;\">\n",
       "      <th></th>\n",
       "      <th>id</th>\n",
       "      <th>item_id</th>\n",
       "      <th>store_id</th>\n",
       "      <th>first_sale_date</th>\n",
       "      <th>last_sale_date</th>\n",
       "      <th>sales_window_days</th>\n",
       "      <th>selling_days</th>\n",
       "      <th>avg_sales</th>\n",
       "      <th>std_sales</th>\n",
       "      <th>ADI</th>\n",
       "      <th>CV2</th>\n",
       "      <th>demand_type</th>\n",
       "    </tr>\n",
       "  </thead>\n",
       "  <tbody>\n",
       "    <tr>\n",
       "      <th>0</th>\n",
       "      <td>HOBBIES_1_366_CA_1_validation</td>\n",
       "      <td>HOBBIES_1_366</td>\n",
       "      <td>CA_1</td>\n",
       "      <td>2015-04-06</td>\n",
       "      <td>2015-06-30</td>\n",
       "      <td>85</td>\n",
       "      <td>23</td>\n",
       "      <td>1.217</td>\n",
       "      <td>0.412</td>\n",
       "      <td>3.957</td>\n",
       "      <td>0.115</td>\n",
       "      <td>Intermittent</td>\n",
       "    </tr>\n",
       "  </tbody>\n",
       "</table>\n",
       "</div>"
      ],
      "text/plain": [
       "                              id        item_id store_id first_sale_date  \\\n",
       "0  HOBBIES_1_366_CA_1_validation  HOBBIES_1_366     CA_1      2015-04-06   \n",
       "\n",
       "  last_sale_date  sales_window_days  selling_days  avg_sales  std_sales  \\\n",
       "0     2015-06-30                 85            23      1.217      0.412   \n",
       "\n",
       "     ADI    CV2   demand_type  \n",
       "0  3.957  0.115  Intermittent  "
      ]
     },
     "execution_count": 439,
     "metadata": {},
     "output_type": "execute_result"
    }
   ],
   "source": [
    "query = \"\"\"\n",
    "SELECT * \n",
    "FROM demand_summary\n",
    "WHERE id = 'HOBBIES_1_366_CA_1_validation'\n",
    "\"\"\"\n",
    "\n",
    "demand_example_item = con.query(query).to_df()\n",
    "\n",
    "demand_example_item"
   ]
  },
  {
   "cell_type": "code",
   "execution_count": 440,
   "id": "eaa29e8f",
   "metadata": {},
   "outputs": [],
   "source": [
    "palette = {\n",
    "    \"Smooth\": \"#4A90E2\",           # azul fuerte\n",
    "    \"Erratic\": \"#4A90E2\",          # azul fuerte\n",
    "    \"Lumpy\": \"#4A90E2\",            # azul fuerte\n",
    "    \"Intermittent\": \"#F28E2B\",     # naranjo fuerte\n",
    "    \"Insufficient data\": \"#7F7F7F\" # gris medio\n",
    "}"
   ]
  },
  {
   "cell_type": "code",
   "execution_count": 441,
   "id": "36344f70",
   "metadata": {},
   "outputs": [
    {
     "data": {
      "image/png": "[encoded data removed]",
      "text/plain": [
       "<Figure size 1000x500 with 1 Axes>"
      ]
     },
     "metadata": {},
     "output_type": "display_data"
    }
   ],
   "source": [
    "import matplotlib.pyplot as plt\n",
    "import matplotlib.ticker as mticker\n",
    "import seaborn as sns\n",
    "\n",
    "sns.set_theme(style=\"whitegrid\")\n",
    "\n",
    "plt.figure(figsize=(10,5))\n",
    "\n",
    "ax = sns.barplot(   # <- aquí guardamos el eje\n",
    "    data=demand_summary_gb,\n",
    "    x='demand_type',\n",
    "    y='total_proportion',\n",
    "    palette=palette,\n",
    "    hue='demand_type',\n",
    "    legend=False\n",
    ")\n",
    "\n",
    "ax.yaxis.set_major_formatter(mticker.PercentFormatter(xmax=1, decimals=0))\n",
    "plt.ylim(0, 1)\n",
    "\n",
    "plt.title(\"Distribution of demand patterns across item–store combinations (Q2 2015)\", fontsize=14, weight=\"bold\", loc='center', pad=20)\n",
    "plt.xlabel(\"\")\n",
    "plt.ylabel(\"Proportion of total\")\n",
    "\n",
    "for p in ax.patches:\n",
    "    height = p.get_height()\n",
    "    ax.annotate(f'{height*100:.0f}%',   # sin decimales\n",
    "                (p.get_x() + p.get_width() / 2., height),\n",
    "                ha='center', va='bottom',\n",
    "                fontsize=10, weight='bold')\n",
    "\n",
    "plt.grid(axis='y', alpha=0.7, linestyle='--')\n",
    "\n",
    "plt.show()"
   ]
  },
  {
   "cell_type": "code",
   "execution_count": 442,
   "id": "9089b4e9",
   "metadata": {},
   "outputs": [
    {
     "data": {
      "image/png": "[encoded data removed]",
      "text/plain": [
       "<Figure size 1000x500 with 1 Axes>"
      ]
     },
     "metadata": {},
     "output_type": "display_data"
    }
   ],
   "source": [
    "sns.set_theme(style=\"whitegrid\")\n",
    "\n",
    "plt.figure(figsize=(10,5))\n",
    "\n",
    "ax = sns.barplot(  \n",
    "    data=demand_summary_gb,\n",
    "    x='demand_type',\n",
    "    y='mean_sales_window_days',\n",
    "    palette=palette,\n",
    "    hue='demand_type',\n",
    "    legend=False,\n",
    "    dodge=False\n",
    ")\n",
    "\n",
    "plt.title(\"Average sales window (days) by demand type\", fontsize=14, weight=\"bold\", loc='left', pad=20)\n",
    "plt.xlabel(\"\")\n",
    "plt.ylabel(\"Days\")\n",
    "\n",
    "plt.ylim(0, 100)\n",
    "plt.gca().yaxis.set_major_locator(mticker.MultipleLocator(10))\n",
    "\n",
    "for p in ax.patches:\n",
    "    height = p.get_height()\n",
    "    ax.annotate(f'{height:.0f} days', \n",
    "                (p.get_x() + p.get_width() / 2., height),\n",
    "                ha='center', va='bottom',\n",
    "                fontsize=10, weight='bold')\n",
    "\n",
    "plt.grid(axis='y', alpha=0.7, linestyle='--')\n",
    "\n",
    "plt.show()"
   ]
  },
  {
   "cell_type": "code",
   "execution_count": 443,
   "id": "2b9540a7",
   "metadata": {},
   "outputs": [
    {
     "data": {
      "image/png": "[encoded data removed]",
      "text/plain": [
       "<Figure size 1000x500 with 1 Axes>"
      ]
     },
     "metadata": {},
     "output_type": "display_data"
    }
   ],
   "source": [
    "sns.set_theme(style=\"whitegrid\")\n",
    "\n",
    "plt.figure(figsize=(10,5))\n",
    "\n",
    "plot_data = demand_summary_gb[demand_summary_gb[\"demand_type\"] != \"Insufficient data\"]\n",
    "ax = sns.barplot(\n",
    "    data=plot_data,\n",
    "    x='demand_type',\n",
    "    y='mean_adi',\n",
    "    palette=palette,\n",
    "    hue='demand_type',\n",
    "    legend=False,\n",
    "    dodge=False\n",
    ")\n",
    "\n",
    "plt.title(\"Average ADI by demand pattern\", fontsize=14, weight=\"bold\", loc='left', pad=20)\n",
    "plt.xlabel(\"\")\n",
    "plt.ylabel(\"Days\")\n",
    "\n",
    "plt.ylim(0, 6)\n",
    "plt.gca().yaxis.set_major_locator(mticker.MultipleLocator(1))\n",
    "\n",
    "for p in ax.patches:\n",
    "    height = p.get_height()\n",
    "    ax.annotate(f'{height:.1f} days',\n",
    "                (p.get_x() + p.get_width() / 2., height),\n",
    "                ha='center', va='bottom',\n",
    "                fontsize=10, weight='bold')\n",
    "\n",
    "plt.grid(axis='y', alpha=0.7, linestyle='--')\n",
    "\n",
    "\n",
    "plt.figtext(0.1, -0.05,\n",
    "            \"ADI (Average Demand Interval): average number of days between sales occurrences.\",\n",
    "            ha=\"left\", fontsize=9, style=\"italic\")\n",
    "\n",
    "plt.show()"
   ]
  },
  {
   "cell_type": "code",
   "execution_count": 444,
   "id": "b62b5d37",
   "metadata": {},
   "outputs": [
    {
     "data": {
      "image/png": "[encoded data removed]",
      "text/plain": [
       "<Figure size 1000x500 with 1 Axes>"
      ]
     },
     "metadata": {},
     "output_type": "display_data"
    }
   ],
   "source": [
    "sns.set_theme(style=\"whitegrid\")\n",
    "\n",
    "plt.figure(figsize=(10,5))\n",
    "\n",
    "plot_data = demand_summary_gb[demand_summary_gb[\"demand_type\"] != \"Insufficient data\"]\n",
    "ax = sns.barplot(   # <- aquí guardamos el eje\n",
    "    data=plot_data,\n",
    "    x='demand_type',\n",
    "    y='mean_avg_sales',\n",
    "    palette=palette,\n",
    "    hue='demand_type',\n",
    "    legend=False,\n",
    "    dodge=False\n",
    ")\n",
    "\n",
    "\n",
    "plt.title(\"Average units sold when sales occur, by demand pattern\", fontsize=14, weight=\"bold\", loc='left', pad=20)\n",
    "plt.xlabel(\"\")\n",
    "plt.ylabel(\"Units\")\n",
    "\n",
    "plt.ylim(0, 6)\n",
    "plt.gca().yaxis.set_major_locator(mticker.MultipleLocator(1))\n",
    "\n",
    "for p in ax.patches:\n",
    "    height = p.get_height()\n",
    "    ax.annotate(f'{height:.1f} units', \n",
    "                (p.get_x() + p.get_width() / 2., height),\n",
    "                ha='center', va='bottom',\n",
    "                fontsize=10, weight='bold')\n",
    "\n",
    "plt.grid(axis='y', alpha=0.7, linestyle='--')\n",
    "\n",
    "plt.show()"
   ]
  },
  {
   "cell_type": "markdown",
   "id": "96e5dacd",
   "metadata": {},
   "source": [
    "## b) Examples"
   ]
  },
  {
   "cell_type": "code",
   "execution_count": 445,
   "id": "5155da73",
   "metadata": {},
   "outputs": [
    {
     "data": {
      "application/vnd.microsoft.datawrangler.viewer.v0+json": {
       "columns": [
        {
         "name": "index",
         "rawType": "int64",
         "type": "integer"
        },
        {
         "name": "demand_type",
         "rawType": "category",
         "type": "unknown"
        },
        {
         "name": "item_id",
         "rawType": "object",
         "type": "string"
        },
        {
         "name": "store_id",
         "rawType": "object",
         "type": "string"
        },
        {
         "name": "first_sale_date",
         "rawType": "datetime64[ns]",
         "type": "datetime"
        },
        {
         "name": "last_sale_date",
         "rawType": "datetime64[ns]",
         "type": "datetime"
        },
        {
         "name": "sales_window_days",
         "rawType": "int16",
         "type": "integer"
        },
        {
         "name": "selling_days",
         "rawType": "int16",
         "type": "integer"
        },
        {
         "name": "ADI",
         "rawType": "float32",
         "type": "float"
        },
        {
         "name": "avg_sales",
         "rawType": "float32",
         "type": "float"
        },
        {
         "name": "std_sales",
         "rawType": "float32",
         "type": "float"
        },
        {
         "name": "CV2",
         "rawType": "float32",
         "type": "float"
        }
       ],
       "ref": "d67885e8-9ecb-40c9-80a9-4ff478108383",
       "rows": [
        [
         "0",
         "Smooth",
         "HOBBIES_1_275",
         "TX_2",
         "2015-04-01 00:00:00",
         "2015-06-30 00:00:00",
         "90",
         "87",
         "1.05",
         "2.98",
         "1.4",
         "0.22"
        ],
        [
         "1",
         "Intermittent",
         "HOBBIES_1_366",
         "CA_1",
         "2015-04-06 00:00:00",
         "2015-06-30 00:00:00",
         "85",
         "23",
         "3.96",
         "1.22",
         "0.41",
         "0.12"
        ],
        [
         "2",
         "Erratic",
         "HOUSEHOLD_1_177",
         "WI_3",
         "2015-04-01 00:00:00",
         "2015-06-30 00:00:00",
         "90",
         "85",
         "1.07",
         "2.8",
         "2.1",
         "0.56"
        ],
        [
         "3",
         "Lumpy",
         "FOODS_1_143",
         "CA_1",
         "2015-04-03 00:00:00",
         "2015-06-26 00:00:00",
         "84",
         "35",
         "2.6",
         "2.09",
         "1.75",
         "0.7"
        ],
        [
         "4",
         "Insufficient data",
         "FOODS_1_138",
         "CA_4",
         "2015-04-01 00:00:00",
         "2015-04-07 00:00:00",
         "6",
         "3",
         "30.33",
         "3.67",
         "3.09",
         "0.71"
        ]
       ],
       "shape": {
        "columns": 11,
        "rows": 5
       }
      },
      "text/html": [
       "<div>\n",
       "<style scoped>\n",
       "    .dataframe tbody tr th:only-of-type {\n",
       "        vertical-align: middle;\n",
       "    }\n",
       "\n",
       "    .dataframe tbody tr th {\n",
       "        vertical-align: top;\n",
       "    }\n",
       "\n",
       "    .dataframe thead th {\n",
       "        text-align: right;\n",
       "    }\n",
       "</style>\n",
       "<table border=\"1\" class=\"dataframe\">\n",
       "  <thead>\n",
       "    <tr style=\"text-align: right;\">\n",
       "      <th></th>\n",
       "      <th>demand_type</th>\n",
       "      <th>item_id</th>\n",
       "      <th>store_id</th>\n",
       "      <th>first_sale_date</th>\n",
       "      <th>last_sale_date</th>\n",
       "      <th>sales_window_days</th>\n",
       "      <th>selling_days</th>\n",
       "      <th>ADI</th>\n",
       "      <th>avg_sales</th>\n",
       "      <th>std_sales</th>\n",
       "      <th>CV2</th>\n",
       "    </tr>\n",
       "  </thead>\n",
       "  <tbody>\n",
       "    <tr>\n",
       "      <th>0</th>\n",
       "      <td>Smooth</td>\n",
       "      <td>HOBBIES_1_275</td>\n",
       "      <td>TX_2</td>\n",
       "      <td>2015-04-01</td>\n",
       "      <td>2015-06-30</td>\n",
       "      <td>90</td>\n",
       "      <td>87</td>\n",
       "      <td>1.05</td>\n",
       "      <td>2.98</td>\n",
       "      <td>1.40</td>\n",
       "      <td>0.22</td>\n",
       "    </tr>\n",
       "    <tr>\n",
       "      <th>1</th>\n",
       "      <td>Intermittent</td>\n",
       "      <td>HOBBIES_1_366</td>\n",
       "      <td>CA_1</td>\n",
       "      <td>2015-04-06</td>\n",
       "      <td>2015-06-30</td>\n",
       "      <td>85</td>\n",
       "      <td>23</td>\n",
       "      <td>3.96</td>\n",
       "      <td>1.22</td>\n",
       "      <td>0.41</td>\n",
       "      <td>0.12</td>\n",
       "    </tr>\n",
       "    <tr>\n",
       "      <th>2</th>\n",
       "      <td>Erratic</td>\n",
       "      <td>HOUSEHOLD_1_177</td>\n",
       "      <td>WI_3</td>\n",
       "      <td>2015-04-01</td>\n",
       "      <td>2015-06-30</td>\n",
       "      <td>90</td>\n",
       "      <td>85</td>\n",
       "      <td>1.07</td>\n",
       "      <td>2.80</td>\n",
       "      <td>2.10</td>\n",
       "      <td>0.56</td>\n",
       "    </tr>\n",
       "    <tr>\n",
       "      <th>3</th>\n",
       "      <td>Lumpy</td>\n",
       "      <td>FOODS_1_143</td>\n",
       "      <td>CA_1</td>\n",
       "      <td>2015-04-03</td>\n",
       "      <td>2015-06-26</td>\n",
       "      <td>84</td>\n",
       "      <td>35</td>\n",
       "      <td>2.60</td>\n",
       "      <td>2.09</td>\n",
       "      <td>1.75</td>\n",
       "      <td>0.70</td>\n",
       "    </tr>\n",
       "    <tr>\n",
       "      <th>4</th>\n",
       "      <td>Insufficient data</td>\n",
       "      <td>FOODS_1_138</td>\n",
       "      <td>CA_4</td>\n",
       "      <td>2015-04-01</td>\n",
       "      <td>2015-04-07</td>\n",
       "      <td>6</td>\n",
       "      <td>3</td>\n",
       "      <td>30.33</td>\n",
       "      <td>3.67</td>\n",
       "      <td>3.09</td>\n",
       "      <td>0.71</td>\n",
       "    </tr>\n",
       "  </tbody>\n",
       "</table>\n",
       "</div>"
      ],
      "text/plain": [
       "         demand_type          item_id store_id first_sale_date last_sale_date  \\\n",
       "0             Smooth    HOBBIES_1_275     TX_2      2015-04-01     2015-06-30   \n",
       "1       Intermittent    HOBBIES_1_366     CA_1      2015-04-06     2015-06-30   \n",
       "2            Erratic  HOUSEHOLD_1_177     WI_3      2015-04-01     2015-06-30   \n",
       "3              Lumpy      FOODS_1_143     CA_1      2015-04-03     2015-06-26   \n",
       "4  Insufficient data      FOODS_1_138     CA_4      2015-04-01     2015-04-07   \n",
       "\n",
       "   sales_window_days  selling_days    ADI  avg_sales  std_sales   CV2  \n",
       "0                 90            87   1.05       2.98       1.40  0.22  \n",
       "1                 85            23   3.96       1.22       0.41  0.12  \n",
       "2                 90            85   1.07       2.80       2.10  0.56  \n",
       "3                 84            35   2.60       2.09       1.75  0.70  \n",
       "4                  6             3  30.33       3.67       3.09  0.71  "
      ]
     },
     "execution_count": 445,
     "metadata": {},
     "output_type": "execute_result"
    }
   ],
   "source": [
    "# Define representative examples for each demand type\n",
    "intermittent_item = 'HOBBIES_1_366_CA_1_validation'\n",
    "smooth_item       = 'HOBBIES_1_275_TX_2_validation'\n",
    "erratic_item      = 'HOUSEHOLD_1_177_WI_3_validation'\n",
    "lumpy_item        = 'FOODS_1_143_CA_1_validation'\n",
    "insdata_item      = 'FOODS_1_138_CA_4_validation'\n",
    "\n",
    "items = [intermittent_item, smooth_item, erratic_item, lumpy_item, insdata_item]\n",
    "\n",
    "# DuckDB query: extract only the selected items and their metrics\n",
    "query = \"\"\"\n",
    "SELECT\n",
    "    demand_type, item_id, store_id,\n",
    "    first_sale_date, last_sale_date, sales_window_days, selling_days, ADI,\n",
    "    avg_sales, std_sales, CV2\n",
    "FROM demand_summary\n",
    "WHERE id IN $items\n",
    "ORDER BY demand_type\n",
    "\"\"\"\n",
    "\n",
    "# Execute query and return result as a Pandas DataFrame\n",
    "sample_df = con.execute(query, {\"items\": items}).df().round(2)\n",
    "\n",
    "sample_df"
   ]
  },
  {
   "cell_type": "code",
   "execution_count": 446,
   "id": "9e8c7a49",
   "metadata": {},
   "outputs": [],
   "source": [
    "query = f\"\"\"\n",
    "SELECT\n",
    "    *\n",
    "FROM read_parquet('{SALES_DATA_PATH}')\n",
    "LEFT JOIN demand_summary USING(id)\n",
    "WHERE id IN {tuple(items)}\n",
    "AND year = 2015 and quarter = 2\n",
    "ORDER BY id, date\n",
    "\"\"\"\n",
    "\n",
    "sample_sales = ddb.query(query).to_df()\n",
    "\n",
    "sample_sales = sample_sales[['demand_type','date', 'sales']]"
   ]
  },
  {
   "cell_type": "code",
   "execution_count": 447,
   "id": "7ca9ee88",
   "metadata": {},
   "outputs": [
    {
     "data": {
      "application/vnd.plotly.v1+json": {
       "config": {
        "plotlyServerURL": "https://plot.ly"
       },
       "data": [
        {
         "hovertemplate": "Demand type sample=Smooth<br>Date=%{x}<br>Sales=%{y}<extra></extra>",
         "legendgroup": "Smooth",
         "line": {
          "color": "rgb(228,26,28)",
          "dash": "solid",
          "width": 2
         },
         "marker": {
          "symbol": "circle"
         },
         "mode": "lines",
         "name": "Smooth",
         "orientation": "v",
         "showlegend": true,
         "type": "scatter",
         "x": [
          "2015-04-01T00:00:00.000000",
          "2015-04-02T00:00:00.000000",
          "2015-04-03T00:00:00.000000",
          "2015-04-04T00:00:00.000000",
          "2015-04-05T00:00:00.000000",
          "2015-04-06T00:00:00.000000",
          "2015-04-07T00:00:00.000000",
          "2015-04-08T00:00:00.000000",
          "2015-04-09T00:00:00.000000",
          "2015-04-10T00:00:00.000000",
          "2015-04-11T00:00:00.000000",
          "2015-04-12T00:00:00.000000",
          "2015-04-13T00:00:00.000000",
          "2015-04-14T00:00:00.000000",
          "2015-04-15T00:00:00.000000",
          "2015-04-16T00:00:00.000000",
          "2015-04-17T00:00:00.000000",
          "2015-04-18T00:00:00.000000",
          "2015-04-19T00:00:00.000000",
          "2015-04-20T00:00:00.000000",
          "2015-04-21T00:00:00.000000",
          "2015-04-22T00:00:00.000000",
          "2015-04-23T00:00:00.000000",
          "2015-04-24T00:00:00.000000",
          "2015-04-25T00:00:00.000000",
          "2015-04-26T00:00:00.000000",
          "2015-04-27T00:00:00.000000",
          "2015-04-28T00:00:00.000000",
          "2015-04-29T00:00:00.000000",
          "2015-04-30T00:00:00.000000",
          "2015-05-01T00:00:00.000000",
          "2015-05-02T00:00:00.000000",
          "2015-05-03T00:00:00.000000",
          "2015-05-04T00:00:00.000000",
          "2015-05-05T00:00:00.000000",
          "2015-05-06T00:00:00.000000",
          "2015-05-07T00:00:00.000000",
          "2015-05-08T00:00:00.000000",
          "2015-05-09T00:00:00.000000",
          "2015-05-10T00:00:00.000000",
          "2015-05-11T00:00:00.000000",
          "2015-05-12T00:00:00.000000",
          "2015-05-13T00:00:00.000000",
          "2015-05-14T00:00:00.000000",
          "2015-05-15T00:00:00.000000",
          "2015-05-16T00:00:00.000000",
          "2015-05-17T00:00:00.000000",
          "2015-05-18T00:00:00.000000",
          "2015-05-19T00:00:00.000000",
          "2015-05-20T00:00:00.000000",
          "2015-05-21T00:00:00.000000",
          "2015-05-22T00:00:00.000000",
          "2015-05-23T00:00:00.000000",
          "2015-05-24T00:00:00.000000",
          "2015-05-25T00:00:00.000000",
          "2015-05-26T00:00:00.000000",
          "2015-05-27T00:00:00.000000",
          "2015-05-28T00:00:00.000000",
          "2015-05-29T00:00:00.000000",
          "2015-05-30T00:00:00.000000",
          "2015-05-31T00:00:00.000000",
          "2015-06-01T00:00:00.000000",
          "2015-06-02T00:00:00.000000",
          "2015-06-03T00:00:00.000000",
          "2015-06-04T00:00:00.000000",
          "2015-06-05T00:00:00.000000",
          "2015-06-06T00:00:00.000000",
          "2015-06-07T00:00:00.000000",
          "2015-06-08T00:00:00.000000",
          "2015-06-09T00:00:00.000000",
          "2015-06-10T00:00:00.000000",
          "2015-06-11T00:00:00.000000",
          "2015-06-12T00:00:00.000000",
          "2015-06-13T00:00:00.000000",
          "2015-06-14T00:00:00.000000",
          "2015-06-15T00:00:00.000000",
          "2015-06-16T00:00:00.000000",
          "2015-06-17T00:00:00.000000",
          "2015-06-18T00:00:00.000000",
          "2015-06-19T00:00:00.000000",
          "2015-06-20T00:00:00.000000",
          "2015-06-21T00:00:00.000000",
          "2015-06-22T00:00:00.000000",
          "2015-06-23T00:00:00.000000",
          "2015-06-24T00:00:00.000000",
          "2015-06-25T00:00:00.000000",
          "2015-06-26T00:00:00.000000",
          "2015-06-27T00:00:00.000000",
          "2015-06-28T00:00:00.000000",
          "2015-06-29T00:00:00.000000",
          "2015-06-30T00:00:00.000000"
         ],
         "xaxis": "x",
         "y": {
          "bdata": "AgADAAEABQACAAMAAgABAAMAAQADAAMABAACAAMAAgABAAIAAgACAAMAAwADAAIABgAEAAMAAQADAAUABAADAAIABAACAAEABAADAAQABwAEAAIAAAAAAAMAAwAGAAIAAQADAAAAAAACAAUABwAEAAIABAADAAQABAAFAAIAAgAEAAUAAQAFAAUAAgACAAIAAwACAAMABQACAAIABAADAAEABAACAAUAAQADAAIAAgABAAMAAwA=",
          "dtype": "i2"
         },
         "yaxis": "y"
        },
        {
         "hovertemplate": "Demand type sample=Intermittent<br>Date=%{x}<br>Sales=%{y}<extra></extra>",
         "legendgroup": "Intermittent",
         "line": {
          "color": "rgb(55,126,184)",
          "dash": "solid",
          "width": 2
         },
         "marker": {
          "symbol": "circle"
         },
         "mode": "lines",
         "name": "Intermittent",
         "orientation": "v",
         "showlegend": true,
         "type": "scatter",
         "x": [
          "2015-04-01T00:00:00.000000",
          "2015-04-02T00:00:00.000000",
          "2015-04-03T00:00:00.000000",
          "2015-04-04T00:00:00.000000",
          "2015-04-05T00:00:00.000000",
          "2015-04-06T00:00:00.000000",
          "2015-04-07T00:00:00.000000",
          "2015-04-08T00:00:00.000000",
          "2015-04-09T00:00:00.000000",
          "2015-04-10T00:00:00.000000",
          "2015-04-11T00:00:00.000000",
          "2015-04-12T00:00:00.000000",
          "2015-04-13T00:00:00.000000",
          "2015-04-14T00:00:00.000000",
          "2015-04-15T00:00:00.000000",
          "2015-04-16T00:00:00.000000",
          "2015-04-17T00:00:00.000000",
          "2015-04-18T00:00:00.000000",
          "2015-04-19T00:00:00.000000",
          "2015-04-20T00:00:00.000000",
          "2015-04-21T00:00:00.000000",
          "2015-04-22T00:00:00.000000",
          "2015-04-23T00:00:00.000000",
          "2015-04-24T00:00:00.000000",
          "2015-04-25T00:00:00.000000",
          "2015-04-26T00:00:00.000000",
          "2015-04-27T00:00:00.000000",
          "2015-04-28T00:00:00.000000",
          "2015-04-29T00:00:00.000000",
          "2015-04-30T00:00:00.000000",
          "2015-05-01T00:00:00.000000",
          "2015-05-02T00:00:00.000000",
          "2015-05-03T00:00:00.000000",
          "2015-05-04T00:00:00.000000",
          "2015-05-05T00:00:00.000000",
          "2015-05-06T00:00:00.000000",
          "2015-05-07T00:00:00.000000",
          "2015-05-08T00:00:00.000000",
          "2015-05-09T00:00:00.000000",
          "2015-05-10T00:00:00.000000",
          "2015-05-11T00:00:00.000000",
          "2015-05-12T00:00:00.000000",
          "2015-05-13T00:00:00.000000",
          "2015-05-14T00:00:00.000000",
          "2015-05-15T00:00:00.000000",
          "2015-05-16T00:00:00.000000",
          "2015-05-17T00:00:00.000000",
          "2015-05-18T00:00:00.000000",
          "2015-05-19T00:00:00.000000",
          "2015-05-20T00:00:00.000000",
          "2015-05-21T00:00:00.000000",
          "2015-05-22T00:00:00.000000",
          "2015-05-23T00:00:00.000000",
          "2015-05-24T00:00:00.000000",
          "2015-05-25T00:00:00.000000",
          "2015-05-26T00:00:00.000000",
          "2015-05-27T00:00:00.000000",
          "2015-05-28T00:00:00.000000",
          "2015-05-29T00:00:00.000000",
          "2015-05-30T00:00:00.000000",
          "2015-05-31T00:00:00.000000",
          "2015-06-01T00:00:00.000000",
          "2015-06-02T00:00:00.000000",
          "2015-06-03T00:00:00.000000",
          "2015-06-04T00:00:00.000000",
          "2015-06-05T00:00:00.000000",
          "2015-06-06T00:00:00.000000",
          "2015-06-07T00:00:00.000000",
          "2015-06-08T00:00:00.000000",
          "2015-06-09T00:00:00.000000",
          "2015-06-10T00:00:00.000000",
          "2015-06-11T00:00:00.000000",
          "2015-06-12T00:00:00.000000",
          "2015-06-13T00:00:00.000000",
          "2015-06-14T00:00:00.000000",
          "2015-06-15T00:00:00.000000",
          "2015-06-16T00:00:00.000000",
          "2015-06-17T00:00:00.000000",
          "2015-06-18T00:00:00.000000",
          "2015-06-19T00:00:00.000000",
          "2015-06-20T00:00:00.000000",
          "2015-06-21T00:00:00.000000",
          "2015-06-22T00:00:00.000000",
          "2015-06-23T00:00:00.000000",
          "2015-06-24T00:00:00.000000",
          "2015-06-25T00:00:00.000000",
          "2015-06-26T00:00:00.000000",
          "2015-06-27T00:00:00.000000",
          "2015-06-28T00:00:00.000000",
          "2015-06-29T00:00:00.000000",
          "2015-06-30T00:00:00.000000"
         ],
         "xaxis": "x",
         "y": {
          "bdata": "AAAAAAAAAAAAAAEAAAAAAAEAAAAAAAEAAAAAAAAAAAAAAAAAAQABAAAAAAAAAAEAAAAAAAIAAAAAAAAAAAAAAAEAAQAAAAAAAgAAAAAAAAAAAAAAAAABAAAAAAABAAAAAAAAAAAAAAAAAAEAAQAAAAAAAAACAAAAAAABAAAAAQAAAAAAAQAAAAAAAQAAAAAAAAAAAAAAAAAAAAAAAQAAAAAAAAAAAAEAAAAAAAAAAAAAAAIAAgA=",
          "dtype": "i2"
         },
         "yaxis": "y"
        },
        {
         "hovertemplate": "Demand type sample=Erratic<br>Date=%{x}<br>Sales=%{y}<extra></extra>",
         "legendgroup": "Erratic",
         "line": {
          "color": "rgb(77,175,74)",
          "dash": "solid",
          "width": 2
         },
         "marker": {
          "symbol": "circle"
         },
         "mode": "lines",
         "name": "Erratic",
         "orientation": "v",
         "showlegend": true,
         "type": "scatter",
         "x": [
          "2015-04-01T00:00:00.000000",
          "2015-04-02T00:00:00.000000",
          "2015-04-03T00:00:00.000000",
          "2015-04-04T00:00:00.000000",
          "2015-04-05T00:00:00.000000",
          "2015-04-06T00:00:00.000000",
          "2015-04-07T00:00:00.000000",
          "2015-04-08T00:00:00.000000",
          "2015-04-09T00:00:00.000000",
          "2015-04-10T00:00:00.000000",
          "2015-04-11T00:00:00.000000",
          "2015-04-12T00:00:00.000000",
          "2015-04-13T00:00:00.000000",
          "2015-04-14T00:00:00.000000",
          "2015-04-15T00:00:00.000000",
          "2015-04-16T00:00:00.000000",
          "2015-04-17T00:00:00.000000",
          "2015-04-18T00:00:00.000000",
          "2015-04-19T00:00:00.000000",
          "2015-04-20T00:00:00.000000",
          "2015-04-21T00:00:00.000000",
          "2015-04-22T00:00:00.000000",
          "2015-04-23T00:00:00.000000",
          "2015-04-24T00:00:00.000000",
          "2015-04-25T00:00:00.000000",
          "2015-04-26T00:00:00.000000",
          "2015-04-27T00:00:00.000000",
          "2015-04-28T00:00:00.000000",
          "2015-04-29T00:00:00.000000",
          "2015-04-30T00:00:00.000000",
          "2015-05-01T00:00:00.000000",
          "2015-05-02T00:00:00.000000",
          "2015-05-03T00:00:00.000000",
          "2015-05-04T00:00:00.000000",
          "2015-05-05T00:00:00.000000",
          "2015-05-06T00:00:00.000000",
          "2015-05-07T00:00:00.000000",
          "2015-05-08T00:00:00.000000",
          "2015-05-09T00:00:00.000000",
          "2015-05-10T00:00:00.000000",
          "2015-05-11T00:00:00.000000",
          "2015-05-12T00:00:00.000000",
          "2015-05-13T00:00:00.000000",
          "2015-05-14T00:00:00.000000",
          "2015-05-15T00:00:00.000000",
          "2015-05-16T00:00:00.000000",
          "2015-05-17T00:00:00.000000",
          "2015-05-18T00:00:00.000000",
          "2015-05-19T00:00:00.000000",
          "2015-05-20T00:00:00.000000",
          "2015-05-21T00:00:00.000000",
          "2015-05-22T00:00:00.000000",
          "2015-05-23T00:00:00.000000",
          "2015-05-24T00:00:00.000000",
          "2015-05-25T00:00:00.000000",
          "2015-05-26T00:00:00.000000",
          "2015-05-27T00:00:00.000000",
          "2015-05-28T00:00:00.000000",
          "2015-05-29T00:00:00.000000",
          "2015-05-30T00:00:00.000000",
          "2015-05-31T00:00:00.000000",
          "2015-06-01T00:00:00.000000",
          "2015-06-02T00:00:00.000000",
          "2015-06-03T00:00:00.000000",
          "2015-06-04T00:00:00.000000",
          "2015-06-05T00:00:00.000000",
          "2015-06-06T00:00:00.000000",
          "2015-06-07T00:00:00.000000",
          "2015-06-08T00:00:00.000000",
          "2015-06-09T00:00:00.000000",
          "2015-06-10T00:00:00.000000",
          "2015-06-11T00:00:00.000000",
          "2015-06-12T00:00:00.000000",
          "2015-06-13T00:00:00.000000",
          "2015-06-14T00:00:00.000000",
          "2015-06-15T00:00:00.000000",
          "2015-06-16T00:00:00.000000",
          "2015-06-17T00:00:00.000000",
          "2015-06-18T00:00:00.000000",
          "2015-06-19T00:00:00.000000",
          "2015-06-20T00:00:00.000000",
          "2015-06-21T00:00:00.000000",
          "2015-06-22T00:00:00.000000",
          "2015-06-23T00:00:00.000000",
          "2015-06-24T00:00:00.000000",
          "2015-06-25T00:00:00.000000",
          "2015-06-26T00:00:00.000000",
          "2015-06-27T00:00:00.000000",
          "2015-06-28T00:00:00.000000",
          "2015-06-29T00:00:00.000000",
          "2015-06-30T00:00:00.000000"
         ],
         "xaxis": "x",
         "y": {
          "bdata": "BAADAAEAAgACAAEAAQAJAAEAAAABAAIAAQACAAQAAgADAAQAAgADAAIAAQABAAIABAADAAAAAQABAAEAAQABAAQAAgACAAMAAQAGAAAABgADAAEABAABAAQABwAGAAMAAgABAAAAAQADAAEAAgADAAIAAQAAAAQAAgACAAEAAgAHAAAAAQALAAUABAACAAUAAQAHAAMAAgACAAEAAQACAAIABAAGAAQACQABAAMABQABAAEAAgA=",
          "dtype": "i2"
         },
         "yaxis": "y"
        },
        {
         "hovertemplate": "Demand type sample=Lumpy<br>Date=%{x}<br>Sales=%{y}<extra></extra>",
         "legendgroup": "Lumpy",
         "line": {
          "color": "rgb(152,78,163)",
          "dash": "solid",
          "width": 2
         },
         "marker": {
          "symbol": "circle"
         },
         "mode": "lines",
         "name": "Lumpy",
         "orientation": "v",
         "showlegend": true,
         "type": "scatter",
         "x": [
          "2015-04-01T00:00:00.000000",
          "2015-04-02T00:00:00.000000",
          "2015-04-03T00:00:00.000000",
          "2015-04-04T00:00:00.000000",
          "2015-04-05T00:00:00.000000",
          "2015-04-06T00:00:00.000000",
          "2015-04-07T00:00:00.000000",
          "2015-04-08T00:00:00.000000",
          "2015-04-09T00:00:00.000000",
          "2015-04-10T00:00:00.000000",
          "2015-04-11T00:00:00.000000",
          "2015-04-12T00:00:00.000000",
          "2015-04-13T00:00:00.000000",
          "2015-04-14T00:00:00.000000",
          "2015-04-15T00:00:00.000000",
          "2015-04-16T00:00:00.000000",
          "2015-04-17T00:00:00.000000",
          "2015-04-18T00:00:00.000000",
          "2015-04-19T00:00:00.000000",
          "2015-04-20T00:00:00.000000",
          "2015-04-21T00:00:00.000000",
          "2015-04-22T00:00:00.000000",
          "2015-04-23T00:00:00.000000",
          "2015-04-24T00:00:00.000000",
          "2015-04-25T00:00:00.000000",
          "2015-04-26T00:00:00.000000",
          "2015-04-27T00:00:00.000000",
          "2015-04-28T00:00:00.000000",
          "2015-04-29T00:00:00.000000",
          "2015-04-30T00:00:00.000000",
          "2015-05-01T00:00:00.000000",
          "2015-05-02T00:00:00.000000",
          "2015-05-03T00:00:00.000000",
          "2015-05-04T00:00:00.000000",
          "2015-05-05T00:00:00.000000",
          "2015-05-06T00:00:00.000000",
          "2015-05-07T00:00:00.000000",
          "2015-05-08T00:00:00.000000",
          "2015-05-09T00:00:00.000000",
          "2015-05-10T00:00:00.000000",
          "2015-05-11T00:00:00.000000",
          "2015-05-12T00:00:00.000000",
          "2015-05-13T00:00:00.000000",
          "2015-05-14T00:00:00.000000",
          "2015-05-15T00:00:00.000000",
          "2015-05-16T00:00:00.000000",
          "2015-05-17T00:00:00.000000",
          "2015-05-18T00:00:00.000000",
          "2015-05-19T00:00:00.000000",
          "2015-05-20T00:00:00.000000",
          "2015-05-21T00:00:00.000000",
          "2015-05-22T00:00:00.000000",
          "2015-05-23T00:00:00.000000",
          "2015-05-24T00:00:00.000000",
          "2015-05-25T00:00:00.000000",
          "2015-05-26T00:00:00.000000",
          "2015-05-27T00:00:00.000000",
          "2015-05-28T00:00:00.000000",
          "2015-05-29T00:00:00.000000",
          "2015-05-30T00:00:00.000000",
          "2015-05-31T00:00:00.000000",
          "2015-06-01T00:00:00.000000",
          "2015-06-02T00:00:00.000000",
          "2015-06-03T00:00:00.000000",
          "2015-06-04T00:00:00.000000",
          "2015-06-05T00:00:00.000000",
          "2015-06-06T00:00:00.000000",
          "2015-06-07T00:00:00.000000",
          "2015-06-08T00:00:00.000000",
          "2015-06-09T00:00:00.000000",
          "2015-06-10T00:00:00.000000",
          "2015-06-11T00:00:00.000000",
          "2015-06-12T00:00:00.000000",
          "2015-06-13T00:00:00.000000",
          "2015-06-14T00:00:00.000000",
          "2015-06-15T00:00:00.000000",
          "2015-06-16T00:00:00.000000",
          "2015-06-17T00:00:00.000000",
          "2015-06-18T00:00:00.000000",
          "2015-06-19T00:00:00.000000",
          "2015-06-20T00:00:00.000000",
          "2015-06-21T00:00:00.000000",
          "2015-06-22T00:00:00.000000",
          "2015-06-23T00:00:00.000000",
          "2015-06-24T00:00:00.000000",
          "2015-06-25T00:00:00.000000",
          "2015-06-26T00:00:00.000000",
          "2015-06-27T00:00:00.000000",
          "2015-06-28T00:00:00.000000",
          "2015-06-29T00:00:00.000000",
          "2015-06-30T00:00:00.000000"
         ],
         "xaxis": "x",
         "y": {
          "bdata": "AAAAAAEAAQABAAMABQAEAAAAAAAAAAAAAgAAAAAAAQADAAAAAgAAAAQAAAAFAAEAAAABAAAAAAAAAAAAAAAAAAEAAAABAAEAAAAAAAAAAAAAAAAAAAAAAAAAAQAAAAAABgAAAAAAAAABAAEAAAABAAAAAAABAAAAAQAAAAAAAgAAAAAAAQAAAAAAAQAIAAAAAAAAAAAAAQAAAAAAAAAEAAEAAwABAAAAAQAAAAEAAAAAAAAAAAA=",
          "dtype": "i2"
         },
         "yaxis": "y"
        },
        {
         "hovertemplate": "Demand type sample=Insufficient data<br>Date=%{x}<br>Sales=%{y}<extra></extra>",
         "legendgroup": "Insufficient data",
         "line": {
          "color": "rgb(255,127,0)",
          "dash": "solid",
          "width": 2
         },
         "marker": {
          "symbol": "circle"
         },
         "mode": "lines",
         "name": "Insufficient data",
         "orientation": "v",
         "showlegend": true,
         "type": "scatter",
         "x": [
          "2015-04-01T00:00:00.000000",
          "2015-04-02T00:00:00.000000",
          "2015-04-03T00:00:00.000000",
          "2015-04-04T00:00:00.000000",
          "2015-04-05T00:00:00.000000",
          "2015-04-06T00:00:00.000000",
          "2015-04-07T00:00:00.000000",
          "2015-04-08T00:00:00.000000",
          "2015-04-09T00:00:00.000000",
          "2015-04-10T00:00:00.000000",
          "2015-04-11T00:00:00.000000",
          "2015-04-12T00:00:00.000000",
          "2015-04-13T00:00:00.000000",
          "2015-04-14T00:00:00.000000",
          "2015-04-15T00:00:00.000000",
          "2015-04-16T00:00:00.000000",
          "2015-04-17T00:00:00.000000",
          "2015-04-18T00:00:00.000000",
          "2015-04-19T00:00:00.000000",
          "2015-04-20T00:00:00.000000",
          "2015-04-21T00:00:00.000000",
          "2015-04-22T00:00:00.000000",
          "2015-04-23T00:00:00.000000",
          "2015-04-24T00:00:00.000000",
          "2015-04-25T00:00:00.000000",
          "2015-04-26T00:00:00.000000",
          "2015-04-27T00:00:00.000000",
          "2015-04-28T00:00:00.000000",
          "2015-04-29T00:00:00.000000",
          "2015-04-30T00:00:00.000000",
          "2015-05-01T00:00:00.000000",
          "2015-05-02T00:00:00.000000",
          "2015-05-03T00:00:00.000000",
          "2015-05-04T00:00:00.000000",
          "2015-05-05T00:00:00.000000",
          "2015-05-06T00:00:00.000000",
          "2015-05-07T00:00:00.000000",
          "2015-05-08T00:00:00.000000",
          "2015-05-09T00:00:00.000000",
          "2015-05-10T00:00:00.000000",
          "2015-05-11T00:00:00.000000",
          "2015-05-12T00:00:00.000000",
          "2015-05-13T00:00:00.000000",
          "2015-05-14T00:00:00.000000",
          "2015-05-15T00:00:00.000000",
          "2015-05-16T00:00:00.000000",
          "2015-05-17T00:00:00.000000",
          "2015-05-18T00:00:00.000000",
          "2015-05-19T00:00:00.000000",
          "2015-05-20T00:00:00.000000",
          "2015-05-21T00:00:00.000000",
          "2015-05-22T00:00:00.000000",
          "2015-05-23T00:00:00.000000",
          "2015-05-24T00:00:00.000000",
          "2015-05-25T00:00:00.000000",
          "2015-05-26T00:00:00.000000",
          "2015-05-27T00:00:00.000000",
          "2015-05-28T00:00:00.000000",
          "2015-05-29T00:00:00.000000",
          "2015-05-30T00:00:00.000000",
          "2015-05-31T00:00:00.000000",
          "2015-06-01T00:00:00.000000",
          "2015-06-02T00:00:00.000000",
          "2015-06-03T00:00:00.000000",
          "2015-06-04T00:00:00.000000",
          "2015-06-05T00:00:00.000000",
          "2015-06-06T00:00:00.000000",
          "2015-06-07T00:00:00.000000",
          "2015-06-08T00:00:00.000000",
          "2015-06-09T00:00:00.000000",
          "2015-06-10T00:00:00.000000",
          "2015-06-11T00:00:00.000000",
          "2015-06-12T00:00:00.000000",
          "2015-06-13T00:00:00.000000",
          "2015-06-14T00:00:00.000000",
          "2015-06-15T00:00:00.000000",
          "2015-06-16T00:00:00.000000",
          "2015-06-17T00:00:00.000000",
          "2015-06-18T00:00:00.000000",
          "2015-06-19T00:00:00.000000",
          "2015-06-20T00:00:00.000000",
          "2015-06-21T00:00:00.000000",
          "2015-06-22T00:00:00.000000",
          "2015-06-23T00:00:00.000000",
          "2015-06-24T00:00:00.000000",
          "2015-06-25T00:00:00.000000",
          "2015-06-26T00:00:00.000000",
          "2015-06-27T00:00:00.000000",
          "2015-06-28T00:00:00.000000",
          "2015-06-29T00:00:00.000000",
          "2015-06-30T00:00:00.000000"
         ],
         "xaxis": "x",
         "y": {
          "bdata": "AgAAAAAAAAAAAAgAAQAAAAAAAAAAAAAAAAAAAAAAAAAAAAAAAAAAAAAAAAAAAAAAAAAAAAAAAAAAAAAAAAAAAAAAAAAAAAAAAAAAAAAAAAAAAAAAAAAAAAAAAAAAAAAAAAAAAAAAAAAAAAAAAAAAAAAAAAAAAAAAAAAAAAAAAAAAAAAAAAAAAAAAAAAAAAAAAAAAAAAAAAAAAAAAAAAAAAAAAAAAAAAAAAAAAAAAAAAAAAAAAAA=",
          "dtype": "i2"
         },
         "yaxis": "y"
        }
       ],
       "layout": {
        "height": 500,
        "legend": {
         "orientation": "v",
         "title": {
          "text": "Sample pattern"
         },
         "tracegroupgap": 0,
         "x": 1.1,
         "xanchor": "center",
         "y": 1
        },
        "template": {
         "data": {
          "bar": [
           {
            "error_x": {
             "color": "#2a3f5f"
            },
            "error_y": {
             "color": "#2a3f5f"
            },
            "marker": {
             "line": {
              "color": "white",
              "width": 0.5
             },
             "pattern": {
              "fillmode": "overlay",
              "size": 10,
              "solidity": 0.2
             }
            },
            "type": "bar"
           }
          ],
          "barpolar": [
           {
            "marker": {
             "line": {
              "color": "white",
              "width": 0.5
             },
             "pattern": {
              "fillmode": "overlay",
              "size": 10,
              "solidity": 0.2
             }
            },
            "type": "barpolar"
           }
          ],
          "carpet": [
           {
            "aaxis": {
             "endlinecolor": "#2a3f5f",
             "gridcolor": "#C8D4E3",
             "linecolor": "#C8D4E3",
             "minorgridcolor": "#C8D4E3",
             "startlinecolor": "#2a3f5f"
            },
            "baxis": {
             "endlinecolor": "#2a3f5f",
             "gridcolor": "#C8D4E3",
             "linecolor": "#C8D4E3",
             "minorgridcolor": "#C8D4E3",
             "startlinecolor": "#2a3f5f"
            },
            "type": "carpet"
           }
          ],
          "choropleth": [
           {
            "colorbar": {
             "outlinewidth": 0,
             "ticks": ""
            },
            "type": "choropleth"
           }
          ],
          "contour": [
           {
            "colorbar": {
             "outlinewidth": 0,
             "ticks": ""
            },
            "colorscale": [
             [
              0,
              "#0d0887"
             ],
             [
              0.1111111111111111,
              "#46039f"
             ],
             [
              0.2222222222222222,
              "#7201a8"
             ],
             [
              0.3333333333333333,
              "#9c179e"
             ],
             [
              0.4444444444444444,
              "#bd3786"
             ],
             [
              0.5555555555555556,
              "#d8576b"
             ],
             [
              0.6666666666666666,
              "#ed7953"
             ],
             [
              0.7777777777777778,
              "#fb9f3a"
             ],
             [
              0.8888888888888888,
              "#fdca26"
             ],
             [
              1,
              "#f0f921"
             ]
            ],
            "type": "contour"
           }
          ],
          "contourcarpet": [
           {
            "colorbar": {
             "outlinewidth": 0,
             "ticks": ""
            },
            "type": "contourcarpet"
           }
          ],
          "heatmap": [
           {
            "colorbar": {
             "outlinewidth": 0,
             "ticks": ""
            },
            "colorscale": [
             [
              0,
              "#0d0887"
             ],
             [
              0.1111111111111111,
              "#46039f"
             ],
             [
              0.2222222222222222,
              "#7201a8"
             ],
             [
              0.3333333333333333,
              "#9c179e"
             ],
             [
              0.4444444444444444,
              "#bd3786"
             ],
             [
              0.5555555555555556,
              "#d8576b"
             ],
             [
              0.6666666666666666,
              "#ed7953"
             ],
             [
              0.7777777777777778,
              "#fb9f3a"
             ],
             [
              0.8888888888888888,
              "#fdca26"
             ],
             [
              1,
              "#f0f921"
             ]
            ],
            "type": "heatmap"
           }
          ],
          "histogram": [
           {
            "marker": {
             "pattern": {
              "fillmode": "overlay",
              "size": 10,
              "solidity": 0.2
             }
            },
            "type": "histogram"
           }
          ],
          "histogram2d": [
           {
            "colorbar": {
             "outlinewidth": 0,
             "ticks": ""
            },
            "colorscale": [
             [
              0,
              "#0d0887"
             ],
             [
              0.1111111111111111,
              "#46039f"
             ],
             [
              0.2222222222222222,
              "#7201a8"
             ],
             [
              0.3333333333333333,
              "#9c179e"
             ],
             [
              0.4444444444444444,
              "#bd3786"
             ],
             [
              0.5555555555555556,
              "#d8576b"
             ],
             [
              0.6666666666666666,
              "#ed7953"
             ],
             [
              0.7777777777777778,
              "#fb9f3a"
             ],
             [
              0.8888888888888888,
              "#fdca26"
             ],
             [
              1,
              "#f0f921"
             ]
            ],
            "type": "histogram2d"
           }
          ],
          "histogram2dcontour": [
           {
            "colorbar": {
             "outlinewidth": 0,
             "ticks": ""
            },
            "colorscale": [
             [
              0,
              "#0d0887"
             ],
             [
              0.1111111111111111,
              "#46039f"
             ],
             [
              0.2222222222222222,
              "#7201a8"
             ],
             [
              0.3333333333333333,
              "#9c179e"
             ],
             [
              0.4444444444444444,
              "#bd3786"
             ],
             [
              0.5555555555555556,
              "#d8576b"
             ],
             [
              0.6666666666666666,
              "#ed7953"
             ],
             [
              0.7777777777777778,
              "#fb9f3a"
             ],
             [
              0.8888888888888888,
              "#fdca26"
             ],
             [
              1,
              "#f0f921"
             ]
            ],
            "type": "histogram2dcontour"
           }
          ],
          "mesh3d": [
           {
            "colorbar": {
             "outlinewidth": 0,
             "ticks": ""
            },
            "type": "mesh3d"
           }
          ],
          "parcoords": [
           {
            "line": {
             "colorbar": {
              "outlinewidth": 0,
              "ticks": ""
             }
            },
            "type": "parcoords"
           }
          ],
          "pie": [
           {
            "automargin": true,
            "type": "pie"
           }
          ],
          "scatter": [
           {
            "fillpattern": {
             "fillmode": "overlay",
             "size": 10,
             "solidity": 0.2
            },
            "type": "scatter"
           }
          ],
          "scatter3d": [
           {
            "line": {
             "colorbar": {
              "outlinewidth": 0,
              "ticks": ""
             }
            },
            "marker": {
             "colorbar": {
              "outlinewidth": 0,
              "ticks": ""
             }
            },
            "type": "scatter3d"
           }
          ],
          "scattercarpet": [
           {
            "marker": {
             "colorbar": {
              "outlinewidth": 0,
              "ticks": ""
             }
            },
            "type": "scattercarpet"
           }
          ],
          "scattergeo": [
           {
            "marker": {
             "colorbar": {
              "outlinewidth": 0,
              "ticks": ""
             }
            },
            "type": "scattergeo"
           }
          ],
          "scattergl": [
           {
            "marker": {
             "colorbar": {
              "outlinewidth": 0,
              "ticks": ""
             }
            },
            "type": "scattergl"
           }
          ],
          "scattermap": [
           {
            "marker": {
             "colorbar": {
              "outlinewidth": 0,
              "ticks": ""
             }
            },
            "type": "scattermap"
           }
          ],
          "scattermapbox": [
           {
            "marker": {
             "colorbar": {
              "outlinewidth": 0,
              "ticks": ""
             }
            },
            "type": "scattermapbox"
           }
          ],
          "scatterpolar": [
           {
            "marker": {
             "colorbar": {
              "outlinewidth": 0,
              "ticks": ""
             }
            },
            "type": "scatterpolar"
           }
          ],
          "scatterpolargl": [
           {
            "marker": {
             "colorbar": {
              "outlinewidth": 0,
              "ticks": ""
             }
            },
            "type": "scatterpolargl"
           }
          ],
          "scatterternary": [
           {
            "marker": {
             "colorbar": {
              "outlinewidth": 0,
              "ticks": ""
             }
            },
            "type": "scatterternary"
           }
          ],
          "surface": [
           {
            "colorbar": {
             "outlinewidth": 0,
             "ticks": ""
            },
            "colorscale": [
             [
              0,
              "#0d0887"
             ],
             [
              0.1111111111111111,
              "#46039f"
             ],
             [
              0.2222222222222222,
              "#7201a8"
             ],
             [
              0.3333333333333333,
              "#9c179e"
             ],
             [
              0.4444444444444444,
              "#bd3786"
             ],
             [
              0.5555555555555556,
              "#d8576b"
             ],
             [
              0.6666666666666666,
              "#ed7953"
             ],
             [
              0.7777777777777778,
              "#fb9f3a"
             ],
             [
              0.8888888888888888,
              "#fdca26"
             ],
             [
              1,
              "#f0f921"
             ]
            ],
            "type": "surface"
           }
          ],
          "table": [
           {
            "cells": {
             "fill": {
              "color": "#EBF0F8"
             },
             "line": {
              "color": "white"
             }
            },
            "header": {
             "fill": {
              "color": "#C8D4E3"
             },
             "line": {
              "color": "white"
             }
            },
            "type": "table"
           }
          ]
         },
         "layout": {
          "annotationdefaults": {
           "arrowcolor": "#2a3f5f",
           "arrowhead": 0,
           "arrowwidth": 1
          },
          "autotypenumbers": "strict",
          "coloraxis": {
           "colorbar": {
            "outlinewidth": 0,
            "ticks": ""
           }
          },
          "colorscale": {
           "diverging": [
            [
             0,
             "#8e0152"
            ],
            [
             0.1,
             "#c51b7d"
            ],
            [
             0.2,
             "#de77ae"
            ],
            [
             0.3,
             "#f1b6da"
            ],
            [
             0.4,
             "#fde0ef"
            ],
            [
             0.5,
             "#f7f7f7"
            ],
            [
             0.6,
             "#e6f5d0"
            ],
            [
             0.7,
             "#b8e186"
            ],
            [
             0.8,
             "#7fbc41"
            ],
            [
             0.9,
             "#4d9221"
            ],
            [
             1,
             "#276419"
            ]
           ],
           "sequential": [
            [
             0,
             "#0d0887"
            ],
            [
             0.1111111111111111,
             "#46039f"
            ],
            [
             0.2222222222222222,
             "#7201a8"
            ],
            [
             0.3333333333333333,
             "#9c179e"
            ],
            [
             0.4444444444444444,
             "#bd3786"
            ],
            [
             0.5555555555555556,
             "#d8576b"
            ],
            [
             0.6666666666666666,
             "#ed7953"
            ],
            [
             0.7777777777777778,
             "#fb9f3a"
            ],
            [
             0.8888888888888888,
             "#fdca26"
            ],
            [
             1,
             "#f0f921"
            ]
           ],
           "sequentialminus": [
            [
             0,
             "#0d0887"
            ],
            [
             0.1111111111111111,
             "#46039f"
            ],
            [
             0.2222222222222222,
             "#7201a8"
            ],
            [
             0.3333333333333333,
             "#9c179e"
            ],
            [
             0.4444444444444444,
             "#bd3786"
            ],
            [
             0.5555555555555556,
             "#d8576b"
            ],
            [
             0.6666666666666666,
             "#ed7953"
            ],
            [
             0.7777777777777778,
             "#fb9f3a"
            ],
            [
             0.8888888888888888,
             "#fdca26"
            ],
            [
             1,
             "#f0f921"
            ]
           ]
          },
          "colorway": [
           "#636efa",
           "#EF553B",
           "#00cc96",
           "#ab63fa",
           "#FFA15A",
           "#19d3f3",
           "#FF6692",
           "#B6E880",
           "#FF97FF",
           "#FECB52"
          ],
          "font": {
           "color": "#2a3f5f"
          },
          "geo": {
           "bgcolor": "white",
           "lakecolor": "white",
           "landcolor": "white",
           "showlakes": true,
           "showland": true,
           "subunitcolor": "#C8D4E3"
          },
          "hoverlabel": {
           "align": "left"
          },
          "hovermode": "closest",
          "mapbox": {
           "style": "light"
          },
          "paper_bgcolor": "white",
          "plot_bgcolor": "white",
          "polar": {
           "angularaxis": {
            "gridcolor": "#EBF0F8",
            "linecolor": "#EBF0F8",
            "ticks": ""
           },
           "bgcolor": "white",
           "radialaxis": {
            "gridcolor": "#EBF0F8",
            "linecolor": "#EBF0F8",
            "ticks": ""
           }
          },
          "scene": {
           "xaxis": {
            "backgroundcolor": "white",
            "gridcolor": "#DFE8F3",
            "gridwidth": 2,
            "linecolor": "#EBF0F8",
            "showbackground": true,
            "ticks": "",
            "zerolinecolor": "#EBF0F8"
           },
           "yaxis": {
            "backgroundcolor": "white",
            "gridcolor": "#DFE8F3",
            "gridwidth": 2,
            "linecolor": "#EBF0F8",
            "showbackground": true,
            "ticks": "",
            "zerolinecolor": "#EBF0F8"
           },
           "zaxis": {
            "backgroundcolor": "white",
            "gridcolor": "#DFE8F3",
            "gridwidth": 2,
            "linecolor": "#EBF0F8",
            "showbackground": true,
            "ticks": "",
            "zerolinecolor": "#EBF0F8"
           }
          },
          "shapedefaults": {
           "line": {
            "color": "#2a3f5f"
           }
          },
          "ternary": {
           "aaxis": {
            "gridcolor": "#DFE8F3",
            "linecolor": "#A2B1C6",
            "ticks": ""
           },
           "baxis": {
            "gridcolor": "#DFE8F3",
            "linecolor": "#A2B1C6",
            "ticks": ""
           },
           "bgcolor": "white",
           "caxis": {
            "gridcolor": "#DFE8F3",
            "linecolor": "#A2B1C6",
            "ticks": ""
           }
          },
          "title": {
           "x": 0.05
          },
          "xaxis": {
           "automargin": true,
           "gridcolor": "#EBF0F8",
           "linecolor": "#EBF0F8",
           "ticks": "",
           "title": {
            "standoff": 15
           },
           "zerolinecolor": "#EBF0F8",
           "zerolinewidth": 2
          },
          "yaxis": {
           "automargin": true,
           "gridcolor": "#EBF0F8",
           "linecolor": "#EBF0F8",
           "ticks": "",
           "title": {
            "standoff": 15
           },
           "zerolinecolor": "#EBF0F8",
           "zerolinewidth": 2
          }
         }
        },
        "title": {
         "font": {
          "color": "black",
          "family": "Arial",
          "size": 22
         },
         "text": "Daily sales samples by demand type (Q2 2015)",
         "x": 0.5
        },
        "width": 1200,
        "xaxis": {
         "anchor": "y",
         "domain": [
          0,
          1
         ],
         "gridcolor": "lightgray",
         "griddash": "dot",
         "gridwidth": 1,
         "showgrid": false,
         "tickangle": 0,
         "title": {
          "text": "Date"
         }
        },
        "yaxis": {
         "anchor": "x",
         "domain": [
          0,
          1
         ],
         "dtick": 1,
         "gridcolor": "lightgray",
         "griddash": "dot",
         "gridwidth": 1,
         "range": [
          0,
          13
         ],
         "showgrid": true,
         "tick0": 0,
         "title": {
          "text": "Sales"
         }
        }
       }
      }
     },
     "metadata": {},
     "output_type": "display_data"
    }
   ],
   "source": [
    "import plotly.express as px\n",
    "\n",
    "fig = px.line(\n",
    "    sample_sales,\n",
    "    x=\"date\",\n",
    "    y=\"sales\",\n",
    "    color=\"demand_type\",\n",
    "    category_orders={\"demand_type\": ['Smooth', 'Intermittent', 'Erratic', 'Lumpy', 'Insufficient data']},\n",
    "    markers=False,\n",
    "    title=\"Daily sales samples by demand type (Q2 2015)\",\n",
    "    labels={\n",
    "        \"date\": \"Date\",\n",
    "        \"sales\": \"Sales\",\n",
    "        \"demand_type\": \"Demand type sample\"\n",
    "    },\n",
    "    template=\"plotly_white\",\n",
    "    color_discrete_sequence=px.colors.qualitative.Set1,\n",
    "    width=1200, height=500\n",
    ")\n",
    "\n",
    "fig.update_traces(line=dict(\n",
    "    width=2)\n",
    "    )\n",
    "\n",
    "fig.update_layout(\n",
    "    title=dict(\n",
    "        x=0.5,\n",
    "        font=dict(size=22,\n",
    "                family=\"Arial\",\n",
    "                color=\"black\")\n",
    "    ),\n",
    "    xaxis=dict(\n",
    "        showgrid=False,\n",
    "        gridcolor=\"lightgray\",\n",
    "        tickangle=0,\n",
    "        gridwidth=1,\n",
    "        griddash='dot'\n",
    "    ),\n",
    "    yaxis=dict(\n",
    "        showgrid=True,\n",
    "        gridcolor=\"lightgray\",\n",
    "        gridwidth=1,\n",
    "        griddash='dot',\n",
    "        tick0=0,\n",
    "        dtick=1,          # <-- ahora de 1 en 1\n",
    "        range=[0, 13]\n",
    "    ),\n",
    "    legend=dict(\n",
    "        title=\"Sample pattern\",\n",
    "        orientation=\"v\",\n",
    "        xanchor=\"center\",\n",
    "        x=1.1,\n",
    "        y=1,\n",
    "    )\n",
    ")\n",
    "\n",
    "fig.show()"
   ]
  },
  {
   "cell_type": "markdown",
   "id": "951eb21b",
   "metadata": {},
   "source": [
    "# Forecasting"
   ]
  },
  {
   "cell_type": "code",
   "execution_count": 448,
   "id": "a6b2734a",
   "metadata": {},
   "outputs": [],
   "source": [
    "def naive_model(series: pd.Series) -> pd.Series:\n",
    "    \"\"\"\n",
    "    Forecast Naive: simplemente usa el valor anterior.\n",
    "    Devuelve NaN en la primera posición.\n",
    "    \"\"\"\n",
    "    return series.shift(1).round(0).astype('Int16')\n",
    "\n",
    "\n",
    "def ses_model(series: pd.Series, alpha: float = 0.5) -> pd.Series:\n",
    "    \"\"\"\n",
    "    Simple Exponential Smoothing con NumPy.\n",
    "    alpha: factor de suavizamiento (0<alpha<=1).\n",
    "    \"\"\"\n",
    "    values = series.to_numpy(dtype=float)\n",
    "    result = np.empty_like(values, dtype=float)\n",
    "    \n",
    "    result[0] = values[0]\n",
    "\n",
    "    for t in range(1, len(values)):\n",
    "        result[t] = alpha * values[t] + (1 - alpha) * result[t-1]\n",
    "    \n",
    "    return pd.Series(result, index=series.index).round(0).astype('Int16')\n",
    "\n",
    "sample_sales[\"naive_forecast\"] = (\n",
    "    sample_sales.groupby(\"demand_type\", observed=True)[\"sales\"]\n",
    "    .transform(naive_model)\n",
    ")\n",
    "\n",
    "sample_sales[\"ses_forecast\"] = (\n",
    "    sample_sales.groupby(\"demand_type\", observed=True)[\"sales\"]\n",
    "    .transform(lambda x: ses_model(x, alpha=0.5))\n",
    ")\n"
   ]
  },
  {
   "cell_type": "code",
   "execution_count": 449,
   "id": "69d697af",
   "metadata": {},
   "outputs": [
    {
     "data": {
      "application/vnd.plotly.v1+json": {
       "config": {
        "plotlyServerURL": "https://plot.ly"
       },
       "data": [
        {
         "hovertemplate": "Serie=sales<br>Fecha=%{x}<br>Unidades=%{y}<extra></extra>",
         "legendgroup": "sales",
         "line": {
          "color": "#636efa",
          "dash": "solid",
          "width": 2
         },
         "marker": {
          "symbol": "circle"
         },
         "mode": "lines",
         "name": "sales",
         "orientation": "v",
         "showlegend": true,
         "type": "scatter",
         "x": [
          "2015-04-01T00:00:00.000000",
          "2015-04-02T00:00:00.000000",
          "2015-04-03T00:00:00.000000",
          "2015-04-04T00:00:00.000000",
          "2015-04-05T00:00:00.000000",
          "2015-04-06T00:00:00.000000",
          "2015-04-07T00:00:00.000000",
          "2015-04-08T00:00:00.000000",
          "2015-04-09T00:00:00.000000",
          "2015-04-10T00:00:00.000000",
          "2015-04-11T00:00:00.000000",
          "2015-04-12T00:00:00.000000",
          "2015-04-13T00:00:00.000000",
          "2015-04-14T00:00:00.000000",
          "2015-04-15T00:00:00.000000",
          "2015-04-16T00:00:00.000000",
          "2015-04-17T00:00:00.000000",
          "2015-04-18T00:00:00.000000",
          "2015-04-19T00:00:00.000000",
          "2015-04-20T00:00:00.000000",
          "2015-04-21T00:00:00.000000",
          "2015-04-22T00:00:00.000000",
          "2015-04-23T00:00:00.000000",
          "2015-04-24T00:00:00.000000",
          "2015-04-25T00:00:00.000000",
          "2015-04-26T00:00:00.000000",
          "2015-04-27T00:00:00.000000",
          "2015-04-28T00:00:00.000000",
          "2015-04-29T00:00:00.000000",
          "2015-04-30T00:00:00.000000",
          "2015-05-01T00:00:00.000000",
          "2015-05-02T00:00:00.000000",
          "2015-05-03T00:00:00.000000",
          "2015-05-04T00:00:00.000000",
          "2015-05-05T00:00:00.000000",
          "2015-05-06T00:00:00.000000",
          "2015-05-07T00:00:00.000000",
          "2015-05-08T00:00:00.000000",
          "2015-05-09T00:00:00.000000",
          "2015-05-10T00:00:00.000000",
          "2015-05-11T00:00:00.000000",
          "2015-05-12T00:00:00.000000",
          "2015-05-13T00:00:00.000000",
          "2015-05-14T00:00:00.000000",
          "2015-05-15T00:00:00.000000",
          "2015-05-16T00:00:00.000000",
          "2015-05-17T00:00:00.000000",
          "2015-05-18T00:00:00.000000",
          "2015-05-19T00:00:00.000000",
          "2015-05-20T00:00:00.000000",
          "2015-05-21T00:00:00.000000",
          "2015-05-22T00:00:00.000000",
          "2015-05-23T00:00:00.000000",
          "2015-05-24T00:00:00.000000",
          "2015-05-25T00:00:00.000000",
          "2015-05-26T00:00:00.000000",
          "2015-05-27T00:00:00.000000",
          "2015-05-28T00:00:00.000000",
          "2015-05-29T00:00:00.000000",
          "2015-05-30T00:00:00.000000",
          "2015-05-31T00:00:00.000000",
          "2015-06-01T00:00:00.000000",
          "2015-06-02T00:00:00.000000",
          "2015-06-03T00:00:00.000000",
          "2015-06-04T00:00:00.000000",
          "2015-06-05T00:00:00.000000",
          "2015-06-06T00:00:00.000000",
          "2015-06-07T00:00:00.000000",
          "2015-06-08T00:00:00.000000",
          "2015-06-09T00:00:00.000000",
          "2015-06-10T00:00:00.000000",
          "2015-06-11T00:00:00.000000",
          "2015-06-12T00:00:00.000000",
          "2015-06-13T00:00:00.000000",
          "2015-06-14T00:00:00.000000",
          "2015-06-15T00:00:00.000000",
          "2015-06-16T00:00:00.000000",
          "2015-06-17T00:00:00.000000",
          "2015-06-18T00:00:00.000000",
          "2015-06-19T00:00:00.000000",
          "2015-06-20T00:00:00.000000",
          "2015-06-21T00:00:00.000000",
          "2015-06-22T00:00:00.000000",
          "2015-06-23T00:00:00.000000",
          "2015-06-24T00:00:00.000000",
          "2015-06-25T00:00:00.000000",
          "2015-06-26T00:00:00.000000",
          "2015-06-27T00:00:00.000000",
          "2015-06-28T00:00:00.000000",
          "2015-06-29T00:00:00.000000",
          "2015-06-30T00:00:00.000000"
         ],
         "xaxis": "x",
         "y": {
          "bdata": "AgADAAEABQACAAMAAgABAAMAAQADAAMABAACAAMAAgABAAIAAgACAAMAAwADAAIABgAEAAMAAQADAAUABAADAAIABAACAAEABAADAAQABwAEAAIAAAAAAAMAAwAGAAIAAQADAAAAAAACAAUABwAEAAIABAADAAQABAAFAAIAAgAEAAUAAQAFAAUAAgACAAIAAwACAAMABQACAAIABAADAAEABAACAAUAAQADAAIAAgABAAMAAwA=",
          "dtype": "i2"
         },
         "yaxis": "y"
        },
        {
         "hovertemplate": "Serie=naive_forecast<br>Fecha=%{x}<br>Unidades=%{y}<extra></extra>",
         "legendgroup": "naive_forecast",
         "line": {
          "color": "#EF553B",
          "dash": "solid",
          "width": 2
         },
         "marker": {
          "symbol": "circle"
         },
         "mode": "lines",
         "name": "naive_forecast",
         "orientation": "v",
         "showlegend": true,
         "type": "scatter",
         "x": [
          "2015-04-01T00:00:00.000000",
          "2015-04-02T00:00:00.000000",
          "2015-04-03T00:00:00.000000",
          "2015-04-04T00:00:00.000000",
          "2015-04-05T00:00:00.000000",
          "2015-04-06T00:00:00.000000",
          "2015-04-07T00:00:00.000000",
          "2015-04-08T00:00:00.000000",
          "2015-04-09T00:00:00.000000",
          "2015-04-10T00:00:00.000000",
          "2015-04-11T00:00:00.000000",
          "2015-04-12T00:00:00.000000",
          "2015-04-13T00:00:00.000000",
          "2015-04-14T00:00:00.000000",
          "2015-04-15T00:00:00.000000",
          "2015-04-16T00:00:00.000000",
          "2015-04-17T00:00:00.000000",
          "2015-04-18T00:00:00.000000",
          "2015-04-19T00:00:00.000000",
          "2015-04-20T00:00:00.000000",
          "2015-04-21T00:00:00.000000",
          "2015-04-22T00:00:00.000000",
          "2015-04-23T00:00:00.000000",
          "2015-04-24T00:00:00.000000",
          "2015-04-25T00:00:00.000000",
          "2015-04-26T00:00:00.000000",
          "2015-04-27T00:00:00.000000",
          "2015-04-28T00:00:00.000000",
          "2015-04-29T00:00:00.000000",
          "2015-04-30T00:00:00.000000",
          "2015-05-01T00:00:00.000000",
          "2015-05-02T00:00:00.000000",
          "2015-05-03T00:00:00.000000",
          "2015-05-04T00:00:00.000000",
          "2015-05-05T00:00:00.000000",
          "2015-05-06T00:00:00.000000",
          "2015-05-07T00:00:00.000000",
          "2015-05-08T00:00:00.000000",
          "2015-05-09T00:00:00.000000",
          "2015-05-10T00:00:00.000000",
          "2015-05-11T00:00:00.000000",
          "2015-05-12T00:00:00.000000",
          "2015-05-13T00:00:00.000000",
          "2015-05-14T00:00:00.000000",
          "2015-05-15T00:00:00.000000",
          "2015-05-16T00:00:00.000000",
          "2015-05-17T00:00:00.000000",
          "2015-05-18T00:00:00.000000",
          "2015-05-19T00:00:00.000000",
          "2015-05-20T00:00:00.000000",
          "2015-05-21T00:00:00.000000",
          "2015-05-22T00:00:00.000000",
          "2015-05-23T00:00:00.000000",
          "2015-05-24T00:00:00.000000",
          "2015-05-25T00:00:00.000000",
          "2015-05-26T00:00:00.000000",
          "2015-05-27T00:00:00.000000",
          "2015-05-28T00:00:00.000000",
          "2015-05-29T00:00:00.000000",
          "2015-05-30T00:00:00.000000",
          "2015-05-31T00:00:00.000000",
          "2015-06-01T00:00:00.000000",
          "2015-06-02T00:00:00.000000",
          "2015-06-03T00:00:00.000000",
          "2015-06-04T00:00:00.000000",
          "2015-06-05T00:00:00.000000",
          "2015-06-06T00:00:00.000000",
          "2015-06-07T00:00:00.000000",
          "2015-06-08T00:00:00.000000",
          "2015-06-09T00:00:00.000000",
          "2015-06-10T00:00:00.000000",
          "2015-06-11T00:00:00.000000",
          "2015-06-12T00:00:00.000000",
          "2015-06-13T00:00:00.000000",
          "2015-06-14T00:00:00.000000",
          "2015-06-15T00:00:00.000000",
          "2015-06-16T00:00:00.000000",
          "2015-06-17T00:00:00.000000",
          "2015-06-18T00:00:00.000000",
          "2015-06-19T00:00:00.000000",
          "2015-06-20T00:00:00.000000",
          "2015-06-21T00:00:00.000000",
          "2015-06-22T00:00:00.000000",
          "2015-06-23T00:00:00.000000",
          "2015-06-24T00:00:00.000000",
          "2015-06-25T00:00:00.000000",
          "2015-06-26T00:00:00.000000",
          "2015-06-27T00:00:00.000000",
          "2015-06-28T00:00:00.000000",
          "2015-06-29T00:00:00.000000",
          "2015-06-30T00:00:00.000000"
         ],
         "xaxis": "x",
         "y": {
          "bdata": "AAAAAAAA+H8AAAAAAAAAQAAAAAAAAAhAAAAAAAAA8D8AAAAAAAAUQAAAAAAAAABAAAAAAAAACEAAAAAAAAAAQAAAAAAAAPA/AAAAAAAACEAAAAAAAADwPwAAAAAAAAhAAAAAAAAACEAAAAAAAAAQQAAAAAAAAABAAAAAAAAACEAAAAAAAAAAQAAAAAAAAPA/AAAAAAAAAEAAAAAAAAAAQAAAAAAAAABAAAAAAAAACEAAAAAAAAAIQAAAAAAAAAhAAAAAAAAAAEAAAAAAAAAYQAAAAAAAABBAAAAAAAAACEAAAAAAAADwPwAAAAAAAAhAAAAAAAAAFEAAAAAAAAAQQAAAAAAAAAhAAAAAAAAAAEAAAAAAAAAQQAAAAAAAAABAAAAAAAAA8D8AAAAAAAAQQAAAAAAAAAhAAAAAAAAAEEAAAAAAAAAcQAAAAAAAABBAAAAAAAAAAEAAAAAAAAAAAAAAAAAAAAAAAAAAAAAACEAAAAAAAAAIQAAAAAAAABhAAAAAAAAAAEAAAAAAAADwPwAAAAAAAAhAAAAAAAAAAAAAAAAAAAAAAAAAAAAAAABAAAAAAAAAFEAAAAAAAAAcQAAAAAAAABBAAAAAAAAAAEAAAAAAAAAQQAAAAAAAAAhAAAAAAAAAEEAAAAAAAAAQQAAAAAAAABRAAAAAAAAAAEAAAAAAAAAAQAAAAAAAABBAAAAAAAAAFEAAAAAAAADwPwAAAAAAABRAAAAAAAAAFEAAAAAAAAAAQAAAAAAAAABAAAAAAAAAAEAAAAAAAAAIQAAAAAAAAABAAAAAAAAACEAAAAAAAAAUQAAAAAAAAABAAAAAAAAAAEAAAAAAAAAQQAAAAAAAAAhAAAAAAAAA8D8AAAAAAAAQQAAAAAAAAABAAAAAAAAAFEAAAAAAAADwPwAAAAAAAAhAAAAAAAAAAEAAAAAAAAAAQAAAAAAAAPA/AAAAAAAACEA=",
          "dtype": "f8"
         },
         "yaxis": "y"
        },
        {
         "hovertemplate": "Serie=ses_forecast<br>Fecha=%{x}<br>Unidades=%{y}<extra></extra>",
         "legendgroup": "ses_forecast",
         "line": {
          "color": "#00cc96",
          "dash": "solid",
          "width": 2
         },
         "marker": {
          "symbol": "circle"
         },
         "mode": "lines",
         "name": "ses_forecast",
         "orientation": "v",
         "showlegend": true,
         "type": "scatter",
         "x": [
          "2015-04-01T00:00:00.000000",
          "2015-04-02T00:00:00.000000",
          "2015-04-03T00:00:00.000000",
          "2015-04-04T00:00:00.000000",
          "2015-04-05T00:00:00.000000",
          "2015-04-06T00:00:00.000000",
          "2015-04-07T00:00:00.000000",
          "2015-04-08T00:00:00.000000",
          "2015-04-09T00:00:00.000000",
          "2015-04-10T00:00:00.000000",
          "2015-04-11T00:00:00.000000",
          "2015-04-12T00:00:00.000000",
          "2015-04-13T00:00:00.000000",
          "2015-04-14T00:00:00.000000",
          "2015-04-15T00:00:00.000000",
          "2015-04-16T00:00:00.000000",
          "2015-04-17T00:00:00.000000",
          "2015-04-18T00:00:00.000000",
          "2015-04-19T00:00:00.000000",
          "2015-04-20T00:00:00.000000",
          "2015-04-21T00:00:00.000000",
          "2015-04-22T00:00:00.000000",
          "2015-04-23T00:00:00.000000",
          "2015-04-24T00:00:00.000000",
          "2015-04-25T00:00:00.000000",
          "2015-04-26T00:00:00.000000",
          "2015-04-27T00:00:00.000000",
          "2015-04-28T00:00:00.000000",
          "2015-04-29T00:00:00.000000",
          "2015-04-30T00:00:00.000000",
          "2015-05-01T00:00:00.000000",
          "2015-05-02T00:00:00.000000",
          "2015-05-03T00:00:00.000000",
          "2015-05-04T00:00:00.000000",
          "2015-05-05T00:00:00.000000",
          "2015-05-06T00:00:00.000000",
          "2015-05-07T00:00:00.000000",
          "2015-05-08T00:00:00.000000",
          "2015-05-09T00:00:00.000000",
          "2015-05-10T00:00:00.000000",
          "2015-05-11T00:00:00.000000",
          "2015-05-12T00:00:00.000000",
          "2015-05-13T00:00:00.000000",
          "2015-05-14T00:00:00.000000",
          "2015-05-15T00:00:00.000000",
          "2015-05-16T00:00:00.000000",
          "2015-05-17T00:00:00.000000",
          "2015-05-18T00:00:00.000000",
          "2015-05-19T00:00:00.000000",
          "2015-05-20T00:00:00.000000",
          "2015-05-21T00:00:00.000000",
          "2015-05-22T00:00:00.000000",
          "2015-05-23T00:00:00.000000",
          "2015-05-24T00:00:00.000000",
          "2015-05-25T00:00:00.000000",
          "2015-05-26T00:00:00.000000",
          "2015-05-27T00:00:00.000000",
          "2015-05-28T00:00:00.000000",
          "2015-05-29T00:00:00.000000",
          "2015-05-30T00:00:00.000000",
          "2015-05-31T00:00:00.000000",
          "2015-06-01T00:00:00.000000",
          "2015-06-02T00:00:00.000000",
          "2015-06-03T00:00:00.000000",
          "2015-06-04T00:00:00.000000",
          "2015-06-05T00:00:00.000000",
          "2015-06-06T00:00:00.000000",
          "2015-06-07T00:00:00.000000",
          "2015-06-08T00:00:00.000000",
          "2015-06-09T00:00:00.000000",
          "2015-06-10T00:00:00.000000",
          "2015-06-11T00:00:00.000000",
          "2015-06-12T00:00:00.000000",
          "2015-06-13T00:00:00.000000",
          "2015-06-14T00:00:00.000000",
          "2015-06-15T00:00:00.000000",
          "2015-06-16T00:00:00.000000",
          "2015-06-17T00:00:00.000000",
          "2015-06-18T00:00:00.000000",
          "2015-06-19T00:00:00.000000",
          "2015-06-20T00:00:00.000000",
          "2015-06-21T00:00:00.000000",
          "2015-06-22T00:00:00.000000",
          "2015-06-23T00:00:00.000000",
          "2015-06-24T00:00:00.000000",
          "2015-06-25T00:00:00.000000",
          "2015-06-26T00:00:00.000000",
          "2015-06-27T00:00:00.000000",
          "2015-06-28T00:00:00.000000",
          "2015-06-29T00:00:00.000000",
          "2015-06-30T00:00:00.000000"
         ],
         "xaxis": "x",
         "y": {
          "bdata": "AgACAAIAAwADAAMAAgACAAIAAgACAAMAAwADAAMAAgACAAIAAgACAAIAAwADAAIABAAEAAQAAgADAAQABAADAAMAAwADAAIAAwADAAMABQAFAAMAAgABAAIAAgAEAAMAAgADAAEAAQABAAMABQAFAAMABAADAAQABAAEAAMAAwADAAQAAwAEAAQAAwADAAIAAwACAAMABAADAAIAAwADAAIAAwADAAQAAgADAAIAAgACAAIAAwA=",
          "dtype": "i2"
         },
         "yaxis": "y"
        }
       ],
       "layout": {
        "height": 500,
        "legend": {
         "title": {
          "text": "Serie"
         },
         "tracegroupgap": 0
        },
        "template": {
         "data": {
          "bar": [
           {
            "error_x": {
             "color": "#2a3f5f"
            },
            "error_y": {
             "color": "#2a3f5f"
            },
            "marker": {
             "line": {
              "color": "white",
              "width": 0.5
             },
             "pattern": {
              "fillmode": "overlay",
              "size": 10,
              "solidity": 0.2
             }
            },
            "type": "bar"
           }
          ],
          "barpolar": [
           {
            "marker": {
             "line": {
              "color": "white",
              "width": 0.5
             },
             "pattern": {
              "fillmode": "overlay",
              "size": 10,
              "solidity": 0.2
             }
            },
            "type": "barpolar"
           }
          ],
          "carpet": [
           {
            "aaxis": {
             "endlinecolor": "#2a3f5f",
             "gridcolor": "#C8D4E3",
             "linecolor": "#C8D4E3",
             "minorgridcolor": "#C8D4E3",
             "startlinecolor": "#2a3f5f"
            },
            "baxis": {
             "endlinecolor": "#2a3f5f",
             "gridcolor": "#C8D4E3",
             "linecolor": "#C8D4E3",
             "minorgridcolor": "#C8D4E3",
             "startlinecolor": "#2a3f5f"
            },
            "type": "carpet"
           }
          ],
          "choropleth": [
           {
            "colorbar": {
             "outlinewidth": 0,
             "ticks": ""
            },
            "type": "choropleth"
           }
          ],
          "contour": [
           {
            "colorbar": {
             "outlinewidth": 0,
             "ticks": ""
            },
            "colorscale": [
             [
              0,
              "#0d0887"
             ],
             [
              0.1111111111111111,
              "#46039f"
             ],
             [
              0.2222222222222222,
              "#7201a8"
             ],
             [
              0.3333333333333333,
              "#9c179e"
             ],
             [
              0.4444444444444444,
              "#bd3786"
             ],
             [
              0.5555555555555556,
              "#d8576b"
             ],
             [
              0.6666666666666666,
              "#ed7953"
             ],
             [
              0.7777777777777778,
              "#fb9f3a"
             ],
             [
              0.8888888888888888,
              "#fdca26"
             ],
             [
              1,
              "#f0f921"
             ]
            ],
            "type": "contour"
           }
          ],
          "contourcarpet": [
           {
            "colorbar": {
             "outlinewidth": 0,
             "ticks": ""
            },
            "type": "contourcarpet"
           }
          ],
          "heatmap": [
           {
            "colorbar": {
             "outlinewidth": 0,
             "ticks": ""
            },
            "colorscale": [
             [
              0,
              "#0d0887"
             ],
             [
              0.1111111111111111,
              "#46039f"
             ],
             [
              0.2222222222222222,
              "#7201a8"
             ],
             [
              0.3333333333333333,
              "#9c179e"
             ],
             [
              0.4444444444444444,
              "#bd3786"
             ],
             [
              0.5555555555555556,
              "#d8576b"
             ],
             [
              0.6666666666666666,
              "#ed7953"
             ],
             [
              0.7777777777777778,
              "#fb9f3a"
             ],
             [
              0.8888888888888888,
              "#fdca26"
             ],
             [
              1,
              "#f0f921"
             ]
            ],
            "type": "heatmap"
           }
          ],
          "histogram": [
           {
            "marker": {
             "pattern": {
              "fillmode": "overlay",
              "size": 10,
              "solidity": 0.2
             }
            },
            "type": "histogram"
           }
          ],
          "histogram2d": [
           {
            "colorbar": {
             "outlinewidth": 0,
             "ticks": ""
            },
            "colorscale": [
             [
              0,
              "#0d0887"
             ],
             [
              0.1111111111111111,
              "#46039f"
             ],
             [
              0.2222222222222222,
              "#7201a8"
             ],
             [
              0.3333333333333333,
              "#9c179e"
             ],
             [
              0.4444444444444444,
              "#bd3786"
             ],
             [
              0.5555555555555556,
              "#d8576b"
             ],
             [
              0.6666666666666666,
              "#ed7953"
             ],
             [
              0.7777777777777778,
              "#fb9f3a"
             ],
             [
              0.8888888888888888,
              "#fdca26"
             ],
             [
              1,
              "#f0f921"
             ]
            ],
            "type": "histogram2d"
           }
          ],
          "histogram2dcontour": [
           {
            "colorbar": {
             "outlinewidth": 0,
             "ticks": ""
            },
            "colorscale": [
             [
              0,
              "#0d0887"
             ],
             [
              0.1111111111111111,
              "#46039f"
             ],
             [
              0.2222222222222222,
              "#7201a8"
             ],
             [
              0.3333333333333333,
              "#9c179e"
             ],
             [
              0.4444444444444444,
              "#bd3786"
             ],
             [
              0.5555555555555556,
              "#d8576b"
             ],
             [
              0.6666666666666666,
              "#ed7953"
             ],
             [
              0.7777777777777778,
              "#fb9f3a"
             ],
             [
              0.8888888888888888,
              "#fdca26"
             ],
             [
              1,
              "#f0f921"
             ]
            ],
            "type": "histogram2dcontour"
           }
          ],
          "mesh3d": [
           {
            "colorbar": {
             "outlinewidth": 0,
             "ticks": ""
            },
            "type": "mesh3d"
           }
          ],
          "parcoords": [
           {
            "line": {
             "colorbar": {
              "outlinewidth": 0,
              "ticks": ""
             }
            },
            "type": "parcoords"
           }
          ],
          "pie": [
           {
            "automargin": true,
            "type": "pie"
           }
          ],
          "scatter": [
           {
            "fillpattern": {
             "fillmode": "overlay",
             "size": 10,
             "solidity": 0.2
            },
            "type": "scatter"
           }
          ],
          "scatter3d": [
           {
            "line": {
             "colorbar": {
              "outlinewidth": 0,
              "ticks": ""
             }
            },
            "marker": {
             "colorbar": {
              "outlinewidth": 0,
              "ticks": ""
             }
            },
            "type": "scatter3d"
           }
          ],
          "scattercarpet": [
           {
            "marker": {
             "colorbar": {
              "outlinewidth": 0,
              "ticks": ""
             }
            },
            "type": "scattercarpet"
           }
          ],
          "scattergeo": [
           {
            "marker": {
             "colorbar": {
              "outlinewidth": 0,
              "ticks": ""
             }
            },
            "type": "scattergeo"
           }
          ],
          "scattergl": [
           {
            "marker": {
             "colorbar": {
              "outlinewidth": 0,
              "ticks": ""
             }
            },
            "type": "scattergl"
           }
          ],
          "scattermap": [
           {
            "marker": {
             "colorbar": {
              "outlinewidth": 0,
              "ticks": ""
             }
            },
            "type": "scattermap"
           }
          ],
          "scattermapbox": [
           {
            "marker": {
             "colorbar": {
              "outlinewidth": 0,
              "ticks": ""
             }
            },
            "type": "scattermapbox"
           }
          ],
          "scatterpolar": [
           {
            "marker": {
             "colorbar": {
              "outlinewidth": 0,
              "ticks": ""
             }
            },
            "type": "scatterpolar"
           }
          ],
          "scatterpolargl": [
           {
            "marker": {
             "colorbar": {
              "outlinewidth": 0,
              "ticks": ""
             }
            },
            "type": "scatterpolargl"
           }
          ],
          "scatterternary": [
           {
            "marker": {
             "colorbar": {
              "outlinewidth": 0,
              "ticks": ""
             }
            },
            "type": "scatterternary"
           }
          ],
          "surface": [
           {
            "colorbar": {
             "outlinewidth": 0,
             "ticks": ""
            },
            "colorscale": [
             [
              0,
              "#0d0887"
             ],
             [
              0.1111111111111111,
              "#46039f"
             ],
             [
              0.2222222222222222,
              "#7201a8"
             ],
             [
              0.3333333333333333,
              "#9c179e"
             ],
             [
              0.4444444444444444,
              "#bd3786"
             ],
             [
              0.5555555555555556,
              "#d8576b"
             ],
             [
              0.6666666666666666,
              "#ed7953"
             ],
             [
              0.7777777777777778,
              "#fb9f3a"
             ],
             [
              0.8888888888888888,
              "#fdca26"
             ],
             [
              1,
              "#f0f921"
             ]
            ],
            "type": "surface"
           }
          ],
          "table": [
           {
            "cells": {
             "fill": {
              "color": "#EBF0F8"
             },
             "line": {
              "color": "white"
             }
            },
            "header": {
             "fill": {
              "color": "#C8D4E3"
             },
             "line": {
              "color": "white"
             }
            },
            "type": "table"
           }
          ]
         },
         "layout": {
          "annotationdefaults": {
           "arrowcolor": "#2a3f5f",
           "arrowhead": 0,
           "arrowwidth": 1
          },
          "autotypenumbers": "strict",
          "coloraxis": {
           "colorbar": {
            "outlinewidth": 0,
            "ticks": ""
           }
          },
          "colorscale": {
           "diverging": [
            [
             0,
             "#8e0152"
            ],
            [
             0.1,
             "#c51b7d"
            ],
            [
             0.2,
             "#de77ae"
            ],
            [
             0.3,
             "#f1b6da"
            ],
            [
             0.4,
             "#fde0ef"
            ],
            [
             0.5,
             "#f7f7f7"
            ],
            [
             0.6,
             "#e6f5d0"
            ],
            [
             0.7,
             "#b8e186"
            ],
            [
             0.8,
             "#7fbc41"
            ],
            [
             0.9,
             "#4d9221"
            ],
            [
             1,
             "#276419"
            ]
           ],
           "sequential": [
            [
             0,
             "#0d0887"
            ],
            [
             0.1111111111111111,
             "#46039f"
            ],
            [
             0.2222222222222222,
             "#7201a8"
            ],
            [
             0.3333333333333333,
             "#9c179e"
            ],
            [
             0.4444444444444444,
             "#bd3786"
            ],
            [
             0.5555555555555556,
             "#d8576b"
            ],
            [
             0.6666666666666666,
             "#ed7953"
            ],
            [
             0.7777777777777778,
             "#fb9f3a"
            ],
            [
             0.8888888888888888,
             "#fdca26"
            ],
            [
             1,
             "#f0f921"
            ]
           ],
           "sequentialminus": [
            [
             0,
             "#0d0887"
            ],
            [
             0.1111111111111111,
             "#46039f"
            ],
            [
             0.2222222222222222,
             "#7201a8"
            ],
            [
             0.3333333333333333,
             "#9c179e"
            ],
            [
             0.4444444444444444,
             "#bd3786"
            ],
            [
             0.5555555555555556,
             "#d8576b"
            ],
            [
             0.6666666666666666,
             "#ed7953"
            ],
            [
             0.7777777777777778,
             "#fb9f3a"
            ],
            [
             0.8888888888888888,
             "#fdca26"
            ],
            [
             1,
             "#f0f921"
            ]
           ]
          },
          "colorway": [
           "#636efa",
           "#EF553B",
           "#00cc96",
           "#ab63fa",
           "#FFA15A",
           "#19d3f3",
           "#FF6692",
           "#B6E880",
           "#FF97FF",
           "#FECB52"
          ],
          "font": {
           "color": "#2a3f5f"
          },
          "geo": {
           "bgcolor": "white",
           "lakecolor": "white",
           "landcolor": "white",
           "showlakes": true,
           "showland": true,
           "subunitcolor": "#C8D4E3"
          },
          "hoverlabel": {
           "align": "left"
          },
          "hovermode": "closest",
          "mapbox": {
           "style": "light"
          },
          "paper_bgcolor": "white",
          "plot_bgcolor": "white",
          "polar": {
           "angularaxis": {
            "gridcolor": "#EBF0F8",
            "linecolor": "#EBF0F8",
            "ticks": ""
           },
           "bgcolor": "white",
           "radialaxis": {
            "gridcolor": "#EBF0F8",
            "linecolor": "#EBF0F8",
            "ticks": ""
           }
          },
          "scene": {
           "xaxis": {
            "backgroundcolor": "white",
            "gridcolor": "#DFE8F3",
            "gridwidth": 2,
            "linecolor": "#EBF0F8",
            "showbackground": true,
            "ticks": "",
            "zerolinecolor": "#EBF0F8"
           },
           "yaxis": {
            "backgroundcolor": "white",
            "gridcolor": "#DFE8F3",
            "gridwidth": 2,
            "linecolor": "#EBF0F8",
            "showbackground": true,
            "ticks": "",
            "zerolinecolor": "#EBF0F8"
           },
           "zaxis": {
            "backgroundcolor": "white",
            "gridcolor": "#DFE8F3",
            "gridwidth": 2,
            "linecolor": "#EBF0F8",
            "showbackground": true,
            "ticks": "",
            "zerolinecolor": "#EBF0F8"
           }
          },
          "shapedefaults": {
           "line": {
            "color": "#2a3f5f"
           }
          },
          "ternary": {
           "aaxis": {
            "gridcolor": "#DFE8F3",
            "linecolor": "#A2B1C6",
            "ticks": ""
           },
           "baxis": {
            "gridcolor": "#DFE8F3",
            "linecolor": "#A2B1C6",
            "ticks": ""
           },
           "bgcolor": "white",
           "caxis": {
            "gridcolor": "#DFE8F3",
            "linecolor": "#A2B1C6",
            "ticks": ""
           }
          },
          "title": {
           "x": 0.05
          },
          "xaxis": {
           "automargin": true,
           "gridcolor": "#EBF0F8",
           "linecolor": "#EBF0F8",
           "ticks": "",
           "title": {
            "standoff": 15
           },
           "zerolinecolor": "#EBF0F8",
           "zerolinewidth": 2
          },
          "yaxis": {
           "automargin": true,
           "gridcolor": "#EBF0F8",
           "linecolor": "#EBF0F8",
           "ticks": "",
           "title": {
            "standoff": 15
           },
           "zerolinecolor": "#EBF0F8",
           "zerolinewidth": 2
          }
         }
        },
        "title": {
         "text": "Ventas y Pronósticos (Naive vs SES) - Smooth"
        },
        "width": 1200,
        "xaxis": {
         "anchor": "y",
         "domain": [
          0,
          1
         ],
         "title": {
          "text": "Fecha"
         }
        },
        "yaxis": {
         "anchor": "x",
         "domain": [
          0,
          1
         ],
         "title": {
          "text": "Unidades"
         }
        }
       }
      }
     },
     "metadata": {},
     "output_type": "display_data"
    }
   ],
   "source": [
    "smooth_sales = sample_sales[sample_sales['demand_type'] == 'Smooth'].copy()\n",
    "\n",
    "fig = px.line(\n",
    "    smooth_sales,\n",
    "    x=\"date\",\n",
    "    y=[\"sales\", \"naive_forecast\", \"ses_forecast\"],  # varias series\n",
    "    labels={\n",
    "        \"value\": \"Unidades\",\n",
    "        \"date\": \"Fecha\",\n",
    "        \"variable\": \"Serie\"\n",
    "    },\n",
    "    title=\"Ventas y Pronósticos (Naive vs SES) - Smooth\",\n",
    "    template=\"plotly_white\",\n",
    "    width=1200, height=500\n",
    ")\n",
    "\n",
    "fig.update_traces(line=dict(width=2))\n",
    "fig.show()"
   ]
  },
  {
   "cell_type": "code",
   "execution_count": 450,
   "id": "d57ceadb",
   "metadata": {},
   "outputs": [],
   "source": [
    "def mae(y_true, y_pred):\n",
    "    return np.mean(np.abs(y_true - y_pred))\n",
    "\n",
    "def mdae(y_true, y_pred):\n",
    "    return np.median(np.abs(y_true - y_pred))  \n",
    "\n",
    "def rmse(y_true, y_pred):\n",
    "    return np.sqrt(np.mean((y_true - y_pred) ** 2))\n",
    "\n",
    "def wape(y_true, y_pred):\n",
    "    return np.sum(np.abs(y_true - y_pred)) / np.sum(np.abs(y_true - np.mean(y_true)))\n",
    "\n",
    "def bias(y_true, y_pred):\n",
    "    return np.sum(y_pred - y_true) / np.sum(y_true)\n",
    "\n",
    "def mape(y_true, y_pred):\n",
    "    y_true, y_pred = np.array(y_true), np.array(y_pred)\n",
    "    mask = y_true != 0  # evita dividir por cero\n",
    "    return np.mean(np.abs((y_true[mask] - y_pred[mask]) / y_true[mask]))\n",
    "\n",
    "def mase(y_true, y_naive, y_pred):\n",
    "    n = len(y_true)\n",
    "    num = np.sum(np.abs(y_true - y_pred)) / n\n",
    "    den = np.sum(np.abs(y_true - y_naive)) / n\n",
    "    return np.round(num / den, 3)"
   ]
  },
  {
   "cell_type": "code",
   "execution_count": 451,
   "id": "9358e640",
   "metadata": {},
   "outputs": [
    {
     "ename": "NameError",
     "evalue": "name 'demand_categories' is not defined",
     "output_type": "error",
     "traceback": [
      "\u001b[31m---------------------------------------------------------------------------\u001b[39m",
      "\u001b[31mNameError\u001b[39m                                 Traceback (most recent call last)",
      "\u001b[36mCell\u001b[39m\u001b[36m \u001b[39m\u001b[32mIn[451]\u001b[39m\u001b[32m, line 3\u001b[39m\n\u001b[32m      1\u001b[39m metrics_list = []\n\u001b[32m----> \u001b[39m\u001b[32m3\u001b[39m \u001b[38;5;28;01mfor\u001b[39;00m item \u001b[38;5;129;01min\u001b[39;00m \u001b[43mdemand_categories\u001b[49m:\n\u001b[32m      4\u001b[39m     item_sales = sample_sales[sample_sales[\u001b[33m'\u001b[39m\u001b[33mdemand_type\u001b[39m\u001b[33m'\u001b[39m] == item]\n\u001b[32m      6\u001b[39m     total_sales = item_sales[\u001b[33m'\u001b[39m\u001b[33msales\u001b[39m\u001b[33m'\u001b[39m].sum()\n",
      "\u001b[31mNameError\u001b[39m: name 'demand_categories' is not defined"
     ]
    }
   ],
   "source": [
    "metrics_list = []\n",
    "\n",
    "for item in demand_categories:\n",
    "    item_sales = sample_sales[sample_sales['demand_type'] == item]\n",
    "\n",
    "    total_sales = item_sales['sales'].sum()\n",
    "    total_naive_forecast = item_sales['naive_forecast'].sum()\n",
    "    total_ses_forecast = item_sales['ses_forecast'].sum()\n",
    "    \n",
    "    metrics_list.append({\n",
    "        \"demand_type\": item,\n",
    "        \"total_sales\": total_sales,\n",
    "        \"total_naive_forecast\": total_naive_forecast,\n",
    "        \"total_ses_forecast\": total_ses_forecast,\n",
    "        \"rmse_naive\": rmse(item_sales['sales'], item_sales['naive_forecast']),\n",
    "        \"rmse_ses\": rmse(item_sales['sales'], item_sales['ses_forecast']),\n",
    "        \"wape_naive\": wape(item_sales['sales'], item_sales['naive_forecast']),\n",
    "        \"wape_ses\": wape(item_sales['sales'], item_sales['ses_forecast']),\n",
    "        \"bias_naive\": bias(item_sales['sales'], item_sales['naive_forecast']),\n",
    "        \"bias_ses\": bias(item_sales['sales'], item_sales['ses_forecast']),\n",
    "        \"mase_ses\": mase(item_sales['sales'], item_sales['naive_forecast'], item_sales['ses_forecast'])\n",
    "    })\n",
    "\n",
    "summary_metrics = pd.DataFrame(metrics_list).round(3)"
   ]
  },
  {
   "cell_type": "code",
   "execution_count": null,
   "id": "65999768",
   "metadata": {},
   "outputs": [
    {
     "data": {
      "application/vnd.microsoft.datawrangler.viewer.v0+json": {
       "columns": [
        {
         "name": "index",
         "rawType": "int64",
         "type": "integer"
        },
        {
         "name": "demand_type",
         "rawType": "object",
         "type": "string"
        },
        {
         "name": "total_sales",
         "rawType": "int64",
         "type": "integer"
        },
        {
         "name": "total_naive_forecast",
         "rawType": "int64",
         "type": "integer"
        },
        {
         "name": "total_ses_forecast",
         "rawType": "int64",
         "type": "integer"
        },
        {
         "name": "rmse_naive",
         "rawType": "float64",
         "type": "float"
        },
        {
         "name": "rmse_ses",
         "rawType": "float64",
         "type": "float"
        },
        {
         "name": "wape_naive",
         "rawType": "float64",
         "type": "float"
        },
        {
         "name": "wape_ses",
         "rawType": "float64",
         "type": "float"
        },
        {
         "name": "bias_naive",
         "rawType": "float64",
         "type": "float"
        },
        {
         "name": "bias_ses",
         "rawType": "float64",
         "type": "float"
        },
        {
         "name": "mase_ses",
         "rawType": "float64",
         "type": "float"
        }
       ],
       "ref": "601cb592-f13b-4472-9d0e-0a03ddb94e73",
       "rows": [
        [
         "0",
         "Smooth",
         "259",
         "256",
         "258",
         "1.975",
         "0.955",
         "1.35",
         "0.624",
         "-0.004",
         "-0.004",
         "0.462"
        ],
        [
         "1",
         "Intermittent",
         "28",
         "26",
         "26",
         "0.803",
         "0.296",
         "1.051",
         "0.191",
         "-0.071",
         "-0.071",
         "0.182"
        ],
        [
         "2",
         "Erratic",
         "238",
         "236",
         "241",
         "2.996",
         "1.271",
         "1.289",
         "0.517",
         "0.008",
         "0.013",
         "0.401"
        ],
        [
         "3",
         "Lumpy",
         "73",
         "73",
         "72",
         "2.06",
         "0.908",
         "1.224",
         "0.479",
         "0.0",
         "-0.014",
         "0.391"
        ],
        [
         "4",
         "Insufficient data",
         "11",
         "11",
         "12",
         "1.145",
         "0.503",
         "0.846",
         "0.423",
         "0.182",
         "0.091",
         "0.5"
        ]
       ],
       "shape": {
        "columns": 11,
        "rows": 5
       }
      },
      "text/html": [
       "<div>\n",
       "<style scoped>\n",
       "    .dataframe tbody tr th:only-of-type {\n",
       "        vertical-align: middle;\n",
       "    }\n",
       "\n",
       "    .dataframe tbody tr th {\n",
       "        vertical-align: top;\n",
       "    }\n",
       "\n",
       "    .dataframe thead th {\n",
       "        text-align: right;\n",
       "    }\n",
       "</style>\n",
       "<table border=\"1\" class=\"dataframe\">\n",
       "  <thead>\n",
       "    <tr style=\"text-align: right;\">\n",
       "      <th></th>\n",
       "      <th>demand_type</th>\n",
       "      <th>total_sales</th>\n",
       "      <th>total_naive_forecast</th>\n",
       "      <th>total_ses_forecast</th>\n",
       "      <th>rmse_naive</th>\n",
       "      <th>rmse_ses</th>\n",
       "      <th>wape_naive</th>\n",
       "      <th>wape_ses</th>\n",
       "      <th>bias_naive</th>\n",
       "      <th>bias_ses</th>\n",
       "      <th>mase_ses</th>\n",
       "    </tr>\n",
       "  </thead>\n",
       "  <tbody>\n",
       "    <tr>\n",
       "      <th>0</th>\n",
       "      <td>Smooth</td>\n",
       "      <td>259</td>\n",
       "      <td>256</td>\n",
       "      <td>258</td>\n",
       "      <td>1.975</td>\n",
       "      <td>0.955</td>\n",
       "      <td>1.350</td>\n",
       "      <td>0.624</td>\n",
       "      <td>-0.004</td>\n",
       "      <td>-0.004</td>\n",
       "      <td>0.462</td>\n",
       "    </tr>\n",
       "    <tr>\n",
       "      <th>1</th>\n",
       "      <td>Intermittent</td>\n",
       "      <td>28</td>\n",
       "      <td>26</td>\n",
       "      <td>26</td>\n",
       "      <td>0.803</td>\n",
       "      <td>0.296</td>\n",
       "      <td>1.051</td>\n",
       "      <td>0.191</td>\n",
       "      <td>-0.071</td>\n",
       "      <td>-0.071</td>\n",
       "      <td>0.182</td>\n",
       "    </tr>\n",
       "    <tr>\n",
       "      <th>2</th>\n",
       "      <td>Erratic</td>\n",
       "      <td>238</td>\n",
       "      <td>236</td>\n",
       "      <td>241</td>\n",
       "      <td>2.996</td>\n",
       "      <td>1.271</td>\n",
       "      <td>1.289</td>\n",
       "      <td>0.517</td>\n",
       "      <td>0.008</td>\n",
       "      <td>0.013</td>\n",
       "      <td>0.401</td>\n",
       "    </tr>\n",
       "    <tr>\n",
       "      <th>3</th>\n",
       "      <td>Lumpy</td>\n",
       "      <td>73</td>\n",
       "      <td>73</td>\n",
       "      <td>72</td>\n",
       "      <td>2.060</td>\n",
       "      <td>0.908</td>\n",
       "      <td>1.224</td>\n",
       "      <td>0.479</td>\n",
       "      <td>0.000</td>\n",
       "      <td>-0.014</td>\n",
       "      <td>0.391</td>\n",
       "    </tr>\n",
       "    <tr>\n",
       "      <th>4</th>\n",
       "      <td>Insufficient data</td>\n",
       "      <td>11</td>\n",
       "      <td>11</td>\n",
       "      <td>12</td>\n",
       "      <td>1.145</td>\n",
       "      <td>0.503</td>\n",
       "      <td>0.846</td>\n",
       "      <td>0.423</td>\n",
       "      <td>0.182</td>\n",
       "      <td>0.091</td>\n",
       "      <td>0.500</td>\n",
       "    </tr>\n",
       "  </tbody>\n",
       "</table>\n",
       "</div>"
      ],
      "text/plain": [
       "         demand_type  total_sales  total_naive_forecast  total_ses_forecast  \\\n",
       "0             Smooth          259                   256                 258   \n",
       "1       Intermittent           28                    26                  26   \n",
       "2            Erratic          238                   236                 241   \n",
       "3              Lumpy           73                    73                  72   \n",
       "4  Insufficient data           11                    11                  12   \n",
       "\n",
       "   rmse_naive  rmse_ses  wape_naive  wape_ses  bias_naive  bias_ses  mase_ses  \n",
       "0       1.975     0.955       1.350     0.624      -0.004    -0.004     0.462  \n",
       "1       0.803     0.296       1.051     0.191      -0.071    -0.071     0.182  \n",
       "2       2.996     1.271       1.289     0.517       0.008     0.013     0.401  \n",
       "3       2.060     0.908       1.224     0.479       0.000    -0.014     0.391  \n",
       "4       1.145     0.503       0.846     0.423       0.182     0.091     0.500  "
      ]
     },
     "execution_count": 190,
     "metadata": {},
     "output_type": "execute_result"
    }
   ],
   "source": [
    "summary_metrics"
   ]
  }
 ],
 "metadata": {
  "kernelspec": {
   "display_name": "m5-forecasting",
   "language": "python",
   "name": "python3"
  },
  "language_info": {
   "codemirror_mode": {
    "name": "ipython",
    "version": 3
   },
   "file_extension": ".py",
   "mimetype": "text/x-python",
   "name": "python",
   "nbconvert_exporter": "python",
   "pygments_lexer": "ipython3",
   "version": "3.12.3"
  }
 },
 "nbformat": 4,
 "nbformat_minor": 5
}
