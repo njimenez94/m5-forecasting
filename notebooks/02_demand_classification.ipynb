{
 "cells": [
  {
   "cell_type": "markdown",
   "id": "cc785403",
   "metadata": {},
   "source": [
    "# Setup"
   ]
  },
  {
   "cell_type": "code",
   "execution_count": 433,
   "id": "d5e613bc",
   "metadata": {},
   "outputs": [
    {
     "name": "stdout",
     "output_type": "stream",
     "text": [
      "Now you can import modules from the project root: /home/opscenter/kaggle/m5-forecasting\n"
     ]
    }
   ],
   "source": [
    "%run notebook_setup.py"
   ]
  },
  {
   "cell_type": "code",
   "execution_count": 434,
   "id": "14fcf4ea",
   "metadata": {},
   "outputs": [],
   "source": [
    "import numpy as np\n",
    "import pandas as pd\n",
    "import duckdb as ddb\n",
    "\n",
    "import plotly.express as px"
   ]
  },
  {
   "cell_type": "markdown",
   "id": "21437e21",
   "metadata": {},
   "source": [
    "# Load data"
   ]
  },
  {
   "cell_type": "code",
   "execution_count": 435,
   "id": "587b989e",
   "metadata": {},
   "outputs": [],
   "source": [
    "SALES_DATA_PATH = '../data/processed/sales_train_validation.parquet'"
   ]
  },
  {
   "cell_type": "code",
   "execution_count": 498,
   "id": "fb009381",
   "metadata": {},
   "outputs": [],
   "source": [
    "con = ddb.connect()\n",
    "\n",
    "query = f\"\"\"\n",
    "SELECT\n",
    "  id,\n",
    "  MIN(CASE WHEN sales > 0 THEN date END) AS first_sale,\n",
    "  MAX(CASE WHEN sales > 0 THEN date END) AS last_sale,\n",
    "  CAST(MAX(CASE WHEN sales > 0 THEN date END) \n",
    "       - MIN(CASE WHEN sales > 0 THEN date END) AS INTEGER) AS sales_range,\n",
    "  COUNT(*) AS total_days,\n",
    "  SUM(CASE WHEN sales > 0 THEN 1 ELSE 0 END) AS days_with_sales,\n",
    "  AVG(NULLIF(sales,0)) AS avg_sales,\n",
    "  STDDEV_POP(NULLIF(sales,0)) AS std_sales\n",
    "FROM read_parquet('{SALES_DATA_PATH}')\n",
    "WHERE year = 2015 \n",
    "  AND quarter = 2\n",
    "GROUP BY id\n",
    "HAVING SUM(CASE WHEN sales > 0 THEN 1 ELSE 0 END) > 0\n",
    "\"\"\"\n",
    "\n",
    "demand_summary = con.query(query).to_df()"
   ]
  },
  {
   "cell_type": "markdown",
   "id": "ee3980d9",
   "metadata": {},
   "source": [
    "# Processing data"
   ]
  },
  {
   "cell_type": "code",
   "execution_count": 500,
   "id": "721ec0aa",
   "metadata": {},
   "outputs": [],
   "source": [
    "demand_summary['ADI'] = (demand_summary['total_days'] / demand_summary['days_with_sales']).round(3)\n",
    "demand_summary['CV2'] = ((demand_summary['std_sales'] / demand_summary['avg_sales']) ** 2).round(3)"
   ]
  },
  {
   "cell_type": "code",
   "execution_count": 501,
   "id": "8f5a5cd5",
   "metadata": {},
   "outputs": [],
   "source": [
    "conditions = [\n",
    "    (demand_summary['ADI'] < 1.32) & (demand_summary['CV2'] < 0.49),\n",
    "    (demand_summary['ADI'] >= 1.32) & (demand_summary['CV2'] < 0.49),\n",
    "    (demand_summary['ADI'] < 1.32) & (demand_summary['CV2'] >= 0.49),\n",
    "    (demand_summary['ADI'] >= 1.32) & (demand_summary['CV2'] >= 0.49),\n",
    "]\n",
    "\n",
    "demand_categories = ['Smooth', 'Intermittent', 'Erratic', 'Lumpy']\n",
    "demand_summary['demand_type'] = np.select(conditions, demand_categories, default= 'Unknown')"
   ]
  },
  {
   "cell_type": "code",
   "execution_count": 504,
   "id": "df0dee0d",
   "metadata": {},
   "outputs": [
    {
     "name": "stdout",
     "output_type": "stream",
     "text": [
      "Sales threshold (days with sales) for 'Insufficient data': 72\n"
     ]
    }
   ],
   "source": [
    "min_fraction = 0.8\n",
    "sales_threshold = int(demand_summary['total_days'].max() * min_fraction)\n",
    "print(f\"Sales threshold (days with sales) for 'Insufficient data': {sales_threshold}\")\n",
    "\n",
    "demand_summary['demand_type'] = np.where(\n",
    "    demand_summary['sales_range'] < sales_threshold,\n",
    "    'Insufficient data',\n",
    "    demand_summary['demand_type']\n",
    ")"
   ]
  },
  {
   "cell_type": "code",
   "execution_count": 525,
   "id": "11e1db6c",
   "metadata": {},
   "outputs": [
    {
     "data": {
      "application/javascript": "\n        if (window._pyforest_update_imports_cell) { window._pyforest_update_imports_cell('from sklearn.linear_model import LassoCV\\nfrom statsmodels.tsa.arima_model import ARIMA\\nfrom pathlib import Path\\nimport pandas as pd\\nfrom sklearn.model_selection import GridSearchCV\\nfrom sklearn.feature_extraction.text import CountVectorizer\\nfrom sklearn.linear_model import LogisticRegression\\nfrom sklearn.decomposition import PCA\\nfrom sklearn.preprocessing import OneHotEncoder\\nfrom PIL import Image\\nfrom sklearn.linear_model import ElasticNetCV\\nfrom sklearn.preprocessing import PolynomialFeatures\\nfrom sklearn.preprocessing import MinMaxScaler\\nfrom sklearn.ensemble import GradientBoostingClassifier\\nfrom sklearn.linear_model import LinearRegression\\nfrom sklearn.linear_model import Lasso\\nfrom sklearn.cluster import KMeans\\nfrom sklearn.linear_model import ElasticNet\\nfrom sklearn.preprocessing import LabelEncoder\\nfrom sklearn.ensemble import GradientBoostingRegressor\\nfrom sklearn.model_selection import KFold'); }\n    ",
      "text/plain": [
       "<IPython.core.display.Javascript object>"
      ]
     },
     "metadata": {},
     "output_type": "display_data"
    }
   ],
   "source": [
    "demand_summary['demand_type'] = pd.Categorical(\n",
    "    demand_summary['demand_type'],\n",
    "    categories = demand_categories + ['Insufficient data'],\n",
    "    ordered = True\n",
    ")\n",
    "\n",
    "dtypes_dict = {\n",
    "    'id': 'category',\n",
    "    'first_sale': 'datetime64[ns]',\n",
    "    'last_sale': 'datetime64[ns]',\n",
    "    'sales_range': 'Int16',\n",
    "    'total_days': 'Int16',\n",
    "    'days_with_sales': 'Int16',\n",
    "    'avg_sales': 'Float32',\n",
    "    'std_sales': 'Float32',\n",
    "    'ADI': 'Float32',\n",
    "    'CV2': 'Float32',\n",
    "}\n",
    "\n",
    "demand_summary = demand_summary.astype(dtypes_dict).round(3)"
   ]
  },
  {
   "cell_type": "markdown",
   "id": "6b9b8133",
   "metadata": {},
   "source": [
    "# EDA"
   ]
  },
  {
   "cell_type": "code",
   "execution_count": 526,
   "id": "20034e95",
   "metadata": {},
   "outputs": [],
   "source": [
    "import matplotlib.pyplot as plt\n",
    "import seaborn as sns"
   ]
  },
  {
   "cell_type": "markdown",
   "id": "aff8287f",
   "metadata": {},
   "source": [
    "## a) Summary"
   ]
  },
  {
   "cell_type": "code",
   "execution_count": 527,
   "id": "2fb2f822",
   "metadata": {},
   "outputs": [
    {
     "data": {
      "application/vnd.microsoft.datawrangler.viewer.v0+json": {
       "columns": [
        {
         "name": "demand_type",
         "rawType": "category",
         "type": "unknown"
        },
        {
         "name": "count",
         "rawType": "int64",
         "type": "integer"
        },
        {
         "name": "total_days",
         "rawType": "Float64",
         "type": "float"
        },
        {
         "name": "sales_range",
         "rawType": "Float64",
         "type": "float"
        },
        {
         "name": "days_with_sales",
         "rawType": "Float64",
         "type": "float"
        },
        {
         "name": "mean_adi",
         "rawType": "Float32",
         "type": "float"
        },
        {
         "name": "mean_avg_sales",
         "rawType": "Float32",
         "type": "float"
        },
        {
         "name": "mean_std_sales",
         "rawType": "Float32",
         "type": "float"
        },
        {
         "name": "mean_cv2",
         "rawType": "Float32",
         "type": "float"
        },
        {
         "name": "count_pct",
         "rawType": "float64",
         "type": "float"
        }
       ],
       "ref": "0b7bc013-2f6f-4c6c-9567-2bd74b8ecd34",
       "rows": [
        [
         "Smooth",
         "3390",
         "91.0",
         "89.22",
         "80.53",
         "1.14",
         "5.32",
         "2.8",
         "0.33",
         "0.1169"
        ],
        [
         "Intermittent",
         "16640",
         "91.0",
         "85.2",
         "33.85",
         "3.88",
         "1.63",
         "0.79",
         "0.23",
         "0.5736"
        ],
        [
         "Erratic",
         "742",
         "91.0",
         "89.24",
         "77.64",
         "1.18",
         "5.56",
         "4.82",
         "0.72",
         "0.0256"
        ],
        [
         "Lumpy",
         "2319",
         "91.0",
         "86.54",
         "42.39",
         "2.76",
         "2.89",
         "2.58",
         "0.78",
         "0.0799"
        ],
        [
         "Insufficient data",
         "5920",
         "91.0",
         "44.03",
         "15.34",
         "15.1",
         "1.8",
         "0.83",
         "0.21",
         "0.2041"
        ]
       ],
       "shape": {
        "columns": 9,
        "rows": 5
       }
      },
      "text/html": [
       "<div>\n",
       "<style scoped>\n",
       "    .dataframe tbody tr th:only-of-type {\n",
       "        vertical-align: middle;\n",
       "    }\n",
       "\n",
       "    .dataframe tbody tr th {\n",
       "        vertical-align: top;\n",
       "    }\n",
       "\n",
       "    .dataframe thead th {\n",
       "        text-align: right;\n",
       "    }\n",
       "</style>\n",
       "<table border=\"1\" class=\"dataframe\">\n",
       "  <thead>\n",
       "    <tr style=\"text-align: right;\">\n",
       "      <th></th>\n",
       "      <th>count</th>\n",
       "      <th>total_days</th>\n",
       "      <th>sales_range</th>\n",
       "      <th>days_with_sales</th>\n",
       "      <th>mean_adi</th>\n",
       "      <th>mean_avg_sales</th>\n",
       "      <th>mean_std_sales</th>\n",
       "      <th>mean_cv2</th>\n",
       "      <th>count_pct</th>\n",
       "    </tr>\n",
       "    <tr>\n",
       "      <th>demand_type</th>\n",
       "      <th></th>\n",
       "      <th></th>\n",
       "      <th></th>\n",
       "      <th></th>\n",
       "      <th></th>\n",
       "      <th></th>\n",
       "      <th></th>\n",
       "      <th></th>\n",
       "      <th></th>\n",
       "    </tr>\n",
       "  </thead>\n",
       "  <tbody>\n",
       "    <tr>\n",
       "      <th>Smooth</th>\n",
       "      <td>3390</td>\n",
       "      <td>91.0</td>\n",
       "      <td>89.22</td>\n",
       "      <td>80.53</td>\n",
       "      <td>1.14</td>\n",
       "      <td>5.32</td>\n",
       "      <td>2.8</td>\n",
       "      <td>0.33</td>\n",
       "      <td>0.1169</td>\n",
       "    </tr>\n",
       "    <tr>\n",
       "      <th>Intermittent</th>\n",
       "      <td>16640</td>\n",
       "      <td>91.0</td>\n",
       "      <td>85.2</td>\n",
       "      <td>33.85</td>\n",
       "      <td>3.88</td>\n",
       "      <td>1.63</td>\n",
       "      <td>0.79</td>\n",
       "      <td>0.23</td>\n",
       "      <td>0.5736</td>\n",
       "    </tr>\n",
       "    <tr>\n",
       "      <th>Erratic</th>\n",
       "      <td>742</td>\n",
       "      <td>91.0</td>\n",
       "      <td>89.24</td>\n",
       "      <td>77.64</td>\n",
       "      <td>1.18</td>\n",
       "      <td>5.56</td>\n",
       "      <td>4.82</td>\n",
       "      <td>0.72</td>\n",
       "      <td>0.0256</td>\n",
       "    </tr>\n",
       "    <tr>\n",
       "      <th>Lumpy</th>\n",
       "      <td>2319</td>\n",
       "      <td>91.0</td>\n",
       "      <td>86.54</td>\n",
       "      <td>42.39</td>\n",
       "      <td>2.76</td>\n",
       "      <td>2.89</td>\n",
       "      <td>2.58</td>\n",
       "      <td>0.78</td>\n",
       "      <td>0.0799</td>\n",
       "    </tr>\n",
       "    <tr>\n",
       "      <th>Insufficient data</th>\n",
       "      <td>5920</td>\n",
       "      <td>91.0</td>\n",
       "      <td>44.03</td>\n",
       "      <td>15.34</td>\n",
       "      <td>15.1</td>\n",
       "      <td>1.8</td>\n",
       "      <td>0.83</td>\n",
       "      <td>0.21</td>\n",
       "      <td>0.2041</td>\n",
       "    </tr>\n",
       "  </tbody>\n",
       "</table>\n",
       "</div>"
      ],
      "text/plain": [
       "                   count  total_days  sales_range  days_with_sales  mean_adi  \\\n",
       "demand_type                                                                    \n",
       "Smooth              3390        91.0        89.22            80.53      1.14   \n",
       "Intermittent       16640        91.0         85.2            33.85      3.88   \n",
       "Erratic              742        91.0        89.24            77.64      1.18   \n",
       "Lumpy               2319        91.0        86.54            42.39      2.76   \n",
       "Insufficient data   5920        91.0        44.03            15.34      15.1   \n",
       "\n",
       "                   mean_avg_sales  mean_std_sales  mean_cv2  count_pct  \n",
       "demand_type                                                             \n",
       "Smooth                       5.32             2.8      0.33     0.1169  \n",
       "Intermittent                 1.63            0.79      0.23     0.5736  \n",
       "Erratic                      5.56            4.82      0.72     0.0256  \n",
       "Lumpy                        2.89            2.58      0.78     0.0799  \n",
       "Insufficient data             1.8            0.83      0.21     0.2041  "
      ]
     },
     "execution_count": 527,
     "metadata": {},
     "output_type": "execute_result"
    }
   ],
   "source": [
    "demand_summary_gb = demand_summary.groupby('demand_type', observed = True).agg(\n",
    "    count = ('id', 'count'),\n",
    "    total_days = ('total_days', 'mean'),\n",
    "    sales_range = ('sales_range', 'mean'),\n",
    "    days_with_sales = ('days_with_sales', 'mean'),\n",
    "    mean_adi = ('ADI', 'mean'),\n",
    "    mean_avg_sales = ('avg_sales', 'mean'),\n",
    "    mean_std_sales = ('std_sales', 'mean'),\n",
    "    mean_cv2 = ('CV2', 'mean')\n",
    ").round(2)\n",
    "\n",
    "demand_summary_gb['count_pct'] = (demand_summary_gb['count'] / demand_summary_gb['count'].sum()).round(4)\n",
    "\n",
    "\n",
    "demand_summary_gb"
   ]
  },
  {
   "cell_type": "code",
   "execution_count": 568,
   "id": "eaa29e8f",
   "metadata": {},
   "outputs": [],
   "source": [
    "palette = {\n",
    "    \"Smooth\": \"#4A90E2\",           # azul fuerte\n",
    "    \"Erratic\": \"#4A90E2\",          # azul fuerte\n",
    "    \"Lumpy\": \"#4A90E2\",            # azul fuerte\n",
    "    \"Intermittent\": \"#F28E2B\",     # naranjo fuerte\n",
    "    \"Insufficient data\": \"#7F7F7F\" # gris medio\n",
    "}"
   ]
  },
  {
   "cell_type": "code",
   "execution_count": null,
   "id": "36344f70",
   "metadata": {},
   "outputs": [
    {
     "data": {
      "image/png": "[encoded data removed]",
      "text/plain": [
       "<Figure size 1000x500 with 1 Axes>"
      ]
     },
     "metadata": {},
     "output_type": "display_data"
    }
   ],
   "source": [
    "import matplotlib.pyplot as plt\n",
    "import matplotlib.ticker as mticker\n",
    "import seaborn as sns\n",
    "\n",
    "sns.set_theme(style=\"whitegrid\")\n",
    "\n",
    "plt.figure(figsize=(10,5))\n",
    "\n",
    "ax = sns.barplot(   # <- aquí guardamos el eje\n",
    "    data=demand_summary_gb,\n",
    "    x='demand_type',\n",
    "    y='count_pct',\n",
    "    palette=palette,\n",
    "    hue='demand_type',\n",
    "    legend=False\n",
    ")\n",
    "\n",
    "# Eje Y como porcentaje\n",
    "ax.yaxis.set_major_formatter(mticker.PercentFormatter(xmax=1, decimals=0))\n",
    "plt.ylim(0, 1)\n",
    "\n",
    "# Título y etiquetas\n",
    "plt.title(\"Distribution of demand types\", fontsize=14, weight=\"bold\", loc='left', pad=20)\n",
    "plt.xlabel(\"\")\n",
    "plt.ylabel(\"Proportion\")\n",
    "\n",
    "# Porcentajes arriba de las barras\n",
    "for p in ax.patches:\n",
    "    height = p.get_height()\n",
    "    ax.annotate(f'{height*100:.0f}%',   # sin decimales\n",
    "                (p.get_x() + p.get_width() / 2., height),\n",
    "                ha='center', va='bottom',\n",
    "                fontsize=10, weight='bold')\n",
    "\n",
    "# Grid de fondo\n",
    "plt.grid(axis='y', alpha=0.7, linestyle='--')\n",
    "\n",
    "plt.show()"
   ]
  },
  {
   "cell_type": "code",
   "execution_count": 586,
   "id": "2b9540a7",
   "metadata": {},
   "outputs": [
    {
     "data": {
      "image/png": "[encoded data removed]",
      "text/plain": [
       "<Figure size 1000x500 with 1 Axes>"
      ]
     },
     "metadata": {},
     "output_type": "display_data"
    }
   ],
   "source": [
    "sns.set_theme(style=\"whitegrid\")\n",
    "\n",
    "plt.figure(figsize=(10,5))\n",
    "\n",
    "ax = sns.barplot(   # <- aquí guardamos el eje\n",
    "    data=demand_summary_gb.query('demand_type != \"Insufficient data\"'),\n",
    "    x='demand_type',\n",
    "    y='mean_adi',\n",
    "    palette=palette,\n",
    "    hue='demand_type',\n",
    "    legend=False,\n",
    "    dodge=False\n",
    ")\n",
    "\n",
    "# Título y etiquetas\n",
    "plt.title(\"Mean ADI by demand types\", fontsize=14, weight=\"bold\", loc='left', pad=20)\n",
    "plt.xlabel(\"\")\n",
    "plt.ylabel(\"Mean ADI\")\n",
    "\n",
    "plt.ylim(0, 5)\n",
    "plt.gca().yaxis.set_major_locator(mticker.MultipleLocator(0.5))\n",
    "\n",
    "# Porcentajes arriba de las barras\n",
    "for p in ax.patches:\n",
    "    height = p.get_height()\n",
    "    ax.annotate(f'{height:.2f}',   # sin decimales\n",
    "                (p.get_x() + p.get_width() / 2., height),\n",
    "                ha='center', va='bottom',\n",
    "                fontsize=10, weight='bold')\n",
    "\n",
    "# Grid de fondo\n",
    "plt.grid(axis='y', alpha=0.7, linestyle='--')\n",
    "\n",
    "plt.show()"
   ]
  },
  {
   "cell_type": "code",
   "execution_count": 593,
   "id": "babd2e12",
   "metadata": {},
   "outputs": [
    {
     "data": {
      "image/png": "[encoded data removed]",
      "text/plain": [
       "<Figure size 1000x500 with 1 Axes>"
      ]
     },
     "metadata": {},
     "output_type": "display_data"
    }
   ],
   "source": [
    "sns.set_theme(style=\"whitegrid\")\n",
    "\n",
    "plt.figure(figsize=(10,5))\n",
    "\n",
    "ax = sns.barplot(   # <- aquí guardamos el eje\n",
    "    data=demand_summary_gb,\n",
    "    x='demand_type',\n",
    "    y='sales_range',\n",
    "    palette=palette,\n",
    "    hue='demand_type',\n",
    "    legend=False,\n",
    "    dodge=False\n",
    ")\n",
    "\n",
    "# Título y etiquetas\n",
    "plt.title(\"Mean range sales by demand types\", fontsize=14, weight=\"bold\", loc='left', pad=20)\n",
    "plt.xlabel(\"\")\n",
    "plt.ylabel(\"Mean range sales\")\n",
    "\n",
    "plt.ylim(0, 100)\n",
    "plt.gca().yaxis.set_major_locator(mticker.MultipleLocator(10))\n",
    "\n",
    "# Porcentajes arriba de las barras\n",
    "for p in ax.patches:\n",
    "    height = p.get_height()\n",
    "    ax.annotate(f'{height:.0f} days',   # sin decimales\n",
    "                (p.get_x() + p.get_width() / 2., height),\n",
    "                ha='center', va='bottom',\n",
    "                fontsize=10, weight='bold')\n",
    "\n",
    "# Grid de fondo\n",
    "plt.grid(axis='y', alpha=0.7, linestyle='--')\n",
    "\n",
    "plt.show()"
   ]
  },
  {
   "cell_type": "markdown",
   "id": "96e5dacd",
   "metadata": {},
   "source": [
    "## b) Examples"
   ]
  },
  {
   "cell_type": "code",
   "execution_count": 529,
   "id": "5155da73",
   "metadata": {},
   "outputs": [
    {
     "data": {
      "application/vnd.microsoft.datawrangler.viewer.v0+json": {
       "columns": [
        {
         "name": "index",
         "rawType": "int64",
         "type": "integer"
        },
        {
         "name": "id",
         "rawType": "category",
         "type": "unknown"
        },
        {
         "name": "first_sale",
         "rawType": "datetime64[ns]",
         "type": "datetime"
        },
        {
         "name": "last_sale",
         "rawType": "datetime64[ns]",
         "type": "datetime"
        },
        {
         "name": "sales_range",
         "rawType": "Int16",
         "type": "integer"
        },
        {
         "name": "total_days",
         "rawType": "Int16",
         "type": "integer"
        },
        {
         "name": "days_with_sales",
         "rawType": "Int16",
         "type": "integer"
        },
        {
         "name": "avg_sales",
         "rawType": "Float32",
         "type": "float"
        },
        {
         "name": "std_sales",
         "rawType": "Float32",
         "type": "float"
        },
        {
         "name": "ADI",
         "rawType": "Float32",
         "type": "float"
        },
        {
         "name": "CV2",
         "rawType": "Float32",
         "type": "float"
        },
        {
         "name": "demand_type",
         "rawType": "category",
         "type": "unknown"
        }
       ],
       "ref": "9878aa9b-192d-49eb-adab-40bca6ecfd69",
       "rows": [
        [
         "102",
         "HOBBIES_1_366_CA_1_validation",
         "2015-04-06 00:00:00",
         "2015-06-30 00:00:00",
         "85",
         "91",
         "23",
         "1.217",
         "0.412",
         "3.957",
         "0.115",
         "Intermittent"
        ],
        [
         "1749",
         "HOUSEHOLD_1_177_WI_3_validation",
         "2015-04-01 00:00:00",
         "2015-06-30 00:00:00",
         "90",
         "91",
         "85",
         "2.8",
         "2.096",
         "1.071",
         "0.561",
         "Erratic"
        ],
        [
         "8271",
         "HOBBIES_1_275_TX_2_validation",
         "2015-04-01 00:00:00",
         "2015-06-30 00:00:00",
         "90",
         "91",
         "87",
         "2.977",
         "1.398",
         "1.046",
         "0.22",
         "Smooth"
        ],
        [
         "10785",
         "FOODS_1_143_CA_1_validation",
         "2015-04-03 00:00:00",
         "2015-06-26 00:00:00",
         "84",
         "91",
         "35",
         "2.086",
         "1.746",
         "2.6",
         "0.701",
         "Lumpy"
        ]
       ],
       "shape": {
        "columns": 11,
        "rows": 4
       }
      },
      "text/html": [
       "<div>\n",
       "<style scoped>\n",
       "    .dataframe tbody tr th:only-of-type {\n",
       "        vertical-align: middle;\n",
       "    }\n",
       "\n",
       "    .dataframe tbody tr th {\n",
       "        vertical-align: top;\n",
       "    }\n",
       "\n",
       "    .dataframe thead th {\n",
       "        text-align: right;\n",
       "    }\n",
       "</style>\n",
       "<table border=\"1\" class=\"dataframe\">\n",
       "  <thead>\n",
       "    <tr style=\"text-align: right;\">\n",
       "      <th></th>\n",
       "      <th>id</th>\n",
       "      <th>first_sale</th>\n",
       "      <th>last_sale</th>\n",
       "      <th>sales_range</th>\n",
       "      <th>total_days</th>\n",
       "      <th>days_with_sales</th>\n",
       "      <th>avg_sales</th>\n",
       "      <th>std_sales</th>\n",
       "      <th>ADI</th>\n",
       "      <th>CV2</th>\n",
       "      <th>demand_type</th>\n",
       "    </tr>\n",
       "  </thead>\n",
       "  <tbody>\n",
       "    <tr>\n",
       "      <th>102</th>\n",
       "      <td>HOBBIES_1_366_CA_1_validation</td>\n",
       "      <td>2015-04-06</td>\n",
       "      <td>2015-06-30</td>\n",
       "      <td>85</td>\n",
       "      <td>91</td>\n",
       "      <td>23</td>\n",
       "      <td>1.217</td>\n",
       "      <td>0.412</td>\n",
       "      <td>3.957</td>\n",
       "      <td>0.115</td>\n",
       "      <td>Intermittent</td>\n",
       "    </tr>\n",
       "    <tr>\n",
       "      <th>1749</th>\n",
       "      <td>HOUSEHOLD_1_177_WI_3_validation</td>\n",
       "      <td>2015-04-01</td>\n",
       "      <td>2015-06-30</td>\n",
       "      <td>90</td>\n",
       "      <td>91</td>\n",
       "      <td>85</td>\n",
       "      <td>2.8</td>\n",
       "      <td>2.096</td>\n",
       "      <td>1.071</td>\n",
       "      <td>0.561</td>\n",
       "      <td>Erratic</td>\n",
       "    </tr>\n",
       "    <tr>\n",
       "      <th>8271</th>\n",
       "      <td>HOBBIES_1_275_TX_2_validation</td>\n",
       "      <td>2015-04-01</td>\n",
       "      <td>2015-06-30</td>\n",
       "      <td>90</td>\n",
       "      <td>91</td>\n",
       "      <td>87</td>\n",
       "      <td>2.977</td>\n",
       "      <td>1.398</td>\n",
       "      <td>1.046</td>\n",
       "      <td>0.22</td>\n",
       "      <td>Smooth</td>\n",
       "    </tr>\n",
       "    <tr>\n",
       "      <th>10785</th>\n",
       "      <td>FOODS_1_143_CA_1_validation</td>\n",
       "      <td>2015-04-03</td>\n",
       "      <td>2015-06-26</td>\n",
       "      <td>84</td>\n",
       "      <td>91</td>\n",
       "      <td>35</td>\n",
       "      <td>2.086</td>\n",
       "      <td>1.746</td>\n",
       "      <td>2.6</td>\n",
       "      <td>0.701</td>\n",
       "      <td>Lumpy</td>\n",
       "    </tr>\n",
       "  </tbody>\n",
       "</table>\n",
       "</div>"
      ],
      "text/plain": [
       "                                    id first_sale  last_sale  sales_range  \\\n",
       "102      HOBBIES_1_366_CA_1_validation 2015-04-06 2015-06-30           85   \n",
       "1749   HOUSEHOLD_1_177_WI_3_validation 2015-04-01 2015-06-30           90   \n",
       "8271     HOBBIES_1_275_TX_2_validation 2015-04-01 2015-06-30           90   \n",
       "10785      FOODS_1_143_CA_1_validation 2015-04-03 2015-06-26           84   \n",
       "\n",
       "       total_days  days_with_sales  avg_sales  std_sales    ADI    CV2  \\\n",
       "102            91               23      1.217      0.412  3.957  0.115   \n",
       "1749           91               85        2.8      2.096  1.071  0.561   \n",
       "8271           91               87      2.977      1.398  1.046   0.22   \n",
       "10785          91               35      2.086      1.746    2.6  0.701   \n",
       "\n",
       "        demand_type  \n",
       "102    Intermittent  \n",
       "1749        Erratic  \n",
       "8271         Smooth  \n",
       "10785         Lumpy  "
      ]
     },
     "metadata": {},
     "output_type": "display_data"
    }
   ],
   "source": [
    "intermittent_item = 'HOBBIES_1_366_CA_1_validation'\n",
    "smooth_item = 'HOBBIES_1_275_TX_2_validation'\n",
    "erratic_item = 'HOUSEHOLD_1_177_WI_3_validation'\n",
    "lumpy_item = 'FOODS_1_143_CA_1_validation'\n",
    "\n",
    "items = [intermittent_item, smooth_item, erratic_item, lumpy_item]\n",
    "\n",
    "display(demand_summary.query(f\"id in {items}\"))"
   ]
  },
  {
   "cell_type": "code",
   "execution_count": 530,
   "id": "9e8c7a49",
   "metadata": {},
   "outputs": [],
   "source": [
    "query = f\"\"\"\n",
    "SELECT\n",
    "    *\n",
    "FROM read_parquet('{SALES_DATA_PATH}')\n",
    "LEFT JOIN sales_data USING(id)\n",
    "WHERE id IN {tuple(items)}\n",
    "AND year = 2015 and quarter = 2\n",
    "ORDER BY id, date\n",
    "\"\"\"\n",
    "\n",
    "sample_sales = ddb.query(query).to_df()\n",
    "\n",
    "sample_sales = sample_sales[['demand_type','date', 'sales']]"
   ]
  },
  {
   "cell_type": "code",
   "execution_count": 531,
   "id": "7ca9ee88",
   "metadata": {},
   "outputs": [
    {
     "data": {
      "application/vnd.plotly.v1+json": {
       "config": {
        "plotlyServerURL": "https://plot.ly"
       },
       "data": [
        {
         "hovertemplate": "Demand type sample=Smooth<br>Date=%{x}<br>Sales=%{y}<extra></extra>",
         "legendgroup": "Smooth",
         "line": {
          "color": "rgb(228,26,28)",
          "dash": "solid",
          "width": 2
         },
         "marker": {
          "symbol": "circle"
         },
         "mode": "lines",
         "name": "Smooth",
         "orientation": "v",
         "showlegend": true,
         "type": "scatter",
         "x": [
          "2015-04-01T00:00:00.000000",
          "2015-04-02T00:00:00.000000",
          "2015-04-03T00:00:00.000000",
          "2015-04-04T00:00:00.000000",
          "2015-04-05T00:00:00.000000",
          "2015-04-06T00:00:00.000000",
          "2015-04-07T00:00:00.000000",
          "2015-04-08T00:00:00.000000",
          "2015-04-09T00:00:00.000000",
          "2015-04-10T00:00:00.000000",
          "2015-04-11T00:00:00.000000",
          "2015-04-12T00:00:00.000000",
          "2015-04-13T00:00:00.000000",
          "2015-04-14T00:00:00.000000",
          "2015-04-15T00:00:00.000000",
          "2015-04-16T00:00:00.000000",
          "2015-04-17T00:00:00.000000",
          "2015-04-18T00:00:00.000000",
          "2015-04-19T00:00:00.000000",
          "2015-04-20T00:00:00.000000",
          "2015-04-21T00:00:00.000000",
          "2015-04-22T00:00:00.000000",
          "2015-04-23T00:00:00.000000",
          "2015-04-24T00:00:00.000000",
          "2015-04-25T00:00:00.000000",
          "2015-04-26T00:00:00.000000",
          "2015-04-27T00:00:00.000000",
          "2015-04-28T00:00:00.000000",
          "2015-04-29T00:00:00.000000",
          "2015-04-30T00:00:00.000000",
          "2015-05-01T00:00:00.000000",
          "2015-05-02T00:00:00.000000",
          "2015-05-03T00:00:00.000000",
          "2015-05-04T00:00:00.000000",
          "2015-05-05T00:00:00.000000",
          "2015-05-06T00:00:00.000000",
          "2015-05-07T00:00:00.000000",
          "2015-05-08T00:00:00.000000",
          "2015-05-09T00:00:00.000000",
          "2015-05-10T00:00:00.000000",
          "2015-05-11T00:00:00.000000",
          "2015-05-12T00:00:00.000000",
          "2015-05-13T00:00:00.000000",
          "2015-05-14T00:00:00.000000",
          "2015-05-15T00:00:00.000000",
          "2015-05-16T00:00:00.000000",
          "2015-05-17T00:00:00.000000",
          "2015-05-18T00:00:00.000000",
          "2015-05-19T00:00:00.000000",
          "2015-05-20T00:00:00.000000",
          "2015-05-21T00:00:00.000000",
          "2015-05-22T00:00:00.000000",
          "2015-05-23T00:00:00.000000",
          "2015-05-24T00:00:00.000000",
          "2015-05-25T00:00:00.000000",
          "2015-05-26T00:00:00.000000",
          "2015-05-27T00:00:00.000000",
          "2015-05-28T00:00:00.000000",
          "2015-05-29T00:00:00.000000",
          "2015-05-30T00:00:00.000000",
          "2015-05-31T00:00:00.000000",
          "2015-06-01T00:00:00.000000",
          "2015-06-02T00:00:00.000000",
          "2015-06-03T00:00:00.000000",
          "2015-06-04T00:00:00.000000",
          "2015-06-05T00:00:00.000000",
          "2015-06-06T00:00:00.000000",
          "2015-06-07T00:00:00.000000",
          "2015-06-08T00:00:00.000000",
          "2015-06-09T00:00:00.000000",
          "2015-06-10T00:00:00.000000",
          "2015-06-11T00:00:00.000000",
          "2015-06-12T00:00:00.000000",
          "2015-06-13T00:00:00.000000",
          "2015-06-14T00:00:00.000000",
          "2015-06-15T00:00:00.000000",
          "2015-06-16T00:00:00.000000",
          "2015-06-17T00:00:00.000000",
          "2015-06-18T00:00:00.000000",
          "2015-06-19T00:00:00.000000",
          "2015-06-20T00:00:00.000000",
          "2015-06-21T00:00:00.000000",
          "2015-06-22T00:00:00.000000",
          "2015-06-23T00:00:00.000000",
          "2015-06-24T00:00:00.000000",
          "2015-06-25T00:00:00.000000",
          "2015-06-26T00:00:00.000000",
          "2015-06-27T00:00:00.000000",
          "2015-06-28T00:00:00.000000",
          "2015-06-29T00:00:00.000000",
          "2015-06-30T00:00:00.000000"
         ],
         "xaxis": "x",
         "y": {
          "bdata": "AgADAAEABQACAAMAAgABAAMAAQADAAMABAACAAMAAgABAAIAAgACAAMAAwADAAIABgAEAAMAAQADAAUABAADAAIABAACAAEABAADAAQABwAEAAIAAAAAAAMAAwAGAAIAAQADAAAAAAACAAUABwAEAAIABAADAAQABAAFAAIAAgAEAAUAAQAFAAUAAgACAAIAAwACAAMABQACAAIABAADAAEABAACAAUAAQADAAIAAgABAAMAAwA=",
          "dtype": "i2"
         },
         "yaxis": "y"
        },
        {
         "hovertemplate": "Demand type sample=Intermittent<br>Date=%{x}<br>Sales=%{y}<extra></extra>",
         "legendgroup": "Intermittent",
         "line": {
          "color": "rgb(55,126,184)",
          "dash": "solid",
          "width": 2
         },
         "marker": {
          "symbol": "circle"
         },
         "mode": "lines",
         "name": "Intermittent",
         "orientation": "v",
         "showlegend": true,
         "type": "scatter",
         "x": [
          "2015-04-01T00:00:00.000000",
          "2015-04-02T00:00:00.000000",
          "2015-04-03T00:00:00.000000",
          "2015-04-04T00:00:00.000000",
          "2015-04-05T00:00:00.000000",
          "2015-04-06T00:00:00.000000",
          "2015-04-07T00:00:00.000000",
          "2015-04-08T00:00:00.000000",
          "2015-04-09T00:00:00.000000",
          "2015-04-10T00:00:00.000000",
          "2015-04-11T00:00:00.000000",
          "2015-04-12T00:00:00.000000",
          "2015-04-13T00:00:00.000000",
          "2015-04-14T00:00:00.000000",
          "2015-04-15T00:00:00.000000",
          "2015-04-16T00:00:00.000000",
          "2015-04-17T00:00:00.000000",
          "2015-04-18T00:00:00.000000",
          "2015-04-19T00:00:00.000000",
          "2015-04-20T00:00:00.000000",
          "2015-04-21T00:00:00.000000",
          "2015-04-22T00:00:00.000000",
          "2015-04-23T00:00:00.000000",
          "2015-04-24T00:00:00.000000",
          "2015-04-25T00:00:00.000000",
          "2015-04-26T00:00:00.000000",
          "2015-04-27T00:00:00.000000",
          "2015-04-28T00:00:00.000000",
          "2015-04-29T00:00:00.000000",
          "2015-04-30T00:00:00.000000",
          "2015-05-01T00:00:00.000000",
          "2015-05-02T00:00:00.000000",
          "2015-05-03T00:00:00.000000",
          "2015-05-04T00:00:00.000000",
          "2015-05-05T00:00:00.000000",
          "2015-05-06T00:00:00.000000",
          "2015-05-07T00:00:00.000000",
          "2015-05-08T00:00:00.000000",
          "2015-05-09T00:00:00.000000",
          "2015-05-10T00:00:00.000000",
          "2015-05-11T00:00:00.000000",
          "2015-05-12T00:00:00.000000",
          "2015-05-13T00:00:00.000000",
          "2015-05-14T00:00:00.000000",
          "2015-05-15T00:00:00.000000",
          "2015-05-16T00:00:00.000000",
          "2015-05-17T00:00:00.000000",
          "2015-05-18T00:00:00.000000",
          "2015-05-19T00:00:00.000000",
          "2015-05-20T00:00:00.000000",
          "2015-05-21T00:00:00.000000",
          "2015-05-22T00:00:00.000000",
          "2015-05-23T00:00:00.000000",
          "2015-05-24T00:00:00.000000",
          "2015-05-25T00:00:00.000000",
          "2015-05-26T00:00:00.000000",
          "2015-05-27T00:00:00.000000",
          "2015-05-28T00:00:00.000000",
          "2015-05-29T00:00:00.000000",
          "2015-05-30T00:00:00.000000",
          "2015-05-31T00:00:00.000000",
          "2015-06-01T00:00:00.000000",
          "2015-06-02T00:00:00.000000",
          "2015-06-03T00:00:00.000000",
          "2015-06-04T00:00:00.000000",
          "2015-06-05T00:00:00.000000",
          "2015-06-06T00:00:00.000000",
          "2015-06-07T00:00:00.000000",
          "2015-06-08T00:00:00.000000",
          "2015-06-09T00:00:00.000000",
          "2015-06-10T00:00:00.000000",
          "2015-06-11T00:00:00.000000",
          "2015-06-12T00:00:00.000000",
          "2015-06-13T00:00:00.000000",
          "2015-06-14T00:00:00.000000",
          "2015-06-15T00:00:00.000000",
          "2015-06-16T00:00:00.000000",
          "2015-06-17T00:00:00.000000",
          "2015-06-18T00:00:00.000000",
          "2015-06-19T00:00:00.000000",
          "2015-06-20T00:00:00.000000",
          "2015-06-21T00:00:00.000000",
          "2015-06-22T00:00:00.000000",
          "2015-06-23T00:00:00.000000",
          "2015-06-24T00:00:00.000000",
          "2015-06-25T00:00:00.000000",
          "2015-06-26T00:00:00.000000",
          "2015-06-27T00:00:00.000000",
          "2015-06-28T00:00:00.000000",
          "2015-06-29T00:00:00.000000",
          "2015-06-30T00:00:00.000000"
         ],
         "xaxis": "x",
         "y": {
          "bdata": "AAAAAAAAAAAAAAEAAAAAAAEAAAAAAAEAAAAAAAAAAAAAAAAAAQABAAAAAAAAAAEAAAAAAAIAAAAAAAAAAAAAAAEAAQAAAAAAAgAAAAAAAAAAAAAAAAABAAAAAAABAAAAAAAAAAAAAAAAAAEAAQAAAAAAAAACAAAAAAABAAAAAQAAAAAAAQAAAAAAAQAAAAAAAAAAAAAAAAAAAAAAAQAAAAAAAAAAAAEAAAAAAAAAAAAAAAIAAgA=",
          "dtype": "i2"
         },
         "yaxis": "y"
        },
        {
         "hovertemplate": "Demand type sample=Erratic<br>Date=%{x}<br>Sales=%{y}<extra></extra>",
         "legendgroup": "Erratic",
         "line": {
          "color": "rgb(77,175,74)",
          "dash": "solid",
          "width": 2
         },
         "marker": {
          "symbol": "circle"
         },
         "mode": "lines",
         "name": "Erratic",
         "orientation": "v",
         "showlegend": true,
         "type": "scatter",
         "x": [
          "2015-04-01T00:00:00.000000",
          "2015-04-02T00:00:00.000000",
          "2015-04-03T00:00:00.000000",
          "2015-04-04T00:00:00.000000",
          "2015-04-05T00:00:00.000000",
          "2015-04-06T00:00:00.000000",
          "2015-04-07T00:00:00.000000",
          "2015-04-08T00:00:00.000000",
          "2015-04-09T00:00:00.000000",
          "2015-04-10T00:00:00.000000",
          "2015-04-11T00:00:00.000000",
          "2015-04-12T00:00:00.000000",
          "2015-04-13T00:00:00.000000",
          "2015-04-14T00:00:00.000000",
          "2015-04-15T00:00:00.000000",
          "2015-04-16T00:00:00.000000",
          "2015-04-17T00:00:00.000000",
          "2015-04-18T00:00:00.000000",
          "2015-04-19T00:00:00.000000",
          "2015-04-20T00:00:00.000000",
          "2015-04-21T00:00:00.000000",
          "2015-04-22T00:00:00.000000",
          "2015-04-23T00:00:00.000000",
          "2015-04-24T00:00:00.000000",
          "2015-04-25T00:00:00.000000",
          "2015-04-26T00:00:00.000000",
          "2015-04-27T00:00:00.000000",
          "2015-04-28T00:00:00.000000",
          "2015-04-29T00:00:00.000000",
          "2015-04-30T00:00:00.000000",
          "2015-05-01T00:00:00.000000",
          "2015-05-02T00:00:00.000000",
          "2015-05-03T00:00:00.000000",
          "2015-05-04T00:00:00.000000",
          "2015-05-05T00:00:00.000000",
          "2015-05-06T00:00:00.000000",
          "2015-05-07T00:00:00.000000",
          "2015-05-08T00:00:00.000000",
          "2015-05-09T00:00:00.000000",
          "2015-05-10T00:00:00.000000",
          "2015-05-11T00:00:00.000000",
          "2015-05-12T00:00:00.000000",
          "2015-05-13T00:00:00.000000",
          "2015-05-14T00:00:00.000000",
          "2015-05-15T00:00:00.000000",
          "2015-05-16T00:00:00.000000",
          "2015-05-17T00:00:00.000000",
          "2015-05-18T00:00:00.000000",
          "2015-05-19T00:00:00.000000",
          "2015-05-20T00:00:00.000000",
          "2015-05-21T00:00:00.000000",
          "2015-05-22T00:00:00.000000",
          "2015-05-23T00:00:00.000000",
          "2015-05-24T00:00:00.000000",
          "2015-05-25T00:00:00.000000",
          "2015-05-26T00:00:00.000000",
          "2015-05-27T00:00:00.000000",
          "2015-05-28T00:00:00.000000",
          "2015-05-29T00:00:00.000000",
          "2015-05-30T00:00:00.000000",
          "2015-05-31T00:00:00.000000",
          "2015-06-01T00:00:00.000000",
          "2015-06-02T00:00:00.000000",
          "2015-06-03T00:00:00.000000",
          "2015-06-04T00:00:00.000000",
          "2015-06-05T00:00:00.000000",
          "2015-06-06T00:00:00.000000",
          "2015-06-07T00:00:00.000000",
          "2015-06-08T00:00:00.000000",
          "2015-06-09T00:00:00.000000",
          "2015-06-10T00:00:00.000000",
          "2015-06-11T00:00:00.000000",
          "2015-06-12T00:00:00.000000",
          "2015-06-13T00:00:00.000000",
          "2015-06-14T00:00:00.000000",
          "2015-06-15T00:00:00.000000",
          "2015-06-16T00:00:00.000000",
          "2015-06-17T00:00:00.000000",
          "2015-06-18T00:00:00.000000",
          "2015-06-19T00:00:00.000000",
          "2015-06-20T00:00:00.000000",
          "2015-06-21T00:00:00.000000",
          "2015-06-22T00:00:00.000000",
          "2015-06-23T00:00:00.000000",
          "2015-06-24T00:00:00.000000",
          "2015-06-25T00:00:00.000000",
          "2015-06-26T00:00:00.000000",
          "2015-06-27T00:00:00.000000",
          "2015-06-28T00:00:00.000000",
          "2015-06-29T00:00:00.000000",
          "2015-06-30T00:00:00.000000"
         ],
         "xaxis": "x",
         "y": {
          "bdata": "BAADAAEAAgACAAEAAQAJAAEAAAABAAIAAQACAAQAAgADAAQAAgADAAIAAQABAAIABAADAAAAAQABAAEAAQABAAQAAgACAAMAAQAGAAAABgADAAEABAABAAQABwAGAAMAAgABAAAAAQADAAEAAgADAAIAAQAAAAQAAgACAAEAAgAHAAAAAQALAAUABAACAAUAAQAHAAMAAgACAAEAAQACAAIABAAGAAQACQABAAMABQABAAEAAgA=",
          "dtype": "i2"
         },
         "yaxis": "y"
        },
        {
         "hovertemplate": "Demand type sample=Lumpy<br>Date=%{x}<br>Sales=%{y}<extra></extra>",
         "legendgroup": "Lumpy",
         "line": {
          "color": "rgb(152,78,163)",
          "dash": "solid",
          "width": 2
         },
         "marker": {
          "symbol": "circle"
         },
         "mode": "lines",
         "name": "Lumpy",
         "orientation": "v",
         "showlegend": true,
         "type": "scatter",
         "x": [
          "2015-04-01T00:00:00.000000",
          "2015-04-02T00:00:00.000000",
          "2015-04-03T00:00:00.000000",
          "2015-04-04T00:00:00.000000",
          "2015-04-05T00:00:00.000000",
          "2015-04-06T00:00:00.000000",
          "2015-04-07T00:00:00.000000",
          "2015-04-08T00:00:00.000000",
          "2015-04-09T00:00:00.000000",
          "2015-04-10T00:00:00.000000",
          "2015-04-11T00:00:00.000000",
          "2015-04-12T00:00:00.000000",
          "2015-04-13T00:00:00.000000",
          "2015-04-14T00:00:00.000000",
          "2015-04-15T00:00:00.000000",
          "2015-04-16T00:00:00.000000",
          "2015-04-17T00:00:00.000000",
          "2015-04-18T00:00:00.000000",
          "2015-04-19T00:00:00.000000",
          "2015-04-20T00:00:00.000000",
          "2015-04-21T00:00:00.000000",
          "2015-04-22T00:00:00.000000",
          "2015-04-23T00:00:00.000000",
          "2015-04-24T00:00:00.000000",
          "2015-04-25T00:00:00.000000",
          "2015-04-26T00:00:00.000000",
          "2015-04-27T00:00:00.000000",
          "2015-04-28T00:00:00.000000",
          "2015-04-29T00:00:00.000000",
          "2015-04-30T00:00:00.000000",
          "2015-05-01T00:00:00.000000",
          "2015-05-02T00:00:00.000000",
          "2015-05-03T00:00:00.000000",
          "2015-05-04T00:00:00.000000",
          "2015-05-05T00:00:00.000000",
          "2015-05-06T00:00:00.000000",
          "2015-05-07T00:00:00.000000",
          "2015-05-08T00:00:00.000000",
          "2015-05-09T00:00:00.000000",
          "2015-05-10T00:00:00.000000",
          "2015-05-11T00:00:00.000000",
          "2015-05-12T00:00:00.000000",
          "2015-05-13T00:00:00.000000",
          "2015-05-14T00:00:00.000000",
          "2015-05-15T00:00:00.000000",
          "2015-05-16T00:00:00.000000",
          "2015-05-17T00:00:00.000000",
          "2015-05-18T00:00:00.000000",
          "2015-05-19T00:00:00.000000",
          "2015-05-20T00:00:00.000000",
          "2015-05-21T00:00:00.000000",
          "2015-05-22T00:00:00.000000",
          "2015-05-23T00:00:00.000000",
          "2015-05-24T00:00:00.000000",
          "2015-05-25T00:00:00.000000",
          "2015-05-26T00:00:00.000000",
          "2015-05-27T00:00:00.000000",
          "2015-05-28T00:00:00.000000",
          "2015-05-29T00:00:00.000000",
          "2015-05-30T00:00:00.000000",
          "2015-05-31T00:00:00.000000",
          "2015-06-01T00:00:00.000000",
          "2015-06-02T00:00:00.000000",
          "2015-06-03T00:00:00.000000",
          "2015-06-04T00:00:00.000000",
          "2015-06-05T00:00:00.000000",
          "2015-06-06T00:00:00.000000",
          "2015-06-07T00:00:00.000000",
          "2015-06-08T00:00:00.000000",
          "2015-06-09T00:00:00.000000",
          "2015-06-10T00:00:00.000000",
          "2015-06-11T00:00:00.000000",
          "2015-06-12T00:00:00.000000",
          "2015-06-13T00:00:00.000000",
          "2015-06-14T00:00:00.000000",
          "2015-06-15T00:00:00.000000",
          "2015-06-16T00:00:00.000000",
          "2015-06-17T00:00:00.000000",
          "2015-06-18T00:00:00.000000",
          "2015-06-19T00:00:00.000000",
          "2015-06-20T00:00:00.000000",
          "2015-06-21T00:00:00.000000",
          "2015-06-22T00:00:00.000000",
          "2015-06-23T00:00:00.000000",
          "2015-06-24T00:00:00.000000",
          "2015-06-25T00:00:00.000000",
          "2015-06-26T00:00:00.000000",
          "2015-06-27T00:00:00.000000",
          "2015-06-28T00:00:00.000000",
          "2015-06-29T00:00:00.000000",
          "2015-06-30T00:00:00.000000"
         ],
         "xaxis": "x",
         "y": {
          "bdata": "AAAAAAEAAQABAAMABQAEAAAAAAAAAAAAAgAAAAAAAQADAAAAAgAAAAQAAAAFAAEAAAABAAAAAAAAAAAAAAAAAAEAAAABAAEAAAAAAAAAAAAAAAAAAAAAAAAAAQAAAAAABgAAAAAAAAABAAEAAAABAAAAAAABAAAAAQAAAAAAAgAAAAAAAQAAAAAAAQAIAAAAAAAAAAAAAQAAAAAAAAAEAAEAAwABAAAAAQAAAAEAAAAAAAAAAAA=",
          "dtype": "i2"
         },
         "yaxis": "y"
        }
       ],
       "layout": {
        "height": 500,
        "legend": {
         "orientation": "v",
         "title": {
          "text": "Demand type sample"
         },
         "tracegroupgap": 0,
         "x": 1.1,
         "xanchor": "center",
         "y": 1
        },
        "template": {
         "data": {
          "bar": [
           {
            "error_x": {
             "color": "#2a3f5f"
            },
            "error_y": {
             "color": "#2a3f5f"
            },
            "marker": {
             "line": {
              "color": "white",
              "width": 0.5
             },
             "pattern": {
              "fillmode": "overlay",
              "size": 10,
              "solidity": 0.2
             }
            },
            "type": "bar"
           }
          ],
          "barpolar": [
           {
            "marker": {
             "line": {
              "color": "white",
              "width": 0.5
             },
             "pattern": {
              "fillmode": "overlay",
              "size": 10,
              "solidity": 0.2
             }
            },
            "type": "barpolar"
           }
          ],
          "carpet": [
           {
            "aaxis": {
             "endlinecolor": "#2a3f5f",
             "gridcolor": "#C8D4E3",
             "linecolor": "#C8D4E3",
             "minorgridcolor": "#C8D4E3",
             "startlinecolor": "#2a3f5f"
            },
            "baxis": {
             "endlinecolor": "#2a3f5f",
             "gridcolor": "#C8D4E3",
             "linecolor": "#C8D4E3",
             "minorgridcolor": "#C8D4E3",
             "startlinecolor": "#2a3f5f"
            },
            "type": "carpet"
           }
          ],
          "choropleth": [
           {
            "colorbar": {
             "outlinewidth": 0,
             "ticks": ""
            },
            "type": "choropleth"
           }
          ],
          "contour": [
           {
            "colorbar": {
             "outlinewidth": 0,
             "ticks": ""
            },
            "colorscale": [
             [
              0,
              "#0d0887"
             ],
             [
              0.1111111111111111,
              "#46039f"
             ],
             [
              0.2222222222222222,
              "#7201a8"
             ],
             [
              0.3333333333333333,
              "#9c179e"
             ],
             [
              0.4444444444444444,
              "#bd3786"
             ],
             [
              0.5555555555555556,
              "#d8576b"
             ],
             [
              0.6666666666666666,
              "#ed7953"
             ],
             [
              0.7777777777777778,
              "#fb9f3a"
             ],
             [
              0.8888888888888888,
              "#fdca26"
             ],
             [
              1,
              "#f0f921"
             ]
            ],
            "type": "contour"
           }
          ],
          "contourcarpet": [
           {
            "colorbar": {
             "outlinewidth": 0,
             "ticks": ""
            },
            "type": "contourcarpet"
           }
          ],
          "heatmap": [
           {
            "colorbar": {
             "outlinewidth": 0,
             "ticks": ""
            },
            "colorscale": [
             [
              0,
              "#0d0887"
             ],
             [
              0.1111111111111111,
              "#46039f"
             ],
             [
              0.2222222222222222,
              "#7201a8"
             ],
             [
              0.3333333333333333,
              "#9c179e"
             ],
             [
              0.4444444444444444,
              "#bd3786"
             ],
             [
              0.5555555555555556,
              "#d8576b"
             ],
             [
              0.6666666666666666,
              "#ed7953"
             ],
             [
              0.7777777777777778,
              "#fb9f3a"
             ],
             [
              0.8888888888888888,
              "#fdca26"
             ],
             [
              1,
              "#f0f921"
             ]
            ],
            "type": "heatmap"
           }
          ],
          "histogram": [
           {
            "marker": {
             "pattern": {
              "fillmode": "overlay",
              "size": 10,
              "solidity": 0.2
             }
            },
            "type": "histogram"
           }
          ],
          "histogram2d": [
           {
            "colorbar": {
             "outlinewidth": 0,
             "ticks": ""
            },
            "colorscale": [
             [
              0,
              "#0d0887"
             ],
             [
              0.1111111111111111,
              "#46039f"
             ],
             [
              0.2222222222222222,
              "#7201a8"
             ],
             [
              0.3333333333333333,
              "#9c179e"
             ],
             [
              0.4444444444444444,
              "#bd3786"
             ],
             [
              0.5555555555555556,
              "#d8576b"
             ],
             [
              0.6666666666666666,
              "#ed7953"
             ],
             [
              0.7777777777777778,
              "#fb9f3a"
             ],
             [
              0.8888888888888888,
              "#fdca26"
             ],
             [
              1,
              "#f0f921"
             ]
            ],
            "type": "histogram2d"
           }
          ],
          "histogram2dcontour": [
           {
            "colorbar": {
             "outlinewidth": 0,
             "ticks": ""
            },
            "colorscale": [
             [
              0,
              "#0d0887"
             ],
             [
              0.1111111111111111,
              "#46039f"
             ],
             [
              0.2222222222222222,
              "#7201a8"
             ],
             [
              0.3333333333333333,
              "#9c179e"
             ],
             [
              0.4444444444444444,
              "#bd3786"
             ],
             [
              0.5555555555555556,
              "#d8576b"
             ],
             [
              0.6666666666666666,
              "#ed7953"
             ],
             [
              0.7777777777777778,
              "#fb9f3a"
             ],
             [
              0.8888888888888888,
              "#fdca26"
             ],
             [
              1,
              "#f0f921"
             ]
            ],
            "type": "histogram2dcontour"
           }
          ],
          "mesh3d": [
           {
            "colorbar": {
             "outlinewidth": 0,
             "ticks": ""
            },
            "type": "mesh3d"
           }
          ],
          "parcoords": [
           {
            "line": {
             "colorbar": {
              "outlinewidth": 0,
              "ticks": ""
             }
            },
            "type": "parcoords"
           }
          ],
          "pie": [
           {
            "automargin": true,
            "type": "pie"
           }
          ],
          "scatter": [
           {
            "fillpattern": {
             "fillmode": "overlay",
             "size": 10,
             "solidity": 0.2
            },
            "type": "scatter"
           }
          ],
          "scatter3d": [
           {
            "line": {
             "colorbar": {
              "outlinewidth": 0,
              "ticks": ""
             }
            },
            "marker": {
             "colorbar": {
              "outlinewidth": 0,
              "ticks": ""
             }
            },
            "type": "scatter3d"
           }
          ],
          "scattercarpet": [
           {
            "marker": {
             "colorbar": {
              "outlinewidth": 0,
              "ticks": ""
             }
            },
            "type": "scattercarpet"
           }
          ],
          "scattergeo": [
           {
            "marker": {
             "colorbar": {
              "outlinewidth": 0,
              "ticks": ""
             }
            },
            "type": "scattergeo"
           }
          ],
          "scattergl": [
           {
            "marker": {
             "colorbar": {
              "outlinewidth": 0,
              "ticks": ""
             }
            },
            "type": "scattergl"
           }
          ],
          "scattermap": [
           {
            "marker": {
             "colorbar": {
              "outlinewidth": 0,
              "ticks": ""
             }
            },
            "type": "scattermap"
           }
          ],
          "scattermapbox": [
           {
            "marker": {
             "colorbar": {
              "outlinewidth": 0,
              "ticks": ""
             }
            },
            "type": "scattermapbox"
           }
          ],
          "scatterpolar": [
           {
            "marker": {
             "colorbar": {
              "outlinewidth": 0,
              "ticks": ""
             }
            },
            "type": "scatterpolar"
           }
          ],
          "scatterpolargl": [
           {
            "marker": {
             "colorbar": {
              "outlinewidth": 0,
              "ticks": ""
             }
            },
            "type": "scatterpolargl"
           }
          ],
          "scatterternary": [
           {
            "marker": {
             "colorbar": {
              "outlinewidth": 0,
              "ticks": ""
             }
            },
            "type": "scatterternary"
           }
          ],
          "surface": [
           {
            "colorbar": {
             "outlinewidth": 0,
             "ticks": ""
            },
            "colorscale": [
             [
              0,
              "#0d0887"
             ],
             [
              0.1111111111111111,
              "#46039f"
             ],
             [
              0.2222222222222222,
              "#7201a8"
             ],
             [
              0.3333333333333333,
              "#9c179e"
             ],
             [
              0.4444444444444444,
              "#bd3786"
             ],
             [
              0.5555555555555556,
              "#d8576b"
             ],
             [
              0.6666666666666666,
              "#ed7953"
             ],
             [
              0.7777777777777778,
              "#fb9f3a"
             ],
             [
              0.8888888888888888,
              "#fdca26"
             ],
             [
              1,
              "#f0f921"
             ]
            ],
            "type": "surface"
           }
          ],
          "table": [
           {
            "cells": {
             "fill": {
              "color": "#EBF0F8"
             },
             "line": {
              "color": "white"
             }
            },
            "header": {
             "fill": {
              "color": "#C8D4E3"
             },
             "line": {
              "color": "white"
             }
            },
            "type": "table"
           }
          ]
         },
         "layout": {
          "annotationdefaults": {
           "arrowcolor": "#2a3f5f",
           "arrowhead": 0,
           "arrowwidth": 1
          },
          "autotypenumbers": "strict",
          "coloraxis": {
           "colorbar": {
            "outlinewidth": 0,
            "ticks": ""
           }
          },
          "colorscale": {
           "diverging": [
            [
             0,
             "#8e0152"
            ],
            [
             0.1,
             "#c51b7d"
            ],
            [
             0.2,
             "#de77ae"
            ],
            [
             0.3,
             "#f1b6da"
            ],
            [
             0.4,
             "#fde0ef"
            ],
            [
             0.5,
             "#f7f7f7"
            ],
            [
             0.6,
             "#e6f5d0"
            ],
            [
             0.7,
             "#b8e186"
            ],
            [
             0.8,
             "#7fbc41"
            ],
            [
             0.9,
             "#4d9221"
            ],
            [
             1,
             "#276419"
            ]
           ],
           "sequential": [
            [
             0,
             "#0d0887"
            ],
            [
             0.1111111111111111,
             "#46039f"
            ],
            [
             0.2222222222222222,
             "#7201a8"
            ],
            [
             0.3333333333333333,
             "#9c179e"
            ],
            [
             0.4444444444444444,
             "#bd3786"
            ],
            [
             0.5555555555555556,
             "#d8576b"
            ],
            [
             0.6666666666666666,
             "#ed7953"
            ],
            [
             0.7777777777777778,
             "#fb9f3a"
            ],
            [
             0.8888888888888888,
             "#fdca26"
            ],
            [
             1,
             "#f0f921"
            ]
           ],
           "sequentialminus": [
            [
             0,
             "#0d0887"
            ],
            [
             0.1111111111111111,
             "#46039f"
            ],
            [
             0.2222222222222222,
             "#7201a8"
            ],
            [
             0.3333333333333333,
             "#9c179e"
            ],
            [
             0.4444444444444444,
             "#bd3786"
            ],
            [
             0.5555555555555556,
             "#d8576b"
            ],
            [
             0.6666666666666666,
             "#ed7953"
            ],
            [
             0.7777777777777778,
             "#fb9f3a"
            ],
            [
             0.8888888888888888,
             "#fdca26"
            ],
            [
             1,
             "#f0f921"
            ]
           ]
          },
          "colorway": [
           "#636efa",
           "#EF553B",
           "#00cc96",
           "#ab63fa",
           "#FFA15A",
           "#19d3f3",
           "#FF6692",
           "#B6E880",
           "#FF97FF",
           "#FECB52"
          ],
          "font": {
           "color": "#2a3f5f"
          },
          "geo": {
           "bgcolor": "white",
           "lakecolor": "white",
           "landcolor": "white",
           "showlakes": true,
           "showland": true,
           "subunitcolor": "#C8D4E3"
          },
          "hoverlabel": {
           "align": "left"
          },
          "hovermode": "closest",
          "mapbox": {
           "style": "light"
          },
          "paper_bgcolor": "white",
          "plot_bgcolor": "white",
          "polar": {
           "angularaxis": {
            "gridcolor": "#EBF0F8",
            "linecolor": "#EBF0F8",
            "ticks": ""
           },
           "bgcolor": "white",
           "radialaxis": {
            "gridcolor": "#EBF0F8",
            "linecolor": "#EBF0F8",
            "ticks": ""
           }
          },
          "scene": {
           "xaxis": {
            "backgroundcolor": "white",
            "gridcolor": "#DFE8F3",
            "gridwidth": 2,
            "linecolor": "#EBF0F8",
            "showbackground": true,
            "ticks": "",
            "zerolinecolor": "#EBF0F8"
           },
           "yaxis": {
            "backgroundcolor": "white",
            "gridcolor": "#DFE8F3",
            "gridwidth": 2,
            "linecolor": "#EBF0F8",
            "showbackground": true,
            "ticks": "",
            "zerolinecolor": "#EBF0F8"
           },
           "zaxis": {
            "backgroundcolor": "white",
            "gridcolor": "#DFE8F3",
            "gridwidth": 2,
            "linecolor": "#EBF0F8",
            "showbackground": true,
            "ticks": "",
            "zerolinecolor": "#EBF0F8"
           }
          },
          "shapedefaults": {
           "line": {
            "color": "#2a3f5f"
           }
          },
          "ternary": {
           "aaxis": {
            "gridcolor": "#DFE8F3",
            "linecolor": "#A2B1C6",
            "ticks": ""
           },
           "baxis": {
            "gridcolor": "#DFE8F3",
            "linecolor": "#A2B1C6",
            "ticks": ""
           },
           "bgcolor": "white",
           "caxis": {
            "gridcolor": "#DFE8F3",
            "linecolor": "#A2B1C6",
            "ticks": ""
           }
          },
          "title": {
           "x": 0.05
          },
          "xaxis": {
           "automargin": true,
           "gridcolor": "#EBF0F8",
           "linecolor": "#EBF0F8",
           "ticks": "",
           "title": {
            "standoff": 15
           },
           "zerolinecolor": "#EBF0F8",
           "zerolinewidth": 2
          },
          "yaxis": {
           "automargin": true,
           "gridcolor": "#EBF0F8",
           "linecolor": "#EBF0F8",
           "ticks": "",
           "title": {
            "standoff": 15
           },
           "zerolinecolor": "#EBF0F8",
           "zerolinewidth": 2
          }
         }
        },
        "title": {
         "font": {
          "color": "black",
          "family": "Arial",
          "size": 22
         },
         "text": "Sales over time by demand type",
         "x": 0.5
        },
        "width": 1600,
        "xaxis": {
         "anchor": "y",
         "domain": [
          0,
          1
         ],
         "gridcolor": "lightgray",
         "griddash": "dot",
         "gridwidth": 1,
         "showgrid": false,
         "tickangle": 0,
         "title": {
          "text": "Date"
         }
        },
        "yaxis": {
         "anchor": "x",
         "domain": [
          0,
          1
         ],
         "dtick": 2,
         "gridcolor": "lightgray",
         "griddash": "dot",
         "gridwidth": 1,
         "range": [
          0,
          13
         ],
         "showgrid": true,
         "tick0": 0,
         "title": {
          "text": "Sales"
         }
        }
       }
      }
     },
     "metadata": {},
     "output_type": "display_data"
    }
   ],
   "source": [
    "import plotly.express as px\n",
    "\n",
    "fig = px.line(\n",
    "    sample_sales,\n",
    "    x=\"date\",\n",
    "    y=\"sales\",\n",
    "    color=\"demand_type\",\n",
    "    category_orders={\"demand_type\": choices},\n",
    "    markers=False,\n",
    "    title=\"Sales over time by demand type\",\n",
    "    labels={\n",
    "        \"date\": \"Date\",\n",
    "        \"sales\": \"Sales\",\n",
    "        \"demand_type\": \"Demand type sample\"\n",
    "    },\n",
    "    template=\"plotly_white\",\n",
    "    color_discrete_sequence=px.colors.qualitative.Set1,\n",
    "    width=1600, height=500\n",
    ")\n",
    "\n",
    "fig.update_traces(line=dict(\n",
    "    width=2)\n",
    "    )\n",
    "\n",
    "fig.update_layout(\n",
    "    title=dict(\n",
    "        x=0.5,\n",
    "        font=dict(size=22,\n",
    "                family=\"Arial\",\n",
    "                color=\"black\")\n",
    "    ),\n",
    "    xaxis=dict(\n",
    "        showgrid=False,\n",
    "        gridcolor=\"lightgray\",\n",
    "        tickangle=0,\n",
    "        gridwidth=1,\n",
    "        griddash='dot'\n",
    "    ),\n",
    "    yaxis=dict(\n",
    "        showgrid=True,\n",
    "        gridcolor=\"lightgray\",\n",
    "        gridwidth=1,\n",
    "        griddash='dot',\n",
    "        tick0=0,\n",
    "        dtick=2,\n",
    "        range=[0, 13]\n",
    "    ),\n",
    "    legend=dict(\n",
    "        title=\"Demand type sample\",\n",
    "        orientation=\"v\",\n",
    "        xanchor=\"center\",\n",
    "        x=1.1,\n",
    "        y=1,\n",
    "    )\n",
    ")\n",
    "\n",
    "fig.show()\n"
   ]
  },
  {
   "cell_type": "markdown",
   "id": "951eb21b",
   "metadata": {},
   "source": [
    "# Forecasting"
   ]
  },
  {
   "cell_type": "code",
   "execution_count": 532,
   "id": "a6b2734a",
   "metadata": {},
   "outputs": [
    {
     "data": {
      "application/javascript": "\n        if (window._pyforest_update_imports_cell) { window._pyforest_update_imports_cell('from sklearn.linear_model import LassoCV\\nfrom statsmodels.tsa.arima_model import ARIMA\\nfrom pathlib import Path\\nimport pandas as pd\\nfrom sklearn.model_selection import GridSearchCV\\nfrom sklearn.feature_extraction.text import CountVectorizer\\nfrom sklearn.linear_model import LogisticRegression\\nfrom sklearn.decomposition import PCA\\nfrom sklearn.preprocessing import OneHotEncoder\\nfrom PIL import Image\\nfrom sklearn.linear_model import ElasticNetCV\\nfrom sklearn.preprocessing import PolynomialFeatures\\nfrom sklearn.preprocessing import MinMaxScaler\\nfrom sklearn.ensemble import GradientBoostingClassifier\\nfrom sklearn.linear_model import LinearRegression\\nfrom sklearn.linear_model import Lasso\\nfrom sklearn.cluster import KMeans\\nfrom sklearn.linear_model import ElasticNet\\nfrom sklearn.preprocessing import LabelEncoder\\nfrom sklearn.ensemble import GradientBoostingRegressor\\nfrom sklearn.model_selection import KFold'); }\n    ",
      "text/plain": [
       "<IPython.core.display.Javascript object>"
      ]
     },
     "metadata": {},
     "output_type": "display_data"
    },
    {
     "data": {
      "application/javascript": "\n        if (window._pyforest_update_imports_cell) { window._pyforest_update_imports_cell('from sklearn.linear_model import LassoCV\\nfrom statsmodels.tsa.arima_model import ARIMA\\nfrom pathlib import Path\\nimport pandas as pd\\nfrom sklearn.model_selection import GridSearchCV\\nfrom sklearn.feature_extraction.text import CountVectorizer\\nfrom sklearn.linear_model import LogisticRegression\\nfrom sklearn.decomposition import PCA\\nfrom sklearn.preprocessing import OneHotEncoder\\nfrom PIL import Image\\nfrom sklearn.linear_model import ElasticNetCV\\nfrom sklearn.preprocessing import PolynomialFeatures\\nfrom sklearn.preprocessing import MinMaxScaler\\nfrom sklearn.ensemble import GradientBoostingClassifier\\nfrom sklearn.linear_model import LinearRegression\\nfrom sklearn.linear_model import Lasso\\nfrom sklearn.cluster import KMeans\\nfrom sklearn.linear_model import ElasticNet\\nfrom sklearn.preprocessing import LabelEncoder\\nfrom sklearn.ensemble import GradientBoostingRegressor\\nfrom sklearn.model_selection import KFold'); }\n    ",
      "text/plain": [
       "<IPython.core.display.Javascript object>"
      ]
     },
     "metadata": {},
     "output_type": "display_data"
    },
    {
     "data": {
      "application/javascript": "\n        if (window._pyforest_update_imports_cell) { window._pyforest_update_imports_cell('from sklearn.linear_model import LassoCV\\nfrom statsmodels.tsa.arima_model import ARIMA\\nfrom pathlib import Path\\nimport pandas as pd\\nfrom sklearn.model_selection import GridSearchCV\\nfrom sklearn.feature_extraction.text import CountVectorizer\\nfrom sklearn.linear_model import LogisticRegression\\nfrom sklearn.decomposition import PCA\\nfrom sklearn.preprocessing import OneHotEncoder\\nfrom PIL import Image\\nfrom sklearn.linear_model import ElasticNetCV\\nfrom sklearn.preprocessing import PolynomialFeatures\\nfrom sklearn.preprocessing import MinMaxScaler\\nfrom sklearn.ensemble import GradientBoostingClassifier\\nfrom sklearn.linear_model import LinearRegression\\nfrom sklearn.linear_model import Lasso\\nfrom sklearn.cluster import KMeans\\nfrom sklearn.linear_model import ElasticNet\\nfrom sklearn.preprocessing import LabelEncoder\\nfrom sklearn.ensemble import GradientBoostingRegressor\\nfrom sklearn.model_selection import KFold'); }\n    ",
      "text/plain": [
       "<IPython.core.display.Javascript object>"
      ]
     },
     "metadata": {},
     "output_type": "display_data"
    },
    {
     "data": {
      "application/javascript": "\n        if (window._pyforest_update_imports_cell) { window._pyforest_update_imports_cell('from sklearn.linear_model import LassoCV\\nfrom statsmodels.tsa.arima_model import ARIMA\\nfrom pathlib import Path\\nimport pandas as pd\\nfrom sklearn.model_selection import GridSearchCV\\nfrom sklearn.feature_extraction.text import CountVectorizer\\nfrom sklearn.linear_model import LogisticRegression\\nfrom sklearn.decomposition import PCA\\nfrom sklearn.preprocessing import OneHotEncoder\\nfrom PIL import Image\\nfrom sklearn.linear_model import ElasticNetCV\\nfrom sklearn.preprocessing import PolynomialFeatures\\nfrom sklearn.preprocessing import MinMaxScaler\\nfrom sklearn.ensemble import GradientBoostingClassifier\\nfrom sklearn.linear_model import LinearRegression\\nfrom sklearn.linear_model import Lasso\\nfrom sklearn.cluster import KMeans\\nfrom sklearn.linear_model import ElasticNet\\nfrom sklearn.preprocessing import LabelEncoder\\nfrom sklearn.ensemble import GradientBoostingRegressor\\nfrom sklearn.model_selection import KFold'); }\n    ",
      "text/plain": [
       "<IPython.core.display.Javascript object>"
      ]
     },
     "metadata": {},
     "output_type": "display_data"
    },
    {
     "data": {
      "application/javascript": "\n        if (window._pyforest_update_imports_cell) { window._pyforest_update_imports_cell('from sklearn.linear_model import LassoCV\\nfrom statsmodels.tsa.arima_model import ARIMA\\nfrom pathlib import Path\\nimport pandas as pd\\nfrom sklearn.model_selection import GridSearchCV\\nfrom sklearn.feature_extraction.text import CountVectorizer\\nfrom sklearn.linear_model import LogisticRegression\\nimport numpy as np\\nfrom sklearn.decomposition import PCA\\nfrom sklearn.preprocessing import OneHotEncoder\\nfrom PIL import Image\\nfrom sklearn.linear_model import ElasticNetCV\\nfrom sklearn.preprocessing import PolynomialFeatures\\nfrom sklearn.preprocessing import MinMaxScaler\\nfrom sklearn.ensemble import GradientBoostingClassifier\\nfrom sklearn.linear_model import LinearRegression\\nfrom sklearn.linear_model import Lasso\\nfrom sklearn.cluster import KMeans\\nfrom sklearn.linear_model import ElasticNet\\nfrom sklearn.preprocessing import LabelEncoder\\nfrom sklearn.ensemble import GradientBoostingRegressor\\nfrom sklearn.model_selection import KFold'); }\n    ",
      "text/plain": [
       "<IPython.core.display.Javascript object>"
      ]
     },
     "metadata": {},
     "output_type": "display_data"
    },
    {
     "data": {
      "application/javascript": "\n        if (window._pyforest_update_imports_cell) { window._pyforest_update_imports_cell('from sklearn.linear_model import LassoCV\\nfrom statsmodels.tsa.arima_model import ARIMA\\nfrom pathlib import Path\\nimport pandas as pd\\nfrom sklearn.model_selection import GridSearchCV\\nfrom sklearn.feature_extraction.text import CountVectorizer\\nfrom sklearn.linear_model import LogisticRegression\\nimport numpy as np\\nfrom sklearn.decomposition import PCA\\nfrom sklearn.preprocessing import OneHotEncoder\\nfrom PIL import Image\\nfrom sklearn.linear_model import ElasticNetCV\\nfrom sklearn.preprocessing import PolynomialFeatures\\nfrom sklearn.preprocessing import MinMaxScaler\\nfrom sklearn.ensemble import GradientBoostingClassifier\\nfrom sklearn.linear_model import LinearRegression\\nfrom sklearn.linear_model import Lasso\\nfrom sklearn.cluster import KMeans\\nfrom sklearn.linear_model import ElasticNet\\nfrom sklearn.preprocessing import LabelEncoder\\nfrom sklearn.ensemble import GradientBoostingRegressor\\nfrom sklearn.model_selection import KFold'); }\n    ",
      "text/plain": [
       "<IPython.core.display.Javascript object>"
      ]
     },
     "metadata": {},
     "output_type": "display_data"
    },
    {
     "data": {
      "application/javascript": "\n        if (window._pyforest_update_imports_cell) { window._pyforest_update_imports_cell('from sklearn.linear_model import LassoCV\\nfrom statsmodels.tsa.arima_model import ARIMA\\nfrom pathlib import Path\\nimport pandas as pd\\nfrom sklearn.model_selection import GridSearchCV\\nfrom sklearn.feature_extraction.text import CountVectorizer\\nfrom sklearn.linear_model import LogisticRegression\\nimport numpy as np\\nfrom sklearn.decomposition import PCA\\nfrom sklearn.preprocessing import OneHotEncoder\\nfrom PIL import Image\\nfrom sklearn.linear_model import ElasticNetCV\\nfrom sklearn.preprocessing import PolynomialFeatures\\nfrom sklearn.preprocessing import MinMaxScaler\\nfrom sklearn.ensemble import GradientBoostingClassifier\\nfrom sklearn.linear_model import LinearRegression\\nfrom sklearn.linear_model import Lasso\\nfrom sklearn.cluster import KMeans\\nfrom sklearn.linear_model import ElasticNet\\nfrom sklearn.preprocessing import LabelEncoder\\nfrom sklearn.ensemble import GradientBoostingRegressor\\nfrom sklearn.model_selection import KFold'); }\n    ",
      "text/plain": [
       "<IPython.core.display.Javascript object>"
      ]
     },
     "metadata": {},
     "output_type": "display_data"
    },
    {
     "data": {
      "application/javascript": "\n        if (window._pyforest_update_imports_cell) { window._pyforest_update_imports_cell('from sklearn.linear_model import LassoCV\\nfrom statsmodels.tsa.arima_model import ARIMA\\nfrom pathlib import Path\\nimport pandas as pd\\nfrom sklearn.model_selection import GridSearchCV\\nfrom sklearn.feature_extraction.text import CountVectorizer\\nfrom sklearn.linear_model import LogisticRegression\\nimport numpy as np\\nfrom sklearn.decomposition import PCA\\nfrom sklearn.preprocessing import OneHotEncoder\\nfrom PIL import Image\\nfrom sklearn.linear_model import ElasticNetCV\\nfrom sklearn.preprocessing import PolynomialFeatures\\nfrom sklearn.preprocessing import MinMaxScaler\\nfrom sklearn.ensemble import GradientBoostingClassifier\\nfrom sklearn.linear_model import LinearRegression\\nfrom sklearn.linear_model import Lasso\\nfrom sklearn.cluster import KMeans\\nfrom sklearn.linear_model import ElasticNet\\nfrom sklearn.preprocessing import LabelEncoder\\nfrom sklearn.ensemble import GradientBoostingRegressor\\nfrom sklearn.model_selection import KFold'); }\n    ",
      "text/plain": [
       "<IPython.core.display.Javascript object>"
      ]
     },
     "metadata": {},
     "output_type": "display_data"
    },
    {
     "data": {
      "application/javascript": "\n        if (window._pyforest_update_imports_cell) { window._pyforest_update_imports_cell('from sklearn.linear_model import LassoCV\\nfrom statsmodels.tsa.arima_model import ARIMA\\nfrom pathlib import Path\\nimport pandas as pd\\nfrom sklearn.model_selection import GridSearchCV\\nfrom sklearn.feature_extraction.text import CountVectorizer\\nfrom sklearn.linear_model import LogisticRegression\\nimport numpy as np\\nfrom sklearn.decomposition import PCA\\nfrom sklearn.preprocessing import OneHotEncoder\\nfrom PIL import Image\\nfrom sklearn.linear_model import ElasticNetCV\\nfrom sklearn.preprocessing import PolynomialFeatures\\nfrom sklearn.preprocessing import MinMaxScaler\\nfrom sklearn.ensemble import GradientBoostingClassifier\\nfrom sklearn.linear_model import LinearRegression\\nfrom sklearn.linear_model import Lasso\\nfrom sklearn.cluster import KMeans\\nfrom sklearn.linear_model import ElasticNet\\nfrom sklearn.preprocessing import LabelEncoder\\nfrom sklearn.ensemble import GradientBoostingRegressor\\nfrom sklearn.model_selection import KFold'); }\n    ",
      "text/plain": [
       "<IPython.core.display.Javascript object>"
      ]
     },
     "metadata": {},
     "output_type": "display_data"
    },
    {
     "data": {
      "application/javascript": "\n        if (window._pyforest_update_imports_cell) { window._pyforest_update_imports_cell('from sklearn.linear_model import LassoCV\\nfrom statsmodels.tsa.arima_model import ARIMA\\nfrom pathlib import Path\\nimport pandas as pd\\nfrom sklearn.model_selection import GridSearchCV\\nfrom sklearn.feature_extraction.text import CountVectorizer\\nfrom sklearn.linear_model import LogisticRegression\\nimport numpy as np\\nfrom sklearn.decomposition import PCA\\nfrom sklearn.preprocessing import OneHotEncoder\\nfrom PIL import Image\\nfrom sklearn.linear_model import ElasticNetCV\\nfrom sklearn.preprocessing import PolynomialFeatures\\nfrom sklearn.preprocessing import MinMaxScaler\\nfrom sklearn.ensemble import GradientBoostingClassifier\\nfrom sklearn.linear_model import LinearRegression\\nfrom sklearn.linear_model import Lasso\\nfrom sklearn.cluster import KMeans\\nfrom sklearn.linear_model import ElasticNet\\nfrom sklearn.preprocessing import LabelEncoder\\nfrom sklearn.ensemble import GradientBoostingRegressor\\nfrom sklearn.model_selection import KFold'); }\n    ",
      "text/plain": [
       "<IPython.core.display.Javascript object>"
      ]
     },
     "metadata": {},
     "output_type": "display_data"
    },
    {
     "data": {
      "application/javascript": "\n        if (window._pyforest_update_imports_cell) { window._pyforest_update_imports_cell('from sklearn.linear_model import LassoCV\\nfrom statsmodels.tsa.arima_model import ARIMA\\nfrom pathlib import Path\\nimport pandas as pd\\nfrom sklearn.model_selection import GridSearchCV\\nfrom sklearn.feature_extraction.text import CountVectorizer\\nfrom sklearn.linear_model import LogisticRegression\\nimport numpy as np\\nfrom sklearn.decomposition import PCA\\nfrom sklearn.preprocessing import OneHotEncoder\\nfrom PIL import Image\\nfrom sklearn.linear_model import ElasticNetCV\\nfrom sklearn.preprocessing import PolynomialFeatures\\nfrom sklearn.preprocessing import MinMaxScaler\\nfrom sklearn.ensemble import GradientBoostingClassifier\\nfrom sklearn.linear_model import LinearRegression\\nfrom sklearn.linear_model import Lasso\\nfrom sklearn.cluster import KMeans\\nfrom sklearn.linear_model import ElasticNet\\nfrom sklearn.preprocessing import LabelEncoder\\nfrom sklearn.ensemble import GradientBoostingRegressor\\nfrom sklearn.model_selection import KFold'); }\n    ",
      "text/plain": [
       "<IPython.core.display.Javascript object>"
      ]
     },
     "metadata": {},
     "output_type": "display_data"
    },
    {
     "data": {
      "application/javascript": "\n        if (window._pyforest_update_imports_cell) { window._pyforest_update_imports_cell('from sklearn.linear_model import LassoCV\\nfrom statsmodels.tsa.arima_model import ARIMA\\nfrom pathlib import Path\\nimport pandas as pd\\nfrom sklearn.model_selection import GridSearchCV\\nfrom sklearn.feature_extraction.text import CountVectorizer\\nfrom sklearn.linear_model import LogisticRegression\\nimport numpy as np\\nfrom sklearn.decomposition import PCA\\nfrom sklearn.preprocessing import OneHotEncoder\\nfrom PIL import Image\\nfrom sklearn.linear_model import ElasticNetCV\\nfrom sklearn.preprocessing import PolynomialFeatures\\nfrom sklearn.preprocessing import MinMaxScaler\\nfrom sklearn.ensemble import GradientBoostingClassifier\\nfrom sklearn.linear_model import LinearRegression\\nfrom sklearn.linear_model import Lasso\\nfrom sklearn.cluster import KMeans\\nfrom sklearn.linear_model import ElasticNet\\nfrom sklearn.preprocessing import LabelEncoder\\nfrom sklearn.ensemble import GradientBoostingRegressor\\nfrom sklearn.model_selection import KFold'); }\n    ",
      "text/plain": [
       "<IPython.core.display.Javascript object>"
      ]
     },
     "metadata": {},
     "output_type": "display_data"
    }
   ],
   "source": [
    "def naive_model(series: pd.Series) -> pd.Series:\n",
    "    \"\"\"\n",
    "    Forecast Naive: simplemente usa el valor anterior.\n",
    "    Devuelve NaN en la primera posición.\n",
    "    \"\"\"\n",
    "    return series.shift(1).round(0).astype('Int16')\n",
    "\n",
    "\n",
    "def ses_model(series: pd.Series, alpha: float = 0.5) -> pd.Series:\n",
    "    \"\"\"\n",
    "    Simple Exponential Smoothing con NumPy.\n",
    "    alpha: factor de suavizamiento (0<alpha<=1).\n",
    "    \"\"\"\n",
    "    values = series.to_numpy(dtype=float)\n",
    "    result = np.empty_like(values, dtype=float)\n",
    "    \n",
    "    result[0] = values[0]\n",
    "\n",
    "    for t in range(1, len(values)):\n",
    "        result[t] = alpha * values[t] + (1 - alpha) * result[t-1]\n",
    "    \n",
    "    return pd.Series(result, index=series.index).round(0).astype('Int16')\n",
    "\n",
    "sample_sales[\"naive_forecast\"] = (\n",
    "    sample_sales.groupby(\"demand_type\", observed=True)[\"sales\"]\n",
    "    .transform(naive_model)\n",
    ")\n",
    "\n",
    "sample_sales[\"ses_forecast\"] = (\n",
    "    sample_sales.groupby(\"demand_type\", observed=True)[\"sales\"]\n",
    "    .transform(lambda x: ses_model(x, alpha=0.5))\n",
    ")\n"
   ]
  },
  {
   "cell_type": "code",
   "execution_count": 533,
   "id": "69d697af",
   "metadata": {},
   "outputs": [
    {
     "data": {
      "application/vnd.plotly.v1+json": {
       "config": {
        "plotlyServerURL": "https://plot.ly"
       },
       "data": [
        {
         "hovertemplate": "Serie=sales<br>Fecha=%{x}<br>Unidades=%{y}<extra></extra>",
         "legendgroup": "sales",
         "line": {
          "color": "#636efa",
          "dash": "solid",
          "width": 2
         },
         "marker": {
          "symbol": "circle"
         },
         "mode": "lines",
         "name": "sales",
         "orientation": "v",
         "showlegend": true,
         "type": "scatter",
         "x": [
          "2015-04-01T00:00:00.000000",
          "2015-04-02T00:00:00.000000",
          "2015-04-03T00:00:00.000000",
          "2015-04-04T00:00:00.000000",
          "2015-04-05T00:00:00.000000",
          "2015-04-06T00:00:00.000000",
          "2015-04-07T00:00:00.000000",
          "2015-04-08T00:00:00.000000",
          "2015-04-09T00:00:00.000000",
          "2015-04-10T00:00:00.000000",
          "2015-04-11T00:00:00.000000",
          "2015-04-12T00:00:00.000000",
          "2015-04-13T00:00:00.000000",
          "2015-04-14T00:00:00.000000",
          "2015-04-15T00:00:00.000000",
          "2015-04-16T00:00:00.000000",
          "2015-04-17T00:00:00.000000",
          "2015-04-18T00:00:00.000000",
          "2015-04-19T00:00:00.000000",
          "2015-04-20T00:00:00.000000",
          "2015-04-21T00:00:00.000000",
          "2015-04-22T00:00:00.000000",
          "2015-04-23T00:00:00.000000",
          "2015-04-24T00:00:00.000000",
          "2015-04-25T00:00:00.000000",
          "2015-04-26T00:00:00.000000",
          "2015-04-27T00:00:00.000000",
          "2015-04-28T00:00:00.000000",
          "2015-04-29T00:00:00.000000",
          "2015-04-30T00:00:00.000000",
          "2015-05-01T00:00:00.000000",
          "2015-05-02T00:00:00.000000",
          "2015-05-03T00:00:00.000000",
          "2015-05-04T00:00:00.000000",
          "2015-05-05T00:00:00.000000",
          "2015-05-06T00:00:00.000000",
          "2015-05-07T00:00:00.000000",
          "2015-05-08T00:00:00.000000",
          "2015-05-09T00:00:00.000000",
          "2015-05-10T00:00:00.000000",
          "2015-05-11T00:00:00.000000",
          "2015-05-12T00:00:00.000000",
          "2015-05-13T00:00:00.000000",
          "2015-05-14T00:00:00.000000",
          "2015-05-15T00:00:00.000000",
          "2015-05-16T00:00:00.000000",
          "2015-05-17T00:00:00.000000",
          "2015-05-18T00:00:00.000000",
          "2015-05-19T00:00:00.000000",
          "2015-05-20T00:00:00.000000",
          "2015-05-21T00:00:00.000000",
          "2015-05-22T00:00:00.000000",
          "2015-05-23T00:00:00.000000",
          "2015-05-24T00:00:00.000000",
          "2015-05-25T00:00:00.000000",
          "2015-05-26T00:00:00.000000",
          "2015-05-27T00:00:00.000000",
          "2015-05-28T00:00:00.000000",
          "2015-05-29T00:00:00.000000",
          "2015-05-30T00:00:00.000000",
          "2015-05-31T00:00:00.000000",
          "2015-06-01T00:00:00.000000",
          "2015-06-02T00:00:00.000000",
          "2015-06-03T00:00:00.000000",
          "2015-06-04T00:00:00.000000",
          "2015-06-05T00:00:00.000000",
          "2015-06-06T00:00:00.000000",
          "2015-06-07T00:00:00.000000",
          "2015-06-08T00:00:00.000000",
          "2015-06-09T00:00:00.000000",
          "2015-06-10T00:00:00.000000",
          "2015-06-11T00:00:00.000000",
          "2015-06-12T00:00:00.000000",
          "2015-06-13T00:00:00.000000",
          "2015-06-14T00:00:00.000000",
          "2015-06-15T00:00:00.000000",
          "2015-06-16T00:00:00.000000",
          "2015-06-17T00:00:00.000000",
          "2015-06-18T00:00:00.000000",
          "2015-06-19T00:00:00.000000",
          "2015-06-20T00:00:00.000000",
          "2015-06-21T00:00:00.000000",
          "2015-06-22T00:00:00.000000",
          "2015-06-23T00:00:00.000000",
          "2015-06-24T00:00:00.000000",
          "2015-06-25T00:00:00.000000",
          "2015-06-26T00:00:00.000000",
          "2015-06-27T00:00:00.000000",
          "2015-06-28T00:00:00.000000",
          "2015-06-29T00:00:00.000000",
          "2015-06-30T00:00:00.000000"
         ],
         "xaxis": "x",
         "y": {
          "bdata": "AgADAAEABQACAAMAAgABAAMAAQADAAMABAACAAMAAgABAAIAAgACAAMAAwADAAIABgAEAAMAAQADAAUABAADAAIABAACAAEABAADAAQABwAEAAIAAAAAAAMAAwAGAAIAAQADAAAAAAACAAUABwAEAAIABAADAAQABAAFAAIAAgAEAAUAAQAFAAUAAgACAAIAAwACAAMABQACAAIABAADAAEABAACAAUAAQADAAIAAgABAAMAAwA=",
          "dtype": "i2"
         },
         "yaxis": "y"
        },
        {
         "hovertemplate": "Serie=naive_forecast<br>Fecha=%{x}<br>Unidades=%{y}<extra></extra>",
         "legendgroup": "naive_forecast",
         "line": {
          "color": "#EF553B",
          "dash": "solid",
          "width": 2
         },
         "marker": {
          "symbol": "circle"
         },
         "mode": "lines",
         "name": "naive_forecast",
         "orientation": "v",
         "showlegend": true,
         "type": "scatter",
         "x": [
          "2015-04-01T00:00:00.000000",
          "2015-04-02T00:00:00.000000",
          "2015-04-03T00:00:00.000000",
          "2015-04-04T00:00:00.000000",
          "2015-04-05T00:00:00.000000",
          "2015-04-06T00:00:00.000000",
          "2015-04-07T00:00:00.000000",
          "2015-04-08T00:00:00.000000",
          "2015-04-09T00:00:00.000000",
          "2015-04-10T00:00:00.000000",
          "2015-04-11T00:00:00.000000",
          "2015-04-12T00:00:00.000000",
          "2015-04-13T00:00:00.000000",
          "2015-04-14T00:00:00.000000",
          "2015-04-15T00:00:00.000000",
          "2015-04-16T00:00:00.000000",
          "2015-04-17T00:00:00.000000",
          "2015-04-18T00:00:00.000000",
          "2015-04-19T00:00:00.000000",
          "2015-04-20T00:00:00.000000",
          "2015-04-21T00:00:00.000000",
          "2015-04-22T00:00:00.000000",
          "2015-04-23T00:00:00.000000",
          "2015-04-24T00:00:00.000000",
          "2015-04-25T00:00:00.000000",
          "2015-04-26T00:00:00.000000",
          "2015-04-27T00:00:00.000000",
          "2015-04-28T00:00:00.000000",
          "2015-04-29T00:00:00.000000",
          "2015-04-30T00:00:00.000000",
          "2015-05-01T00:00:00.000000",
          "2015-05-02T00:00:00.000000",
          "2015-05-03T00:00:00.000000",
          "2015-05-04T00:00:00.000000",
          "2015-05-05T00:00:00.000000",
          "2015-05-06T00:00:00.000000",
          "2015-05-07T00:00:00.000000",
          "2015-05-08T00:00:00.000000",
          "2015-05-09T00:00:00.000000",
          "2015-05-10T00:00:00.000000",
          "2015-05-11T00:00:00.000000",
          "2015-05-12T00:00:00.000000",
          "2015-05-13T00:00:00.000000",
          "2015-05-14T00:00:00.000000",
          "2015-05-15T00:00:00.000000",
          "2015-05-16T00:00:00.000000",
          "2015-05-17T00:00:00.000000",
          "2015-05-18T00:00:00.000000",
          "2015-05-19T00:00:00.000000",
          "2015-05-20T00:00:00.000000",
          "2015-05-21T00:00:00.000000",
          "2015-05-22T00:00:00.000000",
          "2015-05-23T00:00:00.000000",
          "2015-05-24T00:00:00.000000",
          "2015-05-25T00:00:00.000000",
          "2015-05-26T00:00:00.000000",
          "2015-05-27T00:00:00.000000",
          "2015-05-28T00:00:00.000000",
          "2015-05-29T00:00:00.000000",
          "2015-05-30T00:00:00.000000",
          "2015-05-31T00:00:00.000000",
          "2015-06-01T00:00:00.000000",
          "2015-06-02T00:00:00.000000",
          "2015-06-03T00:00:00.000000",
          "2015-06-04T00:00:00.000000",
          "2015-06-05T00:00:00.000000",
          "2015-06-06T00:00:00.000000",
          "2015-06-07T00:00:00.000000",
          "2015-06-08T00:00:00.000000",
          "2015-06-09T00:00:00.000000",
          "2015-06-10T00:00:00.000000",
          "2015-06-11T00:00:00.000000",
          "2015-06-12T00:00:00.000000",
          "2015-06-13T00:00:00.000000",
          "2015-06-14T00:00:00.000000",
          "2015-06-15T00:00:00.000000",
          "2015-06-16T00:00:00.000000",
          "2015-06-17T00:00:00.000000",
          "2015-06-18T00:00:00.000000",
          "2015-06-19T00:00:00.000000",
          "2015-06-20T00:00:00.000000",
          "2015-06-21T00:00:00.000000",
          "2015-06-22T00:00:00.000000",
          "2015-06-23T00:00:00.000000",
          "2015-06-24T00:00:00.000000",
          "2015-06-25T00:00:00.000000",
          "2015-06-26T00:00:00.000000",
          "2015-06-27T00:00:00.000000",
          "2015-06-28T00:00:00.000000",
          "2015-06-29T00:00:00.000000",
          "2015-06-30T00:00:00.000000"
         ],
         "xaxis": "x",
         "y": {
          "bdata": "AAAAAAAA+H8AAAAAAAAAQAAAAAAAAAhAAAAAAAAA8D8AAAAAAAAUQAAAAAAAAABAAAAAAAAACEAAAAAAAAAAQAAAAAAAAPA/AAAAAAAACEAAAAAAAADwPwAAAAAAAAhAAAAAAAAACEAAAAAAAAAQQAAAAAAAAABAAAAAAAAACEAAAAAAAAAAQAAAAAAAAPA/AAAAAAAAAEAAAAAAAAAAQAAAAAAAAABAAAAAAAAACEAAAAAAAAAIQAAAAAAAAAhAAAAAAAAAAEAAAAAAAAAYQAAAAAAAABBAAAAAAAAACEAAAAAAAADwPwAAAAAAAAhAAAAAAAAAFEAAAAAAAAAQQAAAAAAAAAhAAAAAAAAAAEAAAAAAAAAQQAAAAAAAAABAAAAAAAAA8D8AAAAAAAAQQAAAAAAAAAhAAAAAAAAAEEAAAAAAAAAcQAAAAAAAABBAAAAAAAAAAEAAAAAAAAAAAAAAAAAAAAAAAAAAAAAACEAAAAAAAAAIQAAAAAAAABhAAAAAAAAAAEAAAAAAAADwPwAAAAAAAAhAAAAAAAAAAAAAAAAAAAAAAAAAAAAAAABAAAAAAAAAFEAAAAAAAAAcQAAAAAAAABBAAAAAAAAAAEAAAAAAAAAQQAAAAAAAAAhAAAAAAAAAEEAAAAAAAAAQQAAAAAAAABRAAAAAAAAAAEAAAAAAAAAAQAAAAAAAABBAAAAAAAAAFEAAAAAAAADwPwAAAAAAABRAAAAAAAAAFEAAAAAAAAAAQAAAAAAAAABAAAAAAAAAAEAAAAAAAAAIQAAAAAAAAABAAAAAAAAACEAAAAAAAAAUQAAAAAAAAABAAAAAAAAAAEAAAAAAAAAQQAAAAAAAAAhAAAAAAAAA8D8AAAAAAAAQQAAAAAAAAABAAAAAAAAAFEAAAAAAAADwPwAAAAAAAAhAAAAAAAAAAEAAAAAAAAAAQAAAAAAAAPA/AAAAAAAACEA=",
          "dtype": "f8"
         },
         "yaxis": "y"
        },
        {
         "hovertemplate": "Serie=ses_forecast<br>Fecha=%{x}<br>Unidades=%{y}<extra></extra>",
         "legendgroup": "ses_forecast",
         "line": {
          "color": "#00cc96",
          "dash": "solid",
          "width": 2
         },
         "marker": {
          "symbol": "circle"
         },
         "mode": "lines",
         "name": "ses_forecast",
         "orientation": "v",
         "showlegend": true,
         "type": "scatter",
         "x": [
          "2015-04-01T00:00:00.000000",
          "2015-04-02T00:00:00.000000",
          "2015-04-03T00:00:00.000000",
          "2015-04-04T00:00:00.000000",
          "2015-04-05T00:00:00.000000",
          "2015-04-06T00:00:00.000000",
          "2015-04-07T00:00:00.000000",
          "2015-04-08T00:00:00.000000",
          "2015-04-09T00:00:00.000000",
          "2015-04-10T00:00:00.000000",
          "2015-04-11T00:00:00.000000",
          "2015-04-12T00:00:00.000000",
          "2015-04-13T00:00:00.000000",
          "2015-04-14T00:00:00.000000",
          "2015-04-15T00:00:00.000000",
          "2015-04-16T00:00:00.000000",
          "2015-04-17T00:00:00.000000",
          "2015-04-18T00:00:00.000000",
          "2015-04-19T00:00:00.000000",
          "2015-04-20T00:00:00.000000",
          "2015-04-21T00:00:00.000000",
          "2015-04-22T00:00:00.000000",
          "2015-04-23T00:00:00.000000",
          "2015-04-24T00:00:00.000000",
          "2015-04-25T00:00:00.000000",
          "2015-04-26T00:00:00.000000",
          "2015-04-27T00:00:00.000000",
          "2015-04-28T00:00:00.000000",
          "2015-04-29T00:00:00.000000",
          "2015-04-30T00:00:00.000000",
          "2015-05-01T00:00:00.000000",
          "2015-05-02T00:00:00.000000",
          "2015-05-03T00:00:00.000000",
          "2015-05-04T00:00:00.000000",
          "2015-05-05T00:00:00.000000",
          "2015-05-06T00:00:00.000000",
          "2015-05-07T00:00:00.000000",
          "2015-05-08T00:00:00.000000",
          "2015-05-09T00:00:00.000000",
          "2015-05-10T00:00:00.000000",
          "2015-05-11T00:00:00.000000",
          "2015-05-12T00:00:00.000000",
          "2015-05-13T00:00:00.000000",
          "2015-05-14T00:00:00.000000",
          "2015-05-15T00:00:00.000000",
          "2015-05-16T00:00:00.000000",
          "2015-05-17T00:00:00.000000",
          "2015-05-18T00:00:00.000000",
          "2015-05-19T00:00:00.000000",
          "2015-05-20T00:00:00.000000",
          "2015-05-21T00:00:00.000000",
          "2015-05-22T00:00:00.000000",
          "2015-05-23T00:00:00.000000",
          "2015-05-24T00:00:00.000000",
          "2015-05-25T00:00:00.000000",
          "2015-05-26T00:00:00.000000",
          "2015-05-27T00:00:00.000000",
          "2015-05-28T00:00:00.000000",
          "2015-05-29T00:00:00.000000",
          "2015-05-30T00:00:00.000000",
          "2015-05-31T00:00:00.000000",
          "2015-06-01T00:00:00.000000",
          "2015-06-02T00:00:00.000000",
          "2015-06-03T00:00:00.000000",
          "2015-06-04T00:00:00.000000",
          "2015-06-05T00:00:00.000000",
          "2015-06-06T00:00:00.000000",
          "2015-06-07T00:00:00.000000",
          "2015-06-08T00:00:00.000000",
          "2015-06-09T00:00:00.000000",
          "2015-06-10T00:00:00.000000",
          "2015-06-11T00:00:00.000000",
          "2015-06-12T00:00:00.000000",
          "2015-06-13T00:00:00.000000",
          "2015-06-14T00:00:00.000000",
          "2015-06-15T00:00:00.000000",
          "2015-06-16T00:00:00.000000",
          "2015-06-17T00:00:00.000000",
          "2015-06-18T00:00:00.000000",
          "2015-06-19T00:00:00.000000",
          "2015-06-20T00:00:00.000000",
          "2015-06-21T00:00:00.000000",
          "2015-06-22T00:00:00.000000",
          "2015-06-23T00:00:00.000000",
          "2015-06-24T00:00:00.000000",
          "2015-06-25T00:00:00.000000",
          "2015-06-26T00:00:00.000000",
          "2015-06-27T00:00:00.000000",
          "2015-06-28T00:00:00.000000",
          "2015-06-29T00:00:00.000000",
          "2015-06-30T00:00:00.000000"
         ],
         "xaxis": "x",
         "y": {
          "bdata": "AgACAAIAAwADAAMAAgACAAIAAgACAAMAAwADAAMAAgACAAIAAgACAAIAAwADAAIABAAEAAQAAgADAAQABAADAAMAAwADAAIAAwADAAMABQAFAAMAAgABAAIAAgAEAAMAAgADAAEAAQABAAMABQAFAAMABAADAAQABAAEAAMAAwADAAQAAwAEAAQAAwADAAIAAwACAAMABAADAAIAAwADAAIAAwADAAQAAgADAAIAAgACAAIAAwA=",
          "dtype": "i2"
         },
         "yaxis": "y"
        }
       ],
       "layout": {
        "height": 500,
        "legend": {
         "title": {
          "text": "Serie"
         },
         "tracegroupgap": 0
        },
        "template": {
         "data": {
          "bar": [
           {
            "error_x": {
             "color": "#2a3f5f"
            },
            "error_y": {
             "color": "#2a3f5f"
            },
            "marker": {
             "line": {
              "color": "white",
              "width": 0.5
             },
             "pattern": {
              "fillmode": "overlay",
              "size": 10,
              "solidity": 0.2
             }
            },
            "type": "bar"
           }
          ],
          "barpolar": [
           {
            "marker": {
             "line": {
              "color": "white",
              "width": 0.5
             },
             "pattern": {
              "fillmode": "overlay",
              "size": 10,
              "solidity": 0.2
             }
            },
            "type": "barpolar"
           }
          ],
          "carpet": [
           {
            "aaxis": {
             "endlinecolor": "#2a3f5f",
             "gridcolor": "#C8D4E3",
             "linecolor": "#C8D4E3",
             "minorgridcolor": "#C8D4E3",
             "startlinecolor": "#2a3f5f"
            },
            "baxis": {
             "endlinecolor": "#2a3f5f",
             "gridcolor": "#C8D4E3",
             "linecolor": "#C8D4E3",
             "minorgridcolor": "#C8D4E3",
             "startlinecolor": "#2a3f5f"
            },
            "type": "carpet"
           }
          ],
          "choropleth": [
           {
            "colorbar": {
             "outlinewidth": 0,
             "ticks": ""
            },
            "type": "choropleth"
           }
          ],
          "contour": [
           {
            "colorbar": {
             "outlinewidth": 0,
             "ticks": ""
            },
            "colorscale": [
             [
              0,
              "#0d0887"
             ],
             [
              0.1111111111111111,
              "#46039f"
             ],
             [
              0.2222222222222222,
              "#7201a8"
             ],
             [
              0.3333333333333333,
              "#9c179e"
             ],
             [
              0.4444444444444444,
              "#bd3786"
             ],
             [
              0.5555555555555556,
              "#d8576b"
             ],
             [
              0.6666666666666666,
              "#ed7953"
             ],
             [
              0.7777777777777778,
              "#fb9f3a"
             ],
             [
              0.8888888888888888,
              "#fdca26"
             ],
             [
              1,
              "#f0f921"
             ]
            ],
            "type": "contour"
           }
          ],
          "contourcarpet": [
           {
            "colorbar": {
             "outlinewidth": 0,
             "ticks": ""
            },
            "type": "contourcarpet"
           }
          ],
          "heatmap": [
           {
            "colorbar": {
             "outlinewidth": 0,
             "ticks": ""
            },
            "colorscale": [
             [
              0,
              "#0d0887"
             ],
             [
              0.1111111111111111,
              "#46039f"
             ],
             [
              0.2222222222222222,
              "#7201a8"
             ],
             [
              0.3333333333333333,
              "#9c179e"
             ],
             [
              0.4444444444444444,
              "#bd3786"
             ],
             [
              0.5555555555555556,
              "#d8576b"
             ],
             [
              0.6666666666666666,
              "#ed7953"
             ],
             [
              0.7777777777777778,
              "#fb9f3a"
             ],
             [
              0.8888888888888888,
              "#fdca26"
             ],
             [
              1,
              "#f0f921"
             ]
            ],
            "type": "heatmap"
           }
          ],
          "histogram": [
           {
            "marker": {
             "pattern": {
              "fillmode": "overlay",
              "size": 10,
              "solidity": 0.2
             }
            },
            "type": "histogram"
           }
          ],
          "histogram2d": [
           {
            "colorbar": {
             "outlinewidth": 0,
             "ticks": ""
            },
            "colorscale": [
             [
              0,
              "#0d0887"
             ],
             [
              0.1111111111111111,
              "#46039f"
             ],
             [
              0.2222222222222222,
              "#7201a8"
             ],
             [
              0.3333333333333333,
              "#9c179e"
             ],
             [
              0.4444444444444444,
              "#bd3786"
             ],
             [
              0.5555555555555556,
              "#d8576b"
             ],
             [
              0.6666666666666666,
              "#ed7953"
             ],
             [
              0.7777777777777778,
              "#fb9f3a"
             ],
             [
              0.8888888888888888,
              "#fdca26"
             ],
             [
              1,
              "#f0f921"
             ]
            ],
            "type": "histogram2d"
           }
          ],
          "histogram2dcontour": [
           {
            "colorbar": {
             "outlinewidth": 0,
             "ticks": ""
            },
            "colorscale": [
             [
              0,
              "#0d0887"
             ],
             [
              0.1111111111111111,
              "#46039f"
             ],
             [
              0.2222222222222222,
              "#7201a8"
             ],
             [
              0.3333333333333333,
              "#9c179e"
             ],
             [
              0.4444444444444444,
              "#bd3786"
             ],
             [
              0.5555555555555556,
              "#d8576b"
             ],
             [
              0.6666666666666666,
              "#ed7953"
             ],
             [
              0.7777777777777778,
              "#fb9f3a"
             ],
             [
              0.8888888888888888,
              "#fdca26"
             ],
             [
              1,
              "#f0f921"
             ]
            ],
            "type": "histogram2dcontour"
           }
          ],
          "mesh3d": [
           {
            "colorbar": {
             "outlinewidth": 0,
             "ticks": ""
            },
            "type": "mesh3d"
           }
          ],
          "parcoords": [
           {
            "line": {
             "colorbar": {
              "outlinewidth": 0,
              "ticks": ""
             }
            },
            "type": "parcoords"
           }
          ],
          "pie": [
           {
            "automargin": true,
            "type": "pie"
           }
          ],
          "scatter": [
           {
            "fillpattern": {
             "fillmode": "overlay",
             "size": 10,
             "solidity": 0.2
            },
            "type": "scatter"
           }
          ],
          "scatter3d": [
           {
            "line": {
             "colorbar": {
              "outlinewidth": 0,
              "ticks": ""
             }
            },
            "marker": {
             "colorbar": {
              "outlinewidth": 0,
              "ticks": ""
             }
            },
            "type": "scatter3d"
           }
          ],
          "scattercarpet": [
           {
            "marker": {
             "colorbar": {
              "outlinewidth": 0,
              "ticks": ""
             }
            },
            "type": "scattercarpet"
           }
          ],
          "scattergeo": [
           {
            "marker": {
             "colorbar": {
              "outlinewidth": 0,
              "ticks": ""
             }
            },
            "type": "scattergeo"
           }
          ],
          "scattergl": [
           {
            "marker": {
             "colorbar": {
              "outlinewidth": 0,
              "ticks": ""
             }
            },
            "type": "scattergl"
           }
          ],
          "scattermap": [
           {
            "marker": {
             "colorbar": {
              "outlinewidth": 0,
              "ticks": ""
             }
            },
            "type": "scattermap"
           }
          ],
          "scattermapbox": [
           {
            "marker": {
             "colorbar": {
              "outlinewidth": 0,
              "ticks": ""
             }
            },
            "type": "scattermapbox"
           }
          ],
          "scatterpolar": [
           {
            "marker": {
             "colorbar": {
              "outlinewidth": 0,
              "ticks": ""
             }
            },
            "type": "scatterpolar"
           }
          ],
          "scatterpolargl": [
           {
            "marker": {
             "colorbar": {
              "outlinewidth": 0,
              "ticks": ""
             }
            },
            "type": "scatterpolargl"
           }
          ],
          "scatterternary": [
           {
            "marker": {
             "colorbar": {
              "outlinewidth": 0,
              "ticks": ""
             }
            },
            "type": "scatterternary"
           }
          ],
          "surface": [
           {
            "colorbar": {
             "outlinewidth": 0,
             "ticks": ""
            },
            "colorscale": [
             [
              0,
              "#0d0887"
             ],
             [
              0.1111111111111111,
              "#46039f"
             ],
             [
              0.2222222222222222,
              "#7201a8"
             ],
             [
              0.3333333333333333,
              "#9c179e"
             ],
             [
              0.4444444444444444,
              "#bd3786"
             ],
             [
              0.5555555555555556,
              "#d8576b"
             ],
             [
              0.6666666666666666,
              "#ed7953"
             ],
             [
              0.7777777777777778,
              "#fb9f3a"
             ],
             [
              0.8888888888888888,
              "#fdca26"
             ],
             [
              1,
              "#f0f921"
             ]
            ],
            "type": "surface"
           }
          ],
          "table": [
           {
            "cells": {
             "fill": {
              "color": "#EBF0F8"
             },
             "line": {
              "color": "white"
             }
            },
            "header": {
             "fill": {
              "color": "#C8D4E3"
             },
             "line": {
              "color": "white"
             }
            },
            "type": "table"
           }
          ]
         },
         "layout": {
          "annotationdefaults": {
           "arrowcolor": "#2a3f5f",
           "arrowhead": 0,
           "arrowwidth": 1
          },
          "autotypenumbers": "strict",
          "coloraxis": {
           "colorbar": {
            "outlinewidth": 0,
            "ticks": ""
           }
          },
          "colorscale": {
           "diverging": [
            [
             0,
             "#8e0152"
            ],
            [
             0.1,
             "#c51b7d"
            ],
            [
             0.2,
             "#de77ae"
            ],
            [
             0.3,
             "#f1b6da"
            ],
            [
             0.4,
             "#fde0ef"
            ],
            [
             0.5,
             "#f7f7f7"
            ],
            [
             0.6,
             "#e6f5d0"
            ],
            [
             0.7,
             "#b8e186"
            ],
            [
             0.8,
             "#7fbc41"
            ],
            [
             0.9,
             "#4d9221"
            ],
            [
             1,
             "#276419"
            ]
           ],
           "sequential": [
            [
             0,
             "#0d0887"
            ],
            [
             0.1111111111111111,
             "#46039f"
            ],
            [
             0.2222222222222222,
             "#7201a8"
            ],
            [
             0.3333333333333333,
             "#9c179e"
            ],
            [
             0.4444444444444444,
             "#bd3786"
            ],
            [
             0.5555555555555556,
             "#d8576b"
            ],
            [
             0.6666666666666666,
             "#ed7953"
            ],
            [
             0.7777777777777778,
             "#fb9f3a"
            ],
            [
             0.8888888888888888,
             "#fdca26"
            ],
            [
             1,
             "#f0f921"
            ]
           ],
           "sequentialminus": [
            [
             0,
             "#0d0887"
            ],
            [
             0.1111111111111111,
             "#46039f"
            ],
            [
             0.2222222222222222,
             "#7201a8"
            ],
            [
             0.3333333333333333,
             "#9c179e"
            ],
            [
             0.4444444444444444,
             "#bd3786"
            ],
            [
             0.5555555555555556,
             "#d8576b"
            ],
            [
             0.6666666666666666,
             "#ed7953"
            ],
            [
             0.7777777777777778,
             "#fb9f3a"
            ],
            [
             0.8888888888888888,
             "#fdca26"
            ],
            [
             1,
             "#f0f921"
            ]
           ]
          },
          "colorway": [
           "#636efa",
           "#EF553B",
           "#00cc96",
           "#ab63fa",
           "#FFA15A",
           "#19d3f3",
           "#FF6692",
           "#B6E880",
           "#FF97FF",
           "#FECB52"
          ],
          "font": {
           "color": "#2a3f5f"
          },
          "geo": {
           "bgcolor": "white",
           "lakecolor": "white",
           "landcolor": "white",
           "showlakes": true,
           "showland": true,
           "subunitcolor": "#C8D4E3"
          },
          "hoverlabel": {
           "align": "left"
          },
          "hovermode": "closest",
          "mapbox": {
           "style": "light"
          },
          "paper_bgcolor": "white",
          "plot_bgcolor": "white",
          "polar": {
           "angularaxis": {
            "gridcolor": "#EBF0F8",
            "linecolor": "#EBF0F8",
            "ticks": ""
           },
           "bgcolor": "white",
           "radialaxis": {
            "gridcolor": "#EBF0F8",
            "linecolor": "#EBF0F8",
            "ticks": ""
           }
          },
          "scene": {
           "xaxis": {
            "backgroundcolor": "white",
            "gridcolor": "#DFE8F3",
            "gridwidth": 2,
            "linecolor": "#EBF0F8",
            "showbackground": true,
            "ticks": "",
            "zerolinecolor": "#EBF0F8"
           },
           "yaxis": {
            "backgroundcolor": "white",
            "gridcolor": "#DFE8F3",
            "gridwidth": 2,
            "linecolor": "#EBF0F8",
            "showbackground": true,
            "ticks": "",
            "zerolinecolor": "#EBF0F8"
           },
           "zaxis": {
            "backgroundcolor": "white",
            "gridcolor": "#DFE8F3",
            "gridwidth": 2,
            "linecolor": "#EBF0F8",
            "showbackground": true,
            "ticks": "",
            "zerolinecolor": "#EBF0F8"
           }
          },
          "shapedefaults": {
           "line": {
            "color": "#2a3f5f"
           }
          },
          "ternary": {
           "aaxis": {
            "gridcolor": "#DFE8F3",
            "linecolor": "#A2B1C6",
            "ticks": ""
           },
           "baxis": {
            "gridcolor": "#DFE8F3",
            "linecolor": "#A2B1C6",
            "ticks": ""
           },
           "bgcolor": "white",
           "caxis": {
            "gridcolor": "#DFE8F3",
            "linecolor": "#A2B1C6",
            "ticks": ""
           }
          },
          "title": {
           "x": 0.05
          },
          "xaxis": {
           "automargin": true,
           "gridcolor": "#EBF0F8",
           "linecolor": "#EBF0F8",
           "ticks": "",
           "title": {
            "standoff": 15
           },
           "zerolinecolor": "#EBF0F8",
           "zerolinewidth": 2
          },
          "yaxis": {
           "automargin": true,
           "gridcolor": "#EBF0F8",
           "linecolor": "#EBF0F8",
           "ticks": "",
           "title": {
            "standoff": 15
           },
           "zerolinecolor": "#EBF0F8",
           "zerolinewidth": 2
          }
         }
        },
        "title": {
         "text": "Ventas y Pronósticos (Naive vs SES) - Smooth"
        },
        "width": 1200,
        "xaxis": {
         "anchor": "y",
         "domain": [
          0,
          1
         ],
         "title": {
          "text": "Fecha"
         }
        },
        "yaxis": {
         "anchor": "x",
         "domain": [
          0,
          1
         ],
         "title": {
          "text": "Unidades"
         }
        }
       }
      }
     },
     "metadata": {},
     "output_type": "display_data"
    }
   ],
   "source": [
    "smooth_sales = sample_sales[sample_sales['demand_type'] == 'Smooth'].copy()\n",
    "\n",
    "fig = px.line(\n",
    "    smooth_sales,\n",
    "    x=\"date\",\n",
    "    y=[\"sales\", \"naive_forecast\", \"ses_forecast\"],  # varias series\n",
    "    labels={\n",
    "        \"value\": \"Unidades\",\n",
    "        \"date\": \"Fecha\",\n",
    "        \"variable\": \"Serie\"\n",
    "    },\n",
    "    title=\"Ventas y Pronósticos (Naive vs SES) - Smooth\",\n",
    "    template=\"plotly_white\",\n",
    "    width=1200, height=500\n",
    ")\n",
    "\n",
    "fig.update_traces(line=dict(width=2))\n",
    "fig.show()"
   ]
  },
  {
   "cell_type": "code",
   "execution_count": 534,
   "id": "d57ceadb",
   "metadata": {},
   "outputs": [],
   "source": [
    "def mae(y_true, y_pred):\n",
    "    return np.mean(np.abs(y_true - y_pred))\n",
    "\n",
    "def mdae(y_true, y_pred):\n",
    "    return np.median(np.abs(y_true - y_pred))  \n",
    "\n",
    "def rmse(y_true, y_pred):\n",
    "    return np.sqrt(np.mean((y_true - y_pred) ** 2))\n",
    "\n",
    "def wape(y_true, y_pred):\n",
    "    return np.sum(np.abs(y_true - y_pred)) / np.sum(np.abs(y_true - np.mean(y_true)))\n",
    "\n",
    "def bias(y_true, y_pred):\n",
    "    return np.sum(y_pred - y_true) / np.sum(y_true)\n",
    "\n",
    "def mape(y_true, y_pred):\n",
    "    y_true, y_pred = np.array(y_true), np.array(y_pred)\n",
    "    mask = y_true != 0  # evita dividir por cero\n",
    "    return np.mean(np.abs((y_true[mask] - y_pred[mask]) / y_true[mask]))\n",
    "\n",
    "def mase(y_true, y_naive, y_pred):\n",
    "    n = len(y_true)\n",
    "    num = np.sum(np.abs(y_true - y_pred)) / n\n",
    "    den = np.sum(np.abs(y_true - y_naive)) / n\n",
    "    return np.round(num / den, 3)"
   ]
  },
  {
   "cell_type": "code",
   "execution_count": 535,
   "id": "9358e640",
   "metadata": {},
   "outputs": [
    {
     "data": {
      "application/javascript": "\n        if (window._pyforest_update_imports_cell) { window._pyforest_update_imports_cell('from sklearn.linear_model import LassoCV\\nfrom statsmodels.tsa.arima_model import ARIMA\\nfrom pathlib import Path\\nimport pandas as pd\\nfrom sklearn.model_selection import GridSearchCV\\nfrom sklearn.feature_extraction.text import CountVectorizer\\nfrom sklearn.linear_model import LogisticRegression\\nimport numpy as np\\nfrom sklearn.decomposition import PCA\\nfrom sklearn.preprocessing import OneHotEncoder\\nfrom PIL import Image\\nfrom sklearn.linear_model import ElasticNetCV\\nfrom sklearn.preprocessing import PolynomialFeatures\\nfrom sklearn.preprocessing import MinMaxScaler\\nfrom sklearn.ensemble import GradientBoostingClassifier\\nfrom sklearn.linear_model import LinearRegression\\nfrom sklearn.linear_model import Lasso\\nfrom sklearn.cluster import KMeans\\nfrom sklearn.linear_model import ElasticNet\\nfrom sklearn.preprocessing import LabelEncoder\\nfrom sklearn.ensemble import GradientBoostingRegressor\\nfrom sklearn.model_selection import KFold'); }\n    ",
      "text/plain": [
       "<IPython.core.display.Javascript object>"
      ]
     },
     "metadata": {},
     "output_type": "display_data"
    },
    {
     "data": {
      "application/javascript": "\n        if (window._pyforest_update_imports_cell) { window._pyforest_update_imports_cell('from sklearn.linear_model import LassoCV\\nfrom statsmodels.tsa.arima_model import ARIMA\\nfrom pathlib import Path\\nimport pandas as pd\\nfrom sklearn.model_selection import GridSearchCV\\nfrom sklearn.feature_extraction.text import CountVectorizer\\nfrom sklearn.linear_model import LogisticRegression\\nimport numpy as np\\nfrom sklearn.decomposition import PCA\\nfrom sklearn.preprocessing import OneHotEncoder\\nfrom PIL import Image\\nfrom sklearn.linear_model import ElasticNetCV\\nfrom sklearn.preprocessing import PolynomialFeatures\\nfrom sklearn.preprocessing import MinMaxScaler\\nfrom sklearn.ensemble import GradientBoostingClassifier\\nfrom sklearn.linear_model import LinearRegression\\nfrom sklearn.linear_model import Lasso\\nfrom sklearn.cluster import KMeans\\nfrom sklearn.linear_model import ElasticNet\\nfrom sklearn.preprocessing import LabelEncoder\\nfrom sklearn.ensemble import GradientBoostingRegressor\\nfrom sklearn.model_selection import KFold'); }\n    ",
      "text/plain": [
       "<IPython.core.display.Javascript object>"
      ]
     },
     "metadata": {},
     "output_type": "display_data"
    },
    {
     "data": {
      "application/javascript": "\n        if (window._pyforest_update_imports_cell) { window._pyforest_update_imports_cell('from sklearn.linear_model import LassoCV\\nfrom statsmodels.tsa.arima_model import ARIMA\\nfrom pathlib import Path\\nimport pandas as pd\\nfrom sklearn.model_selection import GridSearchCV\\nfrom sklearn.feature_extraction.text import CountVectorizer\\nfrom sklearn.linear_model import LogisticRegression\\nimport numpy as np\\nfrom sklearn.decomposition import PCA\\nfrom sklearn.preprocessing import OneHotEncoder\\nfrom PIL import Image\\nfrom sklearn.linear_model import ElasticNetCV\\nfrom sklearn.preprocessing import PolynomialFeatures\\nfrom sklearn.preprocessing import MinMaxScaler\\nfrom sklearn.ensemble import GradientBoostingClassifier\\nfrom sklearn.linear_model import LinearRegression\\nfrom sklearn.linear_model import Lasso\\nfrom sklearn.cluster import KMeans\\nfrom sklearn.linear_model import ElasticNet\\nfrom sklearn.preprocessing import LabelEncoder\\nfrom sklearn.ensemble import GradientBoostingRegressor\\nfrom sklearn.model_selection import KFold'); }\n    ",
      "text/plain": [
       "<IPython.core.display.Javascript object>"
      ]
     },
     "metadata": {},
     "output_type": "display_data"
    },
    {
     "data": {
      "application/javascript": "\n        if (window._pyforest_update_imports_cell) { window._pyforest_update_imports_cell('from sklearn.linear_model import LassoCV\\nfrom statsmodels.tsa.arima_model import ARIMA\\nfrom pathlib import Path\\nimport pandas as pd\\nfrom sklearn.model_selection import GridSearchCV\\nfrom sklearn.feature_extraction.text import CountVectorizer\\nfrom sklearn.linear_model import LogisticRegression\\nimport numpy as np\\nfrom sklearn.decomposition import PCA\\nfrom sklearn.preprocessing import OneHotEncoder\\nfrom PIL import Image\\nfrom sklearn.linear_model import ElasticNetCV\\nfrom sklearn.preprocessing import PolynomialFeatures\\nfrom sklearn.preprocessing import MinMaxScaler\\nfrom sklearn.ensemble import GradientBoostingClassifier\\nfrom sklearn.linear_model import LinearRegression\\nfrom sklearn.linear_model import Lasso\\nfrom sklearn.cluster import KMeans\\nfrom sklearn.linear_model import ElasticNet\\nfrom sklearn.preprocessing import LabelEncoder\\nfrom sklearn.ensemble import GradientBoostingRegressor\\nfrom sklearn.model_selection import KFold'); }\n    ",
      "text/plain": [
       "<IPython.core.display.Javascript object>"
      ]
     },
     "metadata": {},
     "output_type": "display_data"
    },
    {
     "data": {
      "application/javascript": "\n        if (window._pyforest_update_imports_cell) { window._pyforest_update_imports_cell('from sklearn.linear_model import LassoCV\\nfrom statsmodels.tsa.arima_model import ARIMA\\nfrom pathlib import Path\\nimport pandas as pd\\nfrom sklearn.model_selection import GridSearchCV\\nfrom sklearn.feature_extraction.text import CountVectorizer\\nfrom sklearn.linear_model import LogisticRegression\\nimport numpy as np\\nfrom sklearn.decomposition import PCA\\nfrom sklearn.preprocessing import OneHotEncoder\\nfrom PIL import Image\\nfrom sklearn.linear_model import ElasticNetCV\\nfrom sklearn.preprocessing import PolynomialFeatures\\nfrom sklearn.preprocessing import MinMaxScaler\\nfrom sklearn.ensemble import GradientBoostingClassifier\\nfrom sklearn.linear_model import LinearRegression\\nfrom sklearn.linear_model import Lasso\\nfrom sklearn.cluster import KMeans\\nfrom sklearn.linear_model import ElasticNet\\nfrom sklearn.preprocessing import LabelEncoder\\nfrom sklearn.ensemble import GradientBoostingRegressor\\nfrom sklearn.model_selection import KFold'); }\n    ",
      "text/plain": [
       "<IPython.core.display.Javascript object>"
      ]
     },
     "metadata": {},
     "output_type": "display_data"
    },
    {
     "data": {
      "application/javascript": "\n        if (window._pyforest_update_imports_cell) { window._pyforest_update_imports_cell('from sklearn.linear_model import LassoCV\\nfrom statsmodels.tsa.arima_model import ARIMA\\nfrom pathlib import Path\\nimport pandas as pd\\nfrom sklearn.model_selection import GridSearchCV\\nfrom sklearn.feature_extraction.text import CountVectorizer\\nfrom sklearn.linear_model import LogisticRegression\\nimport numpy as np\\nfrom sklearn.decomposition import PCA\\nfrom sklearn.preprocessing import OneHotEncoder\\nfrom PIL import Image\\nfrom sklearn.linear_model import ElasticNetCV\\nfrom sklearn.preprocessing import PolynomialFeatures\\nfrom sklearn.preprocessing import MinMaxScaler\\nfrom sklearn.ensemble import GradientBoostingClassifier\\nfrom sklearn.linear_model import LinearRegression\\nfrom sklearn.linear_model import Lasso\\nfrom sklearn.cluster import KMeans\\nfrom sklearn.linear_model import ElasticNet\\nfrom sklearn.preprocessing import LabelEncoder\\nfrom sklearn.ensemble import GradientBoostingRegressor\\nfrom sklearn.model_selection import KFold'); }\n    ",
      "text/plain": [
       "<IPython.core.display.Javascript object>"
      ]
     },
     "metadata": {},
     "output_type": "display_data"
    },
    {
     "data": {
      "application/javascript": "\n        if (window._pyforest_update_imports_cell) { window._pyforest_update_imports_cell('from sklearn.linear_model import LassoCV\\nfrom statsmodels.tsa.arima_model import ARIMA\\nfrom pathlib import Path\\nimport pandas as pd\\nfrom sklearn.model_selection import GridSearchCV\\nfrom sklearn.feature_extraction.text import CountVectorizer\\nfrom sklearn.linear_model import LogisticRegression\\nimport numpy as np\\nfrom sklearn.decomposition import PCA\\nfrom sklearn.preprocessing import OneHotEncoder\\nfrom PIL import Image\\nfrom sklearn.linear_model import ElasticNetCV\\nfrom sklearn.preprocessing import PolynomialFeatures\\nfrom sklearn.preprocessing import MinMaxScaler\\nfrom sklearn.ensemble import GradientBoostingClassifier\\nfrom sklearn.linear_model import LinearRegression\\nfrom sklearn.linear_model import Lasso\\nfrom sklearn.cluster import KMeans\\nfrom sklearn.linear_model import ElasticNet\\nfrom sklearn.preprocessing import LabelEncoder\\nfrom sklearn.ensemble import GradientBoostingRegressor\\nfrom sklearn.model_selection import KFold'); }\n    ",
      "text/plain": [
       "<IPython.core.display.Javascript object>"
      ]
     },
     "metadata": {},
     "output_type": "display_data"
    },
    {
     "data": {
      "application/javascript": "\n        if (window._pyforest_update_imports_cell) { window._pyforest_update_imports_cell('from sklearn.linear_model import LassoCV\\nfrom statsmodels.tsa.arima_model import ARIMA\\nfrom pathlib import Path\\nimport pandas as pd\\nfrom sklearn.model_selection import GridSearchCV\\nfrom sklearn.feature_extraction.text import CountVectorizer\\nfrom sklearn.linear_model import LogisticRegression\\nimport numpy as np\\nfrom sklearn.decomposition import PCA\\nfrom sklearn.preprocessing import OneHotEncoder\\nfrom PIL import Image\\nfrom sklearn.linear_model import ElasticNetCV\\nfrom sklearn.preprocessing import PolynomialFeatures\\nfrom sklearn.preprocessing import MinMaxScaler\\nfrom sklearn.ensemble import GradientBoostingClassifier\\nfrom sklearn.linear_model import LinearRegression\\nfrom sklearn.linear_model import Lasso\\nfrom sklearn.cluster import KMeans\\nfrom sklearn.linear_model import ElasticNet\\nfrom sklearn.preprocessing import LabelEncoder\\nfrom sklearn.ensemble import GradientBoostingRegressor\\nfrom sklearn.model_selection import KFold'); }\n    ",
      "text/plain": [
       "<IPython.core.display.Javascript object>"
      ]
     },
     "metadata": {},
     "output_type": "display_data"
    },
    {
     "data": {
      "application/javascript": "\n        if (window._pyforest_update_imports_cell) { window._pyforest_update_imports_cell('from sklearn.linear_model import LassoCV\\nfrom statsmodels.tsa.arima_model import ARIMA\\nfrom pathlib import Path\\nimport pandas as pd\\nfrom sklearn.model_selection import GridSearchCV\\nfrom sklearn.feature_extraction.text import CountVectorizer\\nfrom sklearn.linear_model import LogisticRegression\\nimport numpy as np\\nfrom sklearn.decomposition import PCA\\nfrom sklearn.preprocessing import OneHotEncoder\\nfrom PIL import Image\\nfrom sklearn.linear_model import ElasticNetCV\\nfrom sklearn.preprocessing import PolynomialFeatures\\nfrom sklearn.preprocessing import MinMaxScaler\\nfrom sklearn.ensemble import GradientBoostingClassifier\\nfrom sklearn.linear_model import LinearRegression\\nfrom sklearn.linear_model import Lasso\\nfrom sklearn.cluster import KMeans\\nfrom sklearn.linear_model import ElasticNet\\nfrom sklearn.preprocessing import LabelEncoder\\nfrom sklearn.ensemble import GradientBoostingRegressor\\nfrom sklearn.model_selection import KFold'); }\n    ",
      "text/plain": [
       "<IPython.core.display.Javascript object>"
      ]
     },
     "metadata": {},
     "output_type": "display_data"
    },
    {
     "data": {
      "application/javascript": "\n        if (window._pyforest_update_imports_cell) { window._pyforest_update_imports_cell('from sklearn.linear_model import LassoCV\\nfrom statsmodels.tsa.arima_model import ARIMA\\nfrom pathlib import Path\\nimport pandas as pd\\nfrom sklearn.model_selection import GridSearchCV\\nfrom sklearn.feature_extraction.text import CountVectorizer\\nfrom sklearn.linear_model import LogisticRegression\\nimport numpy as np\\nfrom sklearn.decomposition import PCA\\nfrom sklearn.preprocessing import OneHotEncoder\\nfrom PIL import Image\\nfrom sklearn.linear_model import ElasticNetCV\\nfrom sklearn.preprocessing import PolynomialFeatures\\nfrom sklearn.preprocessing import MinMaxScaler\\nfrom sklearn.ensemble import GradientBoostingClassifier\\nfrom sklearn.linear_model import LinearRegression\\nfrom sklearn.linear_model import Lasso\\nfrom sklearn.cluster import KMeans\\nfrom sklearn.linear_model import ElasticNet\\nfrom sklearn.preprocessing import LabelEncoder\\nfrom sklearn.ensemble import GradientBoostingRegressor\\nfrom sklearn.model_selection import KFold'); }\n    ",
      "text/plain": [
       "<IPython.core.display.Javascript object>"
      ]
     },
     "metadata": {},
     "output_type": "display_data"
    },
    {
     "data": {
      "application/javascript": "\n        if (window._pyforest_update_imports_cell) { window._pyforest_update_imports_cell('from sklearn.linear_model import LassoCV\\nfrom statsmodels.tsa.arima_model import ARIMA\\nfrom pathlib import Path\\nimport pandas as pd\\nfrom sklearn.model_selection import GridSearchCV\\nfrom sklearn.feature_extraction.text import CountVectorizer\\nfrom sklearn.linear_model import LogisticRegression\\nimport numpy as np\\nfrom sklearn.decomposition import PCA\\nfrom sklearn.preprocessing import OneHotEncoder\\nfrom PIL import Image\\nfrom sklearn.linear_model import ElasticNetCV\\nfrom sklearn.preprocessing import PolynomialFeatures\\nfrom sklearn.preprocessing import MinMaxScaler\\nfrom sklearn.ensemble import GradientBoostingClassifier\\nfrom sklearn.linear_model import LinearRegression\\nfrom sklearn.linear_model import Lasso\\nfrom sklearn.cluster import KMeans\\nfrom sklearn.linear_model import ElasticNet\\nfrom sklearn.preprocessing import LabelEncoder\\nfrom sklearn.ensemble import GradientBoostingRegressor\\nfrom sklearn.model_selection import KFold'); }\n    ",
      "text/plain": [
       "<IPython.core.display.Javascript object>"
      ]
     },
     "metadata": {},
     "output_type": "display_data"
    },
    {
     "data": {
      "application/javascript": "\n        if (window._pyforest_update_imports_cell) { window._pyforest_update_imports_cell('from sklearn.linear_model import LassoCV\\nfrom statsmodels.tsa.arima_model import ARIMA\\nfrom pathlib import Path\\nimport pandas as pd\\nfrom sklearn.model_selection import GridSearchCV\\nfrom sklearn.feature_extraction.text import CountVectorizer\\nfrom sklearn.linear_model import LogisticRegression\\nimport numpy as np\\nfrom sklearn.decomposition import PCA\\nfrom sklearn.preprocessing import OneHotEncoder\\nfrom PIL import Image\\nfrom sklearn.linear_model import ElasticNetCV\\nfrom sklearn.preprocessing import PolynomialFeatures\\nfrom sklearn.preprocessing import MinMaxScaler\\nfrom sklearn.ensemble import GradientBoostingClassifier\\nfrom sklearn.linear_model import LinearRegression\\nfrom sklearn.linear_model import Lasso\\nfrom sklearn.cluster import KMeans\\nfrom sklearn.linear_model import ElasticNet\\nfrom sklearn.preprocessing import LabelEncoder\\nfrom sklearn.ensemble import GradientBoostingRegressor\\nfrom sklearn.model_selection import KFold'); }\n    ",
      "text/plain": [
       "<IPython.core.display.Javascript object>"
      ]
     },
     "metadata": {},
     "output_type": "display_data"
    },
    {
     "data": {
      "application/javascript": "\n        if (window._pyforest_update_imports_cell) { window._pyforest_update_imports_cell('from sklearn.linear_model import LassoCV\\nfrom statsmodels.tsa.arima_model import ARIMA\\nfrom pathlib import Path\\nimport pandas as pd\\nfrom sklearn.model_selection import GridSearchCV\\nfrom sklearn.feature_extraction.text import CountVectorizer\\nfrom sklearn.linear_model import LogisticRegression\\nimport numpy as np\\nfrom sklearn.decomposition import PCA\\nfrom sklearn.preprocessing import OneHotEncoder\\nfrom PIL import Image\\nfrom sklearn.linear_model import ElasticNetCV\\nfrom sklearn.preprocessing import PolynomialFeatures\\nfrom sklearn.preprocessing import MinMaxScaler\\nfrom sklearn.ensemble import GradientBoostingClassifier\\nfrom sklearn.linear_model import LinearRegression\\nfrom sklearn.linear_model import Lasso\\nfrom sklearn.cluster import KMeans\\nfrom sklearn.linear_model import ElasticNet\\nfrom sklearn.preprocessing import LabelEncoder\\nfrom sklearn.ensemble import GradientBoostingRegressor\\nfrom sklearn.model_selection import KFold'); }\n    ",
      "text/plain": [
       "<IPython.core.display.Javascript object>"
      ]
     },
     "metadata": {},
     "output_type": "display_data"
    },
    {
     "data": {
      "application/javascript": "\n        if (window._pyforest_update_imports_cell) { window._pyforest_update_imports_cell('from sklearn.linear_model import LassoCV\\nfrom statsmodels.tsa.arima_model import ARIMA\\nfrom pathlib import Path\\nimport pandas as pd\\nfrom sklearn.model_selection import GridSearchCV\\nfrom sklearn.feature_extraction.text import CountVectorizer\\nfrom sklearn.linear_model import LogisticRegression\\nimport numpy as np\\nfrom sklearn.decomposition import PCA\\nfrom sklearn.preprocessing import OneHotEncoder\\nfrom PIL import Image\\nfrom sklearn.linear_model import ElasticNetCV\\nfrom sklearn.preprocessing import PolynomialFeatures\\nfrom sklearn.preprocessing import MinMaxScaler\\nfrom sklearn.ensemble import GradientBoostingClassifier\\nfrom sklearn.linear_model import LinearRegression\\nfrom sklearn.linear_model import Lasso\\nfrom sklearn.cluster import KMeans\\nfrom sklearn.linear_model import ElasticNet\\nfrom sklearn.preprocessing import LabelEncoder\\nfrom sklearn.ensemble import GradientBoostingRegressor\\nfrom sklearn.model_selection import KFold'); }\n    ",
      "text/plain": [
       "<IPython.core.display.Javascript object>"
      ]
     },
     "metadata": {},
     "output_type": "display_data"
    },
    {
     "data": {
      "application/javascript": "\n        if (window._pyforest_update_imports_cell) { window._pyforest_update_imports_cell('from sklearn.linear_model import LassoCV\\nfrom statsmodels.tsa.arima_model import ARIMA\\nfrom pathlib import Path\\nimport pandas as pd\\nfrom sklearn.model_selection import GridSearchCV\\nfrom sklearn.feature_extraction.text import CountVectorizer\\nfrom sklearn.linear_model import LogisticRegression\\nimport numpy as np\\nfrom sklearn.decomposition import PCA\\nfrom sklearn.preprocessing import OneHotEncoder\\nfrom PIL import Image\\nfrom sklearn.linear_model import ElasticNetCV\\nfrom sklearn.preprocessing import PolynomialFeatures\\nfrom sklearn.preprocessing import MinMaxScaler\\nfrom sklearn.ensemble import GradientBoostingClassifier\\nfrom sklearn.linear_model import LinearRegression\\nfrom sklearn.linear_model import Lasso\\nfrom sklearn.cluster import KMeans\\nfrom sklearn.linear_model import ElasticNet\\nfrom sklearn.preprocessing import LabelEncoder\\nfrom sklearn.ensemble import GradientBoostingRegressor\\nfrom sklearn.model_selection import KFold'); }\n    ",
      "text/plain": [
       "<IPython.core.display.Javascript object>"
      ]
     },
     "metadata": {},
     "output_type": "display_data"
    },
    {
     "data": {
      "application/javascript": "\n        if (window._pyforest_update_imports_cell) { window._pyforest_update_imports_cell('from sklearn.linear_model import LassoCV\\nfrom statsmodels.tsa.arima_model import ARIMA\\nfrom pathlib import Path\\nimport pandas as pd\\nfrom sklearn.model_selection import GridSearchCV\\nfrom sklearn.feature_extraction.text import CountVectorizer\\nfrom sklearn.linear_model import LogisticRegression\\nimport numpy as np\\nfrom sklearn.decomposition import PCA\\nfrom sklearn.preprocessing import OneHotEncoder\\nfrom PIL import Image\\nfrom sklearn.linear_model import ElasticNetCV\\nfrom sklearn.preprocessing import PolynomialFeatures\\nfrom sklearn.preprocessing import MinMaxScaler\\nfrom sklearn.ensemble import GradientBoostingClassifier\\nfrom sklearn.linear_model import LinearRegression\\nfrom sklearn.linear_model import Lasso\\nfrom sklearn.cluster import KMeans\\nfrom sklearn.linear_model import ElasticNet\\nfrom sklearn.preprocessing import LabelEncoder\\nfrom sklearn.ensemble import GradientBoostingRegressor\\nfrom sklearn.model_selection import KFold'); }\n    ",
      "text/plain": [
       "<IPython.core.display.Javascript object>"
      ]
     },
     "metadata": {},
     "output_type": "display_data"
    },
    {
     "data": {
      "application/javascript": "\n        if (window._pyforest_update_imports_cell) { window._pyforest_update_imports_cell('from sklearn.linear_model import LassoCV\\nfrom statsmodels.tsa.arima_model import ARIMA\\nfrom pathlib import Path\\nimport pandas as pd\\nfrom sklearn.model_selection import GridSearchCV\\nfrom sklearn.feature_extraction.text import CountVectorizer\\nfrom sklearn.linear_model import LogisticRegression\\nimport numpy as np\\nfrom sklearn.decomposition import PCA\\nfrom sklearn.preprocessing import OneHotEncoder\\nfrom PIL import Image\\nfrom sklearn.linear_model import ElasticNetCV\\nfrom sklearn.preprocessing import PolynomialFeatures\\nfrom sklearn.preprocessing import MinMaxScaler\\nfrom sklearn.ensemble import GradientBoostingClassifier\\nfrom sklearn.linear_model import LinearRegression\\nfrom sklearn.linear_model import Lasso\\nfrom sklearn.cluster import KMeans\\nfrom sklearn.linear_model import ElasticNet\\nfrom sklearn.preprocessing import LabelEncoder\\nfrom sklearn.ensemble import GradientBoostingRegressor\\nfrom sklearn.model_selection import KFold'); }\n    ",
      "text/plain": [
       "<IPython.core.display.Javascript object>"
      ]
     },
     "metadata": {},
     "output_type": "display_data"
    },
    {
     "data": {
      "application/javascript": "\n        if (window._pyforest_update_imports_cell) { window._pyforest_update_imports_cell('from sklearn.linear_model import LassoCV\\nfrom statsmodels.tsa.arima_model import ARIMA\\nfrom pathlib import Path\\nimport pandas as pd\\nfrom sklearn.model_selection import GridSearchCV\\nfrom sklearn.feature_extraction.text import CountVectorizer\\nfrom sklearn.linear_model import LogisticRegression\\nimport numpy as np\\nfrom sklearn.decomposition import PCA\\nfrom sklearn.preprocessing import OneHotEncoder\\nfrom PIL import Image\\nfrom sklearn.linear_model import ElasticNetCV\\nfrom sklearn.preprocessing import PolynomialFeatures\\nfrom sklearn.preprocessing import MinMaxScaler\\nfrom sklearn.ensemble import GradientBoostingClassifier\\nfrom sklearn.linear_model import LinearRegression\\nfrom sklearn.linear_model import Lasso\\nfrom sklearn.cluster import KMeans\\nfrom sklearn.linear_model import ElasticNet\\nfrom sklearn.preprocessing import LabelEncoder\\nfrom sklearn.ensemble import GradientBoostingRegressor\\nfrom sklearn.model_selection import KFold'); }\n    ",
      "text/plain": [
       "<IPython.core.display.Javascript object>"
      ]
     },
     "metadata": {},
     "output_type": "display_data"
    },
    {
     "data": {
      "application/javascript": "\n        if (window._pyforest_update_imports_cell) { window._pyforest_update_imports_cell('from sklearn.linear_model import LassoCV\\nfrom statsmodels.tsa.arima_model import ARIMA\\nfrom pathlib import Path\\nimport pandas as pd\\nfrom sklearn.model_selection import GridSearchCV\\nfrom sklearn.feature_extraction.text import CountVectorizer\\nfrom sklearn.linear_model import LogisticRegression\\nimport numpy as np\\nfrom sklearn.decomposition import PCA\\nfrom sklearn.preprocessing import OneHotEncoder\\nfrom PIL import Image\\nfrom sklearn.linear_model import ElasticNetCV\\nfrom sklearn.preprocessing import PolynomialFeatures\\nfrom sklearn.preprocessing import MinMaxScaler\\nfrom sklearn.ensemble import GradientBoostingClassifier\\nfrom sklearn.linear_model import LinearRegression\\nfrom sklearn.linear_model import Lasso\\nfrom sklearn.cluster import KMeans\\nfrom sklearn.linear_model import ElasticNet\\nfrom sklearn.preprocessing import LabelEncoder\\nfrom sklearn.ensemble import GradientBoostingRegressor\\nfrom sklearn.model_selection import KFold'); }\n    ",
      "text/plain": [
       "<IPython.core.display.Javascript object>"
      ]
     },
     "metadata": {},
     "output_type": "display_data"
    },
    {
     "data": {
      "application/javascript": "\n        if (window._pyforest_update_imports_cell) { window._pyforest_update_imports_cell('from sklearn.linear_model import LassoCV\\nfrom statsmodels.tsa.arima_model import ARIMA\\nfrom pathlib import Path\\nimport pandas as pd\\nfrom sklearn.model_selection import GridSearchCV\\nfrom sklearn.feature_extraction.text import CountVectorizer\\nfrom sklearn.linear_model import LogisticRegression\\nimport numpy as np\\nfrom sklearn.decomposition import PCA\\nfrom sklearn.preprocessing import OneHotEncoder\\nfrom PIL import Image\\nfrom sklearn.linear_model import ElasticNetCV\\nfrom sklearn.preprocessing import PolynomialFeatures\\nfrom sklearn.preprocessing import MinMaxScaler\\nfrom sklearn.ensemble import GradientBoostingClassifier\\nfrom sklearn.linear_model import LinearRegression\\nfrom sklearn.linear_model import Lasso\\nfrom sklearn.cluster import KMeans\\nfrom sklearn.linear_model import ElasticNet\\nfrom sklearn.preprocessing import LabelEncoder\\nfrom sklearn.ensemble import GradientBoostingRegressor\\nfrom sklearn.model_selection import KFold'); }\n    ",
      "text/plain": [
       "<IPython.core.display.Javascript object>"
      ]
     },
     "metadata": {},
     "output_type": "display_data"
    },
    {
     "data": {
      "application/javascript": "\n        if (window._pyforest_update_imports_cell) { window._pyforest_update_imports_cell('from sklearn.linear_model import LassoCV\\nfrom statsmodels.tsa.arima_model import ARIMA\\nfrom pathlib import Path\\nimport pandas as pd\\nfrom sklearn.model_selection import GridSearchCV\\nfrom sklearn.feature_extraction.text import CountVectorizer\\nfrom sklearn.linear_model import LogisticRegression\\nimport numpy as np\\nfrom sklearn.decomposition import PCA\\nfrom sklearn.preprocessing import OneHotEncoder\\nfrom PIL import Image\\nfrom sklearn.linear_model import ElasticNetCV\\nfrom sklearn.preprocessing import PolynomialFeatures\\nfrom sklearn.preprocessing import MinMaxScaler\\nfrom sklearn.ensemble import GradientBoostingClassifier\\nfrom sklearn.linear_model import LinearRegression\\nfrom sklearn.linear_model import Lasso\\nfrom sklearn.cluster import KMeans\\nfrom sklearn.linear_model import ElasticNet\\nfrom sklearn.preprocessing import LabelEncoder\\nfrom sklearn.ensemble import GradientBoostingRegressor\\nfrom sklearn.model_selection import KFold'); }\n    ",
      "text/plain": [
       "<IPython.core.display.Javascript object>"
      ]
     },
     "metadata": {},
     "output_type": "display_data"
    },
    {
     "data": {
      "application/javascript": "\n        if (window._pyforest_update_imports_cell) { window._pyforest_update_imports_cell('from sklearn.linear_model import LassoCV\\nfrom statsmodels.tsa.arima_model import ARIMA\\nfrom pathlib import Path\\nimport pandas as pd\\nfrom sklearn.model_selection import GridSearchCV\\nfrom sklearn.feature_extraction.text import CountVectorizer\\nfrom sklearn.linear_model import LogisticRegression\\nimport numpy as np\\nfrom sklearn.decomposition import PCA\\nfrom sklearn.preprocessing import OneHotEncoder\\nfrom PIL import Image\\nfrom sklearn.linear_model import ElasticNetCV\\nfrom sklearn.preprocessing import PolynomialFeatures\\nfrom sklearn.preprocessing import MinMaxScaler\\nfrom sklearn.ensemble import GradientBoostingClassifier\\nfrom sklearn.linear_model import LinearRegression\\nfrom sklearn.linear_model import Lasso\\nfrom sklearn.cluster import KMeans\\nfrom sklearn.linear_model import ElasticNet\\nfrom sklearn.preprocessing import LabelEncoder\\nfrom sklearn.ensemble import GradientBoostingRegressor\\nfrom sklearn.model_selection import KFold'); }\n    ",
      "text/plain": [
       "<IPython.core.display.Javascript object>"
      ]
     },
     "metadata": {},
     "output_type": "display_data"
    },
    {
     "data": {
      "application/javascript": "\n        if (window._pyforest_update_imports_cell) { window._pyforest_update_imports_cell('from sklearn.linear_model import LassoCV\\nfrom statsmodels.tsa.arima_model import ARIMA\\nfrom pathlib import Path\\nimport pandas as pd\\nfrom sklearn.model_selection import GridSearchCV\\nfrom sklearn.feature_extraction.text import CountVectorizer\\nfrom sklearn.linear_model import LogisticRegression\\nimport numpy as np\\nfrom sklearn.decomposition import PCA\\nfrom sklearn.preprocessing import OneHotEncoder\\nfrom PIL import Image\\nfrom sklearn.linear_model import ElasticNetCV\\nfrom sklearn.preprocessing import PolynomialFeatures\\nfrom sklearn.preprocessing import MinMaxScaler\\nfrom sklearn.ensemble import GradientBoostingClassifier\\nfrom sklearn.linear_model import LinearRegression\\nfrom sklearn.linear_model import Lasso\\nfrom sklearn.cluster import KMeans\\nfrom sklearn.linear_model import ElasticNet\\nfrom sklearn.preprocessing import LabelEncoder\\nfrom sklearn.ensemble import GradientBoostingRegressor\\nfrom sklearn.model_selection import KFold'); }\n    ",
      "text/plain": [
       "<IPython.core.display.Javascript object>"
      ]
     },
     "metadata": {},
     "output_type": "display_data"
    },
    {
     "data": {
      "application/javascript": "\n        if (window._pyforest_update_imports_cell) { window._pyforest_update_imports_cell('from sklearn.linear_model import LassoCV\\nfrom statsmodels.tsa.arima_model import ARIMA\\nfrom pathlib import Path\\nimport pandas as pd\\nfrom sklearn.model_selection import GridSearchCV\\nfrom sklearn.feature_extraction.text import CountVectorizer\\nfrom sklearn.linear_model import LogisticRegression\\nimport numpy as np\\nfrom sklearn.decomposition import PCA\\nfrom sklearn.preprocessing import OneHotEncoder\\nfrom PIL import Image\\nfrom sklearn.linear_model import ElasticNetCV\\nfrom sklearn.preprocessing import PolynomialFeatures\\nfrom sklearn.preprocessing import MinMaxScaler\\nfrom sklearn.ensemble import GradientBoostingClassifier\\nfrom sklearn.linear_model import LinearRegression\\nfrom sklearn.linear_model import Lasso\\nfrom sklearn.cluster import KMeans\\nfrom sklearn.linear_model import ElasticNet\\nfrom sklearn.preprocessing import LabelEncoder\\nfrom sklearn.ensemble import GradientBoostingRegressor\\nfrom sklearn.model_selection import KFold'); }\n    ",
      "text/plain": [
       "<IPython.core.display.Javascript object>"
      ]
     },
     "metadata": {},
     "output_type": "display_data"
    },
    {
     "data": {
      "application/javascript": "\n        if (window._pyforest_update_imports_cell) { window._pyforest_update_imports_cell('from sklearn.linear_model import LassoCV\\nfrom statsmodels.tsa.arima_model import ARIMA\\nfrom pathlib import Path\\nimport pandas as pd\\nfrom sklearn.model_selection import GridSearchCV\\nfrom sklearn.feature_extraction.text import CountVectorizer\\nfrom sklearn.linear_model import LogisticRegression\\nimport numpy as np\\nfrom sklearn.decomposition import PCA\\nfrom sklearn.preprocessing import OneHotEncoder\\nfrom PIL import Image\\nfrom sklearn.linear_model import ElasticNetCV\\nfrom sklearn.preprocessing import PolynomialFeatures\\nfrom sklearn.preprocessing import MinMaxScaler\\nfrom sklearn.ensemble import GradientBoostingClassifier\\nfrom sklearn.linear_model import LinearRegression\\nfrom sklearn.linear_model import Lasso\\nfrom sklearn.cluster import KMeans\\nfrom sklearn.linear_model import ElasticNet\\nfrom sklearn.preprocessing import LabelEncoder\\nfrom sklearn.ensemble import GradientBoostingRegressor\\nfrom sklearn.model_selection import KFold'); }\n    ",
      "text/plain": [
       "<IPython.core.display.Javascript object>"
      ]
     },
     "metadata": {},
     "output_type": "display_data"
    },
    {
     "data": {
      "application/javascript": "\n        if (window._pyforest_update_imports_cell) { window._pyforest_update_imports_cell('from sklearn.linear_model import LassoCV\\nfrom statsmodels.tsa.arima_model import ARIMA\\nfrom pathlib import Path\\nimport pandas as pd\\nfrom sklearn.model_selection import GridSearchCV\\nfrom sklearn.feature_extraction.text import CountVectorizer\\nfrom sklearn.linear_model import LogisticRegression\\nimport numpy as np\\nfrom sklearn.decomposition import PCA\\nfrom sklearn.preprocessing import OneHotEncoder\\nfrom PIL import Image\\nfrom sklearn.linear_model import ElasticNetCV\\nfrom sklearn.preprocessing import PolynomialFeatures\\nfrom sklearn.preprocessing import MinMaxScaler\\nfrom sklearn.ensemble import GradientBoostingClassifier\\nfrom sklearn.linear_model import LinearRegression\\nfrom sklearn.linear_model import Lasso\\nfrom sklearn.cluster import KMeans\\nfrom sklearn.linear_model import ElasticNet\\nfrom sklearn.preprocessing import LabelEncoder\\nfrom sklearn.ensemble import GradientBoostingRegressor\\nfrom sklearn.model_selection import KFold'); }\n    ",
      "text/plain": [
       "<IPython.core.display.Javascript object>"
      ]
     },
     "metadata": {},
     "output_type": "display_data"
    },
    {
     "data": {
      "application/javascript": "\n        if (window._pyforest_update_imports_cell) { window._pyforest_update_imports_cell('from sklearn.linear_model import LassoCV\\nfrom statsmodels.tsa.arima_model import ARIMA\\nfrom pathlib import Path\\nimport pandas as pd\\nfrom sklearn.model_selection import GridSearchCV\\nfrom sklearn.feature_extraction.text import CountVectorizer\\nfrom sklearn.linear_model import LogisticRegression\\nimport numpy as np\\nfrom sklearn.decomposition import PCA\\nfrom sklearn.preprocessing import OneHotEncoder\\nfrom PIL import Image\\nfrom sklearn.linear_model import ElasticNetCV\\nfrom sklearn.preprocessing import PolynomialFeatures\\nfrom sklearn.preprocessing import MinMaxScaler\\nfrom sklearn.ensemble import GradientBoostingClassifier\\nfrom sklearn.linear_model import LinearRegression\\nfrom sklearn.linear_model import Lasso\\nfrom sklearn.cluster import KMeans\\nfrom sklearn.linear_model import ElasticNet\\nfrom sklearn.preprocessing import LabelEncoder\\nfrom sklearn.ensemble import GradientBoostingRegressor\\nfrom sklearn.model_selection import KFold'); }\n    ",
      "text/plain": [
       "<IPython.core.display.Javascript object>"
      ]
     },
     "metadata": {},
     "output_type": "display_data"
    },
    {
     "data": {
      "application/javascript": "\n        if (window._pyforest_update_imports_cell) { window._pyforest_update_imports_cell('from sklearn.linear_model import LassoCV\\nfrom statsmodels.tsa.arima_model import ARIMA\\nfrom pathlib import Path\\nimport pandas as pd\\nfrom sklearn.model_selection import GridSearchCV\\nfrom sklearn.feature_extraction.text import CountVectorizer\\nfrom sklearn.linear_model import LogisticRegression\\nimport numpy as np\\nfrom sklearn.decomposition import PCA\\nfrom sklearn.preprocessing import OneHotEncoder\\nfrom PIL import Image\\nfrom sklearn.linear_model import ElasticNetCV\\nfrom sklearn.preprocessing import PolynomialFeatures\\nfrom sklearn.preprocessing import MinMaxScaler\\nfrom sklearn.ensemble import GradientBoostingClassifier\\nfrom sklearn.linear_model import LinearRegression\\nfrom sklearn.linear_model import Lasso\\nfrom sklearn.cluster import KMeans\\nfrom sklearn.linear_model import ElasticNet\\nfrom sklearn.preprocessing import LabelEncoder\\nfrom sklearn.ensemble import GradientBoostingRegressor\\nfrom sklearn.model_selection import KFold'); }\n    ",
      "text/plain": [
       "<IPython.core.display.Javascript object>"
      ]
     },
     "metadata": {},
     "output_type": "display_data"
    },
    {
     "data": {
      "application/javascript": "\n        if (window._pyforest_update_imports_cell) { window._pyforest_update_imports_cell('from sklearn.linear_model import LassoCV\\nfrom statsmodels.tsa.arima_model import ARIMA\\nfrom pathlib import Path\\nimport pandas as pd\\nfrom sklearn.model_selection import GridSearchCV\\nfrom sklearn.feature_extraction.text import CountVectorizer\\nfrom sklearn.linear_model import LogisticRegression\\nimport numpy as np\\nfrom sklearn.decomposition import PCA\\nfrom sklearn.preprocessing import OneHotEncoder\\nfrom PIL import Image\\nfrom sklearn.linear_model import ElasticNetCV\\nfrom sklearn.preprocessing import PolynomialFeatures\\nfrom sklearn.preprocessing import MinMaxScaler\\nfrom sklearn.ensemble import GradientBoostingClassifier\\nfrom sklearn.linear_model import LinearRegression\\nfrom sklearn.linear_model import Lasso\\nfrom sklearn.cluster import KMeans\\nfrom sklearn.linear_model import ElasticNet\\nfrom sklearn.preprocessing import LabelEncoder\\nfrom sklearn.ensemble import GradientBoostingRegressor\\nfrom sklearn.model_selection import KFold'); }\n    ",
      "text/plain": [
       "<IPython.core.display.Javascript object>"
      ]
     },
     "metadata": {},
     "output_type": "display_data"
    },
    {
     "data": {
      "application/javascript": "\n        if (window._pyforest_update_imports_cell) { window._pyforest_update_imports_cell('from sklearn.linear_model import LassoCV\\nfrom statsmodels.tsa.arima_model import ARIMA\\nfrom pathlib import Path\\nimport pandas as pd\\nfrom sklearn.model_selection import GridSearchCV\\nfrom sklearn.feature_extraction.text import CountVectorizer\\nfrom sklearn.linear_model import LogisticRegression\\nimport numpy as np\\nfrom sklearn.decomposition import PCA\\nfrom sklearn.preprocessing import OneHotEncoder\\nfrom PIL import Image\\nfrom sklearn.linear_model import ElasticNetCV\\nfrom sklearn.preprocessing import PolynomialFeatures\\nfrom sklearn.preprocessing import MinMaxScaler\\nfrom sklearn.ensemble import GradientBoostingClassifier\\nfrom sklearn.linear_model import LinearRegression\\nfrom sklearn.linear_model import Lasso\\nfrom sklearn.cluster import KMeans\\nfrom sklearn.linear_model import ElasticNet\\nfrom sklearn.preprocessing import LabelEncoder\\nfrom sklearn.ensemble import GradientBoostingRegressor\\nfrom sklearn.model_selection import KFold'); }\n    ",
      "text/plain": [
       "<IPython.core.display.Javascript object>"
      ]
     },
     "metadata": {},
     "output_type": "display_data"
    },
    {
     "data": {
      "application/javascript": "\n        if (window._pyforest_update_imports_cell) { window._pyforest_update_imports_cell('from sklearn.linear_model import LassoCV\\nfrom statsmodels.tsa.arima_model import ARIMA\\nfrom pathlib import Path\\nimport pandas as pd\\nfrom sklearn.model_selection import GridSearchCV\\nfrom sklearn.feature_extraction.text import CountVectorizer\\nfrom sklearn.linear_model import LogisticRegression\\nimport numpy as np\\nfrom sklearn.decomposition import PCA\\nfrom sklearn.preprocessing import OneHotEncoder\\nfrom PIL import Image\\nfrom sklearn.linear_model import ElasticNetCV\\nfrom sklearn.preprocessing import PolynomialFeatures\\nfrom sklearn.preprocessing import MinMaxScaler\\nfrom sklearn.ensemble import GradientBoostingClassifier\\nfrom sklearn.linear_model import LinearRegression\\nfrom sklearn.linear_model import Lasso\\nfrom sklearn.cluster import KMeans\\nfrom sklearn.linear_model import ElasticNet\\nfrom sklearn.preprocessing import LabelEncoder\\nfrom sklearn.ensemble import GradientBoostingRegressor\\nfrom sklearn.model_selection import KFold'); }\n    ",
      "text/plain": [
       "<IPython.core.display.Javascript object>"
      ]
     },
     "metadata": {},
     "output_type": "display_data"
    },
    {
     "data": {
      "application/javascript": "\n        if (window._pyforest_update_imports_cell) { window._pyforest_update_imports_cell('from sklearn.linear_model import LassoCV\\nfrom statsmodels.tsa.arima_model import ARIMA\\nfrom pathlib import Path\\nimport pandas as pd\\nfrom sklearn.model_selection import GridSearchCV\\nfrom sklearn.feature_extraction.text import CountVectorizer\\nfrom sklearn.linear_model import LogisticRegression\\nimport numpy as np\\nfrom sklearn.decomposition import PCA\\nfrom sklearn.preprocessing import OneHotEncoder\\nfrom PIL import Image\\nfrom sklearn.linear_model import ElasticNetCV\\nfrom sklearn.preprocessing import PolynomialFeatures\\nfrom sklearn.preprocessing import MinMaxScaler\\nfrom sklearn.ensemble import GradientBoostingClassifier\\nfrom sklearn.linear_model import LinearRegression\\nfrom sklearn.linear_model import Lasso\\nfrom sklearn.cluster import KMeans\\nfrom sklearn.linear_model import ElasticNet\\nfrom sklearn.preprocessing import LabelEncoder\\nfrom sklearn.ensemble import GradientBoostingRegressor\\nfrom sklearn.model_selection import KFold'); }\n    ",
      "text/plain": [
       "<IPython.core.display.Javascript object>"
      ]
     },
     "metadata": {},
     "output_type": "display_data"
    },
    {
     "data": {
      "application/javascript": "\n        if (window._pyforest_update_imports_cell) { window._pyforest_update_imports_cell('from sklearn.linear_model import LassoCV\\nfrom statsmodels.tsa.arima_model import ARIMA\\nfrom pathlib import Path\\nimport pandas as pd\\nfrom sklearn.model_selection import GridSearchCV\\nfrom sklearn.feature_extraction.text import CountVectorizer\\nfrom sklearn.linear_model import LogisticRegression\\nimport numpy as np\\nfrom sklearn.decomposition import PCA\\nfrom sklearn.preprocessing import OneHotEncoder\\nfrom PIL import Image\\nfrom sklearn.linear_model import ElasticNetCV\\nfrom sklearn.preprocessing import PolynomialFeatures\\nfrom sklearn.preprocessing import MinMaxScaler\\nfrom sklearn.ensemble import GradientBoostingClassifier\\nfrom sklearn.linear_model import LinearRegression\\nfrom sklearn.linear_model import Lasso\\nfrom sklearn.cluster import KMeans\\nfrom sklearn.linear_model import ElasticNet\\nfrom sklearn.preprocessing import LabelEncoder\\nfrom sklearn.ensemble import GradientBoostingRegressor\\nfrom sklearn.model_selection import KFold'); }\n    ",
      "text/plain": [
       "<IPython.core.display.Javascript object>"
      ]
     },
     "metadata": {},
     "output_type": "display_data"
    },
    {
     "data": {
      "application/javascript": "\n        if (window._pyforest_update_imports_cell) { window._pyforest_update_imports_cell('from sklearn.linear_model import LassoCV\\nfrom statsmodels.tsa.arima_model import ARIMA\\nfrom pathlib import Path\\nimport pandas as pd\\nfrom sklearn.model_selection import GridSearchCV\\nfrom sklearn.feature_extraction.text import CountVectorizer\\nfrom sklearn.linear_model import LogisticRegression\\nimport numpy as np\\nfrom sklearn.decomposition import PCA\\nfrom sklearn.preprocessing import OneHotEncoder\\nfrom PIL import Image\\nfrom sklearn.linear_model import ElasticNetCV\\nfrom sklearn.preprocessing import PolynomialFeatures\\nfrom sklearn.preprocessing import MinMaxScaler\\nfrom sklearn.ensemble import GradientBoostingClassifier\\nfrom sklearn.linear_model import LinearRegression\\nfrom sklearn.linear_model import Lasso\\nfrom sklearn.cluster import KMeans\\nfrom sklearn.linear_model import ElasticNet\\nfrom sklearn.preprocessing import LabelEncoder\\nfrom sklearn.ensemble import GradientBoostingRegressor\\nfrom sklearn.model_selection import KFold'); }\n    ",
      "text/plain": [
       "<IPython.core.display.Javascript object>"
      ]
     },
     "metadata": {},
     "output_type": "display_data"
    },
    {
     "data": {
      "application/javascript": "\n        if (window._pyforest_update_imports_cell) { window._pyforest_update_imports_cell('from sklearn.linear_model import LassoCV\\nfrom statsmodels.tsa.arima_model import ARIMA\\nfrom pathlib import Path\\nimport pandas as pd\\nfrom sklearn.model_selection import GridSearchCV\\nfrom sklearn.feature_extraction.text import CountVectorizer\\nfrom sklearn.linear_model import LogisticRegression\\nimport numpy as np\\nfrom sklearn.decomposition import PCA\\nfrom sklearn.preprocessing import OneHotEncoder\\nfrom PIL import Image\\nfrom sklearn.linear_model import ElasticNetCV\\nfrom sklearn.preprocessing import PolynomialFeatures\\nfrom sklearn.preprocessing import MinMaxScaler\\nfrom sklearn.ensemble import GradientBoostingClassifier\\nfrom sklearn.linear_model import LinearRegression\\nfrom sklearn.linear_model import Lasso\\nfrom sklearn.cluster import KMeans\\nfrom sklearn.linear_model import ElasticNet\\nfrom sklearn.preprocessing import LabelEncoder\\nfrom sklearn.ensemble import GradientBoostingRegressor\\nfrom sklearn.model_selection import KFold'); }\n    ",
      "text/plain": [
       "<IPython.core.display.Javascript object>"
      ]
     },
     "metadata": {},
     "output_type": "display_data"
    },
    {
     "data": {
      "application/javascript": "\n        if (window._pyforest_update_imports_cell) { window._pyforest_update_imports_cell('from sklearn.linear_model import LassoCV\\nfrom statsmodels.tsa.arima_model import ARIMA\\nfrom pathlib import Path\\nimport pandas as pd\\nfrom sklearn.model_selection import GridSearchCV\\nfrom sklearn.feature_extraction.text import CountVectorizer\\nfrom sklearn.linear_model import LogisticRegression\\nimport numpy as np\\nfrom sklearn.decomposition import PCA\\nfrom sklearn.preprocessing import OneHotEncoder\\nfrom PIL import Image\\nfrom sklearn.linear_model import ElasticNetCV\\nfrom sklearn.preprocessing import PolynomialFeatures\\nfrom sklearn.preprocessing import MinMaxScaler\\nfrom sklearn.ensemble import GradientBoostingClassifier\\nfrom sklearn.linear_model import LinearRegression\\nfrom sklearn.linear_model import Lasso\\nfrom sklearn.cluster import KMeans\\nfrom sklearn.linear_model import ElasticNet\\nfrom sklearn.preprocessing import LabelEncoder\\nfrom sklearn.ensemble import GradientBoostingRegressor\\nfrom sklearn.model_selection import KFold'); }\n    ",
      "text/plain": [
       "<IPython.core.display.Javascript object>"
      ]
     },
     "metadata": {},
     "output_type": "display_data"
    },
    {
     "data": {
      "application/javascript": "\n        if (window._pyforest_update_imports_cell) { window._pyforest_update_imports_cell('from sklearn.linear_model import LassoCV\\nfrom statsmodels.tsa.arima_model import ARIMA\\nfrom pathlib import Path\\nimport pandas as pd\\nfrom sklearn.model_selection import GridSearchCV\\nfrom sklearn.feature_extraction.text import CountVectorizer\\nfrom sklearn.linear_model import LogisticRegression\\nimport numpy as np\\nfrom sklearn.decomposition import PCA\\nfrom sklearn.preprocessing import OneHotEncoder\\nfrom PIL import Image\\nfrom sklearn.linear_model import ElasticNetCV\\nfrom sklearn.preprocessing import PolynomialFeatures\\nfrom sklearn.preprocessing import MinMaxScaler\\nfrom sklearn.ensemble import GradientBoostingClassifier\\nfrom sklearn.linear_model import LinearRegression\\nfrom sklearn.linear_model import Lasso\\nfrom sklearn.cluster import KMeans\\nfrom sklearn.linear_model import ElasticNet\\nfrom sklearn.preprocessing import LabelEncoder\\nfrom sklearn.ensemble import GradientBoostingRegressor\\nfrom sklearn.model_selection import KFold'); }\n    ",
      "text/plain": [
       "<IPython.core.display.Javascript object>"
      ]
     },
     "metadata": {},
     "output_type": "display_data"
    },
    {
     "data": {
      "application/javascript": "\n        if (window._pyforest_update_imports_cell) { window._pyforest_update_imports_cell('from sklearn.linear_model import LassoCV\\nfrom statsmodels.tsa.arima_model import ARIMA\\nfrom pathlib import Path\\nimport pandas as pd\\nfrom sklearn.model_selection import GridSearchCV\\nfrom sklearn.feature_extraction.text import CountVectorizer\\nfrom sklearn.linear_model import LogisticRegression\\nimport numpy as np\\nfrom sklearn.decomposition import PCA\\nfrom sklearn.preprocessing import OneHotEncoder\\nfrom PIL import Image\\nfrom sklearn.linear_model import ElasticNetCV\\nfrom sklearn.preprocessing import PolynomialFeatures\\nfrom sklearn.preprocessing import MinMaxScaler\\nfrom sklearn.ensemble import GradientBoostingClassifier\\nfrom sklearn.linear_model import LinearRegression\\nfrom sklearn.linear_model import Lasso\\nfrom sklearn.cluster import KMeans\\nfrom sklearn.linear_model import ElasticNet\\nfrom sklearn.preprocessing import LabelEncoder\\nfrom sklearn.ensemble import GradientBoostingRegressor\\nfrom sklearn.model_selection import KFold'); }\n    ",
      "text/plain": [
       "<IPython.core.display.Javascript object>"
      ]
     },
     "metadata": {},
     "output_type": "display_data"
    },
    {
     "data": {
      "application/javascript": "\n        if (window._pyforest_update_imports_cell) { window._pyforest_update_imports_cell('from sklearn.linear_model import LassoCV\\nfrom statsmodels.tsa.arima_model import ARIMA\\nfrom pathlib import Path\\nimport pandas as pd\\nfrom sklearn.model_selection import GridSearchCV\\nfrom sklearn.feature_extraction.text import CountVectorizer\\nfrom sklearn.linear_model import LogisticRegression\\nimport numpy as np\\nfrom sklearn.decomposition import PCA\\nfrom sklearn.preprocessing import OneHotEncoder\\nfrom PIL import Image\\nfrom sklearn.linear_model import ElasticNetCV\\nfrom sklearn.preprocessing import PolynomialFeatures\\nfrom sklearn.preprocessing import MinMaxScaler\\nfrom sklearn.ensemble import GradientBoostingClassifier\\nfrom sklearn.linear_model import LinearRegression\\nfrom sklearn.linear_model import Lasso\\nfrom sklearn.cluster import KMeans\\nfrom sklearn.linear_model import ElasticNet\\nfrom sklearn.preprocessing import LabelEncoder\\nfrom sklearn.ensemble import GradientBoostingRegressor\\nfrom sklearn.model_selection import KFold'); }\n    ",
      "text/plain": [
       "<IPython.core.display.Javascript object>"
      ]
     },
     "metadata": {},
     "output_type": "display_data"
    },
    {
     "data": {
      "application/javascript": "\n        if (window._pyforest_update_imports_cell) { window._pyforest_update_imports_cell('from sklearn.linear_model import LassoCV\\nfrom statsmodels.tsa.arima_model import ARIMA\\nfrom pathlib import Path\\nimport pandas as pd\\nfrom sklearn.model_selection import GridSearchCV\\nfrom sklearn.feature_extraction.text import CountVectorizer\\nfrom sklearn.linear_model import LogisticRegression\\nimport numpy as np\\nfrom sklearn.decomposition import PCA\\nfrom sklearn.preprocessing import OneHotEncoder\\nfrom PIL import Image\\nfrom sklearn.linear_model import ElasticNetCV\\nfrom sklearn.preprocessing import PolynomialFeatures\\nfrom sklearn.preprocessing import MinMaxScaler\\nfrom sklearn.ensemble import GradientBoostingClassifier\\nfrom sklearn.linear_model import LinearRegression\\nfrom sklearn.linear_model import Lasso\\nfrom sklearn.cluster import KMeans\\nfrom sklearn.linear_model import ElasticNet\\nfrom sklearn.preprocessing import LabelEncoder\\nfrom sklearn.ensemble import GradientBoostingRegressor\\nfrom sklearn.model_selection import KFold'); }\n    ",
      "text/plain": [
       "<IPython.core.display.Javascript object>"
      ]
     },
     "metadata": {},
     "output_type": "display_data"
    },
    {
     "data": {
      "application/javascript": "\n        if (window._pyforest_update_imports_cell) { window._pyforest_update_imports_cell('from sklearn.linear_model import LassoCV\\nfrom statsmodels.tsa.arima_model import ARIMA\\nfrom pathlib import Path\\nimport pandas as pd\\nfrom sklearn.model_selection import GridSearchCV\\nfrom sklearn.feature_extraction.text import CountVectorizer\\nfrom sklearn.linear_model import LogisticRegression\\nimport numpy as np\\nfrom sklearn.decomposition import PCA\\nfrom sklearn.preprocessing import OneHotEncoder\\nfrom PIL import Image\\nfrom sklearn.linear_model import ElasticNetCV\\nfrom sklearn.preprocessing import PolynomialFeatures\\nfrom sklearn.preprocessing import MinMaxScaler\\nfrom sklearn.ensemble import GradientBoostingClassifier\\nfrom sklearn.linear_model import LinearRegression\\nfrom sklearn.linear_model import Lasso\\nfrom sklearn.cluster import KMeans\\nfrom sklearn.linear_model import ElasticNet\\nfrom sklearn.preprocessing import LabelEncoder\\nfrom sklearn.ensemble import GradientBoostingRegressor\\nfrom sklearn.model_selection import KFold'); }\n    ",
      "text/plain": [
       "<IPython.core.display.Javascript object>"
      ]
     },
     "metadata": {},
     "output_type": "display_data"
    },
    {
     "data": {
      "application/javascript": "\n        if (window._pyforest_update_imports_cell) { window._pyforest_update_imports_cell('from sklearn.linear_model import LassoCV\\nfrom statsmodels.tsa.arima_model import ARIMA\\nfrom pathlib import Path\\nimport pandas as pd\\nfrom sklearn.model_selection import GridSearchCV\\nfrom sklearn.feature_extraction.text import CountVectorizer\\nfrom sklearn.linear_model import LogisticRegression\\nimport numpy as np\\nfrom sklearn.decomposition import PCA\\nfrom sklearn.preprocessing import OneHotEncoder\\nfrom PIL import Image\\nfrom sklearn.linear_model import ElasticNetCV\\nfrom sklearn.preprocessing import PolynomialFeatures\\nfrom sklearn.preprocessing import MinMaxScaler\\nfrom sklearn.ensemble import GradientBoostingClassifier\\nfrom sklearn.linear_model import LinearRegression\\nfrom sklearn.linear_model import Lasso\\nfrom sklearn.cluster import KMeans\\nfrom sklearn.linear_model import ElasticNet\\nfrom sklearn.preprocessing import LabelEncoder\\nfrom sklearn.ensemble import GradientBoostingRegressor\\nfrom sklearn.model_selection import KFold'); }\n    ",
      "text/plain": [
       "<IPython.core.display.Javascript object>"
      ]
     },
     "metadata": {},
     "output_type": "display_data"
    },
    {
     "data": {
      "application/javascript": "\n        if (window._pyforest_update_imports_cell) { window._pyforest_update_imports_cell('from sklearn.linear_model import LassoCV\\nfrom statsmodels.tsa.arima_model import ARIMA\\nfrom pathlib import Path\\nimport pandas as pd\\nfrom sklearn.model_selection import GridSearchCV\\nfrom sklearn.feature_extraction.text import CountVectorizer\\nfrom sklearn.linear_model import LogisticRegression\\nimport numpy as np\\nfrom sklearn.decomposition import PCA\\nfrom sklearn.preprocessing import OneHotEncoder\\nfrom PIL import Image\\nfrom sklearn.linear_model import ElasticNetCV\\nfrom sklearn.preprocessing import PolynomialFeatures\\nfrom sklearn.preprocessing import MinMaxScaler\\nfrom sklearn.ensemble import GradientBoostingClassifier\\nfrom sklearn.linear_model import LinearRegression\\nfrom sklearn.linear_model import Lasso\\nfrom sklearn.cluster import KMeans\\nfrom sklearn.linear_model import ElasticNet\\nfrom sklearn.preprocessing import LabelEncoder\\nfrom sklearn.ensemble import GradientBoostingRegressor\\nfrom sklearn.model_selection import KFold'); }\n    ",
      "text/plain": [
       "<IPython.core.display.Javascript object>"
      ]
     },
     "metadata": {},
     "output_type": "display_data"
    },
    {
     "data": {
      "application/javascript": "\n        if (window._pyforest_update_imports_cell) { window._pyforest_update_imports_cell('from sklearn.linear_model import LassoCV\\nfrom statsmodels.tsa.arima_model import ARIMA\\nfrom pathlib import Path\\nimport pandas as pd\\nfrom sklearn.model_selection import GridSearchCV\\nfrom sklearn.feature_extraction.text import CountVectorizer\\nfrom sklearn.linear_model import LogisticRegression\\nimport numpy as np\\nfrom sklearn.decomposition import PCA\\nfrom sklearn.preprocessing import OneHotEncoder\\nfrom PIL import Image\\nfrom sklearn.linear_model import ElasticNetCV\\nfrom sklearn.preprocessing import PolynomialFeatures\\nfrom sklearn.preprocessing import MinMaxScaler\\nfrom sklearn.ensemble import GradientBoostingClassifier\\nfrom sklearn.linear_model import LinearRegression\\nfrom sklearn.linear_model import Lasso\\nfrom sklearn.cluster import KMeans\\nfrom sklearn.linear_model import ElasticNet\\nfrom sklearn.preprocessing import LabelEncoder\\nfrom sklearn.ensemble import GradientBoostingRegressor\\nfrom sklearn.model_selection import KFold'); }\n    ",
      "text/plain": [
       "<IPython.core.display.Javascript object>"
      ]
     },
     "metadata": {},
     "output_type": "display_data"
    },
    {
     "data": {
      "application/javascript": "\n        if (window._pyforest_update_imports_cell) { window._pyforest_update_imports_cell('from sklearn.linear_model import LassoCV\\nfrom statsmodels.tsa.arima_model import ARIMA\\nfrom pathlib import Path\\nimport pandas as pd\\nfrom sklearn.model_selection import GridSearchCV\\nfrom sklearn.feature_extraction.text import CountVectorizer\\nfrom sklearn.linear_model import LogisticRegression\\nimport numpy as np\\nfrom sklearn.decomposition import PCA\\nfrom sklearn.preprocessing import OneHotEncoder\\nfrom PIL import Image\\nfrom sklearn.linear_model import ElasticNetCV\\nfrom sklearn.preprocessing import PolynomialFeatures\\nfrom sklearn.preprocessing import MinMaxScaler\\nfrom sklearn.ensemble import GradientBoostingClassifier\\nfrom sklearn.linear_model import LinearRegression\\nfrom sklearn.linear_model import Lasso\\nfrom sklearn.cluster import KMeans\\nfrom sklearn.linear_model import ElasticNet\\nfrom sklearn.preprocessing import LabelEncoder\\nfrom sklearn.ensemble import GradientBoostingRegressor\\nfrom sklearn.model_selection import KFold'); }\n    ",
      "text/plain": [
       "<IPython.core.display.Javascript object>"
      ]
     },
     "metadata": {},
     "output_type": "display_data"
    },
    {
     "data": {
      "application/javascript": "\n        if (window._pyforest_update_imports_cell) { window._pyforest_update_imports_cell('from sklearn.linear_model import LassoCV\\nfrom statsmodels.tsa.arima_model import ARIMA\\nfrom pathlib import Path\\nimport pandas as pd\\nfrom sklearn.model_selection import GridSearchCV\\nfrom sklearn.feature_extraction.text import CountVectorizer\\nfrom sklearn.linear_model import LogisticRegression\\nimport numpy as np\\nfrom sklearn.decomposition import PCA\\nfrom sklearn.preprocessing import OneHotEncoder\\nfrom PIL import Image\\nfrom sklearn.linear_model import ElasticNetCV\\nfrom sklearn.preprocessing import PolynomialFeatures\\nfrom sklearn.preprocessing import MinMaxScaler\\nfrom sklearn.ensemble import GradientBoostingClassifier\\nfrom sklearn.linear_model import LinearRegression\\nfrom sklearn.linear_model import Lasso\\nfrom sklearn.cluster import KMeans\\nfrom sklearn.linear_model import ElasticNet\\nfrom sklearn.preprocessing import LabelEncoder\\nfrom sklearn.ensemble import GradientBoostingRegressor\\nfrom sklearn.model_selection import KFold'); }\n    ",
      "text/plain": [
       "<IPython.core.display.Javascript object>"
      ]
     },
     "metadata": {},
     "output_type": "display_data"
    },
    {
     "data": {
      "application/javascript": "\n        if (window._pyforest_update_imports_cell) { window._pyforest_update_imports_cell('from sklearn.linear_model import LassoCV\\nfrom statsmodels.tsa.arima_model import ARIMA\\nfrom pathlib import Path\\nimport pandas as pd\\nfrom sklearn.model_selection import GridSearchCV\\nfrom sklearn.feature_extraction.text import CountVectorizer\\nfrom sklearn.linear_model import LogisticRegression\\nimport numpy as np\\nfrom sklearn.decomposition import PCA\\nfrom sklearn.preprocessing import OneHotEncoder\\nfrom PIL import Image\\nfrom sklearn.linear_model import ElasticNetCV\\nfrom sklearn.preprocessing import PolynomialFeatures\\nfrom sklearn.preprocessing import MinMaxScaler\\nfrom sklearn.ensemble import GradientBoostingClassifier\\nfrom sklearn.linear_model import LinearRegression\\nfrom sklearn.linear_model import Lasso\\nfrom sklearn.cluster import KMeans\\nfrom sklearn.linear_model import ElasticNet\\nfrom sklearn.preprocessing import LabelEncoder\\nfrom sklearn.ensemble import GradientBoostingRegressor\\nfrom sklearn.model_selection import KFold'); }\n    ",
      "text/plain": [
       "<IPython.core.display.Javascript object>"
      ]
     },
     "metadata": {},
     "output_type": "display_data"
    },
    {
     "data": {
      "application/javascript": "\n        if (window._pyforest_update_imports_cell) { window._pyforest_update_imports_cell('from sklearn.linear_model import LassoCV\\nfrom statsmodels.tsa.arima_model import ARIMA\\nfrom pathlib import Path\\nimport pandas as pd\\nfrom sklearn.model_selection import GridSearchCV\\nfrom sklearn.feature_extraction.text import CountVectorizer\\nfrom sklearn.linear_model import LogisticRegression\\nimport numpy as np\\nfrom sklearn.decomposition import PCA\\nfrom sklearn.preprocessing import OneHotEncoder\\nfrom PIL import Image\\nfrom sklearn.linear_model import ElasticNetCV\\nfrom sklearn.preprocessing import PolynomialFeatures\\nfrom sklearn.preprocessing import MinMaxScaler\\nfrom sklearn.ensemble import GradientBoostingClassifier\\nfrom sklearn.linear_model import LinearRegression\\nfrom sklearn.linear_model import Lasso\\nfrom sklearn.cluster import KMeans\\nfrom sklearn.linear_model import ElasticNet\\nfrom sklearn.preprocessing import LabelEncoder\\nfrom sklearn.ensemble import GradientBoostingRegressor\\nfrom sklearn.model_selection import KFold'); }\n    ",
      "text/plain": [
       "<IPython.core.display.Javascript object>"
      ]
     },
     "metadata": {},
     "output_type": "display_data"
    },
    {
     "data": {
      "application/javascript": "\n        if (window._pyforest_update_imports_cell) { window._pyforest_update_imports_cell('from sklearn.linear_model import LassoCV\\nfrom statsmodels.tsa.arima_model import ARIMA\\nfrom pathlib import Path\\nimport pandas as pd\\nfrom sklearn.model_selection import GridSearchCV\\nfrom sklearn.feature_extraction.text import CountVectorizer\\nfrom sklearn.linear_model import LogisticRegression\\nimport numpy as np\\nfrom sklearn.decomposition import PCA\\nfrom sklearn.preprocessing import OneHotEncoder\\nfrom PIL import Image\\nfrom sklearn.linear_model import ElasticNetCV\\nfrom sklearn.preprocessing import PolynomialFeatures\\nfrom sklearn.preprocessing import MinMaxScaler\\nfrom sklearn.ensemble import GradientBoostingClassifier\\nfrom sklearn.linear_model import LinearRegression\\nfrom sklearn.linear_model import Lasso\\nfrom sklearn.cluster import KMeans\\nfrom sklearn.linear_model import ElasticNet\\nfrom sklearn.preprocessing import LabelEncoder\\nfrom sklearn.ensemble import GradientBoostingRegressor\\nfrom sklearn.model_selection import KFold'); }\n    ",
      "text/plain": [
       "<IPython.core.display.Javascript object>"
      ]
     },
     "metadata": {},
     "output_type": "display_data"
    },
    {
     "data": {
      "application/javascript": "\n        if (window._pyforest_update_imports_cell) { window._pyforest_update_imports_cell('from sklearn.linear_model import LassoCV\\nfrom statsmodels.tsa.arima_model import ARIMA\\nfrom pathlib import Path\\nimport pandas as pd\\nfrom sklearn.model_selection import GridSearchCV\\nfrom sklearn.feature_extraction.text import CountVectorizer\\nfrom sklearn.linear_model import LogisticRegression\\nimport numpy as np\\nfrom sklearn.decomposition import PCA\\nfrom sklearn.preprocessing import OneHotEncoder\\nfrom PIL import Image\\nfrom sklearn.linear_model import ElasticNetCV\\nfrom sklearn.preprocessing import PolynomialFeatures\\nfrom sklearn.preprocessing import MinMaxScaler\\nfrom sklearn.ensemble import GradientBoostingClassifier\\nfrom sklearn.linear_model import LinearRegression\\nfrom sklearn.linear_model import Lasso\\nfrom sklearn.cluster import KMeans\\nfrom sklearn.linear_model import ElasticNet\\nfrom sklearn.preprocessing import LabelEncoder\\nfrom sklearn.ensemble import GradientBoostingRegressor\\nfrom sklearn.model_selection import KFold'); }\n    ",
      "text/plain": [
       "<IPython.core.display.Javascript object>"
      ]
     },
     "metadata": {},
     "output_type": "display_data"
    },
    {
     "data": {
      "application/javascript": "\n        if (window._pyforest_update_imports_cell) { window._pyforest_update_imports_cell('from sklearn.linear_model import LassoCV\\nfrom statsmodels.tsa.arima_model import ARIMA\\nfrom pathlib import Path\\nimport pandas as pd\\nfrom sklearn.model_selection import GridSearchCV\\nfrom sklearn.feature_extraction.text import CountVectorizer\\nfrom sklearn.linear_model import LogisticRegression\\nimport numpy as np\\nfrom sklearn.decomposition import PCA\\nfrom sklearn.preprocessing import OneHotEncoder\\nfrom PIL import Image\\nfrom sklearn.linear_model import ElasticNetCV\\nfrom sklearn.preprocessing import PolynomialFeatures\\nfrom sklearn.preprocessing import MinMaxScaler\\nfrom sklearn.ensemble import GradientBoostingClassifier\\nfrom sklearn.linear_model import LinearRegression\\nfrom sklearn.linear_model import Lasso\\nfrom sklearn.cluster import KMeans\\nfrom sklearn.linear_model import ElasticNet\\nfrom sklearn.preprocessing import LabelEncoder\\nfrom sklearn.ensemble import GradientBoostingRegressor\\nfrom sklearn.model_selection import KFold'); }\n    ",
      "text/plain": [
       "<IPython.core.display.Javascript object>"
      ]
     },
     "metadata": {},
     "output_type": "display_data"
    },
    {
     "data": {
      "application/javascript": "\n        if (window._pyforest_update_imports_cell) { window._pyforest_update_imports_cell('from sklearn.linear_model import LassoCV\\nfrom statsmodels.tsa.arima_model import ARIMA\\nfrom pathlib import Path\\nimport pandas as pd\\nfrom sklearn.model_selection import GridSearchCV\\nfrom sklearn.feature_extraction.text import CountVectorizer\\nfrom sklearn.linear_model import LogisticRegression\\nimport numpy as np\\nfrom sklearn.decomposition import PCA\\nfrom sklearn.preprocessing import OneHotEncoder\\nfrom PIL import Image\\nfrom sklearn.linear_model import ElasticNetCV\\nfrom sklearn.preprocessing import PolynomialFeatures\\nfrom sklearn.preprocessing import MinMaxScaler\\nfrom sklearn.ensemble import GradientBoostingClassifier\\nfrom sklearn.linear_model import LinearRegression\\nfrom sklearn.linear_model import Lasso\\nfrom sklearn.cluster import KMeans\\nfrom sklearn.linear_model import ElasticNet\\nfrom sklearn.preprocessing import LabelEncoder\\nfrom sklearn.ensemble import GradientBoostingRegressor\\nfrom sklearn.model_selection import KFold'); }\n    ",
      "text/plain": [
       "<IPython.core.display.Javascript object>"
      ]
     },
     "metadata": {},
     "output_type": "display_data"
    },
    {
     "data": {
      "application/javascript": "\n        if (window._pyforest_update_imports_cell) { window._pyforest_update_imports_cell('from sklearn.linear_model import LassoCV\\nfrom statsmodels.tsa.arima_model import ARIMA\\nfrom pathlib import Path\\nimport pandas as pd\\nfrom sklearn.model_selection import GridSearchCV\\nfrom sklearn.feature_extraction.text import CountVectorizer\\nfrom sklearn.linear_model import LogisticRegression\\nimport numpy as np\\nfrom sklearn.decomposition import PCA\\nfrom sklearn.preprocessing import OneHotEncoder\\nfrom PIL import Image\\nfrom sklearn.linear_model import ElasticNetCV\\nfrom sklearn.preprocessing import PolynomialFeatures\\nfrom sklearn.preprocessing import MinMaxScaler\\nfrom sklearn.ensemble import GradientBoostingClassifier\\nfrom sklearn.linear_model import LinearRegression\\nfrom sklearn.linear_model import Lasso\\nfrom sklearn.cluster import KMeans\\nfrom sklearn.linear_model import ElasticNet\\nfrom sklearn.preprocessing import LabelEncoder\\nfrom sklearn.ensemble import GradientBoostingRegressor\\nfrom sklearn.model_selection import KFold'); }\n    ",
      "text/plain": [
       "<IPython.core.display.Javascript object>"
      ]
     },
     "metadata": {},
     "output_type": "display_data"
    },
    {
     "data": {
      "application/javascript": "\n        if (window._pyforest_update_imports_cell) { window._pyforest_update_imports_cell('from sklearn.linear_model import LassoCV\\nfrom statsmodels.tsa.arima_model import ARIMA\\nfrom pathlib import Path\\nimport pandas as pd\\nfrom sklearn.model_selection import GridSearchCV\\nfrom sklearn.feature_extraction.text import CountVectorizer\\nfrom sklearn.linear_model import LogisticRegression\\nimport numpy as np\\nfrom sklearn.decomposition import PCA\\nfrom sklearn.preprocessing import OneHotEncoder\\nfrom PIL import Image\\nfrom sklearn.linear_model import ElasticNetCV\\nfrom sklearn.preprocessing import PolynomialFeatures\\nfrom sklearn.preprocessing import MinMaxScaler\\nfrom sklearn.ensemble import GradientBoostingClassifier\\nfrom sklearn.linear_model import LinearRegression\\nfrom sklearn.linear_model import Lasso\\nfrom sklearn.cluster import KMeans\\nfrom sklearn.linear_model import ElasticNet\\nfrom sklearn.preprocessing import LabelEncoder\\nfrom sklearn.ensemble import GradientBoostingRegressor\\nfrom sklearn.model_selection import KFold'); }\n    ",
      "text/plain": [
       "<IPython.core.display.Javascript object>"
      ]
     },
     "metadata": {},
     "output_type": "display_data"
    },
    {
     "data": {
      "application/javascript": "\n        if (window._pyforest_update_imports_cell) { window._pyforest_update_imports_cell('from sklearn.linear_model import LassoCV\\nfrom statsmodels.tsa.arima_model import ARIMA\\nfrom pathlib import Path\\nimport pandas as pd\\nfrom sklearn.model_selection import GridSearchCV\\nfrom sklearn.feature_extraction.text import CountVectorizer\\nfrom sklearn.linear_model import LogisticRegression\\nimport numpy as np\\nfrom sklearn.decomposition import PCA\\nfrom sklearn.preprocessing import OneHotEncoder\\nfrom PIL import Image\\nfrom sklearn.linear_model import ElasticNetCV\\nfrom sklearn.preprocessing import PolynomialFeatures\\nfrom sklearn.preprocessing import MinMaxScaler\\nfrom sklearn.ensemble import GradientBoostingClassifier\\nfrom sklearn.linear_model import LinearRegression\\nfrom sklearn.linear_model import Lasso\\nfrom sklearn.cluster import KMeans\\nfrom sklearn.linear_model import ElasticNet\\nfrom sklearn.preprocessing import LabelEncoder\\nfrom sklearn.ensemble import GradientBoostingRegressor\\nfrom sklearn.model_selection import KFold'); }\n    ",
      "text/plain": [
       "<IPython.core.display.Javascript object>"
      ]
     },
     "metadata": {},
     "output_type": "display_data"
    },
    {
     "data": {
      "application/javascript": "\n        if (window._pyforest_update_imports_cell) { window._pyforest_update_imports_cell('from sklearn.linear_model import LassoCV\\nfrom statsmodels.tsa.arima_model import ARIMA\\nfrom pathlib import Path\\nimport pandas as pd\\nfrom sklearn.model_selection import GridSearchCV\\nfrom sklearn.feature_extraction.text import CountVectorizer\\nfrom sklearn.linear_model import LogisticRegression\\nimport numpy as np\\nfrom sklearn.decomposition import PCA\\nfrom sklearn.preprocessing import OneHotEncoder\\nfrom PIL import Image\\nfrom sklearn.linear_model import ElasticNetCV\\nfrom sklearn.preprocessing import PolynomialFeatures\\nfrom sklearn.preprocessing import MinMaxScaler\\nfrom sklearn.ensemble import GradientBoostingClassifier\\nfrom sklearn.linear_model import LinearRegression\\nfrom sklearn.linear_model import Lasso\\nfrom sklearn.cluster import KMeans\\nfrom sklearn.linear_model import ElasticNet\\nfrom sklearn.preprocessing import LabelEncoder\\nfrom sklearn.ensemble import GradientBoostingRegressor\\nfrom sklearn.model_selection import KFold'); }\n    ",
      "text/plain": [
       "<IPython.core.display.Javascript object>"
      ]
     },
     "metadata": {},
     "output_type": "display_data"
    },
    {
     "data": {
      "application/javascript": "\n        if (window._pyforest_update_imports_cell) { window._pyforest_update_imports_cell('from sklearn.linear_model import LassoCV\\nfrom statsmodels.tsa.arima_model import ARIMA\\nfrom pathlib import Path\\nimport pandas as pd\\nfrom sklearn.model_selection import GridSearchCV\\nfrom sklearn.feature_extraction.text import CountVectorizer\\nfrom sklearn.linear_model import LogisticRegression\\nimport numpy as np\\nfrom sklearn.decomposition import PCA\\nfrom sklearn.preprocessing import OneHotEncoder\\nfrom PIL import Image\\nfrom sklearn.linear_model import ElasticNetCV\\nfrom sklearn.preprocessing import PolynomialFeatures\\nfrom sklearn.preprocessing import MinMaxScaler\\nfrom sklearn.ensemble import GradientBoostingClassifier\\nfrom sklearn.linear_model import LinearRegression\\nfrom sklearn.linear_model import Lasso\\nfrom sklearn.cluster import KMeans\\nfrom sklearn.linear_model import ElasticNet\\nfrom sklearn.preprocessing import LabelEncoder\\nfrom sklearn.ensemble import GradientBoostingRegressor\\nfrom sklearn.model_selection import KFold'); }\n    ",
      "text/plain": [
       "<IPython.core.display.Javascript object>"
      ]
     },
     "metadata": {},
     "output_type": "display_data"
    },
    {
     "data": {
      "application/javascript": "\n        if (window._pyforest_update_imports_cell) { window._pyforest_update_imports_cell('from sklearn.linear_model import LassoCV\\nfrom statsmodels.tsa.arima_model import ARIMA\\nfrom pathlib import Path\\nimport pandas as pd\\nfrom sklearn.model_selection import GridSearchCV\\nfrom sklearn.feature_extraction.text import CountVectorizer\\nfrom sklearn.linear_model import LogisticRegression\\nimport numpy as np\\nfrom sklearn.decomposition import PCA\\nfrom sklearn.preprocessing import OneHotEncoder\\nfrom PIL import Image\\nfrom sklearn.linear_model import ElasticNetCV\\nfrom sklearn.preprocessing import PolynomialFeatures\\nfrom sklearn.preprocessing import MinMaxScaler\\nfrom sklearn.ensemble import GradientBoostingClassifier\\nfrom sklearn.linear_model import LinearRegression\\nfrom sklearn.linear_model import Lasso\\nfrom sklearn.cluster import KMeans\\nfrom sklearn.linear_model import ElasticNet\\nfrom sklearn.preprocessing import LabelEncoder\\nfrom sklearn.ensemble import GradientBoostingRegressor\\nfrom sklearn.model_selection import KFold'); }\n    ",
      "text/plain": [
       "<IPython.core.display.Javascript object>"
      ]
     },
     "metadata": {},
     "output_type": "display_data"
    },
    {
     "data": {
      "application/javascript": "\n        if (window._pyforest_update_imports_cell) { window._pyforest_update_imports_cell('from sklearn.linear_model import LassoCV\\nfrom statsmodels.tsa.arima_model import ARIMA\\nfrom pathlib import Path\\nimport pandas as pd\\nfrom sklearn.model_selection import GridSearchCV\\nfrom sklearn.feature_extraction.text import CountVectorizer\\nfrom sklearn.linear_model import LogisticRegression\\nimport numpy as np\\nfrom sklearn.decomposition import PCA\\nfrom sklearn.preprocessing import OneHotEncoder\\nfrom PIL import Image\\nfrom sklearn.linear_model import ElasticNetCV\\nfrom sklearn.preprocessing import PolynomialFeatures\\nfrom sklearn.preprocessing import MinMaxScaler\\nfrom sklearn.ensemble import GradientBoostingClassifier\\nfrom sklearn.linear_model import LinearRegression\\nfrom sklearn.linear_model import Lasso\\nfrom sklearn.cluster import KMeans\\nfrom sklearn.linear_model import ElasticNet\\nfrom sklearn.preprocessing import LabelEncoder\\nfrom sklearn.ensemble import GradientBoostingRegressor\\nfrom sklearn.model_selection import KFold'); }\n    ",
      "text/plain": [
       "<IPython.core.display.Javascript object>"
      ]
     },
     "metadata": {},
     "output_type": "display_data"
    },
    {
     "data": {
      "application/javascript": "\n        if (window._pyforest_update_imports_cell) { window._pyforest_update_imports_cell('from sklearn.linear_model import LassoCV\\nfrom statsmodels.tsa.arima_model import ARIMA\\nfrom pathlib import Path\\nimport pandas as pd\\nfrom sklearn.model_selection import GridSearchCV\\nfrom sklearn.feature_extraction.text import CountVectorizer\\nfrom sklearn.linear_model import LogisticRegression\\nimport numpy as np\\nfrom sklearn.decomposition import PCA\\nfrom sklearn.preprocessing import OneHotEncoder\\nfrom PIL import Image\\nfrom sklearn.linear_model import ElasticNetCV\\nfrom sklearn.preprocessing import PolynomialFeatures\\nfrom sklearn.preprocessing import MinMaxScaler\\nfrom sklearn.ensemble import GradientBoostingClassifier\\nfrom sklearn.linear_model import LinearRegression\\nfrom sklearn.linear_model import Lasso\\nfrom sklearn.cluster import KMeans\\nfrom sklearn.linear_model import ElasticNet\\nfrom sklearn.preprocessing import LabelEncoder\\nfrom sklearn.ensemble import GradientBoostingRegressor\\nfrom sklearn.model_selection import KFold'); }\n    ",
      "text/plain": [
       "<IPython.core.display.Javascript object>"
      ]
     },
     "metadata": {},
     "output_type": "display_data"
    },
    {
     "data": {
      "application/javascript": "\n        if (window._pyforest_update_imports_cell) { window._pyforest_update_imports_cell('from sklearn.linear_model import LassoCV\\nfrom statsmodels.tsa.arima_model import ARIMA\\nfrom pathlib import Path\\nimport pandas as pd\\nfrom sklearn.model_selection import GridSearchCV\\nfrom sklearn.feature_extraction.text import CountVectorizer\\nfrom sklearn.linear_model import LogisticRegression\\nimport numpy as np\\nfrom sklearn.decomposition import PCA\\nfrom sklearn.preprocessing import OneHotEncoder\\nfrom PIL import Image\\nfrom sklearn.linear_model import ElasticNetCV\\nfrom sklearn.preprocessing import PolynomialFeatures\\nfrom sklearn.preprocessing import MinMaxScaler\\nfrom sklearn.ensemble import GradientBoostingClassifier\\nfrom sklearn.linear_model import LinearRegression\\nfrom sklearn.linear_model import Lasso\\nfrom sklearn.cluster import KMeans\\nfrom sklearn.linear_model import ElasticNet\\nfrom sklearn.preprocessing import LabelEncoder\\nfrom sklearn.ensemble import GradientBoostingRegressor\\nfrom sklearn.model_selection import KFold'); }\n    ",
      "text/plain": [
       "<IPython.core.display.Javascript object>"
      ]
     },
     "metadata": {},
     "output_type": "display_data"
    },
    {
     "data": {
      "application/javascript": "\n        if (window._pyforest_update_imports_cell) { window._pyforest_update_imports_cell('from sklearn.linear_model import LassoCV\\nfrom statsmodels.tsa.arima_model import ARIMA\\nfrom pathlib import Path\\nimport pandas as pd\\nfrom sklearn.model_selection import GridSearchCV\\nfrom sklearn.feature_extraction.text import CountVectorizer\\nfrom sklearn.linear_model import LogisticRegression\\nimport numpy as np\\nfrom sklearn.decomposition import PCA\\nfrom sklearn.preprocessing import OneHotEncoder\\nfrom PIL import Image\\nfrom sklearn.linear_model import ElasticNetCV\\nfrom sklearn.preprocessing import PolynomialFeatures\\nfrom sklearn.preprocessing import MinMaxScaler\\nfrom sklearn.ensemble import GradientBoostingClassifier\\nfrom sklearn.linear_model import LinearRegression\\nfrom sklearn.linear_model import Lasso\\nfrom sklearn.cluster import KMeans\\nfrom sklearn.linear_model import ElasticNet\\nfrom sklearn.preprocessing import LabelEncoder\\nfrom sklearn.ensemble import GradientBoostingRegressor\\nfrom sklearn.model_selection import KFold'); }\n    ",
      "text/plain": [
       "<IPython.core.display.Javascript object>"
      ]
     },
     "metadata": {},
     "output_type": "display_data"
    },
    {
     "data": {
      "application/javascript": "\n        if (window._pyforest_update_imports_cell) { window._pyforest_update_imports_cell('from sklearn.linear_model import LassoCV\\nfrom statsmodels.tsa.arima_model import ARIMA\\nfrom pathlib import Path\\nimport pandas as pd\\nfrom sklearn.model_selection import GridSearchCV\\nfrom sklearn.feature_extraction.text import CountVectorizer\\nfrom sklearn.linear_model import LogisticRegression\\nimport numpy as np\\nfrom sklearn.decomposition import PCA\\nfrom sklearn.preprocessing import OneHotEncoder\\nfrom PIL import Image\\nfrom sklearn.linear_model import ElasticNetCV\\nfrom sklearn.preprocessing import PolynomialFeatures\\nfrom sklearn.preprocessing import MinMaxScaler\\nfrom sklearn.ensemble import GradientBoostingClassifier\\nfrom sklearn.linear_model import LinearRegression\\nfrom sklearn.linear_model import Lasso\\nfrom sklearn.cluster import KMeans\\nfrom sklearn.linear_model import ElasticNet\\nfrom sklearn.preprocessing import LabelEncoder\\nfrom sklearn.ensemble import GradientBoostingRegressor\\nfrom sklearn.model_selection import KFold'); }\n    ",
      "text/plain": [
       "<IPython.core.display.Javascript object>"
      ]
     },
     "metadata": {},
     "output_type": "display_data"
    },
    {
     "data": {
      "application/javascript": "\n        if (window._pyforest_update_imports_cell) { window._pyforest_update_imports_cell('from sklearn.linear_model import LassoCV\\nfrom statsmodels.tsa.arima_model import ARIMA\\nfrom pathlib import Path\\nimport pandas as pd\\nfrom sklearn.model_selection import GridSearchCV\\nfrom sklearn.feature_extraction.text import CountVectorizer\\nfrom sklearn.linear_model import LogisticRegression\\nimport numpy as np\\nfrom sklearn.decomposition import PCA\\nfrom sklearn.preprocessing import OneHotEncoder\\nfrom PIL import Image\\nfrom sklearn.linear_model import ElasticNetCV\\nfrom sklearn.preprocessing import PolynomialFeatures\\nfrom sklearn.preprocessing import MinMaxScaler\\nfrom sklearn.ensemble import GradientBoostingClassifier\\nfrom sklearn.linear_model import LinearRegression\\nfrom sklearn.linear_model import Lasso\\nfrom sklearn.cluster import KMeans\\nfrom sklearn.linear_model import ElasticNet\\nfrom sklearn.preprocessing import LabelEncoder\\nfrom sklearn.ensemble import GradientBoostingRegressor\\nfrom sklearn.model_selection import KFold'); }\n    ",
      "text/plain": [
       "<IPython.core.display.Javascript object>"
      ]
     },
     "metadata": {},
     "output_type": "display_data"
    },
    {
     "data": {
      "application/javascript": "\n        if (window._pyforest_update_imports_cell) { window._pyforest_update_imports_cell('from sklearn.linear_model import LassoCV\\nfrom statsmodels.tsa.arima_model import ARIMA\\nfrom pathlib import Path\\nimport pandas as pd\\nfrom sklearn.model_selection import GridSearchCV\\nfrom sklearn.feature_extraction.text import CountVectorizer\\nfrom sklearn.linear_model import LogisticRegression\\nimport numpy as np\\nfrom sklearn.decomposition import PCA\\nfrom sklearn.preprocessing import OneHotEncoder\\nfrom PIL import Image\\nfrom sklearn.linear_model import ElasticNetCV\\nfrom sklearn.preprocessing import PolynomialFeatures\\nfrom sklearn.preprocessing import MinMaxScaler\\nfrom sklearn.ensemble import GradientBoostingClassifier\\nfrom sklearn.linear_model import LinearRegression\\nfrom sklearn.linear_model import Lasso\\nfrom sklearn.cluster import KMeans\\nfrom sklearn.linear_model import ElasticNet\\nfrom sklearn.preprocessing import LabelEncoder\\nfrom sklearn.ensemble import GradientBoostingRegressor\\nfrom sklearn.model_selection import KFold'); }\n    ",
      "text/plain": [
       "<IPython.core.display.Javascript object>"
      ]
     },
     "metadata": {},
     "output_type": "display_data"
    },
    {
     "data": {
      "application/javascript": "\n        if (window._pyforest_update_imports_cell) { window._pyforest_update_imports_cell('from sklearn.linear_model import LassoCV\\nfrom statsmodels.tsa.arima_model import ARIMA\\nfrom pathlib import Path\\nimport pandas as pd\\nfrom sklearn.model_selection import GridSearchCV\\nfrom sklearn.feature_extraction.text import CountVectorizer\\nfrom sklearn.linear_model import LogisticRegression\\nimport numpy as np\\nfrom sklearn.decomposition import PCA\\nfrom sklearn.preprocessing import OneHotEncoder\\nfrom PIL import Image\\nfrom sklearn.linear_model import ElasticNetCV\\nfrom sklearn.preprocessing import PolynomialFeatures\\nfrom sklearn.preprocessing import MinMaxScaler\\nfrom sklearn.ensemble import GradientBoostingClassifier\\nfrom sklearn.linear_model import LinearRegression\\nfrom sklearn.linear_model import Lasso\\nfrom sklearn.cluster import KMeans\\nfrom sklearn.linear_model import ElasticNet\\nfrom sklearn.preprocessing import LabelEncoder\\nfrom sklearn.ensemble import GradientBoostingRegressor\\nfrom sklearn.model_selection import KFold'); }\n    ",
      "text/plain": [
       "<IPython.core.display.Javascript object>"
      ]
     },
     "metadata": {},
     "output_type": "display_data"
    },
    {
     "data": {
      "application/javascript": "\n        if (window._pyforest_update_imports_cell) { window._pyforest_update_imports_cell('from sklearn.linear_model import LassoCV\\nfrom statsmodels.tsa.arima_model import ARIMA\\nfrom pathlib import Path\\nimport pandas as pd\\nfrom sklearn.model_selection import GridSearchCV\\nfrom sklearn.feature_extraction.text import CountVectorizer\\nfrom sklearn.linear_model import LogisticRegression\\nimport numpy as np\\nfrom sklearn.decomposition import PCA\\nfrom sklearn.preprocessing import OneHotEncoder\\nfrom PIL import Image\\nfrom sklearn.linear_model import ElasticNetCV\\nfrom sklearn.preprocessing import PolynomialFeatures\\nfrom sklearn.preprocessing import MinMaxScaler\\nfrom sklearn.ensemble import GradientBoostingClassifier\\nfrom sklearn.linear_model import LinearRegression\\nfrom sklearn.linear_model import Lasso\\nfrom sklearn.cluster import KMeans\\nfrom sklearn.linear_model import ElasticNet\\nfrom sklearn.preprocessing import LabelEncoder\\nfrom sklearn.ensemble import GradientBoostingRegressor\\nfrom sklearn.model_selection import KFold'); }\n    ",
      "text/plain": [
       "<IPython.core.display.Javascript object>"
      ]
     },
     "metadata": {},
     "output_type": "display_data"
    },
    {
     "data": {
      "application/javascript": "\n        if (window._pyforest_update_imports_cell) { window._pyforest_update_imports_cell('from sklearn.linear_model import LassoCV\\nfrom statsmodels.tsa.arima_model import ARIMA\\nfrom pathlib import Path\\nimport pandas as pd\\nfrom sklearn.model_selection import GridSearchCV\\nfrom sklearn.feature_extraction.text import CountVectorizer\\nfrom sklearn.linear_model import LogisticRegression\\nimport numpy as np\\nfrom sklearn.decomposition import PCA\\nfrom sklearn.preprocessing import OneHotEncoder\\nfrom PIL import Image\\nfrom sklearn.linear_model import ElasticNetCV\\nfrom sklearn.preprocessing import PolynomialFeatures\\nfrom sklearn.preprocessing import MinMaxScaler\\nfrom sklearn.ensemble import GradientBoostingClassifier\\nfrom sklearn.linear_model import LinearRegression\\nfrom sklearn.linear_model import Lasso\\nfrom sklearn.cluster import KMeans\\nfrom sklearn.linear_model import ElasticNet\\nfrom sklearn.preprocessing import LabelEncoder\\nfrom sklearn.ensemble import GradientBoostingRegressor\\nfrom sklearn.model_selection import KFold'); }\n    ",
      "text/plain": [
       "<IPython.core.display.Javascript object>"
      ]
     },
     "metadata": {},
     "output_type": "display_data"
    },
    {
     "data": {
      "application/javascript": "\n        if (window._pyforest_update_imports_cell) { window._pyforest_update_imports_cell('from sklearn.linear_model import LassoCV\\nfrom statsmodels.tsa.arima_model import ARIMA\\nfrom pathlib import Path\\nimport pandas as pd\\nfrom sklearn.model_selection import GridSearchCV\\nfrom sklearn.feature_extraction.text import CountVectorizer\\nfrom sklearn.linear_model import LogisticRegression\\nimport numpy as np\\nfrom sklearn.decomposition import PCA\\nfrom sklearn.preprocessing import OneHotEncoder\\nfrom PIL import Image\\nfrom sklearn.linear_model import ElasticNetCV\\nfrom sklearn.preprocessing import PolynomialFeatures\\nfrom sklearn.preprocessing import MinMaxScaler\\nfrom sklearn.ensemble import GradientBoostingClassifier\\nfrom sklearn.linear_model import LinearRegression\\nfrom sklearn.linear_model import Lasso\\nfrom sklearn.cluster import KMeans\\nfrom sklearn.linear_model import ElasticNet\\nfrom sklearn.preprocessing import LabelEncoder\\nfrom sklearn.ensemble import GradientBoostingRegressor\\nfrom sklearn.model_selection import KFold'); }\n    ",
      "text/plain": [
       "<IPython.core.display.Javascript object>"
      ]
     },
     "metadata": {},
     "output_type": "display_data"
    },
    {
     "data": {
      "application/javascript": "\n        if (window._pyforest_update_imports_cell) { window._pyforest_update_imports_cell('from sklearn.linear_model import LassoCV\\nfrom statsmodels.tsa.arima_model import ARIMA\\nfrom pathlib import Path\\nimport pandas as pd\\nfrom sklearn.model_selection import GridSearchCV\\nfrom sklearn.feature_extraction.text import CountVectorizer\\nfrom sklearn.linear_model import LogisticRegression\\nimport numpy as np\\nfrom sklearn.decomposition import PCA\\nfrom sklearn.preprocessing import OneHotEncoder\\nfrom PIL import Image\\nfrom sklearn.linear_model import ElasticNetCV\\nfrom sklearn.preprocessing import PolynomialFeatures\\nfrom sklearn.preprocessing import MinMaxScaler\\nfrom sklearn.ensemble import GradientBoostingClassifier\\nfrom sklearn.linear_model import LinearRegression\\nfrom sklearn.linear_model import Lasso\\nfrom sklearn.cluster import KMeans\\nfrom sklearn.linear_model import ElasticNet\\nfrom sklearn.preprocessing import LabelEncoder\\nfrom sklearn.ensemble import GradientBoostingRegressor\\nfrom sklearn.model_selection import KFold'); }\n    ",
      "text/plain": [
       "<IPython.core.display.Javascript object>"
      ]
     },
     "metadata": {},
     "output_type": "display_data"
    },
    {
     "data": {
      "application/javascript": "\n        if (window._pyforest_update_imports_cell) { window._pyforest_update_imports_cell('from sklearn.linear_model import LassoCV\\nfrom statsmodels.tsa.arima_model import ARIMA\\nfrom pathlib import Path\\nimport pandas as pd\\nfrom sklearn.model_selection import GridSearchCV\\nfrom sklearn.feature_extraction.text import CountVectorizer\\nfrom sklearn.linear_model import LogisticRegression\\nimport numpy as np\\nfrom sklearn.decomposition import PCA\\nfrom sklearn.preprocessing import OneHotEncoder\\nfrom PIL import Image\\nfrom sklearn.linear_model import ElasticNetCV\\nfrom sklearn.preprocessing import PolynomialFeatures\\nfrom sklearn.preprocessing import MinMaxScaler\\nfrom sklearn.ensemble import GradientBoostingClassifier\\nfrom sklearn.linear_model import LinearRegression\\nfrom sklearn.linear_model import Lasso\\nfrom sklearn.cluster import KMeans\\nfrom sklearn.linear_model import ElasticNet\\nfrom sklearn.preprocessing import LabelEncoder\\nfrom sklearn.ensemble import GradientBoostingRegressor\\nfrom sklearn.model_selection import KFold'); }\n    ",
      "text/plain": [
       "<IPython.core.display.Javascript object>"
      ]
     },
     "metadata": {},
     "output_type": "display_data"
    },
    {
     "data": {
      "application/javascript": "\n        if (window._pyforest_update_imports_cell) { window._pyforest_update_imports_cell('from sklearn.linear_model import LassoCV\\nfrom statsmodels.tsa.arima_model import ARIMA\\nfrom pathlib import Path\\nimport pandas as pd\\nfrom sklearn.model_selection import GridSearchCV\\nfrom sklearn.feature_extraction.text import CountVectorizer\\nfrom sklearn.linear_model import LogisticRegression\\nimport numpy as np\\nfrom sklearn.decomposition import PCA\\nfrom sklearn.preprocessing import OneHotEncoder\\nfrom PIL import Image\\nfrom sklearn.linear_model import ElasticNetCV\\nfrom sklearn.preprocessing import PolynomialFeatures\\nfrom sklearn.preprocessing import MinMaxScaler\\nfrom sklearn.ensemble import GradientBoostingClassifier\\nfrom sklearn.linear_model import LinearRegression\\nfrom sklearn.linear_model import Lasso\\nfrom sklearn.cluster import KMeans\\nfrom sklearn.linear_model import ElasticNet\\nfrom sklearn.preprocessing import LabelEncoder\\nfrom sklearn.ensemble import GradientBoostingRegressor\\nfrom sklearn.model_selection import KFold'); }\n    ",
      "text/plain": [
       "<IPython.core.display.Javascript object>"
      ]
     },
     "metadata": {},
     "output_type": "display_data"
    },
    {
     "data": {
      "application/javascript": "\n        if (window._pyforest_update_imports_cell) { window._pyforest_update_imports_cell('from sklearn.linear_model import LassoCV\\nfrom statsmodels.tsa.arima_model import ARIMA\\nfrom pathlib import Path\\nimport pandas as pd\\nfrom sklearn.model_selection import GridSearchCV\\nfrom sklearn.feature_extraction.text import CountVectorizer\\nfrom sklearn.linear_model import LogisticRegression\\nimport numpy as np\\nfrom sklearn.decomposition import PCA\\nfrom sklearn.preprocessing import OneHotEncoder\\nfrom PIL import Image\\nfrom sklearn.linear_model import ElasticNetCV\\nfrom sklearn.preprocessing import PolynomialFeatures\\nfrom sklearn.preprocessing import MinMaxScaler\\nfrom sklearn.ensemble import GradientBoostingClassifier\\nfrom sklearn.linear_model import LinearRegression\\nfrom sklearn.linear_model import Lasso\\nfrom sklearn.cluster import KMeans\\nfrom sklearn.linear_model import ElasticNet\\nfrom sklearn.preprocessing import LabelEncoder\\nfrom sklearn.ensemble import GradientBoostingRegressor\\nfrom sklearn.model_selection import KFold'); }\n    ",
      "text/plain": [
       "<IPython.core.display.Javascript object>"
      ]
     },
     "metadata": {},
     "output_type": "display_data"
    },
    {
     "data": {
      "application/javascript": "\n        if (window._pyforest_update_imports_cell) { window._pyforest_update_imports_cell('from sklearn.linear_model import LassoCV\\nfrom statsmodels.tsa.arima_model import ARIMA\\nfrom pathlib import Path\\nimport pandas as pd\\nfrom sklearn.model_selection import GridSearchCV\\nfrom sklearn.feature_extraction.text import CountVectorizer\\nfrom sklearn.linear_model import LogisticRegression\\nimport numpy as np\\nfrom sklearn.decomposition import PCA\\nfrom sklearn.preprocessing import OneHotEncoder\\nfrom PIL import Image\\nfrom sklearn.linear_model import ElasticNetCV\\nfrom sklearn.preprocessing import PolynomialFeatures\\nfrom sklearn.preprocessing import MinMaxScaler\\nfrom sklearn.ensemble import GradientBoostingClassifier\\nfrom sklearn.linear_model import LinearRegression\\nfrom sklearn.linear_model import Lasso\\nfrom sklearn.cluster import KMeans\\nfrom sklearn.linear_model import ElasticNet\\nfrom sklearn.preprocessing import LabelEncoder\\nfrom sklearn.ensemble import GradientBoostingRegressor\\nfrom sklearn.model_selection import KFold'); }\n    ",
      "text/plain": [
       "<IPython.core.display.Javascript object>"
      ]
     },
     "metadata": {},
     "output_type": "display_data"
    },
    {
     "data": {
      "application/javascript": "\n        if (window._pyforest_update_imports_cell) { window._pyforest_update_imports_cell('from sklearn.linear_model import LassoCV\\nfrom statsmodels.tsa.arima_model import ARIMA\\nfrom pathlib import Path\\nimport pandas as pd\\nfrom sklearn.model_selection import GridSearchCV\\nfrom sklearn.feature_extraction.text import CountVectorizer\\nfrom sklearn.linear_model import LogisticRegression\\nimport numpy as np\\nfrom sklearn.decomposition import PCA\\nfrom sklearn.preprocessing import OneHotEncoder\\nfrom PIL import Image\\nfrom sklearn.linear_model import ElasticNetCV\\nfrom sklearn.preprocessing import PolynomialFeatures\\nfrom sklearn.preprocessing import MinMaxScaler\\nfrom sklearn.ensemble import GradientBoostingClassifier\\nfrom sklearn.linear_model import LinearRegression\\nfrom sklearn.linear_model import Lasso\\nfrom sklearn.cluster import KMeans\\nfrom sklearn.linear_model import ElasticNet\\nfrom sklearn.preprocessing import LabelEncoder\\nfrom sklearn.ensemble import GradientBoostingRegressor\\nfrom sklearn.model_selection import KFold'); }\n    ",
      "text/plain": [
       "<IPython.core.display.Javascript object>"
      ]
     },
     "metadata": {},
     "output_type": "display_data"
    },
    {
     "data": {
      "application/javascript": "\n        if (window._pyforest_update_imports_cell) { window._pyforest_update_imports_cell('from sklearn.linear_model import LassoCV\\nfrom statsmodels.tsa.arima_model import ARIMA\\nfrom pathlib import Path\\nimport pandas as pd\\nfrom sklearn.model_selection import GridSearchCV\\nfrom sklearn.feature_extraction.text import CountVectorizer\\nfrom sklearn.linear_model import LogisticRegression\\nimport numpy as np\\nfrom sklearn.decomposition import PCA\\nfrom sklearn.preprocessing import OneHotEncoder\\nfrom PIL import Image\\nfrom sklearn.linear_model import ElasticNetCV\\nfrom sklearn.preprocessing import PolynomialFeatures\\nfrom sklearn.preprocessing import MinMaxScaler\\nfrom sklearn.ensemble import GradientBoostingClassifier\\nfrom sklearn.linear_model import LinearRegression\\nfrom sklearn.linear_model import Lasso\\nfrom sklearn.cluster import KMeans\\nfrom sklearn.linear_model import ElasticNet\\nfrom sklearn.preprocessing import LabelEncoder\\nfrom sklearn.ensemble import GradientBoostingRegressor\\nfrom sklearn.model_selection import KFold'); }\n    ",
      "text/plain": [
       "<IPython.core.display.Javascript object>"
      ]
     },
     "metadata": {},
     "output_type": "display_data"
    },
    {
     "data": {
      "application/javascript": "\n        if (window._pyforest_update_imports_cell) { window._pyforest_update_imports_cell('from sklearn.linear_model import LassoCV\\nfrom statsmodels.tsa.arima_model import ARIMA\\nfrom pathlib import Path\\nimport pandas as pd\\nfrom sklearn.model_selection import GridSearchCV\\nfrom sklearn.feature_extraction.text import CountVectorizer\\nfrom sklearn.linear_model import LogisticRegression\\nimport numpy as np\\nfrom sklearn.decomposition import PCA\\nfrom sklearn.preprocessing import OneHotEncoder\\nfrom PIL import Image\\nfrom sklearn.linear_model import ElasticNetCV\\nfrom sklearn.preprocessing import PolynomialFeatures\\nfrom sklearn.preprocessing import MinMaxScaler\\nfrom sklearn.ensemble import GradientBoostingClassifier\\nfrom sklearn.linear_model import LinearRegression\\nfrom sklearn.linear_model import Lasso\\nfrom sklearn.cluster import KMeans\\nfrom sklearn.linear_model import ElasticNet\\nfrom sklearn.preprocessing import LabelEncoder\\nfrom sklearn.ensemble import GradientBoostingRegressor\\nfrom sklearn.model_selection import KFold'); }\n    ",
      "text/plain": [
       "<IPython.core.display.Javascript object>"
      ]
     },
     "metadata": {},
     "output_type": "display_data"
    },
    {
     "data": {
      "application/javascript": "\n        if (window._pyforest_update_imports_cell) { window._pyforest_update_imports_cell('from sklearn.linear_model import LassoCV\\nfrom statsmodels.tsa.arima_model import ARIMA\\nfrom pathlib import Path\\nimport pandas as pd\\nfrom sklearn.model_selection import GridSearchCV\\nfrom sklearn.feature_extraction.text import CountVectorizer\\nfrom sklearn.linear_model import LogisticRegression\\nimport numpy as np\\nfrom sklearn.decomposition import PCA\\nfrom sklearn.preprocessing import OneHotEncoder\\nfrom PIL import Image\\nfrom sklearn.linear_model import ElasticNetCV\\nfrom sklearn.preprocessing import PolynomialFeatures\\nfrom sklearn.preprocessing import MinMaxScaler\\nfrom sklearn.ensemble import GradientBoostingClassifier\\nfrom sklearn.linear_model import LinearRegression\\nfrom sklearn.linear_model import Lasso\\nfrom sklearn.cluster import KMeans\\nfrom sklearn.linear_model import ElasticNet\\nfrom sklearn.preprocessing import LabelEncoder\\nfrom sklearn.ensemble import GradientBoostingRegressor\\nfrom sklearn.model_selection import KFold'); }\n    ",
      "text/plain": [
       "<IPython.core.display.Javascript object>"
      ]
     },
     "metadata": {},
     "output_type": "display_data"
    },
    {
     "data": {
      "application/javascript": "\n        if (window._pyforest_update_imports_cell) { window._pyforest_update_imports_cell('from sklearn.linear_model import LassoCV\\nfrom statsmodels.tsa.arima_model import ARIMA\\nfrom pathlib import Path\\nimport pandas as pd\\nfrom sklearn.model_selection import GridSearchCV\\nfrom sklearn.feature_extraction.text import CountVectorizer\\nfrom sklearn.linear_model import LogisticRegression\\nimport numpy as np\\nfrom sklearn.decomposition import PCA\\nfrom sklearn.preprocessing import OneHotEncoder\\nfrom PIL import Image\\nfrom sklearn.linear_model import ElasticNetCV\\nfrom sklearn.preprocessing import PolynomialFeatures\\nfrom sklearn.preprocessing import MinMaxScaler\\nfrom sklearn.ensemble import GradientBoostingClassifier\\nfrom sklearn.linear_model import LinearRegression\\nfrom sklearn.linear_model import Lasso\\nfrom sklearn.cluster import KMeans\\nfrom sklearn.linear_model import ElasticNet\\nfrom sklearn.preprocessing import LabelEncoder\\nfrom sklearn.ensemble import GradientBoostingRegressor\\nfrom sklearn.model_selection import KFold'); }\n    ",
      "text/plain": [
       "<IPython.core.display.Javascript object>"
      ]
     },
     "metadata": {},
     "output_type": "display_data"
    },
    {
     "data": {
      "application/javascript": "\n        if (window._pyforest_update_imports_cell) { window._pyforest_update_imports_cell('from sklearn.linear_model import LassoCV\\nfrom statsmodels.tsa.arima_model import ARIMA\\nfrom pathlib import Path\\nimport pandas as pd\\nfrom sklearn.model_selection import GridSearchCV\\nfrom sklearn.feature_extraction.text import CountVectorizer\\nfrom sklearn.linear_model import LogisticRegression\\nimport numpy as np\\nfrom sklearn.decomposition import PCA\\nfrom sklearn.preprocessing import OneHotEncoder\\nfrom PIL import Image\\nfrom sklearn.linear_model import ElasticNetCV\\nfrom sklearn.preprocessing import PolynomialFeatures\\nfrom sklearn.preprocessing import MinMaxScaler\\nfrom sklearn.ensemble import GradientBoostingClassifier\\nfrom sklearn.linear_model import LinearRegression\\nfrom sklearn.linear_model import Lasso\\nfrom sklearn.cluster import KMeans\\nfrom sklearn.linear_model import ElasticNet\\nfrom sklearn.preprocessing import LabelEncoder\\nfrom sklearn.ensemble import GradientBoostingRegressor\\nfrom sklearn.model_selection import KFold'); }\n    ",
      "text/plain": [
       "<IPython.core.display.Javascript object>"
      ]
     },
     "metadata": {},
     "output_type": "display_data"
    },
    {
     "data": {
      "application/javascript": "\n        if (window._pyforest_update_imports_cell) { window._pyforest_update_imports_cell('from sklearn.linear_model import LassoCV\\nfrom statsmodels.tsa.arima_model import ARIMA\\nfrom pathlib import Path\\nimport pandas as pd\\nfrom sklearn.model_selection import GridSearchCV\\nfrom sklearn.feature_extraction.text import CountVectorizer\\nfrom sklearn.linear_model import LogisticRegression\\nimport numpy as np\\nfrom sklearn.decomposition import PCA\\nfrom sklearn.preprocessing import OneHotEncoder\\nfrom PIL import Image\\nfrom sklearn.linear_model import ElasticNetCV\\nfrom sklearn.preprocessing import PolynomialFeatures\\nfrom sklearn.preprocessing import MinMaxScaler\\nfrom sklearn.ensemble import GradientBoostingClassifier\\nfrom sklearn.linear_model import LinearRegression\\nfrom sklearn.linear_model import Lasso\\nfrom sklearn.cluster import KMeans\\nfrom sklearn.linear_model import ElasticNet\\nfrom sklearn.preprocessing import LabelEncoder\\nfrom sklearn.ensemble import GradientBoostingRegressor\\nfrom sklearn.model_selection import KFold'); }\n    ",
      "text/plain": [
       "<IPython.core.display.Javascript object>"
      ]
     },
     "metadata": {},
     "output_type": "display_data"
    },
    {
     "data": {
      "application/javascript": "\n        if (window._pyforest_update_imports_cell) { window._pyforest_update_imports_cell('from sklearn.linear_model import LassoCV\\nfrom statsmodels.tsa.arima_model import ARIMA\\nfrom pathlib import Path\\nimport pandas as pd\\nfrom sklearn.model_selection import GridSearchCV\\nfrom sklearn.feature_extraction.text import CountVectorizer\\nfrom sklearn.linear_model import LogisticRegression\\nimport numpy as np\\nfrom sklearn.decomposition import PCA\\nfrom sklearn.preprocessing import OneHotEncoder\\nfrom PIL import Image\\nfrom sklearn.linear_model import ElasticNetCV\\nfrom sklearn.preprocessing import PolynomialFeatures\\nfrom sklearn.preprocessing import MinMaxScaler\\nfrom sklearn.ensemble import GradientBoostingClassifier\\nfrom sklearn.linear_model import LinearRegression\\nfrom sklearn.linear_model import Lasso\\nfrom sklearn.cluster import KMeans\\nfrom sklearn.linear_model import ElasticNet\\nfrom sklearn.preprocessing import LabelEncoder\\nfrom sklearn.ensemble import GradientBoostingRegressor\\nfrom sklearn.model_selection import KFold'); }\n    ",
      "text/plain": [
       "<IPython.core.display.Javascript object>"
      ]
     },
     "metadata": {},
     "output_type": "display_data"
    },
    {
     "data": {
      "application/javascript": "\n        if (window._pyforest_update_imports_cell) { window._pyforest_update_imports_cell('from sklearn.linear_model import LassoCV\\nfrom statsmodels.tsa.arima_model import ARIMA\\nfrom pathlib import Path\\nimport pandas as pd\\nfrom sklearn.model_selection import GridSearchCV\\nfrom sklearn.feature_extraction.text import CountVectorizer\\nfrom sklearn.linear_model import LogisticRegression\\nimport numpy as np\\nfrom sklearn.decomposition import PCA\\nfrom sklearn.preprocessing import OneHotEncoder\\nfrom PIL import Image\\nfrom sklearn.linear_model import ElasticNetCV\\nfrom sklearn.preprocessing import PolynomialFeatures\\nfrom sklearn.preprocessing import MinMaxScaler\\nfrom sklearn.ensemble import GradientBoostingClassifier\\nfrom sklearn.linear_model import LinearRegression\\nfrom sklearn.linear_model import Lasso\\nfrom sklearn.cluster import KMeans\\nfrom sklearn.linear_model import ElasticNet\\nfrom sklearn.preprocessing import LabelEncoder\\nfrom sklearn.ensemble import GradientBoostingRegressor\\nfrom sklearn.model_selection import KFold'); }\n    ",
      "text/plain": [
       "<IPython.core.display.Javascript object>"
      ]
     },
     "metadata": {},
     "output_type": "display_data"
    },
    {
     "data": {
      "application/javascript": "\n        if (window._pyforest_update_imports_cell) { window._pyforest_update_imports_cell('from sklearn.linear_model import LassoCV\\nfrom statsmodels.tsa.arima_model import ARIMA\\nfrom pathlib import Path\\nimport pandas as pd\\nfrom sklearn.model_selection import GridSearchCV\\nfrom sklearn.feature_extraction.text import CountVectorizer\\nfrom sklearn.linear_model import LogisticRegression\\nimport numpy as np\\nfrom sklearn.decomposition import PCA\\nfrom sklearn.preprocessing import OneHotEncoder\\nfrom PIL import Image\\nfrom sklearn.linear_model import ElasticNetCV\\nfrom sklearn.preprocessing import PolynomialFeatures\\nfrom sklearn.preprocessing import MinMaxScaler\\nfrom sklearn.ensemble import GradientBoostingClassifier\\nfrom sklearn.linear_model import LinearRegression\\nfrom sklearn.linear_model import Lasso\\nfrom sklearn.cluster import KMeans\\nfrom sklearn.linear_model import ElasticNet\\nfrom sklearn.preprocessing import LabelEncoder\\nfrom sklearn.ensemble import GradientBoostingRegressor\\nfrom sklearn.model_selection import KFold'); }\n    ",
      "text/plain": [
       "<IPython.core.display.Javascript object>"
      ]
     },
     "metadata": {},
     "output_type": "display_data"
    },
    {
     "data": {
      "application/javascript": "\n        if (window._pyforest_update_imports_cell) { window._pyforest_update_imports_cell('from sklearn.linear_model import LassoCV\\nfrom statsmodels.tsa.arima_model import ARIMA\\nfrom pathlib import Path\\nimport pandas as pd\\nfrom sklearn.model_selection import GridSearchCV\\nfrom sklearn.feature_extraction.text import CountVectorizer\\nfrom sklearn.linear_model import LogisticRegression\\nimport numpy as np\\nfrom sklearn.decomposition import PCA\\nfrom sklearn.preprocessing import OneHotEncoder\\nfrom PIL import Image\\nfrom sklearn.linear_model import ElasticNetCV\\nfrom sklearn.preprocessing import PolynomialFeatures\\nfrom sklearn.preprocessing import MinMaxScaler\\nfrom sklearn.ensemble import GradientBoostingClassifier\\nfrom sklearn.linear_model import LinearRegression\\nfrom sklearn.linear_model import Lasso\\nfrom sklearn.cluster import KMeans\\nfrom sklearn.linear_model import ElasticNet\\nfrom sklearn.preprocessing import LabelEncoder\\nfrom sklearn.ensemble import GradientBoostingRegressor\\nfrom sklearn.model_selection import KFold'); }\n    ",
      "text/plain": [
       "<IPython.core.display.Javascript object>"
      ]
     },
     "metadata": {},
     "output_type": "display_data"
    },
    {
     "data": {
      "application/javascript": "\n        if (window._pyforest_update_imports_cell) { window._pyforest_update_imports_cell('from sklearn.linear_model import LassoCV\\nfrom statsmodels.tsa.arima_model import ARIMA\\nfrom pathlib import Path\\nimport pandas as pd\\nfrom sklearn.model_selection import GridSearchCV\\nfrom sklearn.feature_extraction.text import CountVectorizer\\nfrom sklearn.linear_model import LogisticRegression\\nimport numpy as np\\nfrom sklearn.decomposition import PCA\\nfrom sklearn.preprocessing import OneHotEncoder\\nfrom PIL import Image\\nfrom sklearn.linear_model import ElasticNetCV\\nfrom sklearn.preprocessing import PolynomialFeatures\\nfrom sklearn.preprocessing import MinMaxScaler\\nfrom sklearn.ensemble import GradientBoostingClassifier\\nfrom sklearn.linear_model import LinearRegression\\nfrom sklearn.linear_model import Lasso\\nfrom sklearn.cluster import KMeans\\nfrom sklearn.linear_model import ElasticNet\\nfrom sklearn.preprocessing import LabelEncoder\\nfrom sklearn.ensemble import GradientBoostingRegressor\\nfrom sklearn.model_selection import KFold'); }\n    ",
      "text/plain": [
       "<IPython.core.display.Javascript object>"
      ]
     },
     "metadata": {},
     "output_type": "display_data"
    },
    {
     "data": {
      "application/javascript": "\n        if (window._pyforest_update_imports_cell) { window._pyforest_update_imports_cell('from sklearn.linear_model import LassoCV\\nfrom statsmodels.tsa.arima_model import ARIMA\\nfrom pathlib import Path\\nimport pandas as pd\\nfrom sklearn.model_selection import GridSearchCV\\nfrom sklearn.feature_extraction.text import CountVectorizer\\nfrom sklearn.linear_model import LogisticRegression\\nimport numpy as np\\nfrom sklearn.decomposition import PCA\\nfrom sklearn.preprocessing import OneHotEncoder\\nfrom PIL import Image\\nfrom sklearn.linear_model import ElasticNetCV\\nfrom sklearn.preprocessing import PolynomialFeatures\\nfrom sklearn.preprocessing import MinMaxScaler\\nfrom sklearn.ensemble import GradientBoostingClassifier\\nfrom sklearn.linear_model import LinearRegression\\nfrom sklearn.linear_model import Lasso\\nfrom sklearn.cluster import KMeans\\nfrom sklearn.linear_model import ElasticNet\\nfrom sklearn.preprocessing import LabelEncoder\\nfrom sklearn.ensemble import GradientBoostingRegressor\\nfrom sklearn.model_selection import KFold'); }\n    ",
      "text/plain": [
       "<IPython.core.display.Javascript object>"
      ]
     },
     "metadata": {},
     "output_type": "display_data"
    },
    {
     "data": {
      "application/javascript": "\n        if (window._pyforest_update_imports_cell) { window._pyforest_update_imports_cell('from sklearn.linear_model import LassoCV\\nfrom statsmodels.tsa.arima_model import ARIMA\\nfrom pathlib import Path\\nimport pandas as pd\\nfrom sklearn.model_selection import GridSearchCV\\nfrom sklearn.feature_extraction.text import CountVectorizer\\nfrom sklearn.linear_model import LogisticRegression\\nimport numpy as np\\nfrom sklearn.decomposition import PCA\\nfrom sklearn.preprocessing import OneHotEncoder\\nfrom PIL import Image\\nfrom sklearn.linear_model import ElasticNetCV\\nfrom sklearn.preprocessing import PolynomialFeatures\\nfrom sklearn.preprocessing import MinMaxScaler\\nfrom sklearn.ensemble import GradientBoostingClassifier\\nfrom sklearn.linear_model import LinearRegression\\nfrom sklearn.linear_model import Lasso\\nfrom sklearn.cluster import KMeans\\nfrom sklearn.linear_model import ElasticNet\\nfrom sklearn.preprocessing import LabelEncoder\\nfrom sklearn.ensemble import GradientBoostingRegressor\\nfrom sklearn.model_selection import KFold'); }\n    ",
      "text/plain": [
       "<IPython.core.display.Javascript object>"
      ]
     },
     "metadata": {},
     "output_type": "display_data"
    },
    {
     "data": {
      "application/javascript": "\n        if (window._pyforest_update_imports_cell) { window._pyforest_update_imports_cell('from sklearn.linear_model import LassoCV\\nfrom statsmodels.tsa.arima_model import ARIMA\\nfrom pathlib import Path\\nimport pandas as pd\\nfrom sklearn.model_selection import GridSearchCV\\nfrom sklearn.feature_extraction.text import CountVectorizer\\nfrom sklearn.linear_model import LogisticRegression\\nimport numpy as np\\nfrom sklearn.decomposition import PCA\\nfrom sklearn.preprocessing import OneHotEncoder\\nfrom PIL import Image\\nfrom sklearn.linear_model import ElasticNetCV\\nfrom sklearn.preprocessing import PolynomialFeatures\\nfrom sklearn.preprocessing import MinMaxScaler\\nfrom sklearn.ensemble import GradientBoostingClassifier\\nfrom sklearn.linear_model import LinearRegression\\nfrom sklearn.linear_model import Lasso\\nfrom sklearn.cluster import KMeans\\nfrom sklearn.linear_model import ElasticNet\\nfrom sklearn.preprocessing import LabelEncoder\\nfrom sklearn.ensemble import GradientBoostingRegressor\\nfrom sklearn.model_selection import KFold'); }\n    ",
      "text/plain": [
       "<IPython.core.display.Javascript object>"
      ]
     },
     "metadata": {},
     "output_type": "display_data"
    },
    {
     "data": {
      "application/javascript": "\n        if (window._pyforest_update_imports_cell) { window._pyforest_update_imports_cell('from sklearn.linear_model import LassoCV\\nfrom statsmodels.tsa.arima_model import ARIMA\\nfrom pathlib import Path\\nimport pandas as pd\\nfrom sklearn.model_selection import GridSearchCV\\nfrom sklearn.feature_extraction.text import CountVectorizer\\nfrom sklearn.linear_model import LogisticRegression\\nimport numpy as np\\nfrom sklearn.decomposition import PCA\\nfrom sklearn.preprocessing import OneHotEncoder\\nfrom PIL import Image\\nfrom sklearn.linear_model import ElasticNetCV\\nfrom sklearn.preprocessing import PolynomialFeatures\\nfrom sklearn.preprocessing import MinMaxScaler\\nfrom sklearn.ensemble import GradientBoostingClassifier\\nfrom sklearn.linear_model import LinearRegression\\nfrom sklearn.linear_model import Lasso\\nfrom sklearn.cluster import KMeans\\nfrom sklearn.linear_model import ElasticNet\\nfrom sklearn.preprocessing import LabelEncoder\\nfrom sklearn.ensemble import GradientBoostingRegressor\\nfrom sklearn.model_selection import KFold'); }\n    ",
      "text/plain": [
       "<IPython.core.display.Javascript object>"
      ]
     },
     "metadata": {},
     "output_type": "display_data"
    },
    {
     "data": {
      "application/javascript": "\n        if (window._pyforest_update_imports_cell) { window._pyforest_update_imports_cell('from sklearn.linear_model import LassoCV\\nfrom statsmodels.tsa.arima_model import ARIMA\\nfrom pathlib import Path\\nimport pandas as pd\\nfrom sklearn.model_selection import GridSearchCV\\nfrom sklearn.feature_extraction.text import CountVectorizer\\nfrom sklearn.linear_model import LogisticRegression\\nimport numpy as np\\nfrom sklearn.decomposition import PCA\\nfrom sklearn.preprocessing import OneHotEncoder\\nfrom PIL import Image\\nfrom sklearn.linear_model import ElasticNetCV\\nfrom sklearn.preprocessing import PolynomialFeatures\\nfrom sklearn.preprocessing import MinMaxScaler\\nfrom sklearn.ensemble import GradientBoostingClassifier\\nfrom sklearn.linear_model import LinearRegression\\nfrom sklearn.linear_model import Lasso\\nfrom sklearn.cluster import KMeans\\nfrom sklearn.linear_model import ElasticNet\\nfrom sklearn.preprocessing import LabelEncoder\\nfrom sklearn.ensemble import GradientBoostingRegressor\\nfrom sklearn.model_selection import KFold'); }\n    ",
      "text/plain": [
       "<IPython.core.display.Javascript object>"
      ]
     },
     "metadata": {},
     "output_type": "display_data"
    },
    {
     "data": {
      "application/javascript": "\n        if (window._pyforest_update_imports_cell) { window._pyforest_update_imports_cell('from sklearn.linear_model import LassoCV\\nfrom statsmodels.tsa.arima_model import ARIMA\\nfrom pathlib import Path\\nimport pandas as pd\\nfrom sklearn.model_selection import GridSearchCV\\nfrom sklearn.feature_extraction.text import CountVectorizer\\nfrom sklearn.linear_model import LogisticRegression\\nimport numpy as np\\nfrom sklearn.decomposition import PCA\\nfrom sklearn.preprocessing import OneHotEncoder\\nfrom PIL import Image\\nfrom sklearn.linear_model import ElasticNetCV\\nfrom sklearn.preprocessing import PolynomialFeatures\\nfrom sklearn.preprocessing import MinMaxScaler\\nfrom sklearn.ensemble import GradientBoostingClassifier\\nfrom sklearn.linear_model import LinearRegression\\nfrom sklearn.linear_model import Lasso\\nfrom sklearn.cluster import KMeans\\nfrom sklearn.linear_model import ElasticNet\\nfrom sklearn.preprocessing import LabelEncoder\\nfrom sklearn.ensemble import GradientBoostingRegressor\\nfrom sklearn.model_selection import KFold'); }\n    ",
      "text/plain": [
       "<IPython.core.display.Javascript object>"
      ]
     },
     "metadata": {},
     "output_type": "display_data"
    },
    {
     "data": {
      "application/javascript": "\n        if (window._pyforest_update_imports_cell) { window._pyforest_update_imports_cell('from sklearn.linear_model import LassoCV\\nfrom statsmodels.tsa.arima_model import ARIMA\\nfrom pathlib import Path\\nimport pandas as pd\\nfrom sklearn.model_selection import GridSearchCV\\nfrom sklearn.feature_extraction.text import CountVectorizer\\nfrom sklearn.linear_model import LogisticRegression\\nimport numpy as np\\nfrom sklearn.decomposition import PCA\\nfrom sklearn.preprocessing import OneHotEncoder\\nfrom PIL import Image\\nfrom sklearn.linear_model import ElasticNetCV\\nfrom sklearn.preprocessing import PolynomialFeatures\\nfrom sklearn.preprocessing import MinMaxScaler\\nfrom sklearn.ensemble import GradientBoostingClassifier\\nfrom sklearn.linear_model import LinearRegression\\nfrom sklearn.linear_model import Lasso\\nfrom sklearn.cluster import KMeans\\nfrom sklearn.linear_model import ElasticNet\\nfrom sklearn.preprocessing import LabelEncoder\\nfrom sklearn.ensemble import GradientBoostingRegressor\\nfrom sklearn.model_selection import KFold'); }\n    ",
      "text/plain": [
       "<IPython.core.display.Javascript object>"
      ]
     },
     "metadata": {},
     "output_type": "display_data"
    }
   ],
   "source": [
    "metrics_list = []\n",
    "\n",
    "for item in choices:\n",
    "    item_sales = sample_sales[sample_sales['demand_type'] == item]\n",
    "\n",
    "    total_sales = item_sales['sales'].sum()\n",
    "    total_naive_forecast = item_sales['naive_forecast'].sum()\n",
    "    total_ses_forecast = item_sales['ses_forecast'].sum()\n",
    "    \n",
    "    metrics_list.append({\n",
    "        \"demand_type\": item,\n",
    "        \"total_sales\": total_sales,\n",
    "        \"total_naive_forecast\": total_naive_forecast,\n",
    "        \"total_ses_forecast\": total_ses_forecast,\n",
    "        \"rmse_naive\": rmse(item_sales['sales'], item_sales['naive_forecast']),\n",
    "        \"rmse_ses\": rmse(item_sales['sales'], item_sales['ses_forecast']),\n",
    "        \"wape_naive\": wape(item_sales['sales'], item_sales['naive_forecast']),\n",
    "        \"wape_ses\": wape(item_sales['sales'], item_sales['ses_forecast']),\n",
    "        \"bias_naive\": bias(item_sales['sales'], item_sales['naive_forecast']),\n",
    "        \"bias_ses\": bias(item_sales['sales'], item_sales['ses_forecast']),\n",
    "        \"mase_ses\": mase(item_sales['sales'], item_sales['naive_forecast'], item_sales['ses_forecast'])\n",
    "    })\n",
    "\n",
    "summary_metrics = pd.DataFrame(metrics_list).round(3)"
   ]
  },
  {
   "cell_type": "code",
   "execution_count": 536,
   "id": "65999768",
   "metadata": {},
   "outputs": [
    {
     "data": {
      "application/vnd.microsoft.datawrangler.viewer.v0+json": {
       "columns": [
        {
         "name": "index",
         "rawType": "int64",
         "type": "integer"
        },
        {
         "name": "demand_type",
         "rawType": "object",
         "type": "string"
        },
        {
         "name": "total_sales",
         "rawType": "int64",
         "type": "integer"
        },
        {
         "name": "total_naive_forecast",
         "rawType": "int64",
         "type": "integer"
        },
        {
         "name": "total_ses_forecast",
         "rawType": "int64",
         "type": "integer"
        },
        {
         "name": "rmse_naive",
         "rawType": "float64",
         "type": "float"
        },
        {
         "name": "rmse_ses",
         "rawType": "float64",
         "type": "float"
        },
        {
         "name": "wape_naive",
         "rawType": "float64",
         "type": "float"
        },
        {
         "name": "wape_ses",
         "rawType": "float64",
         "type": "float"
        },
        {
         "name": "bias_naive",
         "rawType": "float64",
         "type": "float"
        },
        {
         "name": "bias_ses",
         "rawType": "float64",
         "type": "float"
        },
        {
         "name": "mase_ses",
         "rawType": "float64",
         "type": "float"
        }
       ],
       "ref": "0e9e5e56-11ba-4d06-b04f-62d163a080ab",
       "rows": [
        [
         "0",
         "Smooth",
         "259",
         "256",
         "258",
         "1.975",
         "0.955",
         "1.35",
         "0.624",
         "-0.004",
         "-0.004",
         "0.462"
        ],
        [
         "1",
         "Intermittent",
         "28",
         "26",
         "26",
         "0.803",
         "0.296",
         "1.051",
         "0.191",
         "-0.071",
         "-0.071",
         "0.182"
        ],
        [
         "2",
         "Erratic",
         "238",
         "236",
         "241",
         "2.996",
         "1.271",
         "1.289",
         "0.517",
         "0.008",
         "0.013",
         "0.401"
        ],
        [
         "3",
         "Lumpy",
         "73",
         "73",
         "72",
         "2.06",
         "0.908",
         "1.224",
         "0.479",
         "0.0",
         "-0.014",
         "0.391"
        ]
       ],
       "shape": {
        "columns": 11,
        "rows": 4
       }
      },
      "text/html": [
       "<div>\n",
       "<style scoped>\n",
       "    .dataframe tbody tr th:only-of-type {\n",
       "        vertical-align: middle;\n",
       "    }\n",
       "\n",
       "    .dataframe tbody tr th {\n",
       "        vertical-align: top;\n",
       "    }\n",
       "\n",
       "    .dataframe thead th {\n",
       "        text-align: right;\n",
       "    }\n",
       "</style>\n",
       "<table border=\"1\" class=\"dataframe\">\n",
       "  <thead>\n",
       "    <tr style=\"text-align: right;\">\n",
       "      <th></th>\n",
       "      <th>demand_type</th>\n",
       "      <th>total_sales</th>\n",
       "      <th>total_naive_forecast</th>\n",
       "      <th>total_ses_forecast</th>\n",
       "      <th>rmse_naive</th>\n",
       "      <th>rmse_ses</th>\n",
       "      <th>wape_naive</th>\n",
       "      <th>wape_ses</th>\n",
       "      <th>bias_naive</th>\n",
       "      <th>bias_ses</th>\n",
       "      <th>mase_ses</th>\n",
       "    </tr>\n",
       "  </thead>\n",
       "  <tbody>\n",
       "    <tr>\n",
       "      <th>0</th>\n",
       "      <td>Smooth</td>\n",
       "      <td>259</td>\n",
       "      <td>256</td>\n",
       "      <td>258</td>\n",
       "      <td>1.975</td>\n",
       "      <td>0.955</td>\n",
       "      <td>1.350</td>\n",
       "      <td>0.624</td>\n",
       "      <td>-0.004</td>\n",
       "      <td>-0.004</td>\n",
       "      <td>0.462</td>\n",
       "    </tr>\n",
       "    <tr>\n",
       "      <th>1</th>\n",
       "      <td>Intermittent</td>\n",
       "      <td>28</td>\n",
       "      <td>26</td>\n",
       "      <td>26</td>\n",
       "      <td>0.803</td>\n",
       "      <td>0.296</td>\n",
       "      <td>1.051</td>\n",
       "      <td>0.191</td>\n",
       "      <td>-0.071</td>\n",
       "      <td>-0.071</td>\n",
       "      <td>0.182</td>\n",
       "    </tr>\n",
       "    <tr>\n",
       "      <th>2</th>\n",
       "      <td>Erratic</td>\n",
       "      <td>238</td>\n",
       "      <td>236</td>\n",
       "      <td>241</td>\n",
       "      <td>2.996</td>\n",
       "      <td>1.271</td>\n",
       "      <td>1.289</td>\n",
       "      <td>0.517</td>\n",
       "      <td>0.008</td>\n",
       "      <td>0.013</td>\n",
       "      <td>0.401</td>\n",
       "    </tr>\n",
       "    <tr>\n",
       "      <th>3</th>\n",
       "      <td>Lumpy</td>\n",
       "      <td>73</td>\n",
       "      <td>73</td>\n",
       "      <td>72</td>\n",
       "      <td>2.060</td>\n",
       "      <td>0.908</td>\n",
       "      <td>1.224</td>\n",
       "      <td>0.479</td>\n",
       "      <td>0.000</td>\n",
       "      <td>-0.014</td>\n",
       "      <td>0.391</td>\n",
       "    </tr>\n",
       "  </tbody>\n",
       "</table>\n",
       "</div>"
      ],
      "text/plain": [
       "    demand_type  total_sales  total_naive_forecast  total_ses_forecast  \\\n",
       "0        Smooth          259                   256                 258   \n",
       "1  Intermittent           28                    26                  26   \n",
       "2       Erratic          238                   236                 241   \n",
       "3         Lumpy           73                    73                  72   \n",
       "\n",
       "   rmse_naive  rmse_ses  wape_naive  wape_ses  bias_naive  bias_ses  mase_ses  \n",
       "0       1.975     0.955       1.350     0.624      -0.004    -0.004     0.462  \n",
       "1       0.803     0.296       1.051     0.191      -0.071    -0.071     0.182  \n",
       "2       2.996     1.271       1.289     0.517       0.008     0.013     0.401  \n",
       "3       2.060     0.908       1.224     0.479       0.000    -0.014     0.391  "
      ]
     },
     "execution_count": 536,
     "metadata": {},
     "output_type": "execute_result"
    }
   ],
   "source": [
    "summary_metrics"
   ]
  }
 ],
 "metadata": {
  "kernelspec": {
   "display_name": "m5-forecasting",
   "language": "python",
   "name": "python3"
  },
  "language_info": {
   "codemirror_mode": {
    "name": "ipython",
    "version": 3
   },
   "file_extension": ".py",
   "mimetype": "text/x-python",
   "name": "python",
   "nbconvert_exporter": "python",
   "pygments_lexer": "ipython3",
   "version": "3.12.3"
  }
 },
 "nbformat": 4,
 "nbformat_minor": 5
}
